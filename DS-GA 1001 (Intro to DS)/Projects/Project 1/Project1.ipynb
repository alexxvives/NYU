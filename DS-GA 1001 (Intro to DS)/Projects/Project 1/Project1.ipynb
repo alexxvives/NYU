{
 "cells": [
  {
   "cell_type": "code",
   "execution_count": 1,
   "id": "2ba2577b",
   "metadata": {
    "ExecuteTime": {
     "end_time": "2022-02-03T20:27:32.116748Z",
     "start_time": "2022-02-03T20:27:29.978977Z"
    }
   },
   "outputs": [],
   "source": [
    "import numpy as np\n",
    "import pandas as pd\n",
    "import matplotlib.pyplot as plt\n",
    "import seaborn as sns\n",
    "import statistics as stat\n",
    "\n",
    "sns.set_style('darkgrid')\n",
    "sns.color_palette(\"mako\", as_cmap=True)\n",
    "\n",
    "#Signficance Tests\n",
    "from scipy.stats import mannwhitneyu\n",
    "from scipy.stats import kstest\n",
    "from scipy.stats import chisquare"
   ]
  },
  {
   "cell_type": "code",
   "execution_count": 7,
   "id": "4f66fd4f",
   "metadata": {
    "ExecuteTime": {
     "end_time": "2022-02-03T20:28:05.111667Z",
     "start_time": "2022-02-03T20:28:05.028927Z"
    },
    "scrolled": false
   },
   "outputs": [
    {
     "data": {
      "text/html": [
       "<div>\n",
       "<style scoped>\n",
       "    .dataframe tbody tr th:only-of-type {\n",
       "        vertical-align: middle;\n",
       "    }\n",
       "\n",
       "    .dataframe tbody tr th {\n",
       "        vertical-align: top;\n",
       "    }\n",
       "\n",
       "    .dataframe thead th {\n",
       "        text-align: right;\n",
       "    }\n",
       "</style>\n",
       "<table border=\"1\" class=\"dataframe\">\n",
       "  <thead>\n",
       "    <tr style=\"text-align: right;\">\n",
       "      <th></th>\n",
       "      <th>The Life of David Gale (2003)</th>\n",
       "      <th>Wing Commander (1999)</th>\n",
       "      <th>Django Unchained (2012)</th>\n",
       "      <th>Alien (1979)</th>\n",
       "      <th>Indiana Jones and the Last Crusade (1989)</th>\n",
       "      <th>Snatch (2000)</th>\n",
       "      <th>Rambo: First Blood Part II (1985)</th>\n",
       "      <th>Fargo (1996)</th>\n",
       "      <th>Let the Right One In (2008)</th>\n",
       "      <th>Black Swan (2010)</th>\n",
       "      <th>...</th>\n",
       "      <th>When watching a movie I cheer or shout or talk or curse at the screen</th>\n",
       "      <th>When watching a movie I feel like the things on the screen are happening to me</th>\n",
       "      <th>As a movie unfolds I start to have problems keeping track of events that happened earlier</th>\n",
       "      <th>The emotions on the screen \"rub off\" on me - for instance if something sad is happening I get sad or if something frightening is happening I get scared</th>\n",
       "      <th>When watching a movie I get completely immersed in the alternative reality of the film</th>\n",
       "      <th>Movies change my position on social economic or political issues</th>\n",
       "      <th>When watching movies things get so intense that I have to stop watching</th>\n",
       "      <th>Gender identity (1 = female; 2 = male; 3 = self-described)</th>\n",
       "      <th>Are you an only child? (1: Yes; 0: No; -1: Did not respond)</th>\n",
       "      <th>Movies are best enjoyed alone (1: Yes; 0: No; -1: Did not respond)</th>\n",
       "    </tr>\n",
       "  </thead>\n",
       "  <tbody>\n",
       "    <tr>\n",
       "      <th>0</th>\n",
       "      <td>NaN</td>\n",
       "      <td>NaN</td>\n",
       "      <td>4.0</td>\n",
       "      <td>NaN</td>\n",
       "      <td>3.0</td>\n",
       "      <td>NaN</td>\n",
       "      <td>NaN</td>\n",
       "      <td>NaN</td>\n",
       "      <td>NaN</td>\n",
       "      <td>NaN</td>\n",
       "      <td>...</td>\n",
       "      <td>1.0</td>\n",
       "      <td>6.0</td>\n",
       "      <td>2.0</td>\n",
       "      <td>5.0</td>\n",
       "      <td>5.0</td>\n",
       "      <td>5.0</td>\n",
       "      <td>1.0</td>\n",
       "      <td>1.0</td>\n",
       "      <td>0</td>\n",
       "      <td>1</td>\n",
       "    </tr>\n",
       "    <tr>\n",
       "      <th>1</th>\n",
       "      <td>NaN</td>\n",
       "      <td>NaN</td>\n",
       "      <td>1.5</td>\n",
       "      <td>NaN</td>\n",
       "      <td>NaN</td>\n",
       "      <td>NaN</td>\n",
       "      <td>NaN</td>\n",
       "      <td>NaN</td>\n",
       "      <td>NaN</td>\n",
       "      <td>NaN</td>\n",
       "      <td>...</td>\n",
       "      <td>3.0</td>\n",
       "      <td>1.0</td>\n",
       "      <td>1.0</td>\n",
       "      <td>6.0</td>\n",
       "      <td>5.0</td>\n",
       "      <td>3.0</td>\n",
       "      <td>2.0</td>\n",
       "      <td>1.0</td>\n",
       "      <td>0</td>\n",
       "      <td>0</td>\n",
       "    </tr>\n",
       "    <tr>\n",
       "      <th>2</th>\n",
       "      <td>NaN</td>\n",
       "      <td>NaN</td>\n",
       "      <td>NaN</td>\n",
       "      <td>NaN</td>\n",
       "      <td>NaN</td>\n",
       "      <td>NaN</td>\n",
       "      <td>NaN</td>\n",
       "      <td>NaN</td>\n",
       "      <td>NaN</td>\n",
       "      <td>NaN</td>\n",
       "      <td>...</td>\n",
       "      <td>5.0</td>\n",
       "      <td>4.0</td>\n",
       "      <td>3.0</td>\n",
       "      <td>5.0</td>\n",
       "      <td>5.0</td>\n",
       "      <td>4.0</td>\n",
       "      <td>4.0</td>\n",
       "      <td>1.0</td>\n",
       "      <td>1</td>\n",
       "      <td>0</td>\n",
       "    </tr>\n",
       "    <tr>\n",
       "      <th>3</th>\n",
       "      <td>NaN</td>\n",
       "      <td>NaN</td>\n",
       "      <td>2.0</td>\n",
       "      <td>NaN</td>\n",
       "      <td>3.0</td>\n",
       "      <td>NaN</td>\n",
       "      <td>NaN</td>\n",
       "      <td>NaN</td>\n",
       "      <td>NaN</td>\n",
       "      <td>4.0</td>\n",
       "      <td>...</td>\n",
       "      <td>3.0</td>\n",
       "      <td>1.0</td>\n",
       "      <td>1.0</td>\n",
       "      <td>4.0</td>\n",
       "      <td>5.0</td>\n",
       "      <td>3.0</td>\n",
       "      <td>1.0</td>\n",
       "      <td>1.0</td>\n",
       "      <td>0</td>\n",
       "      <td>1</td>\n",
       "    </tr>\n",
       "    <tr>\n",
       "      <th>4</th>\n",
       "      <td>NaN</td>\n",
       "      <td>NaN</td>\n",
       "      <td>3.5</td>\n",
       "      <td>NaN</td>\n",
       "      <td>0.5</td>\n",
       "      <td>NaN</td>\n",
       "      <td>0.5</td>\n",
       "      <td>1.0</td>\n",
       "      <td>NaN</td>\n",
       "      <td>0.0</td>\n",
       "      <td>...</td>\n",
       "      <td>2.0</td>\n",
       "      <td>3.0</td>\n",
       "      <td>2.0</td>\n",
       "      <td>5.0</td>\n",
       "      <td>6.0</td>\n",
       "      <td>4.0</td>\n",
       "      <td>4.0</td>\n",
       "      <td>1.0</td>\n",
       "      <td>1</td>\n",
       "      <td>1</td>\n",
       "    </tr>\n",
       "    <tr>\n",
       "      <th>...</th>\n",
       "      <td>...</td>\n",
       "      <td>...</td>\n",
       "      <td>...</td>\n",
       "      <td>...</td>\n",
       "      <td>...</td>\n",
       "      <td>...</td>\n",
       "      <td>...</td>\n",
       "      <td>...</td>\n",
       "      <td>...</td>\n",
       "      <td>...</td>\n",
       "      <td>...</td>\n",
       "      <td>...</td>\n",
       "      <td>...</td>\n",
       "      <td>...</td>\n",
       "      <td>...</td>\n",
       "      <td>...</td>\n",
       "      <td>...</td>\n",
       "      <td>...</td>\n",
       "      <td>...</td>\n",
       "      <td>...</td>\n",
       "      <td>...</td>\n",
       "    </tr>\n",
       "    <tr>\n",
       "      <th>1092</th>\n",
       "      <td>NaN</td>\n",
       "      <td>NaN</td>\n",
       "      <td>NaN</td>\n",
       "      <td>NaN</td>\n",
       "      <td>3.5</td>\n",
       "      <td>NaN</td>\n",
       "      <td>NaN</td>\n",
       "      <td>NaN</td>\n",
       "      <td>NaN</td>\n",
       "      <td>NaN</td>\n",
       "      <td>...</td>\n",
       "      <td>3.0</td>\n",
       "      <td>4.0</td>\n",
       "      <td>3.0</td>\n",
       "      <td>5.0</td>\n",
       "      <td>5.0</td>\n",
       "      <td>4.0</td>\n",
       "      <td>4.0</td>\n",
       "      <td>1.0</td>\n",
       "      <td>0</td>\n",
       "      <td>0</td>\n",
       "    </tr>\n",
       "    <tr>\n",
       "      <th>1093</th>\n",
       "      <td>3.0</td>\n",
       "      <td>4.0</td>\n",
       "      <td>NaN</td>\n",
       "      <td>NaN</td>\n",
       "      <td>4.0</td>\n",
       "      <td>4.0</td>\n",
       "      <td>2.5</td>\n",
       "      <td>NaN</td>\n",
       "      <td>3.5</td>\n",
       "      <td>3.5</td>\n",
       "      <td>...</td>\n",
       "      <td>5.0</td>\n",
       "      <td>3.0</td>\n",
       "      <td>5.0</td>\n",
       "      <td>5.0</td>\n",
       "      <td>5.0</td>\n",
       "      <td>6.0</td>\n",
       "      <td>5.0</td>\n",
       "      <td>1.0</td>\n",
       "      <td>0</td>\n",
       "      <td>0</td>\n",
       "    </tr>\n",
       "    <tr>\n",
       "      <th>1094</th>\n",
       "      <td>NaN</td>\n",
       "      <td>NaN</td>\n",
       "      <td>NaN</td>\n",
       "      <td>NaN</td>\n",
       "      <td>NaN</td>\n",
       "      <td>NaN</td>\n",
       "      <td>NaN</td>\n",
       "      <td>3.5</td>\n",
       "      <td>NaN</td>\n",
       "      <td>NaN</td>\n",
       "      <td>...</td>\n",
       "      <td>6.0</td>\n",
       "      <td>3.0</td>\n",
       "      <td>1.0</td>\n",
       "      <td>6.0</td>\n",
       "      <td>6.0</td>\n",
       "      <td>4.0</td>\n",
       "      <td>2.0</td>\n",
       "      <td>1.0</td>\n",
       "      <td>0</td>\n",
       "      <td>0</td>\n",
       "    </tr>\n",
       "    <tr>\n",
       "      <th>1095</th>\n",
       "      <td>NaN</td>\n",
       "      <td>NaN</td>\n",
       "      <td>NaN</td>\n",
       "      <td>NaN</td>\n",
       "      <td>NaN</td>\n",
       "      <td>NaN</td>\n",
       "      <td>NaN</td>\n",
       "      <td>NaN</td>\n",
       "      <td>NaN</td>\n",
       "      <td>NaN</td>\n",
       "      <td>...</td>\n",
       "      <td>1.0</td>\n",
       "      <td>1.0</td>\n",
       "      <td>1.0</td>\n",
       "      <td>4.0</td>\n",
       "      <td>3.0</td>\n",
       "      <td>3.0</td>\n",
       "      <td>1.0</td>\n",
       "      <td>1.0</td>\n",
       "      <td>0</td>\n",
       "      <td>1</td>\n",
       "    </tr>\n",
       "    <tr>\n",
       "      <th>1096</th>\n",
       "      <td>NaN</td>\n",
       "      <td>NaN</td>\n",
       "      <td>4.0</td>\n",
       "      <td>NaN</td>\n",
       "      <td>2.5</td>\n",
       "      <td>NaN</td>\n",
       "      <td>NaN</td>\n",
       "      <td>3.0</td>\n",
       "      <td>NaN</td>\n",
       "      <td>3.5</td>\n",
       "      <td>...</td>\n",
       "      <td>3.0</td>\n",
       "      <td>4.0</td>\n",
       "      <td>1.0</td>\n",
       "      <td>4.0</td>\n",
       "      <td>4.0</td>\n",
       "      <td>4.0</td>\n",
       "      <td>1.0</td>\n",
       "      <td>1.0</td>\n",
       "      <td>0</td>\n",
       "      <td>1</td>\n",
       "    </tr>\n",
       "  </tbody>\n",
       "</table>\n",
       "<p>1097 rows × 477 columns</p>\n",
       "</div>"
      ],
      "text/plain": [
       "      The Life of David Gale (2003)  Wing Commander (1999)  \\\n",
       "0                               NaN                    NaN   \n",
       "1                               NaN                    NaN   \n",
       "2                               NaN                    NaN   \n",
       "3                               NaN                    NaN   \n",
       "4                               NaN                    NaN   \n",
       "...                             ...                    ...   \n",
       "1092                            NaN                    NaN   \n",
       "1093                            3.0                    4.0   \n",
       "1094                            NaN                    NaN   \n",
       "1095                            NaN                    NaN   \n",
       "1096                            NaN                    NaN   \n",
       "\n",
       "      Django Unchained (2012)  Alien (1979)  \\\n",
       "0                         4.0           NaN   \n",
       "1                         1.5           NaN   \n",
       "2                         NaN           NaN   \n",
       "3                         2.0           NaN   \n",
       "4                         3.5           NaN   \n",
       "...                       ...           ...   \n",
       "1092                      NaN           NaN   \n",
       "1093                      NaN           NaN   \n",
       "1094                      NaN           NaN   \n",
       "1095                      NaN           NaN   \n",
       "1096                      4.0           NaN   \n",
       "\n",
       "      Indiana Jones and the Last Crusade (1989)  Snatch (2000)  \\\n",
       "0                                           3.0            NaN   \n",
       "1                                           NaN            NaN   \n",
       "2                                           NaN            NaN   \n",
       "3                                           3.0            NaN   \n",
       "4                                           0.5            NaN   \n",
       "...                                         ...            ...   \n",
       "1092                                        3.5            NaN   \n",
       "1093                                        4.0            4.0   \n",
       "1094                                        NaN            NaN   \n",
       "1095                                        NaN            NaN   \n",
       "1096                                        2.5            NaN   \n",
       "\n",
       "      Rambo: First Blood Part II (1985)  Fargo (1996)  \\\n",
       "0                                   NaN           NaN   \n",
       "1                                   NaN           NaN   \n",
       "2                                   NaN           NaN   \n",
       "3                                   NaN           NaN   \n",
       "4                                   0.5           1.0   \n",
       "...                                 ...           ...   \n",
       "1092                                NaN           NaN   \n",
       "1093                                2.5           NaN   \n",
       "1094                                NaN           3.5   \n",
       "1095                                NaN           NaN   \n",
       "1096                                NaN           3.0   \n",
       "\n",
       "      Let the Right One In (2008)  Black Swan (2010)  ...  \\\n",
       "0                             NaN                NaN  ...   \n",
       "1                             NaN                NaN  ...   \n",
       "2                             NaN                NaN  ...   \n",
       "3                             NaN                4.0  ...   \n",
       "4                             NaN                0.0  ...   \n",
       "...                           ...                ...  ...   \n",
       "1092                          NaN                NaN  ...   \n",
       "1093                          3.5                3.5  ...   \n",
       "1094                          NaN                NaN  ...   \n",
       "1095                          NaN                NaN  ...   \n",
       "1096                          NaN                3.5  ...   \n",
       "\n",
       "      When watching a movie I cheer or shout or talk or curse at the screen  \\\n",
       "0                                                   1.0                       \n",
       "1                                                   3.0                       \n",
       "2                                                   5.0                       \n",
       "3                                                   3.0                       \n",
       "4                                                   2.0                       \n",
       "...                                                 ...                       \n",
       "1092                                                3.0                       \n",
       "1093                                                5.0                       \n",
       "1094                                                6.0                       \n",
       "1095                                                1.0                       \n",
       "1096                                                3.0                       \n",
       "\n",
       "      When watching a movie I feel like the things on the screen are happening to me  \\\n",
       "0                                                   6.0                                \n",
       "1                                                   1.0                                \n",
       "2                                                   4.0                                \n",
       "3                                                   1.0                                \n",
       "4                                                   3.0                                \n",
       "...                                                 ...                                \n",
       "1092                                                4.0                                \n",
       "1093                                                3.0                                \n",
       "1094                                                3.0                                \n",
       "1095                                                1.0                                \n",
       "1096                                                4.0                                \n",
       "\n",
       "      As a movie unfolds I start to have problems keeping track of events that happened earlier  \\\n",
       "0                                                   2.0                                           \n",
       "1                                                   1.0                                           \n",
       "2                                                   3.0                                           \n",
       "3                                                   1.0                                           \n",
       "4                                                   2.0                                           \n",
       "...                                                 ...                                           \n",
       "1092                                                3.0                                           \n",
       "1093                                                5.0                                           \n",
       "1094                                                1.0                                           \n",
       "1095                                                1.0                                           \n",
       "1096                                                1.0                                           \n",
       "\n",
       "      The emotions on the screen \"rub off\" on me - for instance if something sad is happening I get sad or if something frightening is happening I get scared  \\\n",
       "0                                                   5.0                                                                                                         \n",
       "1                                                   6.0                                                                                                         \n",
       "2                                                   5.0                                                                                                         \n",
       "3                                                   4.0                                                                                                         \n",
       "4                                                   5.0                                                                                                         \n",
       "...                                                 ...                                                                                                         \n",
       "1092                                                5.0                                                                                                         \n",
       "1093                                                5.0                                                                                                         \n",
       "1094                                                6.0                                                                                                         \n",
       "1095                                                4.0                                                                                                         \n",
       "1096                                                4.0                                                                                                         \n",
       "\n",
       "      When watching a movie I get completely immersed in the alternative reality of the film  \\\n",
       "0                                                   5.0                                        \n",
       "1                                                   5.0                                        \n",
       "2                                                   5.0                                        \n",
       "3                                                   5.0                                        \n",
       "4                                                   6.0                                        \n",
       "...                                                 ...                                        \n",
       "1092                                                5.0                                        \n",
       "1093                                                5.0                                        \n",
       "1094                                                6.0                                        \n",
       "1095                                                3.0                                        \n",
       "1096                                                4.0                                        \n",
       "\n",
       "      Movies change my position on social economic or political issues  \\\n",
       "0                                                   5.0                  \n",
       "1                                                   3.0                  \n",
       "2                                                   4.0                  \n",
       "3                                                   3.0                  \n",
       "4                                                   4.0                  \n",
       "...                                                 ...                  \n",
       "1092                                                4.0                  \n",
       "1093                                                6.0                  \n",
       "1094                                                4.0                  \n",
       "1095                                                3.0                  \n",
       "1096                                                4.0                  \n",
       "\n",
       "      When watching movies things get so intense that I have to stop watching  \\\n",
       "0                                                   1.0                         \n",
       "1                                                   2.0                         \n",
       "2                                                   4.0                         \n",
       "3                                                   1.0                         \n",
       "4                                                   4.0                         \n",
       "...                                                 ...                         \n",
       "1092                                                4.0                         \n",
       "1093                                                5.0                         \n",
       "1094                                                2.0                         \n",
       "1095                                                1.0                         \n",
       "1096                                                1.0                         \n",
       "\n",
       "      Gender identity (1 = female; 2 = male; 3 = self-described)  \\\n",
       "0                                                   1.0            \n",
       "1                                                   1.0            \n",
       "2                                                   1.0            \n",
       "3                                                   1.0            \n",
       "4                                                   1.0            \n",
       "...                                                 ...            \n",
       "1092                                                1.0            \n",
       "1093                                                1.0            \n",
       "1094                                                1.0            \n",
       "1095                                                1.0            \n",
       "1096                                                1.0            \n",
       "\n",
       "      Are you an only child? (1: Yes; 0: No; -1: Did not respond)  \\\n",
       "0                                                     0             \n",
       "1                                                     0             \n",
       "2                                                     1             \n",
       "3                                                     0             \n",
       "4                                                     1             \n",
       "...                                                 ...             \n",
       "1092                                                  0             \n",
       "1093                                                  0             \n",
       "1094                                                  0             \n",
       "1095                                                  0             \n",
       "1096                                                  0             \n",
       "\n",
       "      Movies are best enjoyed alone (1: Yes; 0: No; -1: Did not respond)  \n",
       "0                                                     1                   \n",
       "1                                                     0                   \n",
       "2                                                     0                   \n",
       "3                                                     1                   \n",
       "4                                                     1                   \n",
       "...                                                 ...                   \n",
       "1092                                                  0                   \n",
       "1093                                                  0                   \n",
       "1094                                                  0                   \n",
       "1095                                                  1                   \n",
       "1096                                                  1                   \n",
       "\n",
       "[1097 rows x 477 columns]"
      ]
     },
     "execution_count": 7,
     "metadata": {},
     "output_type": "execute_result"
    }
   ],
   "source": [
    "df = pd.read_csv('..\\movieReplicationSet.csv')\n",
    "df.rename(columns={'Rambo: First Blood Part II': 'Rambo: First Blood Part II (1985)'}, inplace=True)\n",
    "df"
   ]
  },
  {
   "cell_type": "code",
   "execution_count": 4,
   "id": "3d0cb7a7",
   "metadata": {},
   "outputs": [],
   "source": [
    "movies = df.iloc[:,0:400]\n",
    "personal = df.iloc[:,401:]"
   ]
  },
  {
   "cell_type": "markdown",
   "id": "31815380",
   "metadata": {},
   "source": [
    "### QUESTIONS"
   ]
  },
  {
   "cell_type": "markdown",
   "id": "90c14d09",
   "metadata": {},
   "source": [
    "#### 1) Are movies that are more popular (operationalized as having more ratings) rated higher than movies that are less popular?"
   ]
  },
  {
   "cell_type": "code",
   "execution_count": 4,
   "id": "5d86c6e4",
   "metadata": {},
   "outputs": [
    {
     "name": "stdout",
     "output_type": "stream",
     "text": [
      "The median popularity of the movies in this dataset is: 197.5 ratings\n"
     ]
    }
   ],
   "source": [
    "ratings = movies.apply(lambda x: len(x.dropna())) #Creates a Series of the amount of ratings that each movie received\n",
    "med_popularity = ratings.median() #Calculates the median amount of ratings\n",
    "print('The median popularity of the movies in this dataset is: {} ratings'.format(med_popularity))"
   ]
  },
  {
   "cell_type": "code",
   "execution_count": 5,
   "id": "274770ff",
   "metadata": {},
   "outputs": [
    {
     "name": "stdout",
     "output_type": "stream",
     "text": [
      "popular movies length: 200, unpopular movies length: 200\n"
     ]
    }
   ],
   "source": [
    "#Lists with titles of popular and unpopular movies (based on the median)\n",
    "popular_movies_list = ratings[ratings > med_popularity]\n",
    "unpopular_movies_list = ratings[ratings <= med_popularity] \n",
    "print('popular movies length: {}, unpopular movies length: {}'.format(len(popular_movies_list), len(unpopular_movies_list)))"
   ]
  },
  {
   "cell_type": "code",
   "execution_count": 13,
   "id": "a17b87aa",
   "metadata": {},
   "outputs": [],
   "source": [
    "# Convert the dataframes into arrays of all rankings\n",
    "popular_movies = movies[popular_movies_list.index].values.reshape(-1)\n",
    "unpopular_movies = movies[unpopular_movies_list.index].values.reshape(-1)\n",
    "\n",
    "#Removes missing values\n",
    "popular_movies = popular_movies[~np.isnan(popular_movies)]\n",
    "unpopular_movies = unpopular_movies[~np.isnan(unpopular_movies)]"
   ]
  },
  {
   "cell_type": "code",
   "execution_count": 15,
   "id": "064c5a38",
   "metadata": {},
   "outputs": [
    {
     "data": {
      "image/png": "[encoded data removed]",
      "text/plain": [
       "<Figure size 1080x360 with 2 Axes>"
      ]
     },
     "metadata": {},
     "output_type": "display_data"
    }
   ],
   "source": [
    "fig, axes = plt.subplots(1,2, figsize=(15,5))\n",
    "sns.countplot(ax=axes[0], x=popular_movies, palette='Blues')\n",
    "axes[0].set_title('Popular Movies')\n",
    "sns.countplot(ax=axes[1], x=unpopular_movies, palette='Reds')\n",
    "axes[1].set_title('Unpopular Movies')\n",
    "plt.show()"
   ]
  },
  {
   "cell_type": "markdown",
   "id": "a9fccf0d",
   "metadata": {},
   "source": [
    "##### Let's choose a significance test\n",
    "* Z-test: We don't know the population parameters. <font color='red'>Not appropiate</font> <br>\n",
    "* T-test: Sample means can't be interpreted meaningfully (psichologically, the distance from 4.5 and a 5 is different from the distance from 0 to 0.5). Additionally, it is not normally distributed <font color='red'>Not appropiate</font><br>\n",
    "* U-test (Mann-Whitney): We do want to test for differences in medians to check which one is higher <font color='green'>Appropiate</font>  <br>\n",
    "* KS-test: Not interested in comparing distributions <font color='red'>Incorrect</font> <br>\n",
    "* $\\chi^2$ test: Not interested in the general relationship between the variables <font color='red'>Incorrect</font>"
   ]
  },
  {
   "cell_type": "markdown",
   "id": "eff097f9",
   "metadata": {},
   "source": [
    "$H_0$: Popular movies are not rated higher than unpopular movies.<br>\n",
    "$H_1$: Popular movies are rated higher than unpopular movies."
   ]
  },
  {
   "cell_type": "code",
   "execution_count": 16,
   "id": "7d6bb2b4",
   "metadata": {},
   "outputs": [
    {
     "name": "stdout",
     "output_type": "stream",
     "text": [
      "We reject the Null Hypothesis (p-value = 0.0)\n"
     ]
    }
   ],
   "source": [
    "test1 = mannwhitneyu(popular_movies, unpopular_movies, alternative='greater') #Runs a Mann Whitney U-test\n",
    "if test1.pvalue < 0.005:\n",
    "    print('We reject the Null Hypothesis (p-value = {})'.format(test1.pvalue))\n",
    "else:\n",
    "    print('We fail to reject the Null Hypothesis (p-value = {})'.format(test1.pvalue))"
   ]
  },
  {
   "cell_type": "markdown",
   "id": "32f8eecd",
   "metadata": {},
   "source": [
    "CONCLUSION: Popular movies are rated **higher** than the unpopular movies."
   ]
  },
  {
   "cell_type": "markdown",
   "id": "10f19ce9",
   "metadata": {},
   "source": [
    "#### 2) Are movies that are newer rated differently than movies that are older?"
   ]
  },
  {
   "cell_type": "code",
   "execution_count": 19,
   "id": "e1adc840",
   "metadata": {},
   "outputs": [],
   "source": [
    "titles = movies.columns.tolist() #Creates a list of the titles of all movies\n",
    "release_year = list(map(lambda x: int(x[-6:].strip('()')), titles)) #Creates a list of the movies' release years\n",
    "year_median = stat.median(release_year) #Extracts the median of the release years"
   ]
  },
  {
   "cell_type": "code",
   "execution_count": 35,
   "id": "d61c9d2a",
   "metadata": {},
   "outputs": [
    {
     "name": "stdout",
     "output_type": "stream",
     "text": [
      "old movies length: 197, new movies length: 203\n"
     ]
    }
   ],
   "source": [
    "#Creates two lists of the titles of old and new movies\n",
    "old_movies_list = [titles[idx] for idx, element in enumerate(release_year) if element < year_median]\n",
    "new_movies_list = [titles[idx] for idx, element in enumerate(release_year) if element >= year_median]\n",
    "print('old movies length: {}, new movies length: {}'.format(len(old_movies_list), len(new_movies_list)))"
   ]
  },
  {
   "cell_type": "markdown",
   "id": "56e96a32",
   "metadata": {},
   "source": [
    "It is important to note that depending on whether the median year (1999) is assigned to old or new movies makes a considerable difference. If assigned to old movies, the number of old and new movies is 226 and 174, respectively. On the ohter hand, if assigned to the new movies, the distribution of movies is much more even, with 197 old movies and 203 new movies."
   ]
  },
  {
   "cell_type": "code",
   "execution_count": 28,
   "id": "215ad78a",
   "metadata": {},
   "outputs": [],
   "source": [
    "#Gets the dataframe subsets of old and new movies\n",
    "old_movies = movies.loc[:,old_movies_list]\n",
    "new_movies = movies.loc[:,new_movies_list]\n",
    "\n",
    "# Convert the dataframes into arrays of all rankings\n",
    "new_ratings = np.array(new_movies).reshape(-1)\n",
    "old_ratings = np.array(old_movies).reshape(-1)\n",
    "\n",
    "#Removes missing values\n",
    "new_ratings = new_ratings[~np.isnan(new_ratings)]\n",
    "old_ratings = old_ratings[~np.isnan(old_ratings)]"
   ]
  },
  {
   "cell_type": "code",
   "execution_count": 139,
   "id": "692d26ce",
   "metadata": {},
   "outputs": [
    {
     "data": {
      "image/png": "[encoded data removed]",
      "text/plain": [
       "<Figure size 1080x360 with 2 Axes>"
      ]
     },
     "metadata": {},
     "output_type": "display_data"
    }
   ],
   "source": [
    "fig, axes = plt.subplots(1,2, figsize=(15,5))\n",
    "sns.countplot(ax=axes[0], x=old_ratings, palette='Blues')\n",
    "axes[0].set_title('Old Movies')\n",
    "sns.countplot(ax=axes[1], x=new_ratings, palette='Reds')\n",
    "axes[1].set_title('New Movies')\n",
    "plt.show()"
   ]
  },
  {
   "cell_type": "markdown",
   "id": "e78ee119",
   "metadata": {},
   "source": [
    "##### Let's choose a significance test\n",
    "* Z-test: We don't know the population parameters. <font color='red'>Not appropiate</font> <br>\n",
    "* T-test: Sample means can't be interpreted meaningfully (psichologically, the distance from 4.5 and a 5 is different from the distance from 0 to 0.5). Additionally, it is not normally distributed <font color='red'>Not appropiate</font><br>\n",
    "* U-test (Mann-Whitney): We could test for differences in medians even though if the result is that the medians are the same, we could not discard a difference in the underlying distribution <font color='blue'>Slightly Appropiate</font>  <br>\n",
    "* KS-test: We are interested in comparing the underlying distributions <font color='green'>Appropiate</font> <br>\n",
    "* $\\chi^2$ test: We are interested in the general relationship between the variables and each category has enough samples to use this test but the sample sizes are not the same <font color='red'>Not appropiate</font>"
   ]
  },
  {
   "cell_type": "markdown",
   "id": "841b33cc",
   "metadata": {},
   "source": [
    "$H_0$: There is no difference between the ranks of new and old movies.<br>\n",
    "$H_1$: There is a difference between the ranks of new and old movies."
   ]
  },
  {
   "cell_type": "code",
   "execution_count": 40,
   "id": "b5a737cf",
   "metadata": {},
   "outputs": [
    {
     "name": "stdout",
     "output_type": "stream",
     "text": [
      "We reject the Null Hypothesis (p-value = 1.2849216001533932e-06)\n"
     ]
    }
   ],
   "source": [
    "test2 = mannwhitneyu(old_ratings, new_ratings, alternative='two-sided') #Runs a Mann Whitney U-test\n",
    "if test2.pvalue < 0.005:\n",
    "    print('We reject the Null Hypothesis (p-value = {})'.format(test2.pvalue))\n",
    "else:\n",
    "    print('We fail to reject the Null Hypothesis (p-value = {})'.format(test2.pvalue))"
   ]
  },
  {
   "cell_type": "code",
   "execution_count": 41,
   "id": "9256294e",
   "metadata": {},
   "outputs": [
    {
     "name": "stdout",
     "output_type": "stream",
     "text": [
      "We reject the Null Hypothesis (p-value = 0.002251935928322741)\n"
     ]
    }
   ],
   "source": [
    "test2 = kstest(old_ratings, new_ratings, alternative='two-sided') #Runs a KS-test\n",
    "if test2.pvalue < 0.005:\n",
    "    print('We reject the Null Hypothesis (p-value = {})'.format(test2.pvalue))\n",
    "else:\n",
    "    print('We fail to reject the Null Hypothesis (p-value = {})'.format(test2.pvalue))"
   ]
  },
  {
   "cell_type": "markdown",
   "id": "e349ae7d",
   "metadata": {},
   "source": [
    "CONCLUSION: There **is a difference** between the ranks of new and old movies."
   ]
  },
  {
   "cell_type": "markdown",
   "id": "4a5cab04",
   "metadata": {},
   "source": [
    "#### 3) Is enjoyment of ‘Shrek (2001)’ gendered, i.e. do male and female viewers rate it differently?"
   ]
  },
  {
   "cell_type": "code",
   "execution_count": 58,
   "id": "d90a40b9",
   "metadata": {},
   "outputs": [],
   "source": [
    "shrek_genders = df.iloc[:,[df.columns.get_loc('Shrek (2001)'),474]].dropna() #Extracts Shrek and gender columns from the df"
   ]
  },
  {
   "cell_type": "code",
   "execution_count": 59,
   "id": "62992b64",
   "metadata": {},
   "outputs": [
    {
     "name": "stdout",
     "output_type": "stream",
     "text": [
      "Men that have rated Shrek: 241, Women that have rated Shrek: 743\n"
     ]
    }
   ],
   "source": [
    "#Create a dataframe with the ratings of each gender for the Shrek movie\n",
    "shrek_men = shrek_genders[shrek_genders['Gender identity (1 = female; 2 = male; 3 = self-described)'] == 2.0]['Shrek (2001)']\n",
    "shrek_women = shrek_genders[shrek_genders['Gender identity (1 = female; 2 = male; 3 = self-described)'] == 1.0]['Shrek (2001)']\n",
    "print(\"Men that have rated Shrek: {}, Women that have rated Shrek: {}\".format(len(shrek_men), len(shrek_women)))"
   ]
  },
  {
   "cell_type": "code",
   "execution_count": 140,
   "id": "b73cdb12",
   "metadata": {
    "scrolled": true
   },
   "outputs": [
    {
     "data": {
      "image/png": "[encoded data removed]",
      "text/plain": [
       "<Figure size 1080x360 with 2 Axes>"
      ]
     },
     "metadata": {},
     "output_type": "display_data"
    }
   ],
   "source": [
    "fig, axes = plt.subplots(1,2, figsize=(15,5))\n",
    "sns.countplot(ax=axes[0], x=shrek_men, palette='Blues')\n",
    "axes[0].set_title('Men Shrek Ratings')\n",
    "sns.countplot(ax=axes[1], x=shrek_women, palette='PuRd')\n",
    "axes[1].set_title('Women Shrek Ratings')\n",
    "plt.show()"
   ]
  },
  {
   "cell_type": "markdown",
   "id": "ebf432b6",
   "metadata": {},
   "source": [
    "##### Let's choose a significance test\n",
    "* Z-test: We don't know the population parameters. <font color='red'>Not appropiate</font> <br>\n",
    "* T-test: Sample means can't be interpreted meaningfully (psichologically, the distance from 4.5 and a 5 is different from the distance from 0 to 0.5). Additionally, it is not normally distributed <font color='red'>Not appropiate</font><br>\n",
    "* U-test (Mann-Whitney): We could test for differences in medians even though if the result is that the medians are the same, we could not discard a difference in the underlying distribution <font color='blue'>Slightly Appropiate</font>  <br>\n",
    "* KS-test: We are interested in comparing the underlying distributions <font color='green'>Appropiate</font> <br>\n",
    "* $\\chi^2$ test: We are interested in the general relationship between the variables and each category has enough samples to use this test but the sample sizes are not the same <font color='red'>Not appropiate</font>"
   ]
  },
  {
   "cell_type": "markdown",
   "id": "2d050b80",
   "metadata": {},
   "source": [
    "$H_0$: There is no difference between the way men and women rate the movie Shrek.<br>\n",
    "$H_1$: There is a difference between the way men and women rate the movie Shrek."
   ]
  },
  {
   "cell_type": "code",
   "execution_count": 61,
   "id": "e6976eb3",
   "metadata": {},
   "outputs": [
    {
     "name": "stdout",
     "output_type": "stream",
     "text": [
      "We fail to reject the Null Hypothesis (p-value = 0.056082040722863824)\n"
     ]
    }
   ],
   "source": [
    "test3 = kstest(shrek_men, shrek_women, alternative='two-sided') #Runs a KS-test\n",
    "if test3.pvalue < 0.005:\n",
    "    print('We reject the Null Hypothesis (p-value = {})'.format(test3.pvalue))\n",
    "else:\n",
    "    print('We fail to reject the Null Hypothesis (p-value = {})'.format(test3.pvalue))"
   ]
  },
  {
   "cell_type": "code",
   "execution_count": 62,
   "id": "00b9a2ec",
   "metadata": {},
   "outputs": [
    {
     "name": "stdout",
     "output_type": "stream",
     "text": [
      "We fail to reject the Null Hypothesis (p-value = 0.050536625925559006)\n"
     ]
    }
   ],
   "source": [
    "test3 = mannwhitneyu(shrek_men, shrek_women, alternative='two-sided') #Runs a Mann Whitney U-test\n",
    "if test3.pvalue < 0.005:\n",
    "    print('We reject the Null Hypothesis (p-value = {})'.format(test3.pvalue))\n",
    "else:\n",
    "    print('We fail to reject the Null Hypothesis (p-value = {})'.format(test3.pvalue))"
   ]
  },
  {
   "cell_type": "markdown",
   "id": "d8cca720",
   "metadata": {},
   "source": [
    "CONCLUSION: There is **no difference** between the way men and women rate the movie Shrek."
   ]
  },
  {
   "cell_type": "markdown",
   "id": "71c14d71",
   "metadata": {},
   "source": [
    "#### 4) What proportion of movies are rated differently by male and female viewers?\n"
   ]
  },
  {
   "cell_type": "markdown",
   "id": "a36de031",
   "metadata": {},
   "source": [
    "To answer this question we must loop over all movies, divide it into two samples of male and female viewers and perform a KS-test (and Mannwhitney U-test) to check whether they are statistically different or not. During this loop, we must keep track of the number of movies whose ratings between men and women are indeeed statistically different and output its proportion."
   ]
  },
  {
   "cell_type": "code",
   "execution_count": 6,
   "id": "42629485",
   "metadata": {},
   "outputs": [
    {
     "name": "stdout",
     "output_type": "stream",
     "text": [
      "The proportion of movies rated differently by male and female viewers is 6.25% (based on KS-test)\n",
      "The proportion of movies rated differently by male and female viewers is 12.5% (based on Mannwhitney U-test)\n"
     ]
    }
   ],
   "source": [
    "titles = movies.columns.tolist()\n",
    "significant, significant2 = 0, 0\n",
    "for title in titles:\n",
    "    movie_genders = df.iloc[:,[df.columns.get_loc(title),474]].dropna()\n",
    "    movie_men = movie_genders[movie_genders['Gender identity (1 = female; 2 = male; 3 = self-described)'] == 2.0][title]\n",
    "    movie_women = movie_genders[movie_genders['Gender identity (1 = female; 2 = male; 3 = self-described)'] == 1.0][title]\n",
    "    test4 = kstest(movie_men, movie_women, alternative='two-sided')\n",
    "    if test4.pvalue < 0.005:\n",
    "        significant = significant + 1\n",
    "    test4 = mannwhitneyu(movie_men, movie_women, alternative='two-sided')\n",
    "    if test4.pvalue < 0.005:\n",
    "        significant2 = significant2 + 1\n",
    "\n",
    "print('The proportion of movies rated differently by male and female viewers is {}% (based on KS-test)'\n",
    "      .format(100 * significant/len(titles))) \n",
    "print('The proportion of movies rated differently by male and female viewers is {}% (based on Mann Whitney U-test)'\n",
    "      .format(100 * significant2/len(titles)))   "
   ]
  },
  {
   "cell_type": "markdown",
   "id": "cfce70f4",
   "metadata": {},
   "source": [
    "#### 5) Do people who are only children enjoy ‘The Lion King (1994)’ more than people with siblings?**"
   ]
  },
  {
   "cell_type": "code",
   "execution_count": 68,
   "id": "13871f12",
   "metadata": {},
   "outputs": [],
   "source": [
    "#Extract two series with the ranks for Lion King of users who are only children and users with siblings\n",
    "siblings = df[df['Are you an only child? (1: Yes; 0: No; -1: Did not respond)'] == 0.0]['The Lion King (1994)']\n",
    "only_child = df[df['Are you an only child? (1: Yes; 0: No; -1: Did not respond)'] == 1.0]['The Lion King (1994)']"
   ]
  },
  {
   "cell_type": "code",
   "execution_count": 69,
   "id": "de375f80",
   "metadata": {},
   "outputs": [
    {
     "name": "stdout",
     "output_type": "stream",
     "text": [
      "Ranks of only childs: 177, Ranks of users with Siblings: 894\n"
     ]
    }
   ],
   "source": [
    "print(\"Ranks of only childs: {}, ranks of users with Siblings: {}\".format(len(only_child), len(siblings)))"
   ]
  },
  {
   "cell_type": "code",
   "execution_count": 70,
   "id": "4e550848",
   "metadata": {},
   "outputs": [],
   "source": [
    "#Remove missing values\n",
    "siblings_ratings = np.array(siblings)[~np.isnan(siblings)]\n",
    "onlychild_ratings = np.array(only_child)[~np.isnan(only_child)]"
   ]
  },
  {
   "cell_type": "code",
   "execution_count": 141,
   "id": "0f16cc24",
   "metadata": {
    "scrolled": true
   },
   "outputs": [
    {
     "data": {
      "image/png": "[encoded data removed]",
      "text/plain": [
       "<Figure size 1080x360 with 2 Axes>"
      ]
     },
     "metadata": {},
     "output_type": "display_data"
    }
   ],
   "source": [
    "fig, axes = plt.subplots(1,2, figsize=(15,5))\n",
    "sns.countplot(ax=axes[0], x=siblings_ratings, palette='Blues')\n",
    "axes[0].set_title('Siblings Ratings')\n",
    "sns.countplot(ax=axes[1], x=onlychild_ratings, palette='Reds')\n",
    "axes[1].set_title('Only Child Ratings')\n",
    "plt.show()"
   ]
  },
  {
   "cell_type": "markdown",
   "id": "045988be",
   "metadata": {},
   "source": [
    "##### Let's choose a significance test\n",
    "* Z-test: We don't know the population parameters. <font color='red'>Not appropiate</font> <br>\n",
    "* T-test: Sample means can't be interpreted meaningfully (psichologically, the distance from 4.5 and a 5 is different from the distance from 0 to 0.5). Additionally, it is not normally distributed <font color='red'>Not appropiate</font><br>\n",
    "* U-test (Mann-Whitney): We do want to test for differences in medians to check which one is higher <font color='green'>Appropiate</font>  <br>\n",
    "* KS-test: Not interested in comparing distributions <font color='red'>Incorrect</font> <br>\n",
    "* $\\chi^2$ test: Not interested in the general relationship between the variables <font color='red'>Incorrect</font>"
   ]
  },
  {
   "cell_type": "markdown",
   "id": "05dc02db",
   "metadata": {},
   "source": [
    "$H_0$: Only child viewers do not enjoy The Lion King more than viewers with siblings. <br>\n",
    "$H_1$: Only child viewers enjoy The Lion King more than viewers with siblings. "
   ]
  },
  {
   "cell_type": "code",
   "execution_count": 72,
   "id": "a4dd9c08",
   "metadata": {},
   "outputs": [
    {
     "name": "stdout",
     "output_type": "stream",
     "text": [
      "We fail to reject the Null Hypothesis (p-value = 0.978419092554931)\n"
     ]
    }
   ],
   "source": [
    "test5 = mannwhitneyu(onlychild_ratings, siblings_ratings, alternative='greater') #Runs a Mann Whitney U-test\n",
    "if test5.pvalue < 0.005:\n",
    "    print('We reject the Null Hypothesis (p-value = {})'.format(test5.pvalue))\n",
    "else:\n",
    "    print('We fail to reject the Null Hypothesis (p-value = {})'.format(test5.pvalue))"
   ]
  },
  {
   "cell_type": "markdown",
   "id": "149ea52b",
   "metadata": {},
   "source": [
    "CONCLUSION: Only child viewers **do not enjoy** The Lion King more than viewers with siblings."
   ]
  },
  {
   "cell_type": "markdown",
   "id": "fc6420db",
   "metadata": {},
   "source": [
    "#### 6) What proportion of movies exhibit an “only child effect”, i.e. are rated different by viewers with siblings vs. those without?"
   ]
  },
  {
   "cell_type": "markdown",
   "id": "b821e397",
   "metadata": {},
   "source": [
    "To answer this question we must loop over all movies, divide it into two samples of only child viewers and viewers with siblings and perform a KS-test (and Mannwhitney U-test) to check whether they are statistically different or not. During this loop, we must keep track of the number of movies whose ratings between only childs and viewers with siblings are indeeed statistically different and output its proportion."
   ]
  },
  {
   "cell_type": "code",
   "execution_count": 8,
   "id": "a86418cb",
   "metadata": {},
   "outputs": [
    {
     "name": "stdout",
     "output_type": "stream",
     "text": [
      "The proportion of movies that exhibit an only child effect is 0.75% (based on KS-test)\n",
      "The proportion of movies that exhibit an only child effect is 1.75% (based on Mann Whitney U-test)\n"
     ]
    }
   ],
   "source": [
    "titles = movies.columns.tolist()\n",
    "significant, significant2 = 0, 0\n",
    "for title in titles:\n",
    "    movie_family = df.iloc[:,[df.columns.get_loc(title),475]].dropna()\n",
    "    movie_onlychild = movie_family[movie_family['Are you an only child? (1: Yes; 0: No; -1: Did not respond)'] == 1][title]\n",
    "    movie_siblings = movie_family[movie_family['Are you an only child? (1: Yes; 0: No; -1: Did not respond)'] == 0][title]\n",
    "    test6 = kstest(movie_onlychild, movie_siblings, alternative='two-sided')\n",
    "    if test6.pvalue < 0.005:\n",
    "        significant = significant + 1\n",
    "    test6 = mannwhitneyu(movie_onlychild, movie_siblings, alternative='two-sided')\n",
    "    if test6.pvalue < 0.005:\n",
    "        significant2 = significant2 + 1\n",
    "\n",
    "print('The proportion of movies that exhibit an only child effect is {}% (based on KS-test)'\n",
    "      .format(100 * significant/len(titles)))\n",
    "print('The proportion of movies that exhibit an only child effect is {}% (based on Mann Whitney U-test)'\n",
    "      .format(100 * significant2/len(titles)))   "
   ]
  },
  {
   "cell_type": "markdown",
   "id": "8a7a2160",
   "metadata": {},
   "source": [
    "#### 7) Do people who like to watch movies socially enjoy ‘The Wolf of Wall Street (2013)’ more than those who prefer to watch them alone?"
   ]
  },
  {
   "cell_type": "code",
   "execution_count": 74,
   "id": "b0300fea",
   "metadata": {},
   "outputs": [],
   "source": [
    "#Outputs two lists with the rankings of The Wolf of Wall Street by social and asocial viewers\n",
    "wolf_df = df.iloc[:,[df.columns.get_loc('The Wolf of Wall Street (2013)'),476]].dropna() \n",
    "social_wolf = wolf_df[wolf_df['Movies are best enjoyed alone (1: Yes; 0: No; -1: Did not respond)'] == 0]['The Wolf of Wall Street (2013)']\n",
    "asocial_wolf = wolf_df[wolf_df['Movies are best enjoyed alone (1: Yes; 0: No; -1: Did not respond)'] == 1]['The Wolf of Wall Street (2013)']"
   ]
  },
  {
   "cell_type": "code",
   "execution_count": 142,
   "id": "175108ae",
   "metadata": {},
   "outputs": [
    {
     "data": {
      "image/png": "[encoded data removed]",
      "text/plain": [
       "<Figure size 1080x360 with 2 Axes>"
      ]
     },
     "metadata": {},
     "output_type": "display_data"
    }
   ],
   "source": [
    "fig, axes = plt.subplots(1,2, figsize=(15,5))\n",
    "sns.countplot(ax=axes[0], x=social_wolf, palette='Blues')\n",
    "axes[0].set_title('Social Viewers')\n",
    "sns.countplot(ax=axes[1], x=asocial_wolf, palette='Reds')\n",
    "axes[1].set_title('Asocial Viewers')\n",
    "plt.show()"
   ]
  },
  {
   "cell_type": "markdown",
   "id": "41a9db53",
   "metadata": {},
   "source": [
    "##### Let's choose a significance test\n",
    "* Z-test: We don't know the population parameters. <font color='red'>Not appropiate</font> <br>\n",
    "* T-test: Sample means can't be interpreted meaningfully (psichologically, the distance from 4.5 and a 5 is different from the distance from 0 to 0.5). Additionally, it is not normally distributed <font color='red'>Not appropiate</font><br>\n",
    "* U-test (Mann-Whitney): We do want to test for differences in medians to check which one is higher <font color='green'>Appropiate</font>  <br>\n",
    "* KS-test: Not interested in comparing distributions <font color='red'>Incorrect</font> <br>\n",
    "* $\\chi^2$ test: Not interested in the general relationship between the variables <font color='red'>Incorrect</font>"
   ]
  },
  {
   "cell_type": "markdown",
   "id": "e3849bc4",
   "metadata": {},
   "source": [
    "$H_0$: Viewers who like to watch movies socially do not enjoy the Wolf of Wall Street movie more than viewers who prefer to eatch movies alone.<br>\n",
    "$H_1$: Viewers who like to watch movies socially enjoy the Wolf of Wall Street movie more than viewers who prefer to eatch movies alone."
   ]
  },
  {
   "cell_type": "code",
   "execution_count": 293,
   "id": "2f8b8466",
   "metadata": {},
   "outputs": [
    {
     "name": "stdout",
     "output_type": "stream",
     "text": [
      "We fail to reject the Null Hypothesis (p-value = 0.9436657996253056)\n"
     ]
    }
   ],
   "source": [
    "test7 = mannwhitneyu(social_wolf, asocial_wolf, alternative='greater') #Runs a Mann Whitney U-test\n",
    "if test7.pvalue < 0.005:\n",
    "    print('We reject the Null Hypothesis (p-value = {})'.format(test7.pvalue))\n",
    "else:\n",
    "    print('We fail to reject the Null Hypothesis (p-value = {})'.format(test7.pvalue))"
   ]
  },
  {
   "cell_type": "markdown",
   "id": "5bc8df10",
   "metadata": {},
   "source": [
    "CONCLUSION: Viewers who like to watch movies socially **do not enjoy** the Wolf of Wall Street movie more than viewers who prefer to eatch movies alone."
   ]
  },
  {
   "cell_type": "markdown",
   "id": "0354a232",
   "metadata": {},
   "source": [
    "#### 8) What proportion of movies exhibit such a “social watching” effect?"
   ]
  },
  {
   "cell_type": "markdown",
   "id": "9ccc7419",
   "metadata": {},
   "source": [
    "To answer this question we must loop over all movies, divide it into two samples of social and asocial viewers and perform a KS-test (and Mannwhitney U-test) to check whether they are statistically different or not. During this loop, we must keep track of the number of movies whose ratings between social and asocial viewers are indeeed statistically different and output its proportion."
   ]
  },
  {
   "cell_type": "code",
   "execution_count": 75,
   "id": "3b76593c",
   "metadata": {},
   "outputs": [
    {
     "name": "stdout",
     "output_type": "stream",
     "text": [
      "The proportion of movies that exhibit a social watching effect is 0.5% (based on KS-test)\n",
      "The proportion of movies that exhibit a social watching effect is 2.5% (based on Mann Whitney U-test)\n"
     ]
    }
   ],
   "source": [
    "titles = movies.columns.tolist()\n",
    "significant, significant2 = 0, 0\n",
    "for title in titles:\n",
    "    movies_ = df.iloc[:,[df.columns.get_loc(title),476]].dropna()\n",
    "    movie_social = movies_[movies_['Movies are best enjoyed alone (1: Yes; 0: No; -1: Did not respond)'] == 0.0][title]\n",
    "    movie_asocial = movies_[movies_['Movies are best enjoyed alone (1: Yes; 0: No; -1: Did not respond)'] == 1.0][title]\n",
    "    test6 = kstest(movie_social, movie_asocial, alternative='two-sided')\n",
    "    if test6.pvalue < 0.005:\n",
    "        significant = significant + 1\n",
    "    test6 = mannwhitneyu(movie_social, movie_asocial, alternative='two-sided')\n",
    "    if test6.pvalue < 0.005:\n",
    "        significant2 = significant2 + 1\n",
    "\n",
    "print('The proportion of movies that exhibit a social watching effect is {}% (based on KS-test)'\n",
    "      .format(100 * significant/len(titles)))   \n",
    "print('The proportion of movies that exhibit a social watching effect is {}% (based on Mann Whitney U-test)'\n",
    "      .format(100 * significant2/len(titles)))   "
   ]
  },
  {
   "cell_type": "markdown",
   "id": "4371f5be",
   "metadata": {},
   "source": [
    "#### 9) Is the ratings distribution of ‘Home Alone (1990)’ different than that of ‘Finding Nemo (2003)’?"
   ]
  },
  {
   "cell_type": "code",
   "execution_count": 10,
   "id": "66c04b43",
   "metadata": {},
   "outputs": [],
   "source": [
    "#Extracts the ratings for both Home Alone and Finding Nemo\n",
    "home_nemo = movies[['Home Alone (1990)', 'Finding Nemo (2003)']].dropna()"
   ]
  },
  {
   "cell_type": "code",
   "execution_count": 11,
   "id": "83c2c43e",
   "metadata": {},
   "outputs": [
    {
     "data": {
      "image/png": "[encoded data removed]",
      "text/plain": [
       "<Figure size 1080x360 with 2 Axes>"
      ]
     },
     "metadata": {},
     "output_type": "display_data"
    }
   ],
   "source": [
    "fig, axes = plt.subplots(1,2, figsize=(15,5))\n",
    "sns.countplot(ax=axes[0], x=home_nemo['Home Alone (1990)'], palette='Blues')\n",
    "axes[0].set_title('Home Alone Ratings')\n",
    "sns.countplot(ax=axes[1], x=home_nemo['Finding Nemo (2003)'], palette='Reds')\n",
    "axes[1].set_title('Finding Nemo Ratings')\n",
    "plt.show()"
   ]
  },
  {
   "cell_type": "markdown",
   "id": "f99db8df",
   "metadata": {},
   "source": [
    "##### Let's choose a significance test\n",
    "* Z-test: We don't know the population parameters. <font color='red'>Not appropiate</font> <br>\n",
    "* T-test: Sample means can't be interpreted meaningfully (psichologically, the distance from 4.5 and a 5 is different from the distance from 0 to 0.5). Additionally, it is not normally distributed <font color='red'>Not appropiate</font><br>\n",
    "* U-test (Mann-Whitney): We could test for differences in medians even though if the result is that the medians are the same, we could not discard a difference in the underlying distribution <font color='blue'>Slightly Appropiate</font>  <br>\n",
    "* KS-test: We are interested in comparing the underlying distributions <font color='green'>Appropiate</font> <br>\n",
    "* $\\chi^2$ test: We are interested in the general relationship between the variables and each category has enough samples to use this test but the sample sizes are not the same <font color='red'>Not appropiate</font>"
   ]
  },
  {
   "cell_type": "markdown",
   "id": "a6b3fd5a",
   "metadata": {},
   "source": [
    "$H_0$: The movie Home Alone does not have a different distribution to the movie Finding Nemo.<br>\n",
    "$H_1$: The movie Home Alone has a different distribution compared to the movie Finding Nemo."
   ]
  },
  {
   "cell_type": "code",
   "execution_count": 12,
   "id": "0706a934",
   "metadata": {},
   "outputs": [
    {
     "name": "stdout",
     "output_type": "stream",
     "text": [
      "We reject the Null Hypothesis (p-value = 2.2038507937682687e-10)\n"
     ]
    }
   ],
   "source": [
    "test9 = kstest(home_nemo['Home Alone (1990)'], home_nemo['Finding Nemo (2003)'], alternative='two-sided') #Runs a KS-test\n",
    "if test9.pvalue < 0.005:\n",
    "    print('We reject the Null Hypothesis (p-value = {})'.format(test9.pvalue))\n",
    "else:\n",
    "    print('We fail to reject the Null Hypothesis (p-value = {})'.format(test9.pvalue))"
   ]
  },
  {
   "cell_type": "code",
   "execution_count": 13,
   "id": "fc2d3f49",
   "metadata": {},
   "outputs": [
    {
     "name": "stdout",
     "output_type": "stream",
     "text": [
      "We reject the Null Hypothesis (p-value = 2.4436856207027405e-12)\n"
     ]
    }
   ],
   "source": [
    "test9 = mannwhitneyu(home_nemo['Home Alone (1990)'], home_nemo['Finding Nemo (2003)'], alternative='two-sided') #Runs a KS-test\n",
    "if test9.pvalue < 0.005:\n",
    "    print('We reject the Null Hypothesis (p-value = {})'.format(test9.pvalue))\n",
    "else:\n",
    "    print('We fail to reject the Null Hypothesis (p-value = {})'.format(test9.pvalue))"
   ]
  },
  {
   "cell_type": "markdown",
   "id": "cfa037d5",
   "metadata": {},
   "source": [
    "CONCLUSION: The movie Home Alone has a **different distribution** compared to the movie Finding Nemo."
   ]
  },
  {
   "cell_type": "markdown",
   "id": "6f0b18b4",
   "metadata": {},
   "source": [
    "#### 10) There are ratings on movies from several franchises ([‘Star Wars’, ‘Harry Potter’, ‘The Matrix’, ‘Indiana Jones’, ‘Jurassic Park’, ‘Pirates of the Caribbean’, ‘Toy Story’, ‘Batman’]) in this dataset. How many of these are of inconsistent quality, as experienced by viewers? [Hint: You can use the keywords in quotation marks featured in this question to identify the movies that are part of each franchise]"
   ]
  },
  {
   "cell_type": "code",
   "execution_count": 14,
   "id": "ef4814ef",
   "metadata": {},
   "outputs": [],
   "source": [
    "#Creates a dictionary whose keys are the franchises and values are dataframes with the rankings of each movie in the frachise\n",
    "titles = list(movies.columns)\n",
    "franchises = ['Star Wars', 'Harry Potter', 'The Matrix', 'Indiana Jones', 'Jurassic Park', 'Pirates of the Caribbean', 'Toy Story', 'Batman']\n",
    "franch_dict = {}\n",
    "for franchise in franchises:\n",
    "    movies_ = [title for title in titles if franchise in title]\n",
    "    franch_dict[franchise] = movies.iloc[:,df.columns.get_indexer(movies_)].dropna()"
   ]
  },
  {
   "cell_type": "markdown",
   "id": "2c9f51ca",
   "metadata": {},
   "source": [
    "Loops over the movies in each franchise and performs a KS-test of each pair, checking if there is any combination of movies with a statistically significant difference of distrbutions. If that is the case, they are considered of inconsistent quality, if not they are considered of consistent quality."
   ]
  },
  {
   "cell_type": "code",
   "execution_count": 16,
   "id": "9d0c1df7",
   "metadata": {},
   "outputs": [
    {
     "name": "stdout",
     "output_type": "stream",
     "text": [
      "Star Wars is of inconsistent quality because 8 pairs movies are significantly different from each other.\n",
      "Harry Potter is of consistent quality!\n",
      "The Matrix is of inconsistent quality because 2 pairs movies are significantly different from each other.\n",
      "Indiana Jones is of inconsistent quality because 4 pairs movies are significantly different from each other.\n",
      "Jurassic Park is of inconsistent quality because 3 pairs movies are significantly different from each other.\n",
      "Pirates of the Caribbean is of consistent quality!\n",
      "Toy Story is of inconsistent quality because 1 pairs movies are significantly different from each other.\n",
      "Batman is of inconsistent quality because 3 pairs movies are significantly different from each other.\n"
     ]
    }
   ],
   "source": [
    "for franchise in franch_dict:\n",
    "    significant = 0\n",
    "    for title1 in franch_dict[franchise]:\n",
    "        for title2 in franch_dict[franchise]:\n",
    "            if title1 == title2: \n",
    "                continue\n",
    "            else: \n",
    "                test10 = kstest(franch_dict[franchise][title1], franch_dict[franchise][title2], alternative='two-sided')\n",
    "                if test10.pvalue < 0.005:\n",
    "                    significant = significant + 1\n",
    "        \n",
    "    if significant == 0: print('{} is of consistent quality!'.format(franchise))\n",
    "    else: print('{} is of inconsistent quality because {} pairs movies are significantly different from each other.'\n",
    "                .format(franchise, int(significant/2)))"
   ]
  },
  {
   "cell_type": "markdown",
   "id": "a84eb9ab",
   "metadata": {},
   "source": [
    "#### Extra Credit: Tell us something interesting and true (supported by a significance test of some kind) about the movies in this dataset that is not already covered by the questions above [for 5% of the grade score]."
   ]
  },
  {
   "cell_type": "code",
   "execution_count": 5,
   "id": "f225fad6",
   "metadata": {},
   "outputs": [],
   "source": [
    "#Gets the rankings of judgy and other viewers\n",
    "judgy_users = df[(df['Tends to find fault with others'] == 5) | (df['Tends to find fault with others'] == 4)].iloc[:,0:400]\n",
    "other_users = df[(df['Tends to find fault with others'] == 2) | (df['Tends to find fault with others'] == 1)].iloc[:,0:400]\n",
    "\n",
    "# Convert the dataframes into arrays of all rankings\n",
    "judgy_ratings = np.array(judgy_users.iloc[0:358,:]).reshape(-1)\n",
    "other_ratings = np.array(other_users).reshape(-1)\n",
    "\n",
    "#Removes missing values\n",
    "judgy_ratings = judgy_ratings[~np.isnan(judgy_ratings)]\n",
    "other_ratings = other_ratings[~np.isnan(other_ratings)]"
   ]
  },
  {
   "cell_type": "code",
   "execution_count": 6,
   "id": "e8178cf4",
   "metadata": {},
   "outputs": [
    {
     "data": {
      "image/png": "[encoded data removed]",
      "text/plain": [
       "<Figure size 1080x360 with 2 Axes>"
      ]
     },
     "metadata": {},
     "output_type": "display_data"
    }
   ],
   "source": [
    "fig, axes = plt.subplots(1,2, figsize=(15,5))\n",
    "sns.countplot(ax=axes[0], x=judgy_ratings, palette='Blues')\n",
    "axes[0].set_title('Judgy ratings')\n",
    "sns.countplot(ax=axes[1], x=other_ratings, palette='Reds')\n",
    "axes[1].set_title('Other ratings')\n",
    "plt.show()"
   ]
  },
  {
   "cell_type": "code",
   "execution_count": 12,
   "id": "679855b3",
   "metadata": {},
   "outputs": [
    {
     "name": "stdout",
     "output_type": "stream",
     "text": [
      "We reject the Null Hypothesis (p-value = 5.542824007265551e-92)\n"
     ]
    }
   ],
   "source": [
    "test11 = mannwhitneyu(judgy_ratings, other_ratings, alternative='greater') #Runs a Mann Whitney U-test\n",
    "if test11.pvalue < 0.005:\n",
    "    print('We reject the Null Hypothesis (p-value = {})'.format(test11.pvalue))\n",
    "else:\n",
    "    print('We fail to reject the Null Hypothesis (p-value = {})'.format(test11.pvalue))"
   ]
  },
  {
   "cell_type": "code",
   "execution_count": 13,
   "id": "8751ede1",
   "metadata": {},
   "outputs": [],
   "source": [
    "#Gets the rankings of judgy and other viewers\n",
    "kind_users = df[(df['Is considerate and kind to almost everyone'] == 5) | (df['Is considerate and kind to almost everyone'] == 5)].iloc[:,0:400]\n",
    "other_users = df[(df['Is considerate and kind to almost everyone'] == 1) | (df['Is considerate and kind to almost everyone'] == 2) | (df['Is considerate and kind to almost everyone'] == 3)].iloc[:,0:400]\n",
    "\n",
    "# Convert the dataframes into arrays of all rankings\n",
    "kind_ratings = np.array(kind_users).reshape(-1)\n",
    "other_ratings = np.array(other_users).reshape(-1)\n",
    "\n",
    "#Removes missing values\n",
    "kind_ratings = kind_ratings[~np.isnan(kind_ratings)]\n",
    "other_ratings = other_ratings[~np.isnan(other_ratings)]"
   ]
  },
  {
   "cell_type": "code",
   "execution_count": 19,
   "id": "5f7dc23a",
   "metadata": {},
   "outputs": [
    {
     "name": "stdout",
     "output_type": "stream",
     "text": [
      "30691 25746\n"
     ]
    }
   ],
   "source": [
    "print(len(kind_ratings), len(other_ratings))"
   ]
  },
  {
   "cell_type": "code",
   "execution_count": 20,
   "id": "7a962d3b",
   "metadata": {},
   "outputs": [
    {
     "data": {
      "image/png": "[encoded data removed]",
      "text/plain": [
       "<Figure size 1080x360 with 2 Axes>"
      ]
     },
     "metadata": {},
     "output_type": "display_data"
    }
   ],
   "source": [
    "fig, axes = plt.subplots(1,2, figsize=(15,5))\n",
    "sns.countplot(ax=axes[0], x=kind_ratings, palette='Blues')\n",
    "axes[0].set_title('Kind ratings')\n",
    "sns.countplot(ax=axes[1], x=other_ratings, palette='Reds')\n",
    "axes[1].set_title('Other ratings')\n",
    "plt.show()"
   ]
  },
  {
   "cell_type": "markdown",
   "id": "48ac8385",
   "metadata": {},
   "source": [
    "$H_0$: Viewers considered kind to almost everyone do not give higher ratings than other viewers<br>\n",
    "$H_1$: Viewers considered kind to almost everyone give higher ratings than other viewers"
   ]
  },
  {
   "cell_type": "code",
   "execution_count": 23,
   "id": "10b9a1bb",
   "metadata": {},
   "outputs": [
    {
     "name": "stdout",
     "output_type": "stream",
     "text": [
      "We reject the Null Hypothesis (p-value = 1.8160709992391143e-205)\n"
     ]
    }
   ],
   "source": [
    "test11 = mannwhitneyu(kind_ratings, other_ratings, alternative='greater') #Runs a Mann Whitney U-test\n",
    "if test11.pvalue < 0.005:\n",
    "    print('We reject the Null Hypothesis (p-value = {})'.format(test11.pvalue))\n",
    "else:\n",
    "    print('We fail to reject the Null Hypothesis (p-value = {})'.format(test11.pvalue))"
   ]
  },
  {
   "cell_type": "markdown",
   "id": "9b952dc1",
   "metadata": {},
   "source": [
    "<font color='red'>DELETE BELOW</font>"
   ]
  },
  {
   "cell_type": "markdown",
   "id": "8c2c761d",
   "metadata": {},
   "source": [
    "'Tends to find fault with others', (ranks lower)<br>\n",
    "'Can be somewhat careless'  (less .5s)<br>\n",
    "'Tends to be lazy' (less .5s)<br>\n",
    "'Is considerate and kind to almost everyone', (Higher ranking just to be nice)<br>\n",
    "'Does a thorough job' (More .5s)"
   ]
  }
 ],
 "metadata": {
  "kernelspec": {
   "display_name": "Python 3 (ipykernel)",
   "language": "python",
   "name": "python3"
  },
  "language_info": {
   "codemirror_mode": {
    "name": "ipython",
    "version": 3
   },
   "file_extension": ".py",
   "mimetype": "text/x-python",
   "name": "python",
   "nbconvert_exporter": "python",
   "pygments_lexer": "ipython3",
   "version": "3.9.7"
  },
  "toc": {
   "base_numbering": 1,
   "nav_menu": {},
   "number_sections": true,
   "sideBar": true,
   "skip_h1_title": false,
   "title_cell": "Table of Contents",
   "title_sidebar": "Contents",
   "toc_cell": false,
   "toc_position": {},
   "toc_section_display": true,
   "toc_window_display": false
  },
  "varInspector": {
   "cols": {
    "lenName": 16,
    "lenType": 16,
    "lenVar": 40
   },
   "kernels_config": {
    "python": {
     "delete_cmd_postfix": "",
     "delete_cmd_prefix": "del ",
     "library": "var_list.py",
     "varRefreshCmd": "print(var_dic_list())"
    },
    "r": {
     "delete_cmd_postfix": ") ",
     "delete_cmd_prefix": "rm(",
     "library": "var_list.r",
     "varRefreshCmd": "cat(var_dic_list()) "
    }
   },
   "types_to_exclude": [
    "module",
    "function",
    "builtin_function_or_method",
    "instance",
    "_Feature"
   ],
   "window_display": false
  }
 },
 "nbformat": 4,
 "nbformat_minor": 5
}
