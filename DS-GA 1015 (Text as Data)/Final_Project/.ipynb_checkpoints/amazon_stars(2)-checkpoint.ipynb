{
 "cells": [
  {
   "cell_type": "markdown",
   "id": "7d931354",
   "metadata": {},
   "source": [
    "### Import libraries"
   ]
  },
  {
   "cell_type": "code",
   "execution_count": 1,
   "id": "e7b4d120",
   "metadata": {
    "ExecuteTime": {
     "end_time": "2022-04-04T00:04:23.329180Z",
     "start_time": "2022-04-04T00:04:22.028157Z"
    }
   },
   "outputs": [],
   "source": [
    "import pandas as pd\n",
    "import numpy as np\n",
    "import matplotlib.pyplot as plt\n",
    "import seaborn as sns\n",
    "import zipfile as zf\n",
    "import warnings\n",
    "\n",
    "import nltk\n",
    "from nltk import PorterStemmer\n",
    "from nltk.tokenize import word_tokenize\n",
    "from nltk.corpus import stopwords\n",
    "from collections import Counter\n",
    "\n",
    "from sklearn.feature_extraction.text import TfidfVectorizer\n",
    "from sklearn.metrics import confusion_matrix, accuracy_score\n",
    "from sklearn.model_selection import train_test_split\n",
    "from sklearn.linear_model import LogisticRegression\n",
    "from sklearn import naive_bayes, svm\n",
    "\n",
    "#warnings.filterwarnings(\"ignore\")\n",
    "#nltk.download('stopwords')"
   ]
  },
  {
   "cell_type": "markdown",
   "id": "41ae6f88",
   "metadata": {},
   "source": [
    "### Read data"
   ]
  },
  {
   "cell_type": "code",
   "execution_count": 131,
   "id": "e4fed9c9",
   "metadata": {
    "ExecuteTime": {
     "end_time": "2022-04-04T00:46:09.864541Z",
     "start_time": "2022-04-04T00:46:06.741793Z"
    }
   },
   "outputs": [
    {
     "data": {
      "text/html": [
       "<div>\n",
       "<style scoped>\n",
       "    .dataframe tbody tr th:only-of-type {\n",
       "        vertical-align: middle;\n",
       "    }\n",
       "\n",
       "    .dataframe tbody tr th {\n",
       "        vertical-align: top;\n",
       "    }\n",
       "\n",
       "    .dataframe thead th {\n",
       "        text-align: right;\n",
       "    }\n",
       "</style>\n",
       "<table border=\"1\" class=\"dataframe\">\n",
       "  <thead>\n",
       "    <tr style=\"text-align: right;\">\n",
       "      <th></th>\n",
       "      <th>ProductId</th>\n",
       "      <th>UserId</th>\n",
       "      <th>HelpfulnessNumerator</th>\n",
       "      <th>Score</th>\n",
       "      <th>Text</th>\n",
       "    </tr>\n",
       "  </thead>\n",
       "  <tbody>\n",
       "    <tr>\n",
       "      <th>0</th>\n",
       "      <td>B001E4KFG0</td>\n",
       "      <td>A3SGXH7AUHU8GW</td>\n",
       "      <td>1</td>\n",
       "      <td>5</td>\n",
       "      <td>I have bought several of the Vitality canned d...</td>\n",
       "    </tr>\n",
       "    <tr>\n",
       "      <th>1</th>\n",
       "      <td>B00813GRG4</td>\n",
       "      <td>A1D87F6ZCVE5NK</td>\n",
       "      <td>0</td>\n",
       "      <td>1</td>\n",
       "      <td>Product arrived labeled as Jumbo Salted Peanut...</td>\n",
       "    </tr>\n",
       "    <tr>\n",
       "      <th>2</th>\n",
       "      <td>B000LQOCH0</td>\n",
       "      <td>ABXLMWJIXXAIN</td>\n",
       "      <td>1</td>\n",
       "      <td>4</td>\n",
       "      <td>This is a confection that has been around a fe...</td>\n",
       "    </tr>\n",
       "    <tr>\n",
       "      <th>3</th>\n",
       "      <td>B000UA0QIQ</td>\n",
       "      <td>A395BORC6FGVXV</td>\n",
       "      <td>3</td>\n",
       "      <td>2</td>\n",
       "      <td>If you are looking for the secret ingredient i...</td>\n",
       "    </tr>\n",
       "    <tr>\n",
       "      <th>4</th>\n",
       "      <td>B006K2ZZ7K</td>\n",
       "      <td>A1UQRSCLF8GW1T</td>\n",
       "      <td>0</td>\n",
       "      <td>5</td>\n",
       "      <td>Great taffy at a great price.  There was a wid...</td>\n",
       "    </tr>\n",
       "  </tbody>\n",
       "</table>\n",
       "</div>"
      ],
      "text/plain": [
       "    ProductId          UserId  HelpfulnessNumerator  Score  \\\n",
       "0  B001E4KFG0  A3SGXH7AUHU8GW                     1      5   \n",
       "1  B00813GRG4  A1D87F6ZCVE5NK                     0      1   \n",
       "2  B000LQOCH0   ABXLMWJIXXAIN                     1      4   \n",
       "3  B000UA0QIQ  A395BORC6FGVXV                     3      2   \n",
       "4  B006K2ZZ7K  A1UQRSCLF8GW1T                     0      5   \n",
       "\n",
       "                                                Text  \n",
       "0  I have bought several of the Vitality canned d...  \n",
       "1  Product arrived labeled as Jumbo Salted Peanut...  \n",
       "2  This is a confection that has been around a fe...  \n",
       "3  If you are looking for the secret ingredient i...  \n",
       "4  Great taffy at a great price.  There was a wid...  "
      ]
     },
     "execution_count": 131,
     "metadata": {},
     "output_type": "execute_result"
    }
   ],
   "source": [
    "zip_file = zf.ZipFile('data.zip') \n",
    "df = pd.read_csv(zip_file.open('amazon_data.csv'))\n",
    "df.head()"
   ]
  },
  {
   "cell_type": "code",
   "execution_count": 132,
   "id": "17e37e1e",
   "metadata": {
    "ExecuteTime": {
     "end_time": "2022-04-04T00:46:10.005009Z",
     "start_time": "2022-04-04T00:46:09.896297Z"
    }
   },
   "outputs": [
    {
     "data": {
      "image/png": "[encoded data removed]",
      "text/plain": [
       "<Figure size 432x288 with 1 Axes>"
      ]
     },
     "metadata": {
      "needs_background": "light"
     },
     "output_type": "display_data"
    }
   ],
   "source": [
    "sns.countplot(x=df['Score'], palette='mako')\n",
    "plt.show()"
   ]
  },
  {
   "cell_type": "code",
   "execution_count": 133,
   "id": "bfc82875",
   "metadata": {
    "ExecuteTime": {
     "end_time": "2022-04-04T00:46:10.051627Z",
     "start_time": "2022-04-04T00:46:10.037008Z"
    }
   },
   "outputs": [
    {
     "data": {
      "text/plain": [
       "1     52268\n",
       "2     29769\n",
       "3     42640\n",
       "4     80655\n",
       "5    363122\n",
       "Name: Score, dtype: int64"
      ]
     },
     "execution_count": 133,
     "metadata": {},
     "output_type": "execute_result"
    }
   ],
   "source": [
    "df['Score'].value_counts().sort_index()"
   ]
  },
  {
   "cell_type": "markdown",
   "id": "5439718a",
   "metadata": {},
   "source": [
    "### Adapt and Balance target variable"
   ]
  },
  {
   "cell_type": "code",
   "execution_count": 134,
   "id": "13b4cd47",
   "metadata": {
    "ExecuteTime": {
     "end_time": "2022-04-04T00:46:10.115704Z",
     "start_time": "2022-04-04T00:46:10.085452Z"
    }
   },
   "outputs": [],
   "source": [
    "df['Score'] = df['Score'].replace({1:'Bad', 2: 'Bad', 3: 'Neutral', 4: 'Good', 5: 'Good'})"
   ]
  },
  {
   "cell_type": "code",
   "execution_count": 135,
   "id": "71edebf0",
   "metadata": {
    "ExecuteTime": {
     "end_time": "2022-04-04T00:46:10.395270Z",
     "start_time": "2022-04-04T00:46:10.147924Z"
    }
   },
   "outputs": [
    {
     "data": {
      "image/png": "[encoded data removed]",
      "text/plain": [
       "<Figure size 432x288 with 1 Axes>"
      ]
     },
     "metadata": {
      "needs_background": "light"
     },
     "output_type": "display_data"
    }
   ],
   "source": [
    "sns.countplot(x=df['Score'], palette='mako')\n",
    "plt.show()"
   ]
  },
  {
   "cell_type": "code",
   "execution_count": 136,
   "id": "76faf5b8",
   "metadata": {
    "ExecuteTime": {
     "end_time": "2022-04-04T00:46:10.457148Z",
     "start_time": "2022-04-04T00:46:10.427198Z"
    }
   },
   "outputs": [
    {
     "data": {
      "text/plain": [
       "Good       443777\n",
       "Bad         82037\n",
       "Neutral     42640\n",
       "Name: Score, dtype: int64"
      ]
     },
     "execution_count": 136,
     "metadata": {},
     "output_type": "execute_result"
    }
   ],
   "source": [
    "df['Score'].value_counts()"
   ]
  },
  {
   "cell_type": "code",
   "execution_count": 137,
   "id": "b2f23acd",
   "metadata": {
    "ExecuteTime": {
     "end_time": "2022-04-04T00:46:10.738874Z",
     "start_time": "2022-04-04T00:46:10.490131Z"
    }
   },
   "outputs": [],
   "source": [
    "sample_size = 40000\n",
    "\n",
    "df_B = df[df['Score'] == 'Bad'].sample(n=sample_size, random_state=101)\n",
    "df_N = df[df['Score'] == 'Neutral'].sample(n=sample_size, random_state=101)\n",
    "df_G = df[df['Score'] == 'Good'].sample(n=sample_size, random_state=101)\n",
    "\n",
    "df = pd.concat([df_B, df_N, df_G]).reset_index(drop=True)"
   ]
  },
  {
   "cell_type": "code",
   "execution_count": 138,
   "id": "bc037ad7",
   "metadata": {
    "ExecuteTime": {
     "end_time": "2022-04-04T00:46:10.880557Z",
     "start_time": "2022-04-04T00:46:10.770854Z"
    }
   },
   "outputs": [
    {
     "data": {
      "image/png": "[encoded data removed]",
      "text/plain": [
       "<Figure size 432x288 with 1 Axes>"
      ]
     },
     "metadata": {
      "needs_background": "light"
     },
     "output_type": "display_data"
    }
   ],
   "source": [
    "sns.countplot(x=df['Score'], palette='mako')\n",
    "plt.show()"
   ]
  },
  {
   "cell_type": "markdown",
   "id": "e6a643aa",
   "metadata": {},
   "source": [
    "### Preprocessing"
   ]
  },
  {
   "cell_type": "code",
   "execution_count": 139,
   "id": "3e846535",
   "metadata": {
    "ExecuteTime": {
     "end_time": "2022-04-04T00:47:33.097057Z",
     "start_time": "2022-04-04T00:46:10.912347Z"
    }
   },
   "outputs": [
    {
     "name": "stdout",
     "output_type": "stream",
     "text": [
      "Wall time: 1min 22s\n"
     ]
    }
   ],
   "source": [
    "%%time\n",
    "processed_df = df.copy()\n",
    "\n",
    "# Remove page breaks\n",
    "processed_df['Text'] = processed_df['Text'].str.replace(r'br', ' ', regex=True)\n",
    "\n",
    "# Replace URLs with 'webaddress'\n",
    "processed_df['Text'] = processed_df['Text'].str.replace(r'http\\S+', 'webaddress', regex=True)\n",
    "\n",
    "# Remove punctuation\n",
    "processed_df['Text'] = processed_df['Text'].str.replace(r'[^\\w\\d\\s]', ' ', regex=True)\n",
    "processed_df['Text'] = processed_df['Text'].str.replace(r'_', ' ', regex=True)\n",
    "\n",
    "# Replace numbers with 'numbr'\n",
    "processed_df['Text'] = processed_df['Text'].str.replace(r'\\d+(\\.\\d+)?', ' ', regex=True)\n",
    "\n",
    "# Replace whitespace between terms with a single space\n",
    "processed_df['Text'] = processed_df['Text'].str.replace(r'\\s+', ' ', regex=True)\n",
    "\n",
    "# Remove leading and trailing whitespace\n",
    "processed_df['Text'] = processed_df['Text'].str.replace(r'^\\s+|\\s+?$', '', regex=True)\n",
    "\n",
    "#All words to lowercase\n",
    "processed_df['Text'] = processed_df['Text'].str.lower()\n",
    "\n",
    "# remove stop words from text messages\n",
    "stop_words = set(stopwords.words('english')) - set(['no', 'not'])\n",
    "processed_df['Text'] = processed_df['Text'].apply(lambda x: ' '.join(term for term in x.split() if term not in stop_words))\n",
    "\n",
    "# Remove word stems using a Porter stemmer\n",
    "ps = PorterStemmer()\n",
    "processed_df['Text'] = processed_df['Text'].apply(lambda x: ' '.join(ps.stem(term) for term in x.split()))"
   ]
  },
  {
   "cell_type": "code",
   "execution_count": 127,
   "id": "2893d04d",
   "metadata": {
    "ExecuteTime": {
     "end_time": "2022-04-04T00:44:11.675994Z",
     "start_time": "2022-04-04T00:44:05.626005Z"
    },
    "scrolled": true
   },
   "outputs": [
    {
     "name": "stdout",
     "output_type": "stream",
     "text": [
      "Wall time: 6.04 s\n"
     ]
    }
   ],
   "source": [
    "%%time\n",
    "for idx in range(1000):\n",
    "    if processed_df.loc[idx, 'HelpfulnessNumerator'] > 0:\n",
    "        helpfulness = processed_df.loc[idx, 'HelpfulnessNumerator']\n",
    "        processed_df = processed_df.append([processed_df.iloc[idx,:]] * helpfulness, ignore_index=True)"
   ]
  },
  {
   "cell_type": "code",
   "execution_count": 140,
   "id": "ec6dfc1d",
   "metadata": {
    "ExecuteTime": {
     "end_time": "2022-04-04T00:51:46.504998Z",
     "start_time": "2022-04-04T00:47:33.128974Z"
    }
   },
   "outputs": [
    {
     "name": "stdout",
     "output_type": "stream",
     "text": [
      "Wall time: 4min 13s\n"
     ]
    }
   ],
   "source": [
    "%%time\n",
    "\n",
    "addition_df = pd.DataFrame()\n",
    "for idx in range(len(processed_df)):\n",
    "    if processed_df.loc[idx, 'HelpfulnessNumerator'] > 0:\n",
    "        helpfulness = processed_df.loc[idx, 'HelpfulnessNumerator']\n",
    "        addition_df = addition_df.append([processed_df.iloc[idx,:]] * helpfulness, ignore_index=True)\n",
    "\n",
    "processed_df = pd.concat([processed_df, addition_df], axis=0).reset_index(drop=True)"
   ]
  },
  {
   "cell_type": "markdown",
   "id": "9dec9bf2",
   "metadata": {},
   "source": [
    "### Create dataset"
   ]
  },
  {
   "cell_type": "markdown",
   "id": "1c82024b",
   "metadata": {},
   "source": [
    "##### Tf-idf"
   ]
  },
  {
   "cell_type": "code",
   "execution_count": 145,
   "id": "8d4e79c9",
   "metadata": {
    "ExecuteTime": {
     "end_time": "2022-04-04T00:57:39.924812Z",
     "start_time": "2022-04-04T00:56:46.244014Z"
    },
    "scrolled": true
   },
   "outputs": [
    {
     "name": "stdout",
     "output_type": "stream",
     "text": [
      "Wall time: 53.7 s\n"
     ]
    },
    {
     "data": {
      "text/html": [
       "<div>\n",
       "<style scoped>\n",
       "    .dataframe tbody tr th:only-of-type {\n",
       "        vertical-align: middle;\n",
       "    }\n",
       "\n",
       "    .dataframe tbody tr th {\n",
       "        vertical-align: top;\n",
       "    }\n",
       "\n",
       "    .dataframe thead th {\n",
       "        text-align: right;\n",
       "    }\n",
       "</style>\n",
       "<table border=\"1\" class=\"dataframe\">\n",
       "  <thead>\n",
       "    <tr style=\"text-align: right;\">\n",
       "      <th></th>\n",
       "      <th>abil</th>\n",
       "      <th>abil induc</th>\n",
       "      <th>abl</th>\n",
       "      <th>abl cancel</th>\n",
       "      <th>abl eat</th>\n",
       "      <th>abl find</th>\n",
       "      <th>abl get</th>\n",
       "      <th>abl give</th>\n",
       "      <th>abl locat</th>\n",
       "      <th>absolut</th>\n",
       "      <th>...</th>\n",
       "      <th>zico bottl</th>\n",
       "      <th>zico sale</th>\n",
       "      <th>zinc</th>\n",
       "      <th>zinc sulfat</th>\n",
       "      <th>zip</th>\n",
       "      <th>zip lock</th>\n",
       "      <th>ziploc</th>\n",
       "      <th>ziplock</th>\n",
       "      <th>zombi</th>\n",
       "      <th>zuke</th>\n",
       "    </tr>\n",
       "  </thead>\n",
       "  <tbody>\n",
       "    <tr>\n",
       "      <th>0</th>\n",
       "      <td>0.0</td>\n",
       "      <td>0.0</td>\n",
       "      <td>0.0</td>\n",
       "      <td>0.0</td>\n",
       "      <td>0.0</td>\n",
       "      <td>0.0</td>\n",
       "      <td>0.0</td>\n",
       "      <td>0.0</td>\n",
       "      <td>0.0</td>\n",
       "      <td>0.0</td>\n",
       "      <td>...</td>\n",
       "      <td>0.0</td>\n",
       "      <td>0.0</td>\n",
       "      <td>0.0</td>\n",
       "      <td>0.0</td>\n",
       "      <td>0.0</td>\n",
       "      <td>0.0</td>\n",
       "      <td>0.0</td>\n",
       "      <td>0.0</td>\n",
       "      <td>0.0</td>\n",
       "      <td>0.0</td>\n",
       "    </tr>\n",
       "    <tr>\n",
       "      <th>1</th>\n",
       "      <td>0.0</td>\n",
       "      <td>0.0</td>\n",
       "      <td>0.0</td>\n",
       "      <td>0.0</td>\n",
       "      <td>0.0</td>\n",
       "      <td>0.0</td>\n",
       "      <td>0.0</td>\n",
       "      <td>0.0</td>\n",
       "      <td>0.0</td>\n",
       "      <td>0.0</td>\n",
       "      <td>...</td>\n",
       "      <td>0.0</td>\n",
       "      <td>0.0</td>\n",
       "      <td>0.0</td>\n",
       "      <td>0.0</td>\n",
       "      <td>0.0</td>\n",
       "      <td>0.0</td>\n",
       "      <td>0.0</td>\n",
       "      <td>0.0</td>\n",
       "      <td>0.0</td>\n",
       "      <td>0.0</td>\n",
       "    </tr>\n",
       "    <tr>\n",
       "      <th>2</th>\n",
       "      <td>0.0</td>\n",
       "      <td>0.0</td>\n",
       "      <td>0.0</td>\n",
       "      <td>0.0</td>\n",
       "      <td>0.0</td>\n",
       "      <td>0.0</td>\n",
       "      <td>0.0</td>\n",
       "      <td>0.0</td>\n",
       "      <td>0.0</td>\n",
       "      <td>0.0</td>\n",
       "      <td>...</td>\n",
       "      <td>0.0</td>\n",
       "      <td>0.0</td>\n",
       "      <td>0.0</td>\n",
       "      <td>0.0</td>\n",
       "      <td>0.0</td>\n",
       "      <td>0.0</td>\n",
       "      <td>0.0</td>\n",
       "      <td>0.0</td>\n",
       "      <td>0.0</td>\n",
       "      <td>0.0</td>\n",
       "    </tr>\n",
       "    <tr>\n",
       "      <th>3</th>\n",
       "      <td>0.0</td>\n",
       "      <td>0.0</td>\n",
       "      <td>0.0</td>\n",
       "      <td>0.0</td>\n",
       "      <td>0.0</td>\n",
       "      <td>0.0</td>\n",
       "      <td>0.0</td>\n",
       "      <td>0.0</td>\n",
       "      <td>0.0</td>\n",
       "      <td>0.0</td>\n",
       "      <td>...</td>\n",
       "      <td>0.0</td>\n",
       "      <td>0.0</td>\n",
       "      <td>0.0</td>\n",
       "      <td>0.0</td>\n",
       "      <td>0.0</td>\n",
       "      <td>0.0</td>\n",
       "      <td>0.0</td>\n",
       "      <td>0.0</td>\n",
       "      <td>0.0</td>\n",
       "      <td>0.0</td>\n",
       "    </tr>\n",
       "    <tr>\n",
       "      <th>4</th>\n",
       "      <td>0.0</td>\n",
       "      <td>0.0</td>\n",
       "      <td>0.0</td>\n",
       "      <td>0.0</td>\n",
       "      <td>0.0</td>\n",
       "      <td>0.0</td>\n",
       "      <td>0.0</td>\n",
       "      <td>0.0</td>\n",
       "      <td>0.0</td>\n",
       "      <td>0.0</td>\n",
       "      <td>...</td>\n",
       "      <td>0.0</td>\n",
       "      <td>0.0</td>\n",
       "      <td>0.0</td>\n",
       "      <td>0.0</td>\n",
       "      <td>0.0</td>\n",
       "      <td>0.0</td>\n",
       "      <td>0.0</td>\n",
       "      <td>0.0</td>\n",
       "      <td>0.0</td>\n",
       "      <td>0.0</td>\n",
       "    </tr>\n",
       "  </tbody>\n",
       "</table>\n",
       "<p>5 rows × 10000 columns</p>\n",
       "</div>"
      ],
      "text/plain": [
       "   abil  abil induc  abl  abl cancel  abl eat  abl find  abl get  abl give  \\\n",
       "0   0.0         0.0  0.0         0.0      0.0       0.0      0.0       0.0   \n",
       "1   0.0         0.0  0.0         0.0      0.0       0.0      0.0       0.0   \n",
       "2   0.0         0.0  0.0         0.0      0.0       0.0      0.0       0.0   \n",
       "3   0.0         0.0  0.0         0.0      0.0       0.0      0.0       0.0   \n",
       "4   0.0         0.0  0.0         0.0      0.0       0.0      0.0       0.0   \n",
       "\n",
       "   abl locat  absolut  ...  zico bottl  zico sale  zinc  zinc sulfat  zip  \\\n",
       "0        0.0      0.0  ...         0.0        0.0   0.0          0.0  0.0   \n",
       "1        0.0      0.0  ...         0.0        0.0   0.0          0.0  0.0   \n",
       "2        0.0      0.0  ...         0.0        0.0   0.0          0.0  0.0   \n",
       "3        0.0      0.0  ...         0.0        0.0   0.0          0.0  0.0   \n",
       "4        0.0      0.0  ...         0.0        0.0   0.0          0.0  0.0   \n",
       "\n",
       "   zip lock  ziploc  ziplock  zombi  zuke  \n",
       "0       0.0     0.0      0.0    0.0   0.0  \n",
       "1       0.0     0.0      0.0    0.0   0.0  \n",
       "2       0.0     0.0      0.0    0.0   0.0  \n",
       "3       0.0     0.0      0.0    0.0   0.0  \n",
       "4       0.0     0.0      0.0    0.0   0.0  \n",
       "\n",
       "[5 rows x 10000 columns]"
      ]
     },
     "execution_count": 145,
     "metadata": {},
     "output_type": "execute_result"
    }
   ],
   "source": [
    "%%time\n",
    "temp_X = TfidfVectorizer(ngram_range=(1, 2), max_features=10000).fit(processed_df['Text'])\n",
    "X = temp_X.transform(processed_df['Text'])\n",
    "\n",
    "reviews_transformed = pd.DataFrame(X.toarray(), columns=temp_X.get_feature_names())\n",
    "reviews_transformed.head()"
   ]
  },
  {
   "cell_type": "markdown",
   "id": "ceaf264c",
   "metadata": {},
   "source": [
    "Every row represents a review and each value in a column is the relative importance of that word in the review."
   ]
  },
  {
   "cell_type": "markdown",
   "id": "928369dd",
   "metadata": {
    "heading_collapsed": true
   },
   "source": [
    "##### Bag of words"
   ]
  },
  {
   "cell_type": "code",
   "execution_count": 27,
   "id": "525a4ad9",
   "metadata": {
    "ExecuteTime": {
     "end_time": "2022-03-27T20:12:18.632303Z",
     "start_time": "2022-03-27T20:12:17.038546Z"
    },
    "hidden": true
   },
   "outputs": [],
   "source": [
    "from sklearn.feature_extraction.text import CountVectorizer\n",
    "\n",
    "temp_X = CountVectorizer(max_features=1000).fit(processed_df['Text'])\n",
    "X = temp_X.transform(processed_df['Text'])"
   ]
  },
  {
   "cell_type": "code",
   "execution_count": 23,
   "id": "3343e2ce",
   "metadata": {
    "ExecuteTime": {
     "end_time": "2022-03-27T20:11:45.094618Z",
     "start_time": "2022-03-27T20:11:44.765499Z"
    },
    "hidden": true
   },
   "outputs": [
    {
     "data": {
      "text/html": [
       "<div>\n",
       "<style scoped>\n",
       "    .dataframe tbody tr th:only-of-type {\n",
       "        vertical-align: middle;\n",
       "    }\n",
       "\n",
       "    .dataframe tbody tr th {\n",
       "        vertical-align: top;\n",
       "    }\n",
       "\n",
       "    .dataframe thead th {\n",
       "        text-align: right;\n",
       "    }\n",
       "</style>\n",
       "<table border=\"1\" class=\"dataframe\">\n",
       "  <thead>\n",
       "    <tr style=\"text-align: right;\">\n",
       "      <th></th>\n",
       "      <th>aa</th>\n",
       "      <th>aafco</th>\n",
       "      <th>ab</th>\n",
       "      <th>aback</th>\n",
       "      <th>abandon</th>\n",
       "      <th>abc</th>\n",
       "      <th>abdomin</th>\n",
       "      <th>aberr</th>\n",
       "      <th>abhor</th>\n",
       "      <th>abil</th>\n",
       "      <th>...</th>\n",
       "      <th>ziti</th>\n",
       "      <th>ziwi</th>\n",
       "      <th>ziwipeak</th>\n",
       "      <th>zoe</th>\n",
       "      <th>zombi</th>\n",
       "      <th>zone</th>\n",
       "      <th>zoom</th>\n",
       "      <th>zp</th>\n",
       "      <th>zucchini</th>\n",
       "      <th>zuke</th>\n",
       "    </tr>\n",
       "  </thead>\n",
       "  <tbody>\n",
       "    <tr>\n",
       "      <th>0</th>\n",
       "      <td>0</td>\n",
       "      <td>0</td>\n",
       "      <td>0</td>\n",
       "      <td>0</td>\n",
       "      <td>0</td>\n",
       "      <td>0</td>\n",
       "      <td>0</td>\n",
       "      <td>0</td>\n",
       "      <td>0</td>\n",
       "      <td>0</td>\n",
       "      <td>...</td>\n",
       "      <td>0</td>\n",
       "      <td>0</td>\n",
       "      <td>0</td>\n",
       "      <td>0</td>\n",
       "      <td>0</td>\n",
       "      <td>0</td>\n",
       "      <td>0</td>\n",
       "      <td>0</td>\n",
       "      <td>0</td>\n",
       "      <td>0</td>\n",
       "    </tr>\n",
       "    <tr>\n",
       "      <th>1</th>\n",
       "      <td>0</td>\n",
       "      <td>0</td>\n",
       "      <td>0</td>\n",
       "      <td>0</td>\n",
       "      <td>0</td>\n",
       "      <td>0</td>\n",
       "      <td>0</td>\n",
       "      <td>0</td>\n",
       "      <td>0</td>\n",
       "      <td>0</td>\n",
       "      <td>...</td>\n",
       "      <td>0</td>\n",
       "      <td>0</td>\n",
       "      <td>0</td>\n",
       "      <td>0</td>\n",
       "      <td>0</td>\n",
       "      <td>0</td>\n",
       "      <td>0</td>\n",
       "      <td>0</td>\n",
       "      <td>0</td>\n",
       "      <td>0</td>\n",
       "    </tr>\n",
       "    <tr>\n",
       "      <th>2</th>\n",
       "      <td>0</td>\n",
       "      <td>0</td>\n",
       "      <td>0</td>\n",
       "      <td>0</td>\n",
       "      <td>0</td>\n",
       "      <td>0</td>\n",
       "      <td>0</td>\n",
       "      <td>0</td>\n",
       "      <td>0</td>\n",
       "      <td>0</td>\n",
       "      <td>...</td>\n",
       "      <td>0</td>\n",
       "      <td>0</td>\n",
       "      <td>0</td>\n",
       "      <td>0</td>\n",
       "      <td>0</td>\n",
       "      <td>0</td>\n",
       "      <td>0</td>\n",
       "      <td>0</td>\n",
       "      <td>0</td>\n",
       "      <td>0</td>\n",
       "    </tr>\n",
       "    <tr>\n",
       "      <th>3</th>\n",
       "      <td>0</td>\n",
       "      <td>0</td>\n",
       "      <td>0</td>\n",
       "      <td>0</td>\n",
       "      <td>0</td>\n",
       "      <td>0</td>\n",
       "      <td>0</td>\n",
       "      <td>0</td>\n",
       "      <td>0</td>\n",
       "      <td>0</td>\n",
       "      <td>...</td>\n",
       "      <td>0</td>\n",
       "      <td>0</td>\n",
       "      <td>0</td>\n",
       "      <td>0</td>\n",
       "      <td>0</td>\n",
       "      <td>0</td>\n",
       "      <td>0</td>\n",
       "      <td>0</td>\n",
       "      <td>0</td>\n",
       "      <td>0</td>\n",
       "    </tr>\n",
       "    <tr>\n",
       "      <th>4</th>\n",
       "      <td>0</td>\n",
       "      <td>0</td>\n",
       "      <td>0</td>\n",
       "      <td>0</td>\n",
       "      <td>0</td>\n",
       "      <td>0</td>\n",
       "      <td>0</td>\n",
       "      <td>0</td>\n",
       "      <td>0</td>\n",
       "      <td>0</td>\n",
       "      <td>...</td>\n",
       "      <td>0</td>\n",
       "      <td>0</td>\n",
       "      <td>0</td>\n",
       "      <td>0</td>\n",
       "      <td>0</td>\n",
       "      <td>0</td>\n",
       "      <td>0</td>\n",
       "      <td>0</td>\n",
       "      <td>0</td>\n",
       "      <td>0</td>\n",
       "    </tr>\n",
       "  </tbody>\n",
       "</table>\n",
       "<p>5 rows × 10000 columns</p>\n",
       "</div>"
      ],
      "text/plain": [
       "   aa  aafco  ab  aback  abandon  abc  abdomin  aberr  abhor  abil  ...  ziti  \\\n",
       "0   0      0   0      0        0    0        0      0      0     0  ...     0   \n",
       "1   0      0   0      0        0    0        0      0      0     0  ...     0   \n",
       "2   0      0   0      0        0    0        0      0      0     0  ...     0   \n",
       "3   0      0   0      0        0    0        0      0      0     0  ...     0   \n",
       "4   0      0   0      0        0    0        0      0      0     0  ...     0   \n",
       "\n",
       "   ziwi  ziwipeak  zoe  zombi  zone  zoom  zp  zucchini  zuke  \n",
       "0     0         0    0      0     0     0   0         0     0  \n",
       "1     0         0    0      0     0     0   0         0     0  \n",
       "2     0         0    0      0     0     0   0         0     0  \n",
       "3     0         0    0      0     0     0   0         0     0  \n",
       "4     0         0    0      0     0     0   0         0     0  \n",
       "\n",
       "[5 rows x 10000 columns]"
      ]
     },
     "execution_count": 23,
     "metadata": {},
     "output_type": "execute_result"
    }
   ],
   "source": [
    "reviews_transformed = pd.DataFrame(X.toarray(), columns=temp_X.get_feature_names())\n",
    "reviews_transformed.head()"
   ]
  },
  {
   "cell_type": "code",
   "execution_count": 120,
   "id": "7122369c",
   "metadata": {
    "ExecuteTime": {
     "end_time": "2022-03-13T07:49:25.157551Z",
     "start_time": "2022-03-13T07:49:25.139600Z"
    },
    "hidden": true
   },
   "outputs": [
    {
     "data": {
      "text/plain": [
       "'Purchased 3, 24-count boxes of Dark Magic based on the reviews; in my search for a palatable replacement for Starbucks Verona.  ....Yuck!<br /><br />Quick background... bought a Tassimo a year ago in hopes of discovering that near-perfect cup of coffee.  Soon after the purchase, finding that Perfection in \"Starbucks Verona\".  Wonderfully Bold and Strong, but oh-so-smooth!<br /><br />Three months ago, I bought a 3-month supply of Starbucks Verona (not cheap), and then a week ago... to my dismay!!!  I find that Tassimo (Kraft) and Starbucks have parted ways... like a couple of Hot-Tempered, Irresponsible Children... with absolutely no regard to their Loyal Customers... dissolve their relationship and quit shipping the \"Starbucks Verona\" ...... AAAAAAARRRRRGGGHHH !!!!!!!!!!<br /><br />Back to this Dark Magic crap.... Strong... but very acidic, bitter and this very unfavorable \"flavor\\' sticks with you in the form of a lingering aftertaste!<br /><br />Those of you who thought that this was actually a \"good coffee\"... you really need to... well, find some good coffee to make a comparison!<br /><br />I mean... who samples and then actually approves this stuff for production????  It\\'s Nasty !!!!'"
      ]
     },
     "execution_count": 120,
     "metadata": {},
     "output_type": "execute_result"
    }
   ],
   "source": [
    "df.loc[reviews_transformed['aaaaaaarrrrrggghhh'].argmax(), 'Text']"
   ]
  },
  {
   "cell_type": "markdown",
   "id": "bb2a9f59",
   "metadata": {},
   "source": [
    "### Model"
   ]
  },
  {
   "cell_type": "code",
   "execution_count": 146,
   "id": "d23ce57e",
   "metadata": {
    "ExecuteTime": {
     "end_time": "2022-04-04T00:58:36.345699Z",
     "start_time": "2022-04-04T00:58:36.224238Z"
    }
   },
   "outputs": [],
   "source": [
    "X_train, X_test, y_train, y_test = train_test_split(X, processed_df['Score'], test_size=0.2, random_state=456)"
   ]
  },
  {
   "cell_type": "code",
   "execution_count": 148,
   "id": "bdb9122d",
   "metadata": {
    "ExecuteTime": {
     "end_time": "2022-04-04T01:02:02.439752Z",
     "start_time": "2022-04-04T01:00:19.871089Z"
    }
   },
   "outputs": [
    {
     "name": "stdout",
     "output_type": "stream",
     "text": [
      "Accuracy: 84.63%\n",
      "Wall time: 1min 42s\n"
     ]
    }
   ],
   "source": [
    "%%time\n",
    "log_reg = LogisticRegression(max_iter=500).fit(X_train, y_train)\n",
    "y_pred = log_reg.predict(X_train)\n",
    "score = accuracy_score(y_train,y_pred)\n",
    "\n",
    "print('Accuracy: {}%'.format(round(score*100,2)))"
   ]
  },
  {
   "cell_type": "code",
   "execution_count": 147,
   "id": "29d007cc",
   "metadata": {
    "ExecuteTime": {
     "end_time": "2022-04-04T01:00:12.956845Z",
     "start_time": "2022-04-04T00:58:38.360997Z"
    }
   },
   "outputs": [
    {
     "name": "stdout",
     "output_type": "stream",
     "text": [
      "Accuracy: 83.16%\n",
      "Wall time: 1min 34s\n"
     ]
    }
   ],
   "source": [
    "%%time\n",
    "log_reg = LogisticRegression(max_iter=500).fit(X_train, y_train)\n",
    "y_pred = log_reg.predict(X_test)\n",
    "score = accuracy_score(y_test,y_pred)\n",
    "\n",
    "print('Accuracy: {}%'.format(round(score*100,2)))"
   ]
  },
  {
   "cell_type": "code",
   "execution_count": 87,
   "id": "9c23bce5",
   "metadata": {
    "ExecuteTime": {
     "end_time": "2022-03-27T20:38:13.414923Z",
     "start_time": "2022-03-27T20:38:13.085541Z"
    }
   },
   "outputs": [
    {
     "data": {
      "image/png": "[encoded data removed]",
      "text/plain": [
       "<Figure size 1080x360 with 4 Axes>"
      ]
     },
     "metadata": {
      "needs_background": "light"
     },
     "output_type": "display_data"
    }
   ],
   "source": [
    "confusion = confusion_matrix(y_test, y_pred)\n",
    "\n",
    "fig, axes = plt.subplots(1, 2, figsize=(15, 5))\n",
    "fig.suptitle('Confusion Matrix')\n",
    "categories = ['Bad', 'Neutral', 'Good']\n",
    "sns.heatmap(ax=axes[0], data=confusion, annot=True, fmt='g', cmap='Blues', xticklabels=categories, yticklabels=categories)\n",
    "sns.heatmap(ax=axes[1], data=confusion/np.sum(confusion, axis=0), annot=True, fmt='.2%', cmap='Blues', xticklabels=categories, yticklabels=categories)\n",
    "plt.show()"
   ]
  },
  {
   "cell_type": "code",
   "execution_count": 69,
   "id": "3ed0f521",
   "metadata": {
    "ExecuteTime": {
     "end_time": "2022-03-27T20:32:30.574953Z",
     "start_time": "2022-03-27T20:32:30.514862Z"
    }
   },
   "outputs": [
    {
     "name": "stdout",
     "output_type": "stream",
     "text": [
      "Naive Bayes Accuracy Score ->  68.68333333333332\n",
      "Wall time: 43.9 ms\n"
     ]
    }
   ],
   "source": [
    "%%time\n",
    "# fit the training dataset on the NB classifier\n",
    "Naive = naive_bayes.MultinomialNB()\n",
    "Naive.fit(X_train,y_train)\n",
    "\n",
    "# predict the labels on validation dataset\n",
    "y_pred = Naive.predict(X_test)\n",
    "\n",
    "# Use accuracy_score function to get the accuracy\n",
    "print(\"Naive Bayes Accuracy Score -> \",accuracy_score(y_pred, y_test)*100)"
   ]
  },
  {
   "cell_type": "code",
   "execution_count": 58,
   "id": "f59e544c",
   "metadata": {
    "ExecuteTime": {
     "end_time": "2022-03-27T20:26:18.735438Z",
     "start_time": "2022-03-27T20:26:18.467968Z"
    }
   },
   "outputs": [
    {
     "data": {
      "image/png": "[encoded data removed]",
      "text/plain": [
       "<Figure size 1080x360 with 4 Axes>"
      ]
     },
     "metadata": {
      "needs_background": "light"
     },
     "output_type": "display_data"
    }
   ],
   "source": [
    "confusion = confusion_matrix(y_test, y_pred)\n",
    "\n",
    "fig, axes = plt.subplots(1, 2, figsize=(15, 5))\n",
    "fig.suptitle('Confusion Matrix')\n",
    "sns.heatmap(ax=axes[0], data=confusion, annot=True, fmt='g', cmap='Blues', xticklabels=categories, yticklabels=categories)\n",
    "sns.heatmap(ax=axes[1], data=confusion/np.sum(confusion, axis=0), annot=True, fmt='.2%', cmap='Blues', xticklabels=categories, yticklabels=categories)\n",
    "plt.show()"
   ]
  },
  {
   "cell_type": "code",
   "execution_count": 154,
   "id": "ad5a7bea",
   "metadata": {
    "ExecuteTime": {
     "end_time": "2022-03-11T04:06:44.407537Z",
     "start_time": "2022-03-11T04:05:29.656961Z"
    }
   },
   "outputs": [
    {
     "name": "stdout",
     "output_type": "stream",
     "text": [
      "SVM Accuracy Score ->  58.699999999999996\n",
      "Wall time: 1min 14s\n"
     ]
    }
   ],
   "source": [
    "%%time\n",
    "# fit the training dataset on the classifier\n",
    "SVM = svm.SVC(C=1.0, kernel='linear', degree=3, gamma='auto')\n",
    "SVM.fit(X_train, y_train)\n",
    "# predict the labels on validation dataset\n",
    "y_pred = SVM.predict(X_test)\n",
    "# Use accuracy_score function to get the accuracy\n",
    "print(\"SVM Accuracy Score -> \",accuracy_score(y_pred, y_test)*100)"
   ]
  },
  {
   "cell_type": "code",
   "execution_count": 157,
   "id": "ec33da19",
   "metadata": {
    "ExecuteTime": {
     "end_time": "2022-03-11T04:07:15.609493Z",
     "start_time": "2022-03-11T04:07:15.379433Z"
    }
   },
   "outputs": [
    {
     "data": {
      "image/png": "[encoded data removed]",
      "text/plain": [
       "<Figure size 1080x360 with 4 Axes>"
      ]
     },
     "metadata": {
      "needs_background": "light"
     },
     "output_type": "display_data"
    }
   ],
   "source": [
    "confusion = confusion_matrix(y_test, y_pred)\n",
    "\n",
    "fig, axes = plt.subplots(1, 2, figsize=(15, 5))\n",
    "fig.suptitle('Confusion Matrix')\n",
    "sns.heatmap(ax=axes[0], data=confusion, annot=True, fmt='g', cmap='Blues', xticklabels=categories, yticklabels=categories)\n",
    "sns.heatmap(ax=axes[1], data=confusion/np.sum(confusion, axis=0), annot=True, fmt='.2%', cmap='Blues', xticklabels=categories, yticklabels=categories)\n",
    "plt.show()"
   ]
  },
  {
   "cell_type": "markdown",
   "id": "7cfa2d7e",
   "metadata": {},
   "source": [
    "### Post model analysis"
   ]
  },
  {
   "cell_type": "code",
   "execution_count": 60,
   "id": "a0c3b96b",
   "metadata": {
    "ExecuteTime": {
     "end_time": "2022-03-27T20:26:42.092541Z",
     "start_time": "2022-03-27T20:26:32.229533Z"
    }
   },
   "outputs": [],
   "source": [
    "true_values = list(y_test)\n",
    "pred_values = y_pred\n",
    "\n",
    "df_check = pd.DataFrame(columns=['review index', 'text', 'true label', 'pred label'])\n",
    "for i, j in zip(y_test.index, range(len(y_test))):\n",
    "    df_check.loc[len(df_check.index)] = [i, df.loc[i, 'Text'], true_values[j], pred_values[j]] "
   ]
  },
  {
   "cell_type": "code",
   "execution_count": 62,
   "id": "fb4c53cf",
   "metadata": {
    "ExecuteTime": {
     "end_time": "2022-03-27T20:26:42.438969Z",
     "start_time": "2022-03-27T20:26:42.426180Z"
    },
    "scrolled": false
   },
   "outputs": [
    {
     "data": {
      "text/html": [
       "<div>\n",
       "<style scoped>\n",
       "    .dataframe tbody tr th:only-of-type {\n",
       "        vertical-align: middle;\n",
       "    }\n",
       "\n",
       "    .dataframe tbody tr th {\n",
       "        vertical-align: top;\n",
       "    }\n",
       "\n",
       "    .dataframe thead th {\n",
       "        text-align: right;\n",
       "    }\n",
       "</style>\n",
       "<table border=\"1\" class=\"dataframe\">\n",
       "  <thead>\n",
       "    <tr style=\"text-align: right;\">\n",
       "      <th></th>\n",
       "      <th>review index</th>\n",
       "      <th>text</th>\n",
       "      <th>true label</th>\n",
       "      <th>pred label</th>\n",
       "    </tr>\n",
       "  </thead>\n",
       "  <tbody>\n",
       "    <tr>\n",
       "      <th>0</th>\n",
       "      <td>6365</td>\n",
       "      <td>I bought these because my brother LOVES them and they stopped selling them at our Costco.  So, since they were a gift, it was important that at least look okay... they looked terrible!  I understand that they were shipped, but the chocolate was cracked in places and chunks of it had stuck to the container.  Ah, well... I'm sure he'll still be excited because he likes them so much, but still pretty disappointing since I paid over twice what they used to cost at Costco.</td>\n",
       "      <td>Bad</td>\n",
       "      <td>Bad</td>\n",
       "    </tr>\n",
       "    <tr>\n",
       "      <th>1</th>\n",
       "      <td>2873</td>\n",
       "      <td>eating these was sort of like eating a salted air bubble.  It was great for snacking because it takes a while to eat one package but they really tasted like salty air.  I am not sure I really liked them at all.</td>\n",
       "      <td>Bad</td>\n",
       "      <td>Bad</td>\n",
       "    </tr>\n",
       "    <tr>\n",
       "      <th>2</th>\n",
       "      <td>11519</td>\n",
       "      <td>To start with, I'll be upfront about a few things:&lt;br /&gt;&lt;br /&gt;A) I got this coffee free to try through the Amazon Vine program.&lt;br /&gt;&lt;br /&gt;B) I don't have a pod coffee maker, so I ripped open several bags and put the grounds in a normal filter, making a full 10 cup pot at a time.&lt;br /&gt;&lt;br /&gt;This said, I'm not in much of a position to assess the pod concept as I didn't use them this way.&lt;br /&gt;&lt;br /&gt;As far as the coffee itself.  Its fair, but not great.  Like other reviewers have mentioned its pretty weak stuff.  The taste kinda reminds me of a smoother McDonalds coffee.  Not bold by any means, but certainly drinkable if you're open to that kind of thing.&lt;br /&gt;&lt;br /&gt;I prefer a stronger flavor, so I won't be buying it again.</td>\n",
       "      <td>Neutral</td>\n",
       "      <td>Neutral</td>\n",
       "    </tr>\n",
       "    <tr>\n",
       "      <th>3</th>\n",
       "      <td>28330</td>\n",
       "      <td>NOT DISAPPOINTED WITH THIS PRODUCT!  I really love this cereal!  I have IBD and corn is more easily digested than wheat in my case.  This is far superior to plain ole' corn flakes!  Thanks, Amazon, for making it available.</td>\n",
       "      <td>Good</td>\n",
       "      <td>Bad</td>\n",
       "    </tr>\n",
       "    <tr>\n",
       "      <th>4</th>\n",
       "      <td>8080</td>\n",
       "      <td>I guess I should have looked around more, I was expecting them in a tub. Instead they were in 3 baggies with sticky ties and it made me feel a bit uneasy.... I was thinking:  who packaged these, where were these packaged and why don't I have any product information included?&lt;br /&gt;I don't believe the price was any better than what I could of found in a local candy store or drugstore.  I've purchased more product for less money before.  The Christmas tree shop in Wiliston, VT sells a 4 lb. tub for $5.99  but since I just moved to FL... my local knowledge of stores is limited.&lt;br /&gt;&lt;br /&gt;I bought these for a specific reason, I am attending a memorial service for a dear relative (who loved these) and I was planning on bringing them and putting them in dishes for those attending the service, instead because of the small size of them (I've seen larger ones) and because they have too much sugar on them, I will be keeping them at home and buying others somewhere else.</td>\n",
       "      <td>Bad</td>\n",
       "      <td>Neutral</td>\n",
       "    </tr>\n",
       "  </tbody>\n",
       "</table>\n",
       "</div>"
      ],
      "text/plain": [
       "  review index  \\\n",
       "0         6365   \n",
       "1         2873   \n",
       "2        11519   \n",
       "3        28330   \n",
       "4         8080   \n",
       "\n",
       "                                                                                                                                                                                                                                                                                                                                                                                                                                                                                                                                                                                                                                                                                                                                                                                                                                                                                                                                                                                                             text  \\\n",
       "0                                                                                                                                                                                                                                                                                                                                                                                                                                                                                                                        I bought these because my brother LOVES them and they stopped selling them at our Costco.  So, since they were a gift, it was important that at least look okay... they looked terrible!  I understand that they were shipped, but the chocolate was cracked in places and chunks of it had stuck to the container.  Ah, well... I'm sure he'll still be excited because he likes them so much, but still pretty disappointing since I paid over twice what they used to cost at Costco.   \n",
       "1                                                                                                                                                                                                                                                                                                                                                                                                                                                                                                                                                                                                                                                                                                                                                                                              eating these was sort of like eating a salted air bubble.  It was great for snacking because it takes a while to eat one package but they really tasted like salty air.  I am not sure I really liked them at all.   \n",
       "2                                                                                                                                                                                                                                                     To start with, I'll be upfront about a few things:<br /><br />A) I got this coffee free to try through the Amazon Vine program.<br /><br />B) I don't have a pod coffee maker, so I ripped open several bags and put the grounds in a normal filter, making a full 10 cup pot at a time.<br /><br />This said, I'm not in much of a position to assess the pod concept as I didn't use them this way.<br /><br />As far as the coffee itself.  Its fair, but not great.  Like other reviewers have mentioned its pretty weak stuff.  The taste kinda reminds me of a smoother McDonalds coffee.  Not bold by any means, but certainly drinkable if you're open to that kind of thing.<br /><br />I prefer a stronger flavor, so I won't be buying it again.   \n",
       "3                                                                                                                                                                                                                                                                                                                                                                                                                                                                                                                                                                                                                                                                                                                                                                                  NOT DISAPPOINTED WITH THIS PRODUCT!  I really love this cereal!  I have IBD and corn is more easily digested than wheat in my case.  This is far superior to plain ole' corn flakes!  Thanks, Amazon, for making it available.   \n",
       "4  I guess I should have looked around more, I was expecting them in a tub. Instead they were in 3 baggies with sticky ties and it made me feel a bit uneasy.... I was thinking:  who packaged these, where were these packaged and why don't I have any product information included?<br />I don't believe the price was any better than what I could of found in a local candy store or drugstore.  I've purchased more product for less money before.  The Christmas tree shop in Wiliston, VT sells a 4 lb. tub for $5.99  but since I just moved to FL... my local knowledge of stores is limited.<br /><br />I bought these for a specific reason, I am attending a memorial service for a dear relative (who loved these) and I was planning on bringing them and putting them in dishes for those attending the service, instead because of the small size of them (I've seen larger ones) and because they have too much sugar on them, I will be keeping them at home and buying others somewhere else.   \n",
       "\n",
       "  true label pred label  \n",
       "0        Bad        Bad  \n",
       "1        Bad        Bad  \n",
       "2    Neutral    Neutral  \n",
       "3       Good        Bad  \n",
       "4        Bad    Neutral  "
      ]
     },
     "execution_count": 62,
     "metadata": {},
     "output_type": "execute_result"
    }
   ],
   "source": [
    "df_check.head(5)"
   ]
  },
  {
   "cell_type": "code",
   "execution_count": 63,
   "id": "4b5651b6",
   "metadata": {
    "ExecuteTime": {
     "end_time": "2022-03-27T20:26:42.609510Z",
     "start_time": "2022-03-27T20:26:42.595547Z"
    }
   },
   "outputs": [
    {
     "data": {
      "text/plain": [
       "'not disappoint product realli love cereal ibd corn easili digest wheat case far superior plain ole corn flake thank amazon make avail'"
      ]
     },
     "execution_count": 63,
     "metadata": {},
     "output_type": "execute_result"
    }
   ],
   "source": [
    "processed_df.loc[28330, 'Text']"
   ]
  },
  {
   "cell_type": "markdown",
   "id": "33bd6ca8",
   "metadata": {},
   "source": [
    "Here we can see some examples of incorrect classifications by the model. Many of these contain positive words such as loved or great but they are referring to other past products and some even use sarcasm (which uses very positive words to describe negative experiences). \n",
    "\n",
    "A potential improvement for the model would be to add 2-gram combinations which would allow the model to identify \"Not disappointed\" as something positive instead of separating \"not\" and \"disappointed\", leading to the wrong conclusion."
   ]
  },
  {
   "cell_type": "code",
   "execution_count": 201,
   "id": "73dc7c1a",
   "metadata": {
    "ExecuteTime": {
     "end_time": "2022-03-11T04:26:03.270273Z",
     "start_time": "2022-03-11T04:26:03.254316Z"
    }
   },
   "outputs": [],
   "source": [
    "#df_check[df_check['true label'] == df_check['pred label']]"
   ]
  },
  {
   "cell_type": "markdown",
   "id": "7d26c56e",
   "metadata": {},
   "source": [
    "### Comments\n",
    "* I removed all 'br' (html break)\n",
    "* Add example of before preprocessing and after \n",
    "\n",
    "### To do \n",
    "* Do pegasus (with 2 classes)\n",
    "* Run Logistic regression with increasing amount of features and plot the accuracy (to see when it plateaus)\n",
    "* Bootstrapping the neutral class? Is it okay to go from 100k to 400k? Talk to teacher.\n",
    "* Use dictionary with predefined word values (sentiment dictionary methods for product reviews)"
   ]
  },
  {
   "cell_type": "code",
   "execution_count": null,
   "id": "a5365225",
   "metadata": {},
   "outputs": [],
   "source": []
  }
 ],
 "metadata": {
  "kernelspec": {
   "display_name": "Python 3 (ipykernel)",
   "language": "python",
   "name": "python3"
  },
  "language_info": {
   "codemirror_mode": {
    "name": "ipython",
    "version": 3
   },
   "file_extension": ".py",
   "mimetype": "text/x-python",
   "name": "python",
   "nbconvert_exporter": "python",
   "pygments_lexer": "ipython3",
   "version": "3.9.7"
  },
  "toc": {
   "base_numbering": 1,
   "nav_menu": {},
   "number_sections": false,
   "sideBar": true,
   "skip_h1_title": false,
   "title_cell": "Table of Contents",
   "title_sidebar": "Contents",
   "toc_cell": false,
   "toc_position": {
    "height": "calc(100% - 180px)",
    "left": "10px",
    "top": "150px",
    "width": "384px"
   },
   "toc_section_display": true,
   "toc_window_display": false
  },
  "varInspector": {
   "cols": {
    "lenName": 16,
    "lenType": 16,
    "lenVar": 40
   },
   "kernels_config": {
    "python": {
     "delete_cmd_postfix": "",
     "delete_cmd_prefix": "del ",
     "library": "var_list.py",
     "varRefreshCmd": "print(var_dic_list())"
    },
    "r": {
     "delete_cmd_postfix": ") ",
     "delete_cmd_prefix": "rm(",
     "library": "var_list.r",
     "varRefreshCmd": "cat(var_dic_list()) "
    }
   },
   "oldHeight": 426.846364,
   "position": {
    "height": "40px",
    "left": "1374.45px",
    "right": "20px",
    "top": "120px",
    "width": "350px"
   },
   "types_to_exclude": [
    "module",
    "function",
    "builtin_function_or_method",
    "instance",
    "_Feature"
   ],
   "varInspector_section_display": "none",
   "window_display": true
  }
 },
 "nbformat": 4,
 "nbformat_minor": 5
}
