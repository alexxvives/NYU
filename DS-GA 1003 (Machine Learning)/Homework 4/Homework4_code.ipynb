{
 "cells": [
  {
   "cell_type": "markdown",
   "id": "0265c156",
   "metadata": {},
   "source": [
    "# Homework 4"
   ]
  },
  {
   "cell_type": "markdown",
   "id": "91eeda97",
   "metadata": {
    "ExecuteTime": {
     "end_time": "2022-03-21T20:45:30.662874Z",
     "start_time": "2022-03-21T20:45:30.647913Z"
    }
   },
   "source": [
    "### Import libraries"
   ]
  },
  {
   "cell_type": "code",
   "execution_count": 3,
   "id": "609f8f81",
   "metadata": {
    "ExecuteTime": {
     "end_time": "2022-03-24T00:37:51.738740Z",
     "start_time": "2022-03-24T00:37:50.682752Z"
    }
   },
   "outputs": [],
   "source": [
    "import numpy as np\n",
    "import pandas as pd\n",
    "import matplotlib.pyplot as plt\n",
    "import seaborn as sns\n",
    "\n",
    "\n",
    "from sklearn.preprocessing import StandardScaler\n",
    "from scipy.optimize import minimize\n",
    "from functools import partial"
   ]
  },
  {
   "cell_type": "markdown",
   "id": "720c980a",
   "metadata": {},
   "source": [
    "### Read data"
   ]
  },
  {
   "cell_type": "code",
   "execution_count": 4,
   "id": "6b0f2e48",
   "metadata": {
    "ExecuteTime": {
     "end_time": "2022-03-24T00:37:52.006210Z",
     "start_time": "2022-03-24T00:37:51.975893Z"
    }
   },
   "outputs": [],
   "source": [
    "X_train = pd.read_csv('X_train.txt', header=None)\n",
    "Y_train = pd.read_csv('Y_train.txt', header=None).to_numpy()\n",
    "X_val = pd.read_csv('X_val.txt', header=None)\n",
    "Y_val = pd.read_csv('Y_val.txt', header=None).to_numpy()"
   ]
  },
  {
   "cell_type": "markdown",
   "id": "91236ada",
   "metadata": {
    "ExecuteTime": {
     "end_time": "2022-03-21T19:27:02.097709Z",
     "start_time": "2022-03-21T19:27:02.089738Z"
    },
    "heading_collapsed": true
   },
   "source": [
    "### Question 1"
   ]
  },
  {
   "cell_type": "markdown",
   "id": "4c78acaf",
   "metadata": {
    "hidden": true
   },
   "source": [
    "**Show that the ERM with logistic loss and MLE with negative log-likelihood (NLL) are equivalent.**"
   ]
  },
  {
   "cell_type": "markdown",
   "id": "2fae377e",
   "metadata": {
    "ExecuteTime": {
     "end_time": "2022-03-21T19:30:35.129456Z",
     "start_time": "2022-03-21T19:30:35.105497Z"
    },
    "hidden": true
   },
   "source": [
    "Logistic loss function (ERM):\n",
    "\n",
    "$$\n",
    "L(\\theta) = \\frac{1}{n}\\sum\\limits^n_i log(1+e^{-y_i\\theta^Tx_i}) \\text{ where y }\\in \\{-1, 1\\}\n",
    "$$\n",
    "\n",
    "Negative log-likelihood (MLE):\n",
    "\n",
    "$$\n",
    "L(\\theta) = -\\frac{1}{n}\\sum\\limits^n_i y_i log(\\frac{1}{1+e^{-\\theta^Tx_i}}) + (1-y_i)log(1-\\frac{1}{1+e^{-\\theta^Tx_i}})\\text{ where y }\\in \\{0, 1\\}\n",
    "$$"
   ]
  },
  {
   "cell_type": "markdown",
   "id": "bcb2e721",
   "metadata": {
    "hidden": true
   },
   "source": [
    "Let's take a single example for both approaches.\n",
    "\n",
    "Case 1: $y_i = 1$ (ERM) and $y_i = 1$ (MLE)\n",
    "\n",
    "$$\n",
    "L(\\theta) = log(1+e^{-y_i\\theta^Tx_i}) = log(1+e^{-\\theta^Tx_i})\n",
    "$$\n",
    "\n",
    "$$\n",
    "L(\\theta) =  -y_i log(\\frac{1}{1+e^{-\\theta^Tx_i}}) - (1-y_i)log(1-\\frac{1}{1+e^{-\\theta^Tx_i}}) = -log(\\frac{1}{1+e^{-\\theta^Tx_i}}) = log(1+e^{-\\theta^Tx_i})\\\n",
    "$$"
   ]
  },
  {
   "cell_type": "markdown",
   "id": "63e2acb5",
   "metadata": {
    "hidden": true
   },
   "source": [
    "Case 1: $y_i = -1$ (ERM) and $y_i = 0$ (MLE)\n",
    "$$\n",
    "L(\\theta) = log(1+e^{-y_i\\theta^Tx_i}) = log(1+e^{\\theta^Tx_i})\n",
    "$$\n",
    "$$\n",
    "L(\\theta) =  -y_i log(\\frac{1}{1+e^{-\\theta^Tx_i}}) - (1-y_i)log(1-\\frac{1}{1+e^{-\\theta^Tx_i}}) = -log(1-\\frac{1}{1+e^{-\\theta^Tx_i}}) = -log(\\frac{e^{\\theta^Tx_i}}{e^{\\theta^Tx_i}}-\\frac{1}{1+e^{-\\theta^Tx_i}}) = log(1+e^{\\theta^Tx_i})\n",
    "$$"
   ]
  },
  {
   "cell_type": "markdown",
   "id": "68ef871b",
   "metadata": {
    "hidden": true
   },
   "source": [
    "For both cases, both approaches yield the same result."
   ]
  },
  {
   "cell_type": "markdown",
   "id": "c09a3b14",
   "metadata": {
    "ExecuteTime": {
     "end_time": "2022-03-21T19:27:10.698515Z",
     "start_time": "2022-03-21T19:27:10.686578Z"
    }
   },
   "source": [
    "### Question 2"
   ]
  },
  {
   "cell_type": "markdown",
   "id": "8a47fbb1",
   "metadata": {},
   "source": [
    "Show that the decision boundary of logistic regression is given by $x^Tw = 0$\n",
    "\n",
    "I will prove this in two parts, first I will show that the decision boundary is indeed $x^Tw$ and then I will show that it equals 0."
   ]
  },
  {
   "cell_type": "markdown",
   "id": "33973150",
   "metadata": {},
   "source": [
    "Starting on the log odds expression in slide 18 of the Conditional Models lecture:\n",
    "\n",
    "$$\n",
    "log\\big(\\frac{P(y=1|x)}{P(y=0|x)}\\big) = log\\big(\\frac{\\frac{1}{1+e^{-x^Tw}}}{1-\\frac{1}{1+e^{-x^Tw}}}\\big) = log\\big(\\frac{\\frac{1}{1+e^{-x^Tw}}}{\\frac{e^{-x^Tw}}{1+e^{-x^Tw}}}\\big) = log\\big(\\frac{1}{e^{-x^Tw}}\\big) = x^Tw\n",
    "$$"
   ]
  },
  {
   "cell_type": "markdown",
   "id": "20a349f8",
   "metadata": {},
   "source": [
    "Now, we know that by definition the decision boundary is where $P(y=1|x) = 0.5$ and $P(y=0|x) = 0.5$"
   ]
  },
  {
   "cell_type": "markdown",
   "id": "57804a81",
   "metadata": {},
   "source": [
    "$$\n",
    "P(y=1|x) = \\frac{1}{2} \\rightarrow \\frac{1}{1+e^{-x^Tw}} = \\frac{1}{2} \\rightarrow 1 = e^{-x^Tw} \\rightarrow log(1) = -x^Tw \\rightarrow x^Tw = 0\n",
    "$$\n",
    "\n",
    "$$\n",
    "P(y=0|x) = \\frac{1}{2} \\rightarrow 1-\\frac{1}{1+e^{-x^Tw}} = \\frac{1}{2} \\rightarrow 2e^{-x^Tw} = 1+e^{-x^Tw} \\rightarrow x^Tw = 0\n",
    "$$"
   ]
  },
  {
   "cell_type": "markdown",
   "id": "d3e15d54",
   "metadata": {},
   "source": [
    "Here we can see that for both possible cases, the decision boundary $x^Tw$ equals 0."
   ]
  },
  {
   "cell_type": "markdown",
   "id": "251f36d0",
   "metadata": {
    "ExecuteTime": {
     "end_time": "2022-03-21T19:27:14.115346Z",
     "start_time": "2022-03-21T19:27:14.099409Z"
    }
   },
   "source": [
    "### Question 3"
   ]
  },
  {
   "cell_type": "markdown",
   "id": "9ae374be",
   "metadata": {},
   "source": [
    "$$\n",
    "L(cw) = \\sum\\limits^n_{i=1} y_ilog(f(cw^Tx_i)) + (1-y_i)log(1-f(cw^Tx_i)) \\text{ where } y_i \\in 0,1\n",
    "$$\n",
    "$$\n",
    "L(cw) = \\sum\\limits^n_{i=1} y_ilog(\\frac{1}{1+e^{-cw^Tx_i}}) + (1-y_i)log(1-\\frac{1}{1+e^{-cw^Tx_i}})\n",
    "$$\n",
    "$$\n",
    "\\frac{\\partial L(cw)}{\\partial c\n",
    "} = \\sum\\limits^n_{i=1} y_i\\frac{e^{-cw^Tx_i}w^Tx_i}{1+e^{-cw^Tx_i}} - (1-y_i)\\frac{w^Tx_i}{1+e^{-cw^Tx_i}}\n",
    "$$"
   ]
  },
  {
   "cell_type": "markdown",
   "id": "778a7435",
   "metadata": {},
   "source": [
    "When $y_i = 1$:\n",
    "\n",
    "$$\n",
    "\\frac{\\partial L(cw)}{\\partial c\n",
    "} = \\frac{e^{-cw^Tx_i}w^Tx}{1+e^{-cw^Tx_i}}\n",
    "$$\n",
    "\n",
    "Since all of our predictions are correct, w^Tx is positive. Additionally, e^-cw^Tx is also positive and therefore the whole expression is positive."
   ]
  },
  {
   "cell_type": "markdown",
   "id": "48148dc6",
   "metadata": {},
   "source": [
    "When $y_i = 0$:\n",
    "\n",
    "$$\n",
    "\\frac{\\partial L(cw)}{\\partial c\n",
    "} = \\frac{-w^Tx_i}{1+e^{-cw^Tx_i}}\n",
    "$$\n",
    "\n",
    "Similarly, w^Tx is negative (due to all of our predictions being correct) and therefore this expression is also positive."
   ]
  },
  {
   "cell_type": "markdown",
   "id": "c777e7fe",
   "metadata": {},
   "source": [
    "In conclusion, it is clear that we can simply increase the likelihood by increasing the scalar $c$, thus this MLE is not well-defined."
   ]
  },
  {
   "cell_type": "markdown",
   "id": "23fa72f1",
   "metadata": {},
   "source": [
    "### Question 4"
   ]
  },
  {
   "cell_type": "markdown",
   "id": "7f44de3f",
   "metadata": {
    "ExecuteTime": {
     "end_time": "2022-03-24T00:36:00.368202Z",
     "start_time": "2022-03-24T00:36:00.352912Z"
    }
   },
   "source": [
    "Let's prove that $J(w)$ is convex.\n",
    "\n",
    "$$\n",
    "J(w) = \\frac{1}{n}\\sum\\limits^n_{i=1}log(1+e^{-y^{(i)}w^Tx^{(i)}}) + \\lambda||w||^2\n",
    "$$\n",
    "\n",
    "The first part of the expression can be rewritten as:\n",
    "\n",
    "$$\n",
    "\\frac{1}{n}\\sum\\limits^n_{i=1}log(1+e^{-y^{(i)}w^Tx^{(i)}}) = \\frac{1}{n}\\sum\\limits^n_{i=1}log(e^0+e^{-y^{(i)}w^Tx^{(i)}})\n",
    "$$\n",
    "\n",
    "The form $log(e^{x_1}+...+e^{x_n})$ is called Log-Sum-Exp and it is convex (based on Professor Rosenberg's notes on Convex Optimization) and therefore the first part of our expression is also convex.\n",
    "\n",
    "Now, given that norms are also convex and the addition of two convex functions is also convex, $J(w)$ is convex."
   ]
  },
  {
   "cell_type": "markdown",
   "id": "1a23fc82",
   "metadata": {
    "heading_collapsed": true
   },
   "source": [
    "### Question 5"
   ]
  },
  {
   "cell_type": "code",
   "execution_count": 5,
   "id": "a20f68a2",
   "metadata": {
    "ExecuteTime": {
     "end_time": "2022-03-24T00:37:56.259268Z",
     "start_time": "2022-03-24T00:37:56.254281Z"
    },
    "hidden": true
   },
   "outputs": [],
   "source": [
    "def f_objective(theta, X, y, l2_param=1):\n",
    "    '''\n",
    "    Args:\n",
    "        theta: 1D numpy array of size num_features\n",
    "        X: 2D numpy array of size (num_instances, num_features)\n",
    "        y: 1D numpy array of size num_instances\n",
    "        l2_param: regularization parameter\n",
    "\n",
    "    Returns:\n",
    "        objective: scalar value of objective function \n",
    "    '''        \n",
    "    \n",
    "    loss, n = 0, X.shape[0]\n",
    "\n",
    "    for idx in range(len(X_train)):\n",
    "        loss += np.logaddexp(0,-Y_train[idx] * theta.T @ X_train.iloc[idx, :]) + l2_param * np.dot(theta, theta)\n",
    "    \n",
    "    return 1/n * loss"
   ]
  },
  {
   "cell_type": "markdown",
   "id": "82aeb0a2",
   "metadata": {
    "heading_collapsed": true
   },
   "source": [
    "### Question 6"
   ]
  },
  {
   "cell_type": "markdown",
   "id": "e015e4f4",
   "metadata": {
    "hidden": true
   },
   "source": [
    "Let's first preprocess the data"
   ]
  },
  {
   "cell_type": "code",
   "execution_count": 6,
   "id": "7f4b7ab0",
   "metadata": {
    "ExecuteTime": {
     "end_time": "2022-03-24T00:37:59.458752Z",
     "start_time": "2022-03-24T00:37:59.440754Z"
    },
    "hidden": true
   },
   "outputs": [],
   "source": [
    "#Standardize data\n",
    "scaler = StandardScaler()\n",
    "X_train, X_val = pd.DataFrame(scaler.fit_transform(X_train)), pd.DataFrame(scaler.transform(X_val))\n",
    "\n",
    "#Add bias column\n",
    "X_train['bias'] = 1\n",
    "X_val['bias'] = 1\n",
    "\n",
    "Y_train[Y_train == 0] = -1\n",
    "Y_val[Y_val == 0] = -1"
   ]
  },
  {
   "cell_type": "code",
   "execution_count": 7,
   "id": "4990fb42",
   "metadata": {
    "ExecuteTime": {
     "end_time": "2022-03-24T00:37:59.984850Z",
     "start_time": "2022-03-24T00:37:59.965920Z"
    },
    "hidden": true
   },
   "outputs": [],
   "source": [
    "def fit_logistic_reg(X, y, objective_function, l2_param=1):\n",
    "    '''\n",
    "    Args:\n",
    "        X: 2D numpy array of size (num_instances, num_features)\n",
    "        y: 1D numpy array of size num_instances\n",
    "        objective_function: function returning the value of the objective\n",
    "        l2_param: regularization parameter\n",
    "        \n",
    "    Returns:\n",
    "        optimal_theta: 1D numpy array of size num_features\n",
    "    '''\n",
    "    obj_func = partial(objective_function, X=X, y=y, l2_param=l2_param)\n",
    "    \n",
    "    return minimize(obj_func, theta).x"
   ]
  },
  {
   "cell_type": "code",
   "execution_count": 6,
   "id": "c197f4a0",
   "metadata": {
    "ExecuteTime": {
     "end_time": "2022-03-23T20:22:47.051156Z",
     "start_time": "2022-03-23T20:21:48.602422Z"
    },
    "hidden": true
   },
   "outputs": [
    {
     "data": {
      "text/plain": [
       "array([ 0.0009563 , -0.00029966,  0.0030268 ,  0.10532761, -0.00358737,\n",
       "       -0.00135853, -0.00385287, -0.00079009, -0.00114408, -0.07178436,\n",
       "        0.00654886, -0.004511  ,  0.01124926, -0.0038644 , -0.00271267,\n",
       "        0.00150362, -0.00278399, -0.00919062, -0.00682279, -0.01027485,\n",
       "        0.00281869])"
      ]
     },
     "execution_count": 6,
     "metadata": {},
     "output_type": "execute_result"
    }
   ],
   "source": [
    "theta = np.ones(X_train.shape[1])\n",
    "fit_logistic_reg(X_train, Y_train, f_objective, l2_param=1)"
   ]
  },
  {
   "cell_type": "markdown",
   "id": "19151e64",
   "metadata": {
    "heading_collapsed": true
   },
   "source": [
    "### Question 7"
   ]
  },
  {
   "cell_type": "code",
   "execution_count": 8,
   "id": "51296b19",
   "metadata": {
    "ExecuteTime": {
     "end_time": "2022-03-24T00:38:03.175488Z",
     "start_time": "2022-03-24T00:38:03.163521Z"
    },
    "hidden": true
   },
   "outputs": [],
   "source": [
    "def log_likelihood(theta, X, y):\n",
    "\n",
    "    loss = 0\n",
    "    for idx in range(len(X)):\n",
    "        loss += np.logaddexp(0,-y[idx] * theta.T @ X.iloc[idx, :])\n",
    "    \n",
    "    return loss"
   ]
  },
  {
   "cell_type": "code",
   "execution_count": 8,
   "id": "49902757",
   "metadata": {
    "ExecuteTime": {
     "end_time": "2022-03-23T20:30:06.600331Z",
     "start_time": "2022-03-23T20:22:47.129557Z"
    },
    "hidden": true
   },
   "outputs": [],
   "source": [
    "lambda_list = np.logspace(-3, -1, num=10)\n",
    "loss_list = []\n",
    "\n",
    "for lbd in lambda_list: \n",
    "    theta = fit_logistic_reg(X_train, Y_train, f_objective, l2_param=lbd)\n",
    "    loss_list.append(log_likelihood(theta, X_val, Y_val))"
   ]
  },
  {
   "cell_type": "code",
   "execution_count": 10,
   "id": "c07ee99c",
   "metadata": {
    "ExecuteTime": {
     "end_time": "2022-03-23T20:30:06.803135Z",
     "start_time": "2022-03-23T20:30:06.679783Z"
    },
    "hidden": true
   },
   "outputs": [
    {
     "data": {
      "text/plain": [
       "[<matplotlib.lines.Line2D at 0x2a014fc7a90>]"
      ]
     },
     "execution_count": 10,
     "metadata": {},
     "output_type": "execute_result"
    },
    {
     "data": {
      "image/png": "[encoded data removed]",
      "text/plain": [
       "<Figure size 432x288 with 1 Axes>"
      ]
     },
     "metadata": {
      "needs_background": "light"
     },
     "output_type": "display_data"
    }
   ],
   "source": [
    "plt.plot(lambda_list, loss_list)"
   ]
  },
  {
   "cell_type": "markdown",
   "id": "345c1efa",
   "metadata": {},
   "source": [
    "### Question 8"
   ]
  },
  {
   "cell_type": "code",
   "execution_count": 10,
   "id": "d4f9c027",
   "metadata": {
    "ExecuteTime": {
     "end_time": "2022-03-24T00:38:20.833560Z",
     "start_time": "2022-03-24T00:38:20.828513Z"
    }
   },
   "outputs": [],
   "source": [
    "theta = np.ones(X_train.shape[1])"
   ]
  },
  {
   "cell_type": "code",
   "execution_count": 11,
   "id": "1a998be4",
   "metadata": {
    "ExecuteTime": {
     "end_time": "2022-03-24T00:39:54.973880Z",
     "start_time": "2022-03-24T00:38:21.634810Z"
    }
   },
   "outputs": [],
   "source": [
    "best_theta = fit_logistic_reg(X_train, Y_train, f_objective, l2_param = 0.02)"
   ]
  },
  {
   "cell_type": "code",
   "execution_count": 31,
   "id": "7b8d2cd5",
   "metadata": {
    "ExecuteTime": {
     "end_time": "2022-03-24T00:45:43.225662Z",
     "start_time": "2022-03-24T00:45:43.035071Z"
    }
   },
   "outputs": [],
   "source": [
    "pred = []\n",
    "for i in range(len(X_train)):\n",
    "    pred.append(round(1 / (1+np.exp(-best_theta @ X_train.iloc[i,:])),1))"
   ]
  },
  {
   "cell_type": "code",
   "execution_count": 53,
   "id": "29c71853",
   "metadata": {
    "ExecuteTime": {
     "end_time": "2022-03-24T00:51:26.718248Z",
     "start_time": "2022-03-24T00:51:26.701344Z"
    }
   },
   "outputs": [],
   "source": [
    "df = pd.DataFrame()\n",
    "df['pred'] = pred\n",
    "df['Y_train'] = Y_train\n",
    "df['Y_train'].replace({-1:0}, inplace=True)"
   ]
  },
  {
   "cell_type": "code",
   "execution_count": 57,
   "id": "3ef5d2a7",
   "metadata": {
    "ExecuteTime": {
     "end_time": "2022-03-24T00:53:28.047395Z",
     "start_time": "2022-03-24T00:53:28.031438Z"
    }
   },
   "outputs": [],
   "source": [
    "df = df.groupby(pred).mean()['Y_train']"
   ]
  },
  {
   "cell_type": "code",
   "execution_count": 79,
   "id": "5cbca336",
   "metadata": {
    "ExecuteTime": {
     "end_time": "2022-03-24T00:57:25.962495Z",
     "start_time": "2022-03-24T00:57:25.879348Z"
    }
   },
   "outputs": [
    {
     "data": {
      "image/png": "[encoded data removed]",
      "text/plain": [
       "<Figure size 432x288 with 1 Axes>"
      ]
     },
     "metadata": {
      "needs_background": "light"
     },
     "output_type": "display_data"
    }
   ],
   "source": [
    "plt.plot([0,1],[0,1])\n",
    "plt.plot(df.index, df.values, marker='X', markersize=8)\n",
    "plt.show()"
   ]
  },
  {
   "cell_type": "markdown",
   "id": "3bb6d9bc",
   "metadata": {},
   "source": [
    "Overall, there is an observable trend with a small deviation of around 5-10%"
   ]
  },
  {
   "cell_type": "markdown",
   "id": "7ab83642",
   "metadata": {},
   "source": [
    "### Question 9"
   ]
  },
  {
   "cell_type": "markdown",
   "id": "43b1462e",
   "metadata": {},
   "source": [
    "We know the following:\n",
    "\n",
    "$ P(z=H) = \\theta_1 \\\\ P(x=H | z=H) = \\theta_2 \\\\ P(x=T | z=T) = 1$\n",
    "\n",
    "Following the Law of Total Probability:\n",
    "\n",
    "$$\n",
    "\\begin{array}{rl}\n",
    "    P(A) &= P(A,B) + P(A, B^c) \\\\ \n",
    "    &= P(A|B)P(B) + P(A|B^c)P(B^c) \\\\ \n",
    "\\end{array}\n",
    "$$\n",
    "\n",
    "$$\n",
    "\\begin{array}{rl}\n",
    "    P(x=H) &= P(x=H,z=H) + P(x=H, z=T) \\\\ \n",
    "    &= P(x=H|z=H)P(z=H) + P(x=H|z=T)P(z=T) \\\\ \n",
    "    &= \\theta_2 \\theta_1 + 0 \\times (1-\\theta_1) \\\\ \n",
    "    &= \\theta_2 \\theta_1 \n",
    "\\end{array}\n",
    "$$"
   ]
  },
  {
   "cell_type": "markdown",
   "id": "29301b14",
   "metadata": {
    "ExecuteTime": {
     "end_time": "2022-03-21T19:27:20.733231Z",
     "start_time": "2022-03-21T19:27:20.713255Z"
    }
   },
   "source": [
    "### Question 10"
   ]
  },
  {
   "cell_type": "markdown",
   "id": "506df12e",
   "metadata": {},
   "source": [
    "$$\n",
    "L(D_r) = \\prod\\limits^{N_r}_{n=1} P_{\\theta_1\\theta_2}(x) = P(x=H)^{n_h} \\times P(x=T)^{n_t} = (\\theta_1\\theta_2)^{n_h} \\times (1-\\theta_1\\theta_2)^{n_t}\n",
    "$$"
   ]
  },
  {
   "cell_type": "markdown",
   "id": "8bfa60e7",
   "metadata": {},
   "source": [
    "### Question 11"
   ]
  },
  {
   "cell_type": "markdown",
   "id": "e3664451",
   "metadata": {},
   "source": [
    "Let's take the MLE:\n",
    "\n",
    "$$\n",
    "L(D_r) = (\\theta_1\\theta_2)^{n_h} \\times (1-\\theta_1\\theta_2)^{n_t} \\rightarrow log(L(D_r)) = n_hlog(\\theta_1\\theta_2) \\times n_tlog(1-\\theta_1\\theta_2)\n",
    "$$"
   ]
  },
  {
   "cell_type": "markdown",
   "id": "34edc1cb",
   "metadata": {},
   "source": [
    "Differentiate with respect to $\\theta_1$:\n",
    "\n",
    "$$\n",
    "\\frac{n_h}{\\theta_1} - \\frac{n_t\\theta_2}{1-\\theta_1\\theta_2} = 0 \\rightarrow \\theta_1\\theta_2 = \\frac{n_h}{n_t+n_h}\n",
    "$$"
   ]
  },
  {
   "cell_type": "markdown",
   "id": "99e5f859",
   "metadata": {},
   "source": [
    "Differentiate with respect to $\\theta_2$:\n",
    "\n",
    "$$\n",
    "\\frac{n_h}{\\theta_2} - \\frac{n_t\\theta_1}{1-\\theta_1\\theta_2} = 0 \\rightarrow \\theta_1\\theta_2 = \\frac{n_h}{n_t+n_h}\n",
    "$$"
   ]
  },
  {
   "cell_type": "markdown",
   "id": "d29bc8eb",
   "metadata": {},
   "source": [
    "Both equations are the same therefore we can't solve for the parameters $\\theta_1$ and $\\theta_2$. Therefore, MLE is not a good estimator in this case."
   ]
  }
 ],
 "metadata": {
  "kernelspec": {
   "display_name": "Python 3 (ipykernel)",
   "language": "python",
   "name": "python3"
  },
  "language_info": {
   "codemirror_mode": {
    "name": "ipython",
    "version": 3
   },
   "file_extension": ".py",
   "mimetype": "text/x-python",
   "name": "python",
   "nbconvert_exporter": "python",
   "pygments_lexer": "ipython3",
   "version": "3.9.7"
  },
  "toc": {
   "base_numbering": 1,
   "nav_menu": {},
   "number_sections": false,
   "sideBar": true,
   "skip_h1_title": false,
   "title_cell": "Table of Contents",
   "title_sidebar": "Contents",
   "toc_cell": false,
   "toc_position": {},
   "toc_section_display": true,
   "toc_window_display": false
  },
  "varInspector": {
   "cols": {
    "lenName": 16,
    "lenType": 16,
    "lenVar": 40
   },
   "kernels_config": {
    "python": {
     "delete_cmd_postfix": "",
     "delete_cmd_prefix": "del ",
     "library": "var_list.py",
     "varRefreshCmd": "print(var_dic_list())"
    },
    "r": {
     "delete_cmd_postfix": ") ",
     "delete_cmd_prefix": "rm(",
     "library": "var_list.r",
     "varRefreshCmd": "cat(var_dic_list()) "
    }
   },
   "types_to_exclude": [
    "module",
    "function",
    "builtin_function_or_method",
    "instance",
    "_Feature"
   ],
   "window_display": false
  }
 },
 "nbformat": 4,
 "nbformat_minor": 5
}
