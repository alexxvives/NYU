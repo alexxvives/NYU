{
 "cells": [
  {
   "cell_type": "markdown",
   "id": "88a591c0",
   "metadata": {},
   "source": [
    "**NYU CDS - Introduction to Data Science (Fall 2021)**\n",
    "* Student NET-ID: N14948495\n",
    "* Project deadline: Dec 06, 2021, 11:59pm\n"
   ]
  },
  {
   "cell_type": "markdown",
   "id": "aa3f5937",
   "metadata": {},
   "source": [
    "**<font size=5> Data analysis Project 2: Correlation and Regression of Movie Ratings Data </font>**"
   ]
  },
  {
   "cell_type": "code",
   "execution_count": 3,
   "id": "e97aacf0",
   "metadata": {
    "ExecuteTime": {
     "end_time": "2022-02-03T20:28:58.289372Z",
     "start_time": "2022-02-03T20:28:57.276078Z"
    }
   },
   "outputs": [],
   "source": [
    "# Import libraries\n",
    "import pandas as pd\n",
    "import numpy as np\n",
    "\n",
    "from sklearn.model_selection import train_test_split\n",
    "from sklearn.metrics import mean_absolute_error\n",
    "import warnings\n",
    "warnings.filterwarnings(\"ignore\")"
   ]
  },
  {
   "cell_type": "markdown",
   "id": "9412c197",
   "metadata": {},
   "source": [
    "**Dataset description**\n",
    "\n",
    "This dataset features ratings data of 400 movies from 1097 research participants. \n",
    "\n",
    "* 1st row: Headers (Movie titles/questions) – note that the indexing in this list is from 1\n",
    "* Row 2-1098: Responses from individual participants\n",
    "* Columns 1-400: These columns contain the ratings for the 400 movies (0 to 4, and missing)\n",
    "* Columns 401-421: These columns contain self-assessments on sensation seeking behaviors (1-5)\n",
    "* Columns 422-464: These columns contain responses to personality questions (1-5)\n",
    "* Columns 465-474: These columns contain self-reported movie experience ratings (1-5)\n",
    "* Column 475: Gender identity (1 = female, 2 = male, 3 = self-described)\n",
    "* Column 476: Only child (1 = yes, 0 = no, -1 = no response)\n",
    "* Column 477: Movies are best enjoyed alone (1 = yes, 0 = no, -1 = no response)\n",
    "\n",
    "Note that we did most of the data munging for you already (e.g. Python interprets commas in a csv file as separators, so we removed all commas from movie titles), but you still need to handle missing data."
   ]
  },
  {
   "cell_type": "markdown",
   "id": "9888df4d",
   "metadata": {},
   "source": [
    "### Q1:\n",
    "\n",
    "\n",
    "**Note:** For all missing values in the data, use the average of the corresponding column so to fill in the missing data. \n",
    "\n",
    "\n",
    "\n",
    "In this problem, under **the most correlated**, we consider the largest correlation in the absolute value.\n",
    "\n",
    "\n",
    "1.1. For every user in the given data, find its most correlated user. \n",
    "\n",
    "1.2. What is the pair of the most correlated users in the data? \n",
    "\n",
    "1.3. What is the value of this highest correlation?\n",
    "\n",
    "1.4. For users 0, 1, 2, \\dots, 9, print their most correlated users. \n",
    "\n"
   ]
  },
  {
   "cell_type": "code",
   "execution_count": 4,
   "id": "d7f0d4cf",
   "metadata": {
    "ExecuteTime": {
     "end_time": "2022-02-03T20:28:58.463097Z",
     "start_time": "2022-02-03T20:28:58.305515Z"
    }
   },
   "outputs": [
    {
     "data": {
      "text/html": [
       "<div>\n",
       "<style scoped>\n",
       "    .dataframe tbody tr th:only-of-type {\n",
       "        vertical-align: middle;\n",
       "    }\n",
       "\n",
       "    .dataframe tbody tr th {\n",
       "        vertical-align: top;\n",
       "    }\n",
       "\n",
       "    .dataframe thead th {\n",
       "        text-align: right;\n",
       "    }\n",
       "</style>\n",
       "<table border=\"1\" class=\"dataframe\">\n",
       "  <thead>\n",
       "    <tr style=\"text-align: right;\">\n",
       "      <th></th>\n",
       "      <th>The Life of David Gale (2003)</th>\n",
       "      <th>Wing Commander (1999)</th>\n",
       "      <th>Django Unchained (2012)</th>\n",
       "      <th>Alien (1979)</th>\n",
       "      <th>Indiana Jones and the Last Crusade (1989)</th>\n",
       "      <th>Snatch (2000)</th>\n",
       "      <th>Rambo: First Blood Part II</th>\n",
       "      <th>Fargo (1996)</th>\n",
       "      <th>Let the Right One In (2008)</th>\n",
       "      <th>Black Swan (2010)</th>\n",
       "      <th>...</th>\n",
       "      <th>When watching a movie I cheer or shout or talk or curse at the screen</th>\n",
       "      <th>When watching a movie I feel like the things on the screen are happening to me</th>\n",
       "      <th>As a movie unfolds I start to have problems keeping track of events that happened earlier</th>\n",
       "      <th>The emotions on the screen \"rub off\" on me - for instance if something sad is happening I get sad or if something frightening is happening I get scared</th>\n",
       "      <th>When watching a movie I get completely immersed in the alternative reality of the film</th>\n",
       "      <th>Movies change my position on social economic or political issues</th>\n",
       "      <th>When watching movies things get so intense that I have to stop watching</th>\n",
       "      <th>Gender identity (1 = female; 2 = male; 3 = self-described)</th>\n",
       "      <th>Are you an only child? (1: Yes; 0: No; -1: Did not respond)</th>\n",
       "      <th>Movies are best enjoyed alone (1: Yes; 0: No; -1: Did not respond)</th>\n",
       "    </tr>\n",
       "  </thead>\n",
       "  <tbody>\n",
       "    <tr>\n",
       "      <th>0</th>\n",
       "      <td>2.151316</td>\n",
       "      <td>2.021127</td>\n",
       "      <td>4.000000</td>\n",
       "      <td>2.707612</td>\n",
       "      <td>3.000000</td>\n",
       "      <td>2.597656</td>\n",
       "      <td>2.365385</td>\n",
       "      <td>2.899606</td>\n",
       "      <td>2.49635</td>\n",
       "      <td>2.911565</td>\n",
       "      <td>...</td>\n",
       "      <td>1.0</td>\n",
       "      <td>6.0</td>\n",
       "      <td>2.0</td>\n",
       "      <td>5.0</td>\n",
       "      <td>5.0</td>\n",
       "      <td>5.0</td>\n",
       "      <td>1.0</td>\n",
       "      <td>1.0</td>\n",
       "      <td>0</td>\n",
       "      <td>1</td>\n",
       "    </tr>\n",
       "    <tr>\n",
       "      <th>1</th>\n",
       "      <td>2.151316</td>\n",
       "      <td>2.021127</td>\n",
       "      <td>1.500000</td>\n",
       "      <td>2.707612</td>\n",
       "      <td>2.778618</td>\n",
       "      <td>2.597656</td>\n",
       "      <td>2.365385</td>\n",
       "      <td>2.899606</td>\n",
       "      <td>2.49635</td>\n",
       "      <td>2.911565</td>\n",
       "      <td>...</td>\n",
       "      <td>3.0</td>\n",
       "      <td>1.0</td>\n",
       "      <td>1.0</td>\n",
       "      <td>6.0</td>\n",
       "      <td>5.0</td>\n",
       "      <td>3.0</td>\n",
       "      <td>2.0</td>\n",
       "      <td>1.0</td>\n",
       "      <td>0</td>\n",
       "      <td>0</td>\n",
       "    </tr>\n",
       "    <tr>\n",
       "      <th>2</th>\n",
       "      <td>2.151316</td>\n",
       "      <td>2.021127</td>\n",
       "      <td>3.153422</td>\n",
       "      <td>2.707612</td>\n",
       "      <td>2.778618</td>\n",
       "      <td>2.597656</td>\n",
       "      <td>2.365385</td>\n",
       "      <td>2.899606</td>\n",
       "      <td>2.49635</td>\n",
       "      <td>2.911565</td>\n",
       "      <td>...</td>\n",
       "      <td>5.0</td>\n",
       "      <td>4.0</td>\n",
       "      <td>3.0</td>\n",
       "      <td>5.0</td>\n",
       "      <td>5.0</td>\n",
       "      <td>4.0</td>\n",
       "      <td>4.0</td>\n",
       "      <td>1.0</td>\n",
       "      <td>1</td>\n",
       "      <td>0</td>\n",
       "    </tr>\n",
       "    <tr>\n",
       "      <th>3</th>\n",
       "      <td>2.151316</td>\n",
       "      <td>2.021127</td>\n",
       "      <td>2.000000</td>\n",
       "      <td>2.707612</td>\n",
       "      <td>3.000000</td>\n",
       "      <td>2.597656</td>\n",
       "      <td>2.365385</td>\n",
       "      <td>2.899606</td>\n",
       "      <td>2.49635</td>\n",
       "      <td>4.000000</td>\n",
       "      <td>...</td>\n",
       "      <td>3.0</td>\n",
       "      <td>1.0</td>\n",
       "      <td>1.0</td>\n",
       "      <td>4.0</td>\n",
       "      <td>5.0</td>\n",
       "      <td>3.0</td>\n",
       "      <td>1.0</td>\n",
       "      <td>1.0</td>\n",
       "      <td>0</td>\n",
       "      <td>1</td>\n",
       "    </tr>\n",
       "    <tr>\n",
       "      <th>4</th>\n",
       "      <td>2.151316</td>\n",
       "      <td>2.021127</td>\n",
       "      <td>3.500000</td>\n",
       "      <td>2.707612</td>\n",
       "      <td>0.500000</td>\n",
       "      <td>2.597656</td>\n",
       "      <td>0.500000</td>\n",
       "      <td>1.000000</td>\n",
       "      <td>2.49635</td>\n",
       "      <td>0.000000</td>\n",
       "      <td>...</td>\n",
       "      <td>2.0</td>\n",
       "      <td>3.0</td>\n",
       "      <td>2.0</td>\n",
       "      <td>5.0</td>\n",
       "      <td>6.0</td>\n",
       "      <td>4.0</td>\n",
       "      <td>4.0</td>\n",
       "      <td>1.0</td>\n",
       "      <td>1</td>\n",
       "      <td>1</td>\n",
       "    </tr>\n",
       "  </tbody>\n",
       "</table>\n",
       "<p>5 rows × 477 columns</p>\n",
       "</div>"
      ],
      "text/plain": [
       "   The Life of David Gale (2003)  Wing Commander (1999)  \\\n",
       "0                       2.151316               2.021127   \n",
       "1                       2.151316               2.021127   \n",
       "2                       2.151316               2.021127   \n",
       "3                       2.151316               2.021127   \n",
       "4                       2.151316               2.021127   \n",
       "\n",
       "   Django Unchained (2012)  Alien (1979)  \\\n",
       "0                 4.000000      2.707612   \n",
       "1                 1.500000      2.707612   \n",
       "2                 3.153422      2.707612   \n",
       "3                 2.000000      2.707612   \n",
       "4                 3.500000      2.707612   \n",
       "\n",
       "   Indiana Jones and the Last Crusade (1989)  Snatch (2000)  \\\n",
       "0                                   3.000000       2.597656   \n",
       "1                                   2.778618       2.597656   \n",
       "2                                   2.778618       2.597656   \n",
       "3                                   3.000000       2.597656   \n",
       "4                                   0.500000       2.597656   \n",
       "\n",
       "   Rambo: First Blood Part II  Fargo (1996)  Let the Right One In (2008)  \\\n",
       "0                    2.365385      2.899606                      2.49635   \n",
       "1                    2.365385      2.899606                      2.49635   \n",
       "2                    2.365385      2.899606                      2.49635   \n",
       "3                    2.365385      2.899606                      2.49635   \n",
       "4                    0.500000      1.000000                      2.49635   \n",
       "\n",
       "   Black Swan (2010)  ...  \\\n",
       "0           2.911565  ...   \n",
       "1           2.911565  ...   \n",
       "2           2.911565  ...   \n",
       "3           4.000000  ...   \n",
       "4           0.000000  ...   \n",
       "\n",
       "   When watching a movie I cheer or shout or talk or curse at the screen  \\\n",
       "0                                                1.0                       \n",
       "1                                                3.0                       \n",
       "2                                                5.0                       \n",
       "3                                                3.0                       \n",
       "4                                                2.0                       \n",
       "\n",
       "   When watching a movie I feel like the things on the screen are happening to me  \\\n",
       "0                                                6.0                                \n",
       "1                                                1.0                                \n",
       "2                                                4.0                                \n",
       "3                                                1.0                                \n",
       "4                                                3.0                                \n",
       "\n",
       "   As a movie unfolds I start to have problems keeping track of events that happened earlier  \\\n",
       "0                                                2.0                                           \n",
       "1                                                1.0                                           \n",
       "2                                                3.0                                           \n",
       "3                                                1.0                                           \n",
       "4                                                2.0                                           \n",
       "\n",
       "   The emotions on the screen \"rub off\" on me - for instance if something sad is happening I get sad or if something frightening is happening I get scared  \\\n",
       "0                                                5.0                                                                                                         \n",
       "1                                                6.0                                                                                                         \n",
       "2                                                5.0                                                                                                         \n",
       "3                                                4.0                                                                                                         \n",
       "4                                                5.0                                                                                                         \n",
       "\n",
       "   When watching a movie I get completely immersed in the alternative reality of the film  \\\n",
       "0                                                5.0                                        \n",
       "1                                                5.0                                        \n",
       "2                                                5.0                                        \n",
       "3                                                5.0                                        \n",
       "4                                                6.0                                        \n",
       "\n",
       "   Movies change my position on social economic or political issues  \\\n",
       "0                                                5.0                  \n",
       "1                                                3.0                  \n",
       "2                                                4.0                  \n",
       "3                                                3.0                  \n",
       "4                                                4.0                  \n",
       "\n",
       "   When watching movies things get so intense that I have to stop watching  \\\n",
       "0                                                1.0                         \n",
       "1                                                2.0                         \n",
       "2                                                4.0                         \n",
       "3                                                1.0                         \n",
       "4                                                4.0                         \n",
       "\n",
       "   Gender identity (1 = female; 2 = male; 3 = self-described)  \\\n",
       "0                                                1.0            \n",
       "1                                                1.0            \n",
       "2                                                1.0            \n",
       "3                                                1.0            \n",
       "4                                                1.0            \n",
       "\n",
       "   Are you an only child? (1: Yes; 0: No; -1: Did not respond)  \\\n",
       "0                                                  0             \n",
       "1                                                  0             \n",
       "2                                                  1             \n",
       "3                                                  0             \n",
       "4                                                  1             \n",
       "\n",
       "   Movies are best enjoyed alone (1: Yes; 0: No; -1: Did not respond)  \n",
       "0                                                  1                   \n",
       "1                                                  0                   \n",
       "2                                                  0                   \n",
       "3                                                  1                   \n",
       "4                                                  1                   \n",
       "\n",
       "[5 rows x 477 columns]"
      ]
     },
     "metadata": {},
     "output_type": "display_data"
    }
   ],
   "source": [
    "df = pd.read_csv('..\\movieReplicationSet.csv') # Import data\n",
    "\n",
    "df.fillna(df.mean(), inplace=True) # Fill in missing values\n",
    "display(df.head())"
   ]
  },
  {
   "cell_type": "markdown",
   "id": "3724e87d",
   "metadata": {},
   "source": [
    "**Question 1.1: For every user in the given data, find its most correlated user**"
   ]
  },
  {
   "cell_type": "code",
   "execution_count": 9,
   "id": "6e671cc8",
   "metadata": {
    "ExecuteTime": {
     "end_time": "2021-12-02T21:57:25.310433Z",
     "start_time": "2021-12-02T21:46:06.445573Z"
    }
   },
   "outputs": [],
   "source": [
    "my_dict = {}\n",
    "\n",
    "for user in range(0, df.iloc[:,:400].shape[0]):\n",
    "    corr = df.iloc[:,:400].corrwith(df.iloc[:,:400].iloc[user], axis=1).sort_values(ascending=False) #List of correlations between user and all rows\n",
    "    my_dict[user] = [corr.index[1], corr.values[1]] #Highest correlation gets assigned to user"
   ]
  },
  {
   "cell_type": "code",
   "execution_count": 10,
   "id": "5f31407f",
   "metadata": {
    "ExecuteTime": {
     "end_time": "2021-12-02T21:57:42.076632Z",
     "start_time": "2021-12-02T21:57:42.052796Z"
    }
   },
   "outputs": [
    {
     "data": {
      "text/html": [
       "<div>\n",
       "<style scoped>\n",
       "    .dataframe tbody tr th:only-of-type {\n",
       "        vertical-align: middle;\n",
       "    }\n",
       "\n",
       "    .dataframe tbody tr th {\n",
       "        vertical-align: top;\n",
       "    }\n",
       "\n",
       "    .dataframe thead th {\n",
       "        text-align: right;\n",
       "    }\n",
       "</style>\n",
       "<table border=\"1\" class=\"dataframe\">\n",
       "  <thead>\n",
       "    <tr style=\"text-align: right;\">\n",
       "      <th></th>\n",
       "      <th>correlated_user</th>\n",
       "      <th>correlation</th>\n",
       "    </tr>\n",
       "  </thead>\n",
       "  <tbody>\n",
       "    <tr>\n",
       "      <th>0</th>\n",
       "      <td>118</td>\n",
       "      <td>0.564325</td>\n",
       "    </tr>\n",
       "    <tr>\n",
       "      <th>1</th>\n",
       "      <td>831</td>\n",
       "      <td>0.831628</td>\n",
       "    </tr>\n",
       "    <tr>\n",
       "      <th>2</th>\n",
       "      <td>896</td>\n",
       "      <td>0.944122</td>\n",
       "    </tr>\n",
       "    <tr>\n",
       "      <th>3</th>\n",
       "      <td>19</td>\n",
       "      <td>0.540632</td>\n",
       "    </tr>\n",
       "    <tr>\n",
       "      <th>4</th>\n",
       "      <td>784</td>\n",
       "      <td>0.477030</td>\n",
       "    </tr>\n",
       "  </tbody>\n",
       "</table>\n",
       "</div>"
      ],
      "text/plain": [
       "   correlated_user  correlation\n",
       "0              118     0.564325\n",
       "1              831     0.831628\n",
       "2              896     0.944122\n",
       "3               19     0.540632\n",
       "4              784     0.477030"
      ]
     },
     "metadata": {},
     "output_type": "display_data"
    }
   ],
   "source": [
    "correlation_df = pd.DataFrame.from_dict(my_dict, orient='index', columns=['correlated_user', 'correlation'])\n",
    "display(correlation_df.head())"
   ]
  },
  {
   "cell_type": "markdown",
   "id": "664ad88e",
   "metadata": {
    "ExecuteTime": {
     "end_time": "2021-11-23T00:15:23.686216Z",
     "start_time": "2021-11-23T00:15:23.677324Z"
    }
   },
   "source": [
    "**Question 1.2: What is the pair of the most correlated users in the data?**"
   ]
  },
  {
   "cell_type": "code",
   "execution_count": 97,
   "id": "d52b08ab",
   "metadata": {
    "ExecuteTime": {
     "end_time": "2021-11-23T00:21:35.371454Z",
     "start_time": "2021-11-23T00:21:35.353264Z"
    }
   },
   "outputs": [
    {
     "data": {
      "text/html": [
       "<div>\n",
       "<style scoped>\n",
       "    .dataframe tbody tr th:only-of-type {\n",
       "        vertical-align: middle;\n",
       "    }\n",
       "\n",
       "    .dataframe tbody tr th {\n",
       "        vertical-align: top;\n",
       "    }\n",
       "\n",
       "    .dataframe thead th {\n",
       "        text-align: right;\n",
       "    }\n",
       "</style>\n",
       "<table border=\"1\" class=\"dataframe\">\n",
       "  <thead>\n",
       "    <tr style=\"text-align: right;\">\n",
       "      <th></th>\n",
       "      <th>correlated_user</th>\n",
       "      <th>correlation</th>\n",
       "    </tr>\n",
       "  </thead>\n",
       "  <tbody>\n",
       "    <tr>\n",
       "      <th>896</th>\n",
       "      <td>831</td>\n",
       "      <td>0.999542</td>\n",
       "    </tr>\n",
       "    <tr>\n",
       "      <th>831</th>\n",
       "      <td>896</td>\n",
       "      <td>0.999542</td>\n",
       "    </tr>\n",
       "    <tr>\n",
       "      <th>858</th>\n",
       "      <td>896</td>\n",
       "      <td>0.960376</td>\n",
       "    </tr>\n",
       "    <tr>\n",
       "      <th>456</th>\n",
       "      <td>449</td>\n",
       "      <td>0.952448</td>\n",
       "    </tr>\n",
       "    <tr>\n",
       "      <th>449</th>\n",
       "      <td>456</td>\n",
       "      <td>0.952448</td>\n",
       "    </tr>\n",
       "  </tbody>\n",
       "</table>\n",
       "</div>"
      ],
      "text/plain": [
       "     correlated_user  correlation\n",
       "896              831     0.999542\n",
       "831              896     0.999542\n",
       "858              896     0.960376\n",
       "456              449     0.952448\n",
       "449              456     0.952448"
      ]
     },
     "metadata": {},
     "output_type": "display_data"
    },
    {
     "name": "stdout",
     "output_type": "stream",
     "text": [
      "The most correlated users are: 896 and 831\n"
     ]
    }
   ],
   "source": [
    "temp_df = correlation_df.sort_values('correlation', ascending=False)\n",
    "display(temp_df.head())\n",
    "print('The most correlated users are: {} and {}'.format(temp_df.index[0], temp_df.iloc[0,0]))"
   ]
  },
  {
   "cell_type": "markdown",
   "id": "003dce77",
   "metadata": {},
   "source": [
    "**Question 1.3: What is the value of this highest correlation?**"
   ]
  },
  {
   "cell_type": "code",
   "execution_count": 93,
   "id": "d9e2bc05",
   "metadata": {
    "ExecuteTime": {
     "end_time": "2021-11-23T00:20:04.022704Z",
     "start_time": "2021-11-23T00:20:04.002931Z"
    }
   },
   "outputs": [
    {
     "name": "stdout",
     "output_type": "stream",
     "text": [
      "The correlation between the highest correlated users is: 0.9995424261495214\n"
     ]
    }
   ],
   "source": [
    "print('The correlation between the highest correlated users is: {}'.format(temp_df.iloc[0,1]))"
   ]
  },
  {
   "cell_type": "markdown",
   "id": "74dc955f",
   "metadata": {},
   "source": [
    "**Question 1.4: For users 0, 1, 2, $\\dots$, 9, print their most correlated users.**"
   ]
  },
  {
   "cell_type": "code",
   "execution_count": 98,
   "id": "94dc30c3",
   "metadata": {
    "ExecuteTime": {
     "end_time": "2021-11-23T00:21:50.084290Z",
     "start_time": "2021-11-23T00:21:50.057612Z"
    },
    "scrolled": true
   },
   "outputs": [
    {
     "data": {
      "text/html": [
       "<div>\n",
       "<style scoped>\n",
       "    .dataframe tbody tr th:only-of-type {\n",
       "        vertical-align: middle;\n",
       "    }\n",
       "\n",
       "    .dataframe tbody tr th {\n",
       "        vertical-align: top;\n",
       "    }\n",
       "\n",
       "    .dataframe thead th {\n",
       "        text-align: right;\n",
       "    }\n",
       "</style>\n",
       "<table border=\"1\" class=\"dataframe\">\n",
       "  <thead>\n",
       "    <tr style=\"text-align: right;\">\n",
       "      <th></th>\n",
       "      <th>correlated_user</th>\n",
       "      <th>correlation</th>\n",
       "    </tr>\n",
       "  </thead>\n",
       "  <tbody>\n",
       "    <tr>\n",
       "      <th>0</th>\n",
       "      <td>583</td>\n",
       "      <td>0.551171</td>\n",
       "    </tr>\n",
       "    <tr>\n",
       "      <th>1</th>\n",
       "      <td>831</td>\n",
       "      <td>0.725494</td>\n",
       "    </tr>\n",
       "    <tr>\n",
       "      <th>2</th>\n",
       "      <td>896</td>\n",
       "      <td>0.784047</td>\n",
       "    </tr>\n",
       "    <tr>\n",
       "      <th>3</th>\n",
       "      <td>364</td>\n",
       "      <td>0.640055</td>\n",
       "    </tr>\n",
       "    <tr>\n",
       "      <th>4</th>\n",
       "      <td>896</td>\n",
       "      <td>0.528441</td>\n",
       "    </tr>\n",
       "    <tr>\n",
       "      <th>5</th>\n",
       "      <td>99</td>\n",
       "      <td>0.612641</td>\n",
       "    </tr>\n",
       "    <tr>\n",
       "      <th>6</th>\n",
       "      <td>239</td>\n",
       "      <td>0.602601</td>\n",
       "    </tr>\n",
       "    <tr>\n",
       "      <th>7</th>\n",
       "      <td>896</td>\n",
       "      <td>0.514100</td>\n",
       "    </tr>\n",
       "    <tr>\n",
       "      <th>8</th>\n",
       "      <td>896</td>\n",
       "      <td>0.706144</td>\n",
       "    </tr>\n",
       "    <tr>\n",
       "      <th>9</th>\n",
       "      <td>1004</td>\n",
       "      <td>0.752591</td>\n",
       "    </tr>\n",
       "  </tbody>\n",
       "</table>\n",
       "</div>"
      ],
      "text/plain": [
       "   correlated_user  correlation\n",
       "0              583     0.551171\n",
       "1              831     0.725494\n",
       "2              896     0.784047\n",
       "3              364     0.640055\n",
       "4              896     0.528441\n",
       "5               99     0.612641\n",
       "6              239     0.602601\n",
       "7              896     0.514100\n",
       "8              896     0.706144\n",
       "9             1004     0.752591"
      ]
     },
     "metadata": {},
     "output_type": "display_data"
    }
   ],
   "source": [
    "display(correlation_df.head(10))"
   ]
  },
  {
   "cell_type": "markdown",
   "id": "278bbb45",
   "metadata": {},
   "source": [
    "### Q2:\n",
    "\n",
    "We want to find a model between the ratings and the personal part of the data. To do so, consider:\n",
    "\n",
    "\n",
    "**Part 1**: the ratings of all users over columns 1-400: \n",
    "\n",
    "-- Columns 1-400: These columns contain the ratings for the 400 movies (0 to 4, and missing);\n",
    "\n",
    "call this part `df_rate`\n",
    "\n",
    "\n",
    "and \n",
    "\n",
    "\n",
    "**Part 2**:  the part of the data which includes all users over columns 401-474\n",
    "\n",
    "-- Columns 401-421: These columns contain self-assessments on sensation seeking behaviors (1-5)\n",
    "\n",
    "-- Columns 422-464: These columns contain responses to personality questions (1-5)\n",
    "\n",
    "-- Columns 465-474: These columns contain self-reported movie experience ratings (1-5)\n",
    "\n",
    "call this part `df_pers`.\n",
    "\n",
    "---\n",
    "\n",
    "Our main task is to model: \n",
    "\n",
    "\n",
    "`df_pers = function(df_rate)`\n",
    "\n",
    "\n",
    "---\n",
    "\n",
    "**Note:** Split the original data into training and testing as the ratio 0.80: 0.20. \n",
    "\n",
    "\n",
    "2.1. Model `df_pers = function(df_rate)` by using the linear regression. \n",
    "\n",
    "What are the errors on: (i) the training part; (ii) the testing part?\n",
    "\n",
    "\n",
    "\n",
    "\n",
    "2.2. Model `df_pers = function(df_rate)` by using the ridge regression with hyperparamter values alpha from [0.0, 1e-8, 1e-5, 0.1, 1, 10]. \n",
    "\n",
    "For every of the previous values for alpha, what are the errors on: (i) the training part; (ii) the testing part?\n",
    "\n",
    "What is a best choice for alpha?\n",
    "\n",
    "\n",
    "\n",
    "2.3. Model `df_pers = function(df_rate)` by using the lasso regression with hyperparamter values alpha from [1e-3, 1e-2, 1e-1, 1]. \n",
    "\n",
    "For every of the previous values for alpha, what are the errors on: (i) the training part; (ii) the testing part?\n",
    "\n",
    "What is a best choice for alpha?\n",
    "\n",
    "\n",
    "**Note**: Ignore any `convergence warning` in case you may obtain in the Lasso regression.\n",
    "\n",
    "\n"
   ]
  },
  {
   "cell_type": "code",
   "execution_count": 42,
   "id": "87b54cd5",
   "metadata": {
    "ExecuteTime": {
     "end_time": "2021-12-01T21:43:54.295045Z",
     "start_time": "2021-12-01T21:43:54.264217Z"
    }
   },
   "outputs": [],
   "source": [
    "# Divides the dataset into features and target\n",
    "df_rate = df.iloc[:,:400]\n",
    "df_pers = df.iloc[:,400:474]\n",
    "\n",
    "# Divides the dataset into training and testing\n",
    "X_train, X_test, y_train, y_test = train_test_split(df_rate, df_pers, test_size=0.2, random_state=101)"
   ]
  },
  {
   "cell_type": "markdown",
   "id": "d6177208",
   "metadata": {},
   "source": [
    "**Model 1: Linear Regression**"
   ]
  },
  {
   "cell_type": "code",
   "execution_count": 33,
   "id": "867f999a",
   "metadata": {
    "ExecuteTime": {
     "end_time": "2021-12-01T21:21:22.605940Z",
     "start_time": "2021-12-01T21:21:22.499543Z"
    }
   },
   "outputs": [
    {
     "name": "stdout",
     "output_type": "stream",
     "text": [
      "Training MSE for this Linear Regression model: 0.627\n",
      "Testing MSE for this Linear Regression model: 3.304\n"
     ]
    }
   ],
   "source": [
    "from sklearn.linear_model import LinearRegression\n",
    "linreg = LinearRegression().fit(X_train, y_train)\n",
    "\n",
    "from sklearn.metrics import mean_squared_error\n",
    "y_train_pred = linreg.predict(X_train)\n",
    "y_test_pred = linreg.predict(X_test) \n",
    "print('Training MSE for this Linear Regression model: {}'\n",
    "      .format(round(mean_squared_error(y_train, y_train_pred), 3)))\n",
    "print('Testing MSE for this Linear Regression model: {}'\n",
    "      .format(round(mean_squared_error(y_test, y_test_pred), 3)))"
   ]
  },
  {
   "cell_type": "markdown",
   "id": "f33864aa",
   "metadata": {
    "ExecuteTime": {
     "end_time": "2021-11-23T00:28:12.953669Z",
     "start_time": "2021-11-23T00:28:12.935747Z"
    }
   },
   "source": [
    "**Model 2: Ridge Regression**"
   ]
  },
  {
   "cell_type": "code",
   "execution_count": 34,
   "id": "f7a2c148",
   "metadata": {
    "ExecuteTime": {
     "end_time": "2021-12-01T21:21:24.784218Z",
     "start_time": "2021-12-01T21:21:24.485017Z"
    }
   },
   "outputs": [
    {
     "name": "stdout",
     "output_type": "stream",
     "text": [
      "The training MSE for this Ridge Regression model with alpha 0 is: 0.627\n",
      "The testing MSE for this Ridge Regression model with alpha 0 is: 3.304\n",
      "\n",
      "The training MSE for this Ridge Regression model with alpha 1e-08 is: 0.627\n",
      "The testing MSE for this Ridge Regression model with alpha 1e-08 is: 3.304\n",
      "\n",
      "The training MSE for this Ridge Regression model with alpha 1e-05 is: 0.627\n",
      "The testing MSE for this Ridge Regression model with alpha 1e-05 is: 3.304\n",
      "\n",
      "The training MSE for this Ridge Regression model with alpha 0.1 is: 0.627\n",
      "The testing MSE for this Ridge Regression model with alpha 0.1 is: 3.201\n",
      "\n",
      "The training MSE for this Ridge Regression model with alpha 1 is: 0.632\n",
      "The testing MSE for this Ridge Regression model with alpha 1 is: 2.69\n",
      "\n",
      "The training MSE for this Ridge Regression model with alpha 10 is: 0.684\n",
      "The testing MSE for this Ridge Regression model with alpha 10 is: 1.818\n",
      "\n"
     ]
    }
   ],
   "source": [
    "from sklearn.linear_model import Ridge\n",
    "for a in [0, 1e-8, 1e-5, 0.1, 1, 10]:\n",
    "    ridge = Ridge(alpha = a).fit(X_train, y_train)\n",
    "    y_pred_train = ridge.predict(X_train)\n",
    "    y_pred_test = ridge.predict(X_test)\n",
    "    print('The training MSE for this Ridge Regression model with alpha {} is: {}'\n",
    "          .format(a, round(mean_squared_error(y_train, y_pred_train), 3)))\n",
    "    print('The testing MSE for this Ridge Regression model with alpha {} is: {}\\n'\n",
    "          .format(a, round(mean_squared_error(y_test, y_pred_test), 3)))"
   ]
  },
  {
   "cell_type": "markdown",
   "id": "271e6421",
   "metadata": {},
   "source": [
    "The best choice for alpha is 10"
   ]
  },
  {
   "cell_type": "markdown",
   "id": "4e39c6d9",
   "metadata": {},
   "source": [
    "**Model 3: Lasso Regression**"
   ]
  },
  {
   "cell_type": "code",
   "execution_count": 41,
   "id": "5a9529e8",
   "metadata": {
    "ExecuteTime": {
     "end_time": "2021-12-01T21:25:47.233668Z",
     "start_time": "2021-12-01T21:25:19.141231Z"
    }
   },
   "outputs": [
    {
     "name": "stdout",
     "output_type": "stream",
     "text": [
      "The traning MSE for this Ridge Regression model with alpha 0.001 is: 0.651\n",
      "The testing MSE for this Ridge Regression model with alpha 0.001 is: 2.241\n",
      "\n",
      "The traning MSE for this Ridge Regression model with alpha 0.01 is: 0.911\n",
      "The testing MSE for this Ridge Regression model with alpha 0.01 is: 1.293\n",
      "\n",
      "The traning MSE for this Ridge Regression model with alpha 0.1 is: 1.224\n",
      "The testing MSE for this Ridge Regression model with alpha 0.1 is: 1.198\n",
      "\n",
      "The traning MSE for this Ridge Regression model with alpha 1 is: 1.241\n",
      "The testing MSE for this Ridge Regression model with alpha 1 is: 1.206\n",
      "\n"
     ]
    }
   ],
   "source": [
    "from sklearn.linear_model import Lasso\n",
    "for a in [1e-3, 1e-2, 1e-1, 1]:\n",
    "    lasso = Lasso(alpha = a).fit(X_train, y_train)\n",
    "    y_pred_train = lasso.predict(X_train)\n",
    "    y_pred_test = lasso.predict(X_test)\n",
    "    print('The traning MSE for this Ridge Regression model with alpha {} is: {}'\n",
    "          .format(a, round(mean_squared_error(y_train, y_pred_train), 3)))\n",
    "    print('The testing MSE for this Ridge Regression model with alpha {} is: {}\\n'\n",
    "          .format(a, round(mean_squared_error(y_test, y_pred_test), 3)))"
   ]
  },
  {
   "cell_type": "markdown",
   "id": "5cf9151e",
   "metadata": {},
   "source": [
    "The best choice for alpha is 0.1"
   ]
  }
 ],
 "metadata": {
  "hide_input": false,
  "kernelspec": {
   "display_name": "Python 3 (ipykernel)",
   "language": "python",
   "name": "python3"
  },
  "language_info": {
   "codemirror_mode": {
    "name": "ipython",
    "version": 3
   },
   "file_extension": ".py",
   "mimetype": "text/x-python",
   "name": "python",
   "nbconvert_exporter": "python",
   "pygments_lexer": "ipython3",
   "version": "3.9.7"
  },
  "toc": {
   "base_numbering": 1,
   "nav_menu": {},
   "number_sections": true,
   "sideBar": true,
   "skip_h1_title": false,
   "title_cell": "Table of Contents",
   "title_sidebar": "Contents",
   "toc_cell": false,
   "toc_position": {},
   "toc_section_display": true,
   "toc_window_display": false
  },
  "varInspector": {
   "cols": {
    "lenName": 16,
    "lenType": 16,
    "lenVar": 40
   },
   "kernels_config": {
    "python": {
     "delete_cmd_postfix": "",
     "delete_cmd_prefix": "del ",
     "library": "var_list.py",
     "varRefreshCmd": "print(var_dic_list())"
    },
    "r": {
     "delete_cmd_postfix": ") ",
     "delete_cmd_prefix": "rm(",
     "library": "var_list.r",
     "varRefreshCmd": "cat(var_dic_list()) "
    }
   },
   "oldHeight": 122.855364,
   "position": {
    "height": "40px",
    "left": "1596.91px",
    "right": "20px",
    "top": "155px",
    "width": "250px"
   },
   "types_to_exclude": [
    "module",
    "function",
    "builtin_function_or_method",
    "instance",
    "_Feature"
   ],
   "varInspector_section_display": "none",
   "window_display": true
  }
 },
 "nbformat": 4,
 "nbformat_minor": 5
}
