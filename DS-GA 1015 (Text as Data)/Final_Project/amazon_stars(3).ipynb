{
 "cells": [
  {
   "cell_type": "markdown",
   "id": "7d931354",
   "metadata": {},
   "source": [
    "### Import libraries"
   ]
  },
  {
   "cell_type": "code",
   "execution_count": 49,
   "id": "e7b4d120",
   "metadata": {
    "ExecuteTime": {
     "end_time": "2022-03-13T09:30:29.004360Z",
     "start_time": "2022-03-13T09:30:28.999376Z"
    }
   },
   "outputs": [],
   "source": [
    "import pandas as pd\n",
    "import numpy as np\n",
    "import matplotlib.pyplot as plt\n",
    "import seaborn as sns\n",
    "import warnings\n",
    "\n",
    "from nltk.tokenize import word_tokenize\n",
    "from collections import Counter\n",
    "from nltk import PorterStemmer\n",
    "from nltk.corpus import stopwords\n",
    "\n",
    "from sklearn.feature_extraction.text import TfidfVectorizer\n",
    "from sklearn.metrics import confusion_matrix, accuracy_score\n",
    "from sklearn.model_selection import train_test_split\n",
    "from sklearn.linear_model import LogisticRegression\n",
    "from sklearn import naive_bayes, svm\n",
    "\n",
    "#warnings.filterwarnings(\"ignore\")\n",
    "#nltk.download('stopwords')"
   ]
  },
  {
   "cell_type": "markdown",
   "id": "41ae6f88",
   "metadata": {},
   "source": [
    "### Read data"
   ]
  },
  {
   "cell_type": "code",
   "execution_count": 50,
   "id": "fd50197d",
   "metadata": {
    "ExecuteTime": {
     "end_time": "2022-03-13T09:30:31.474808Z",
     "start_time": "2022-03-13T09:30:29.418636Z"
    }
   },
   "outputs": [],
   "source": [
    "raw_df = pd.read_csv('data/amazon_data.csv')\n",
    "df = raw_df[['Text', 'Score']]"
   ]
  },
  {
   "cell_type": "code",
   "execution_count": 51,
   "id": "17e37e1e",
   "metadata": {
    "ExecuteTime": {
     "end_time": "2022-03-13T09:30:31.981759Z",
     "start_time": "2022-03-13T09:30:31.871010Z"
    }
   },
   "outputs": [
    {
     "data": {
      "image/png": "[encoded data removed]",
      "text/plain": [
       "<Figure size 432x288 with 1 Axes>"
      ]
     },
     "metadata": {
      "needs_background": "light"
     },
     "output_type": "display_data"
    }
   ],
   "source": [
    "sns.countplot(x=df['Score'], palette='mako')\n",
    "plt.show()"
   ]
  },
  {
   "cell_type": "code",
   "execution_count": 52,
   "id": "bfc82875",
   "metadata": {
    "ExecuteTime": {
     "end_time": "2022-03-13T09:30:32.410350Z",
     "start_time": "2022-03-13T09:30:32.396400Z"
    }
   },
   "outputs": [
    {
     "data": {
      "text/plain": [
       "5    363122\n",
       "4     80655\n",
       "1     52268\n",
       "3     42640\n",
       "2     29769\n",
       "Name: Score, dtype: int64"
      ]
     },
     "execution_count": 52,
     "metadata": {},
     "output_type": "execute_result"
    }
   ],
   "source": [
    "df['Score'].value_counts()"
   ]
  },
  {
   "cell_type": "markdown",
   "id": "5439718a",
   "metadata": {},
   "source": [
    "### Adapt and Balance target variable"
   ]
  },
  {
   "cell_type": "code",
   "execution_count": 53,
   "id": "13b4cd47",
   "metadata": {
    "ExecuteTime": {
     "end_time": "2022-03-13T09:30:32.834379Z",
     "start_time": "2022-03-13T09:30:32.819459Z"
    }
   },
   "outputs": [
    {
     "name": "stderr",
     "output_type": "stream",
     "text": [
      "C:\\Users\\alexx\\AppData\\Local\\Temp/ipykernel_17704/1358285512.py:1: SettingWithCopyWarning: \n",
      "A value is trying to be set on a copy of a slice from a DataFrame.\n",
      "Try using .loc[row_indexer,col_indexer] = value instead\n",
      "\n",
      "See the caveats in the documentation: https://pandas.pydata.org/pandas-docs/stable/user_guide/indexing.html#returning-a-view-versus-a-copy\n",
      "  df['Score'] = df['Score'].replace({1:-1, 2: -1, 3: -1, 4: 1, 5: 1})\n"
     ]
    }
   ],
   "source": [
    "df['Score'] = df['Score'].replace({1:-1, 2: -1, 3: -1, 4: 1, 5: 1})"
   ]
  },
  {
   "cell_type": "code",
   "execution_count": 54,
   "id": "b2f23acd",
   "metadata": {
    "ExecuteTime": {
     "end_time": "2022-03-13T09:30:33.302323Z",
     "start_time": "2022-03-13T09:30:33.240545Z"
    }
   },
   "outputs": [],
   "source": [
    "sample_size = 10000\n",
    "\n",
    "df_B = df[df['Score'] == -1].sample(n=sample_size, random_state=101)\n",
    "df_G = df[df['Score'] == 1].sample(n=sample_size, random_state=101)\n",
    "\n",
    "df = pd.concat([df_B, df_G]).reset_index()"
   ]
  },
  {
   "cell_type": "code",
   "execution_count": 55,
   "id": "bc037ad7",
   "metadata": {
    "ExecuteTime": {
     "end_time": "2022-03-13T09:30:33.775137Z",
     "start_time": "2022-03-13T09:30:33.712253Z"
    }
   },
   "outputs": [
    {
     "data": {
      "image/png": "[encoded data removed]",
      "text/plain": [
       "<Figure size 432x288 with 1 Axes>"
      ]
     },
     "metadata": {
      "needs_background": "light"
     },
     "output_type": "display_data"
    }
   ],
   "source": [
    "sns.countplot(x=df['Score'], palette='mako')\n",
    "plt.show()"
   ]
  },
  {
   "cell_type": "markdown",
   "id": "e6a643aa",
   "metadata": {},
   "source": [
    "### Preprocessing"
   ]
  },
  {
   "cell_type": "code",
   "execution_count": 56,
   "id": "3e846535",
   "metadata": {
    "ExecuteTime": {
     "end_time": "2022-03-13T09:30:47.521457Z",
     "start_time": "2022-03-13T09:30:34.189962Z"
    }
   },
   "outputs": [
    {
     "name": "stdout",
     "output_type": "stream",
     "text": [
      "Wall time: 13.3 s\n"
     ]
    }
   ],
   "source": [
    "%%time\n",
    "processed_df = df.copy()\n",
    "\n",
    "# Remove page breaks\n",
    "processed_df['Text'] = processed_df['Text'].str.replace(r'br', ' ', regex=True)\n",
    "\n",
    "# Replace URLs with 'webaddress'\n",
    "processed_df['Text'] = processed_df['Text'].str.replace(r'http\\S+', 'webaddress', regex=True)\n",
    "\n",
    "# Remove punctuation\n",
    "processed_df['Text'] = processed_df['Text'].str.replace(r'[^\\w\\d\\s]', ' ', regex=True)\n",
    "processed_df['Text'] = processed_df['Text'].str.replace(r'_', ' ', regex=True)\n",
    "\n",
    "# Replace numbers with 'numbr'\n",
    "processed_df['Text'] = processed_df['Text'].str.replace(r'\\d+(\\.\\d+)?', ' ', regex=True)\n",
    "\n",
    "# Replace whitespace between terms with a single space\n",
    "processed_df['Text'] = processed_df['Text'].str.replace(r'\\s+', ' ', regex=True)\n",
    "\n",
    "# Remove leading and trailing whitespace\n",
    "processed_df['Text'] = processed_df['Text'].str.replace(r'^\\s+|\\s+?$', '', regex=True)\n",
    "\n",
    "#All words to lowercase\n",
    "processed_df['Text'] = processed_df['Text'].str.lower()\n",
    "\n",
    "# remove stop words from text messages\n",
    "stop_words = set(stopwords.words('english'))\n",
    "processed_df['Text'] = processed_df['Text'].apply(lambda x: ' '.join(term for term in x.split() if term not in stop_words))\n",
    "\n",
    "# Remove word stems using a Porter stemmer\n",
    "ps = PorterStemmer()\n",
    "processed_df['Text'] = processed_df['Text'].apply(lambda x: ' '.join(ps.stem(term) for term in x.split()))"
   ]
  },
  {
   "cell_type": "markdown",
   "id": "9dec9bf2",
   "metadata": {},
   "source": [
    "### Create dataset"
   ]
  },
  {
   "cell_type": "code",
   "execution_count": 57,
   "id": "d7ca4189",
   "metadata": {
    "ExecuteTime": {
     "end_time": "2022-03-13T09:30:47.941109Z",
     "start_time": "2022-03-13T09:30:47.927993Z"
    }
   },
   "outputs": [],
   "source": [
    "# Taken from http://web.stanford.edu/class/cs221/ Assignment #2 Support Code\n",
    "def dotProduct(d1, d2):\n",
    "    \"\"\"\n",
    "    @param dict d1: a feature vector represented by a mapping from a feature (string) to a weight (float).\n",
    "    @param dict d2: same as d1\n",
    "    @return float: the dot product between d1 and d2\n",
    "    \"\"\"\n",
    "    if len(d1) < len(d2):\n",
    "        return dotProduct(d2, d1)\n",
    "    else:\n",
    "        return sum(d1.get(f, 0) * v for f, v in d2.items())"
   ]
  },
  {
   "cell_type": "code",
   "execution_count": 58,
   "id": "30605483",
   "metadata": {
    "ExecuteTime": {
     "end_time": "2022-03-13T09:30:48.364549Z",
     "start_time": "2022-03-13T09:30:48.349514Z"
    }
   },
   "outputs": [],
   "source": [
    "def increment(d1, scale, d2):\n",
    "    \"\"\"\n",
    "    Implements d1 += scale * d2 for sparse vectors.\n",
    "    @param dict d1: the feature vector which is mutated.\n",
    "    @param float scale\n",
    "    @param dict d2: a feature vector.\n",
    "\n",
    "    NOTE: This function does not return anything, but rather\n",
    "    increments d1 in place. We do this because it is much faster to\n",
    "    change elements of d1 in place than to build a new dictionary and\n",
    "    return it.\n",
    "    \"\"\"\n",
    "    for f, v in d2.items():\n",
    "        d1[f] = d1.get(f, 0) + v * scale"
   ]
  },
  {
   "cell_type": "code",
   "execution_count": 71,
   "id": "f9658be5",
   "metadata": {
    "ExecuteTime": {
     "end_time": "2022-03-13T09:33:37.640104Z",
     "start_time": "2022-03-13T09:33:37.629133Z"
    }
   },
   "outputs": [],
   "source": [
    "def classification_error(X, y, w):\n",
    "\n",
    "    count = 0\n",
    "    for idx in range(len(X)):\n",
    "        pred = dotProduct(w, X[idx])\n",
    "    \n",
    "        if pred * y[idx] < 0:\n",
    "            count += 1\n",
    "    return round(count/len(X),3)"
   ]
  },
  {
   "cell_type": "code",
   "execution_count": 68,
   "id": "d6154d8b",
   "metadata": {
    "ExecuteTime": {
     "end_time": "2022-03-13T09:32:49.722244Z",
     "start_time": "2022-03-13T09:32:49.442379Z"
    }
   },
   "outputs": [],
   "source": [
    "dict_text = {}\n",
    "for idx in range(len(processed_df['Text'])):\n",
    "    dict_text[idx] = Counter(processed_df.loc[idx, 'Text'].split())"
   ]
  },
  {
   "cell_type": "code",
   "execution_count": 69,
   "id": "4fa79569",
   "metadata": {
    "ExecuteTime": {
     "end_time": "2022-03-13T09:32:50.491347Z",
     "start_time": "2022-03-13T09:32:50.477332Z"
    }
   },
   "outputs": [],
   "source": [
    "def optimized_pegasos(X_train, y_train, epochs = 3, lbd=0.01):\n",
    "         \n",
    "    s, t, w = 1, 1, {}\n",
    "    for _ in range(epochs):\n",
    "        for idx in range(0, len(X_train)):\n",
    "            t += 1\n",
    "            step = 1/(t*lbd)\n",
    "            s *= (1-step*lbd) #Update s regardless of the training point\n",
    "\n",
    "            if y_train[idx] * dotProduct(w, X_train[idx]) * s < 1:\n",
    "                increment(w, (1/s) * step * y_train[idx], X_train[idx])\n",
    "    for key, value in w.items():\n",
    "        w[key] = value * s\n",
    "            \n",
    "    return w"
   ]
  },
  {
   "cell_type": "code",
   "execution_count": 75,
   "id": "369ff9f8",
   "metadata": {
    "ExecuteTime": {
     "end_time": "2022-03-13T09:37:18.491905Z",
     "start_time": "2022-03-13T09:36:40.391971Z"
    }
   },
   "outputs": [
    {
     "name": "stdout",
     "output_type": "stream",
     "text": [
      "Wall time: 38.1 s\n"
     ]
    }
   ],
   "source": [
    "%%time\n",
    "w = optimized_pegasos(dict_text, processed_df['Score'], epochs=50, lbd=0.1)"
   ]
  },
  {
   "cell_type": "code",
   "execution_count": 76,
   "id": "ec697e93",
   "metadata": {
    "ExecuteTime": {
     "end_time": "2022-03-13T09:37:19.771935Z",
     "start_time": "2022-03-13T09:37:19.415906Z"
    }
   },
   "outputs": [
    {
     "data": {
      "text/plain": [
       "0.213"
      ]
     },
     "execution_count": 76,
     "metadata": {},
     "output_type": "execute_result"
    }
   ],
   "source": [
    "classification_error(dict_text, processed_df['Score'], w)"
   ]
  },
  {
   "cell_type": "markdown",
   "id": "bb2a9f59",
   "metadata": {},
   "source": [
    "### Model"
   ]
  },
  {
   "cell_type": "code",
   "execution_count": 134,
   "id": "d23ce57e",
   "metadata": {
    "ExecuteTime": {
     "end_time": "2022-03-13T07:52:20.158799Z",
     "start_time": "2022-03-13T07:52:20.087627Z"
    }
   },
   "outputs": [],
   "source": [
    "X_train, X_test, y_train, y_test = train_test_split(reviews_transformed, processed_df['Score'], test_size=0.2, random_state=456)"
   ]
  },
  {
   "cell_type": "code",
   "execution_count": 135,
   "id": "29d007cc",
   "metadata": {
    "ExecuteTime": {
     "end_time": "2022-03-13T07:52:25.101758Z",
     "start_time": "2022-03-13T07:52:20.271701Z"
    }
   },
   "outputs": [
    {
     "name": "stdout",
     "output_type": "stream",
     "text": [
      "Accuracy: 65.23%\n",
      "Wall time: 4.81 s\n"
     ]
    }
   ],
   "source": [
    "%%time\n",
    "log_reg = LogisticRegression(max_iter=400).fit(X_train, y_train)\n",
    "y_pred = log_reg.predict(X_test)\n",
    "score = accuracy_score(y_test,y_pred)\n",
    "\n",
    "print('Accuracy: {}%'.format(round(score*100,2)))"
   ]
  },
  {
   "cell_type": "code",
   "execution_count": 136,
   "id": "9c23bce5",
   "metadata": {
    "ExecuteTime": {
     "end_time": "2022-03-13T07:52:25.460798Z",
     "start_time": "2022-03-13T07:52:25.178552Z"
    }
   },
   "outputs": [
    {
     "data": {
      "image/png": "[encoded data removed]",
      "text/plain": [
       "<Figure size 1080x360 with 4 Axes>"
      ]
     },
     "metadata": {
      "needs_background": "light"
     },
     "output_type": "display_data"
    }
   ],
   "source": [
    "confusion = confusion_matrix(y_test, y_pred)\n",
    "\n",
    "fig, axes = plt.subplots(1, 2, figsize=(15, 5))\n",
    "fig.suptitle('Confusion Matrix')\n",
    "categories = ['Bad', 'Neutral', 'Good']\n",
    "sns.heatmap(ax=axes[0], data=confusion, annot=True, fmt='g', cmap='Blues', xticklabels=categories, yticklabels=categories)\n",
    "sns.heatmap(ax=axes[1], data=confusion/np.sum(confusion, axis=0), annot=True, fmt='.2%', cmap='Blues', xticklabels=categories, yticklabels=categories)\n",
    "plt.show()"
   ]
  },
  {
   "cell_type": "code",
   "execution_count": 46,
   "id": "3ed0f521",
   "metadata": {
    "ExecuteTime": {
     "end_time": "2022-03-11T19:54:38.753347Z",
     "start_time": "2022-03-11T19:54:38.652327Z"
    }
   },
   "outputs": [
    {
     "name": "stdout",
     "output_type": "stream",
     "text": [
      "Naive Bayes Accuracy Score ->  64.78333333333333\n",
      "Wall time: 97 ms\n"
     ]
    }
   ],
   "source": [
    "%%time\n",
    "# fit the training dataset on the NB classifier\n",
    "Naive = naive_bayes.MultinomialNB()\n",
    "Naive.fit(X_train,y_train)\n",
    "\n",
    "# predict the labels on validation dataset\n",
    "y_pred = Naive.predict(X_test)\n",
    "\n",
    "# Use accuracy_score function to get the accuracy\n",
    "print(\"Naive Bayes Accuracy Score -> \",accuracy_score(y_pred, y_test)*100)"
   ]
  },
  {
   "cell_type": "code",
   "execution_count": 153,
   "id": "f59e544c",
   "metadata": {
    "ExecuteTime": {
     "end_time": "2022-03-11T04:05:28.672022Z",
     "start_time": "2022-03-11T04:05:28.439057Z"
    }
   },
   "outputs": [
    {
     "data": {
      "image/png": "[encoded data removed]",
      "text/plain": [
       "<Figure size 1080x360 with 4 Axes>"
      ]
     },
     "metadata": {
      "needs_background": "light"
     },
     "output_type": "display_data"
    }
   ],
   "source": [
    "confusion = confusion_matrix(y_test, y_pred)\n",
    "\n",
    "fig, axes = plt.subplots(1, 2, figsize=(15, 5))\n",
    "fig.suptitle('Confusion Matrix')\n",
    "sns.heatmap(ax=axes[0], data=confusion, annot=True, fmt='g', cmap='Blues', xticklabels=categories, yticklabels=categories)\n",
    "sns.heatmap(ax=axes[1], data=confusion/np.sum(confusion, axis=0), annot=True, fmt='.2%', cmap='Blues', xticklabels=categories, yticklabels=categories)\n",
    "plt.show()"
   ]
  },
  {
   "cell_type": "code",
   "execution_count": 154,
   "id": "ad5a7bea",
   "metadata": {
    "ExecuteTime": {
     "end_time": "2022-03-11T04:06:44.407537Z",
     "start_time": "2022-03-11T04:05:29.656961Z"
    }
   },
   "outputs": [
    {
     "name": "stdout",
     "output_type": "stream",
     "text": [
      "SVM Accuracy Score ->  58.699999999999996\n",
      "Wall time: 1min 14s\n"
     ]
    }
   ],
   "source": [
    "%%time\n",
    "# fit the training dataset on the classifier\n",
    "SVM = svm.SVC(C=1.0, kernel='linear', degree=3, gamma='auto')\n",
    "SVM.fit(X_train, y_train)\n",
    "# predict the labels on validation dataset\n",
    "y_pred = SVM.predict(X_test)\n",
    "# Use accuracy_score function to get the accuracy\n",
    "print(\"SVM Accuracy Score -> \",accuracy_score(y_pred, y_test)*100)"
   ]
  },
  {
   "cell_type": "code",
   "execution_count": 157,
   "id": "ec33da19",
   "metadata": {
    "ExecuteTime": {
     "end_time": "2022-03-11T04:07:15.609493Z",
     "start_time": "2022-03-11T04:07:15.379433Z"
    }
   },
   "outputs": [
    {
     "data": {
      "image/png": "[encoded data removed]",
      "text/plain": [
       "<Figure size 1080x360 with 4 Axes>"
      ]
     },
     "metadata": {
      "needs_background": "light"
     },
     "output_type": "display_data"
    }
   ],
   "source": [
    "confusion = confusion_matrix(y_test, y_pred)\n",
    "\n",
    "fig, axes = plt.subplots(1, 2, figsize=(15, 5))\n",
    "fig.suptitle('Confusion Matrix')\n",
    "sns.heatmap(ax=axes[0], data=confusion, annot=True, fmt='g', cmap='Blues', xticklabels=categories, yticklabels=categories)\n",
    "sns.heatmap(ax=axes[1], data=confusion/np.sum(confusion, axis=0), annot=True, fmt='.2%', cmap='Blues', xticklabels=categories, yticklabels=categories)\n",
    "plt.show()"
   ]
  },
  {
   "cell_type": "markdown",
   "id": "7cfa2d7e",
   "metadata": {},
   "source": [
    "### Post model analysis"
   ]
  },
  {
   "cell_type": "code",
   "execution_count": 57,
   "id": "a0c3b96b",
   "metadata": {
    "ExecuteTime": {
     "end_time": "2022-03-13T07:27:46.097298Z",
     "start_time": "2022-03-13T07:27:37.648153Z"
    }
   },
   "outputs": [],
   "source": [
    "true_values = list(y_test)\n",
    "pred_values = y_pred\n",
    "\n",
    "df_check = pd.DataFrame(columns=['review index', 'text', 'true label', 'pred label'])\n",
    "for i, j in zip(y_test.index, range(len(y_test))):\n",
    "    df_check.loc[len(df_check.index)] = [i, df.loc[i, 'Text'], true_values[j], pred_values[j]] "
   ]
  },
  {
   "cell_type": "code",
   "execution_count": 58,
   "id": "6332ef71",
   "metadata": {
    "ExecuteTime": {
     "end_time": "2022-03-13T07:27:46.208143Z",
     "start_time": "2022-03-13T07:27:46.193121Z"
    }
   },
   "outputs": [],
   "source": [
    "pd.set_option('display.max_colwidth', None)"
   ]
  },
  {
   "cell_type": "code",
   "execution_count": 59,
   "id": "fb4c53cf",
   "metadata": {
    "ExecuteTime": {
     "end_time": "2022-03-13T07:27:46.318958Z",
     "start_time": "2022-03-13T07:27:46.304996Z"
    },
    "scrolled": false
   },
   "outputs": [
    {
     "data": {
      "text/html": [
       "<div>\n",
       "<style scoped>\n",
       "    .dataframe tbody tr th:only-of-type {\n",
       "        vertical-align: middle;\n",
       "    }\n",
       "\n",
       "    .dataframe tbody tr th {\n",
       "        vertical-align: top;\n",
       "    }\n",
       "\n",
       "    .dataframe thead th {\n",
       "        text-align: right;\n",
       "    }\n",
       "</style>\n",
       "<table border=\"1\" class=\"dataframe\">\n",
       "  <thead>\n",
       "    <tr style=\"text-align: right;\">\n",
       "      <th></th>\n",
       "      <th>review index</th>\n",
       "      <th>text</th>\n",
       "      <th>true label</th>\n",
       "      <th>pred label</th>\n",
       "    </tr>\n",
       "  </thead>\n",
       "  <tbody>\n",
       "    <tr>\n",
       "      <th>0</th>\n",
       "      <td>6365</td>\n",
       "      <td>I bought these because my brother LOVES them and they stopped selling them at our Costco.  So, since they were a gift, it was important that at least look okay... they looked terrible!  I understand that they were shipped, but the chocolate was cracked in places and chunks of it had stuck to the container.  Ah, well... I'm sure he'll still be excited because he likes them so much, but still pretty disappointing since I paid over twice what they used to cost at Costco.</td>\n",
       "      <td>Bad</td>\n",
       "      <td>Neutral</td>\n",
       "    </tr>\n",
       "    <tr>\n",
       "      <th>1</th>\n",
       "      <td>2873</td>\n",
       "      <td>eating these was sort of like eating a salted air bubble.  It was great for snacking because it takes a while to eat one package but they really tasted like salty air.  I am not sure I really liked them at all.</td>\n",
       "      <td>Bad</td>\n",
       "      <td>Bad</td>\n",
       "    </tr>\n",
       "    <tr>\n",
       "      <th>2</th>\n",
       "      <td>11519</td>\n",
       "      <td>To start with, I'll be upfront about a few things:&lt;br /&gt;&lt;br /&gt;A) I got this coffee free to try through the Amazon Vine program.&lt;br /&gt;&lt;br /&gt;B) I don't have a pod coffee maker, so I ripped open several bags and put the grounds in a normal filter, making a full 10 cup pot at a time.&lt;br /&gt;&lt;br /&gt;This said, I'm not in much of a position to assess the pod concept as I didn't use them this way.&lt;br /&gt;&lt;br /&gt;As far as the coffee itself.  Its fair, but not great.  Like other reviewers have mentioned its pretty weak stuff.  The taste kinda reminds me of a smoother McDonalds coffee.  Not bold by any means, but certainly drinkable if you're open to that kind of thing.&lt;br /&gt;&lt;br /&gt;I prefer a stronger flavor, so I won't be buying it again.</td>\n",
       "      <td>Neutral</td>\n",
       "      <td>Neutral</td>\n",
       "    </tr>\n",
       "    <tr>\n",
       "      <th>3</th>\n",
       "      <td>28330</td>\n",
       "      <td>NOT DISAPPOINTED WITH THIS PRODUCT!  I really love this cereal!  I have IBD and corn is more easily digested than wheat in my case.  This is far superior to plain ole' corn flakes!  Thanks, Amazon, for making it available.</td>\n",
       "      <td>Good</td>\n",
       "      <td>Bad</td>\n",
       "    </tr>\n",
       "    <tr>\n",
       "      <th>4</th>\n",
       "      <td>8080</td>\n",
       "      <td>I guess I should have looked around more, I was expecting them in a tub. Instead they were in 3 baggies with sticky ties and it made me feel a bit uneasy.... I was thinking:  who packaged these, where were these packaged and why don't I have any product information included?&lt;br /&gt;I don't believe the price was any better than what I could of found in a local candy store or drugstore.  I've purchased more product for less money before.  The Christmas tree shop in Wiliston, VT sells a 4 lb. tub for $5.99  but since I just moved to FL... my local knowledge of stores is limited.&lt;br /&gt;&lt;br /&gt;I bought these for a specific reason, I am attending a memorial service for a dear relative (who loved these) and I was planning on bringing them and putting them in dishes for those attending the service, instead because of the small size of them (I've seen larger ones) and because they have too much sugar on them, I will be keeping them at home and buying others somewhere else.</td>\n",
       "      <td>Bad</td>\n",
       "      <td>Neutral</td>\n",
       "    </tr>\n",
       "  </tbody>\n",
       "</table>\n",
       "</div>"
      ],
      "text/plain": [
       "  review index  \\\n",
       "0         6365   \n",
       "1         2873   \n",
       "2        11519   \n",
       "3        28330   \n",
       "4         8080   \n",
       "\n",
       "                                                                                                                                                                                                                                                                                                                                                                                                                                                                                                                                                                                                                                                                                                                                                                                                                                                                                                                                                                                                             text  \\\n",
       "0                                                                                                                                                                                                                                                                                                                                                                                                                                                                                                                        I bought these because my brother LOVES them and they stopped selling them at our Costco.  So, since they were a gift, it was important that at least look okay... they looked terrible!  I understand that they were shipped, but the chocolate was cracked in places and chunks of it had stuck to the container.  Ah, well... I'm sure he'll still be excited because he likes them so much, but still pretty disappointing since I paid over twice what they used to cost at Costco.   \n",
       "1                                                                                                                                                                                                                                                                                                                                                                                                                                                                                                                                                                                                                                                                                                                                                                                              eating these was sort of like eating a salted air bubble.  It was great for snacking because it takes a while to eat one package but they really tasted like salty air.  I am not sure I really liked them at all.   \n",
       "2                                                                                                                                                                                                                                                     To start with, I'll be upfront about a few things:<br /><br />A) I got this coffee free to try through the Amazon Vine program.<br /><br />B) I don't have a pod coffee maker, so I ripped open several bags and put the grounds in a normal filter, making a full 10 cup pot at a time.<br /><br />This said, I'm not in much of a position to assess the pod concept as I didn't use them this way.<br /><br />As far as the coffee itself.  Its fair, but not great.  Like other reviewers have mentioned its pretty weak stuff.  The taste kinda reminds me of a smoother McDonalds coffee.  Not bold by any means, but certainly drinkable if you're open to that kind of thing.<br /><br />I prefer a stronger flavor, so I won't be buying it again.   \n",
       "3                                                                                                                                                                                                                                                                                                                                                                                                                                                                                                                                                                                                                                                                                                                                                                                  NOT DISAPPOINTED WITH THIS PRODUCT!  I really love this cereal!  I have IBD and corn is more easily digested than wheat in my case.  This is far superior to plain ole' corn flakes!  Thanks, Amazon, for making it available.   \n",
       "4  I guess I should have looked around more, I was expecting them in a tub. Instead they were in 3 baggies with sticky ties and it made me feel a bit uneasy.... I was thinking:  who packaged these, where were these packaged and why don't I have any product information included?<br />I don't believe the price was any better than what I could of found in a local candy store or drugstore.  I've purchased more product for less money before.  The Christmas tree shop in Wiliston, VT sells a 4 lb. tub for $5.99  but since I just moved to FL... my local knowledge of stores is limited.<br /><br />I bought these for a specific reason, I am attending a memorial service for a dear relative (who loved these) and I was planning on bringing them and putting them in dishes for those attending the service, instead because of the small size of them (I've seen larger ones) and because they have too much sugar on them, I will be keeping them at home and buying others somewhere else.   \n",
       "\n",
       "  true label pred label  \n",
       "0        Bad    Neutral  \n",
       "1        Bad        Bad  \n",
       "2    Neutral    Neutral  \n",
       "3       Good        Bad  \n",
       "4        Bad    Neutral  "
      ]
     },
     "execution_count": 59,
     "metadata": {},
     "output_type": "execute_result"
    }
   ],
   "source": [
    "df_check.head(5)"
   ]
  },
  {
   "cell_type": "code",
   "execution_count": 64,
   "id": "64ed364a",
   "metadata": {
    "ExecuteTime": {
     "end_time": "2022-03-13T07:31:08.972533Z",
     "start_time": "2022-03-13T07:31:08.956389Z"
    }
   },
   "outputs": [
    {
     "data": {
      "text/plain": [
       "'guess look around expect tub instead baggi sticki tie made feel bit uneasi think packag packag product inform includ believ price better could found local candi store drugstor purchas product less money christma tree shop wiliston vt sell lb tub sinc move fl local knowledg store limit bought specif reason attend memori servic dear rel love plan ing put dish attend servic instead small size seen larger one much sugar keep home buy other somewher els'"
      ]
     },
     "execution_count": 64,
     "metadata": {},
     "output_type": "execute_result"
    }
   ],
   "source": [
    "processed_df.loc[8080, 'Text']"
   ]
  },
  {
   "cell_type": "markdown",
   "id": "33bd6ca8",
   "metadata": {},
   "source": [
    "Here we can see some examples of incorrect classifications by the model. Many of these contain positive words such as loved or great but they are referring to other past products and some even use sarcasm (which uses very positive words to describe negative experiences). \n",
    "\n",
    "A potential improvement for the model would be to add 2-gram combinations which would allow the model to identify \"Not disappointed\" as something positive instead of separating \"not\" and \"disappointed\", leading to the wrong conclusion."
   ]
  },
  {
   "cell_type": "code",
   "execution_count": 201,
   "id": "73dc7c1a",
   "metadata": {
    "ExecuteTime": {
     "end_time": "2022-03-11T04:26:03.270273Z",
     "start_time": "2022-03-11T04:26:03.254316Z"
    }
   },
   "outputs": [],
   "source": [
    "#df_check[df_check['true label'] == df_check['pred label']]"
   ]
  },
  {
   "cell_type": "markdown",
   "id": "7d26c56e",
   "metadata": {},
   "source": [
    "### Comments\n",
    "* I removed all 'br' (html break)\n",
    "\n",
    "### To do \n",
    "* Do pegasus (with 2 classes)\n",
    "* Add example of before preprocessing and after "
   ]
  },
  {
   "cell_type": "code",
   "execution_count": null,
   "id": "ed63986c",
   "metadata": {},
   "outputs": [],
   "source": []
  }
 ],
 "metadata": {
  "kernelspec": {
   "display_name": "Python 3 (ipykernel)",
   "language": "python",
   "name": "python3"
  },
  "language_info": {
   "codemirror_mode": {
    "name": "ipython",
    "version": 3
   },
   "file_extension": ".py",
   "mimetype": "text/x-python",
   "name": "python",
   "nbconvert_exporter": "python",
   "pygments_lexer": "ipython3",
   "version": "3.9.7"
  },
  "toc": {
   "base_numbering": 1,
   "nav_menu": {},
   "number_sections": false,
   "sideBar": true,
   "skip_h1_title": false,
   "title_cell": "Table of Contents",
   "title_sidebar": "Contents",
   "toc_cell": false,
   "toc_position": {
    "height": "calc(100% - 180px)",
    "left": "10px",
    "top": "150px",
    "width": "384px"
   },
   "toc_section_display": true,
   "toc_window_display": false
  },
  "varInspector": {
   "cols": {
    "lenName": 16,
    "lenType": 16,
    "lenVar": 40
   },
   "kernels_config": {
    "python": {
     "delete_cmd_postfix": "",
     "delete_cmd_prefix": "del ",
     "library": "var_list.py",
     "varRefreshCmd": "print(var_dic_list())"
    },
    "r": {
     "delete_cmd_postfix": ") ",
     "delete_cmd_prefix": "rm(",
     "library": "var_list.r",
     "varRefreshCmd": "cat(var_dic_list()) "
    }
   },
   "types_to_exclude": [
    "module",
    "function",
    "builtin_function_or_method",
    "instance",
    "_Feature"
   ],
   "window_display": false
  }
 },
 "nbformat": 4,
 "nbformat_minor": 5
}
