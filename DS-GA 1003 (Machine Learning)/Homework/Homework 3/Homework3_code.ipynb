{
 "cells": [
  {
   "cell_type": "markdown",
   "id": "99b8e695",
   "metadata": {},
   "source": [
    "# Homework 3"
   ]
  },
  {
   "cell_type": "code",
   "execution_count": 8,
   "id": "0b95df3a",
   "metadata": {
    "ExecuteTime": {
     "end_time": "2022-02-28T22:38:35.389136Z",
     "start_time": "2022-02-28T22:38:33.906410Z"
    }
   },
   "outputs": [],
   "source": [
    "# Import Libraries\n",
    "import pandas as pd\n",
    "import numpy as np\n",
    "import matplotlib.pyplot as plt\n",
    "import random\n",
    "import os\n",
    "from collections import Counter\n",
    "import sklearn\n",
    "from scipy.spatial.distance import cdist\n",
    "import functools\n",
    "\n",
    "random.seed(27)"
   ]
  },
  {
   "cell_type": "markdown",
   "id": "b364de71",
   "metadata": {
    "heading_collapsed": true
   },
   "source": [
    "### Question 1  <font color=red> TO DO</font>"
   ]
  },
  {
   "cell_type": "markdown",
   "id": "1db0409e",
   "metadata": {},
   "source": [
    "### Question 2"
   ]
  },
  {
   "cell_type": "markdown",
   "id": "7684d7f7",
   "metadata": {
    "ExecuteTime": {
     "end_time": "2022-02-22T20:01:48.021553Z",
     "start_time": "2022-02-22T20:01:48.005684Z"
    }
   },
   "source": [
    "$$\n",
    "\\begin{equation*}\n",
    "    \\begin{split}\n",
    "        J(w) = max\\{0, 1-yw^Tx\\} = \\begin{cases} 0 \\textbf{ if } yw^Tx\\geq1\\\\1-yw^Tx \\textbf{ if } yw^Tx<1\\end{cases}= \\begin{cases} 0 \\textbf{ if } yw^Tx\\geq1\\\\-yx \\textbf{ if } yw^Tx<1\\end{cases}\\\\\n",
    "    \\end{split}\n",
    "\\end{equation*}\n",
    "$$"
   ]
  },
  {
   "cell_type": "markdown",
   "id": "5f1bb77e",
   "metadata": {},
   "source": [
    "### Question 3 <font color=red> TO DO</font>"
   ]
  },
  {
   "cell_type": "markdown",
   "id": "78f81a07",
   "metadata": {},
   "source": [
    "A function is convex if for all $x, y$ in the domain of $f$ for all $\\theta \\in (0,1)$:\n",
    "$$\n",
    "\\begin{equation*}\n",
    "    \\begin{split}\n",
    "        \\theta f(a) + (1-\\theta)f(b) \\geq f(\\theta a + (1-\\theta)(b))\n",
    "    \\end{split}\n",
    "\\end{equation*}\n",
    "$$\n",
    "\n",
    "Let's suppose that f is not convex. <br>\n",
    "Then, there is a point $x_0$ in some interval $x \\in (a,b)$, such that $f(x_0)$ lies above $\\theta f(a) + (1-\\theta)f(b)$. It is trivial that at that point $x_0$, "
   ]
  },
  {
   "cell_type": "markdown",
   "id": "b840d3e0",
   "metadata": {},
   "source": [
    "### Question 4"
   ]
  },
  {
   "cell_type": "markdown",
   "id": "b10b3f18",
   "metadata": {},
   "source": [
    "Desmos"
   ]
  },
  {
   "cell_type": "markdown",
   "id": "3b664cd6",
   "metadata": {},
   "source": [
    "### Question 5"
   ]
  },
  {
   "cell_type": "markdown",
   "id": "9832aa4b",
   "metadata": {},
   "source": [
    "Notebook"
   ]
  },
  {
   "cell_type": "markdown",
   "id": "25b6e53f",
   "metadata": {},
   "source": [
    "### Given code (SVM with Pegasos algorithm)"
   ]
  },
  {
   "cell_type": "code",
   "execution_count": 9,
   "id": "f8bc91ec",
   "metadata": {
    "ExecuteTime": {
     "end_time": "2022-02-28T22:38:36.629342Z",
     "start_time": "2022-02-28T22:38:36.615432Z"
    }
   },
   "outputs": [],
   "source": [
    "def read_data(file):\n",
    "    '''\n",
    "    Read each file into a list of strings.\n",
    "    '''\n",
    "    f = open(file)\n",
    "    lines = f.read().split(' ')\n",
    "    symbols = '${}()[].,:;+-*/&|<>=~\" '\n",
    "    words = map(lambda Element: Element.translate(str.maketrans(\"\", \"\", symbols)).strip(), lines)\n",
    "    words = filter(None, words)\n",
    "    return list(words)"
   ]
  },
  {
   "cell_type": "code",
   "execution_count": 10,
   "id": "56e19018",
   "metadata": {
    "ExecuteTime": {
     "end_time": "2022-02-28T22:38:36.769176Z",
     "start_time": "2022-02-28T22:38:36.760198Z"
    }
   },
   "outputs": [],
   "source": [
    "def folder_list(path,label):\n",
    "    '''\n",
    "    PARAMETER PATH IS THE PATH OF YOUR LOCAL FOLDER\n",
    "    '''\n",
    "    filelist = os.listdir(path)\n",
    "    review = []\n",
    "    for infile in filelist:\n",
    "        file = os.path.join(path,infile)\n",
    "        r = read_data(file)\n",
    "        r.append(label)\n",
    "        review.append(r)\n",
    "    return review"
   ]
  },
  {
   "cell_type": "code",
   "execution_count": 11,
   "id": "5d084c25",
   "metadata": {
    "ExecuteTime": {
     "end_time": "2022-02-28T22:38:36.924472Z",
     "start_time": "2022-02-28T22:38:36.908932Z"
    }
   },
   "outputs": [],
   "source": [
    "def load_and_shuffle_data():\n",
    "    '''\n",
    "    pos_path is where you save positive review data.\n",
    "    neg_path is where you save negative review data.\n",
    "    '''\n",
    "    pos_path = \"data/pos\"\n",
    "    neg_path = \"data/neg\"\n",
    "    \n",
    "    #pos_path = \"C:\\\\Users\\\\alexx\\\\OneDrive\\\\Escritorio\\\\hw3\\\\data_reviews\\\\data\\\\pos\"\n",
    "    #neg_path = \"C:\\\\Users\\\\alexx\\\\OneDrive\\\\Escritorio\\\\hw3\\\\data_reviews\\\\data\\\\neg\"\n",
    "    \n",
    "    pos_review = folder_list(pos_path,1)\n",
    "    neg_review = folder_list(neg_path,-1)\n",
    "\n",
    "    review = pos_review + neg_review\n",
    "    random.shuffle(review)\n",
    "    return review"
   ]
  },
  {
   "cell_type": "code",
   "execution_count": 12,
   "id": "9679126b",
   "metadata": {
    "ExecuteTime": {
     "end_time": "2022-02-28T22:38:37.066007Z",
     "start_time": "2022-02-28T22:38:37.058004Z"
    }
   },
   "outputs": [],
   "source": [
    "# Taken from http://web.stanford.edu/class/cs221/ Assignment #2 Support Code\n",
    "def dotProduct(d1, d2):\n",
    "    \"\"\"\n",
    "    @param dict d1: a feature vector represented by a mapping from a feature (string) to a weight (float).\n",
    "    @param dict d2: same as d1\n",
    "    @return float: the dot product between d1 and d2\n",
    "    \"\"\"\n",
    "    if len(d1) < len(d2):\n",
    "        return dotProduct(d2, d1)\n",
    "    else:\n",
    "        return sum(d1.get(f, 0) * v for f, v in d2.items())"
   ]
  },
  {
   "cell_type": "code",
   "execution_count": 13,
   "id": "e942a485",
   "metadata": {
    "ExecuteTime": {
     "end_time": "2022-02-28T22:38:37.207243Z",
     "start_time": "2022-02-28T22:38:37.190289Z"
    }
   },
   "outputs": [],
   "source": [
    "def increment(d1, scale, d2):\n",
    "    \"\"\"\n",
    "    Implements d1 += scale * d2 for sparse vectors.\n",
    "    @param dict d1: the feature vector which is mutated.\n",
    "    @param float scale\n",
    "    @param dict d2: a feature vector.\n",
    "\n",
    "    NOTE: This function does not return anything, but rather\n",
    "    increments d1 in place. We do this because it is much faster to\n",
    "    change elements of d1 in place than to build a new dictionary and\n",
    "    return it.\n",
    "    \"\"\"\n",
    "    for f, v in d2.items():\n",
    "        d1[f] = d1.get(f, 0) + v * scale\n"
   ]
  },
  {
   "cell_type": "markdown",
   "id": "58415710",
   "metadata": {},
   "source": [
    "### Question 6"
   ]
  },
  {
   "cell_type": "code",
   "execution_count": 14,
   "id": "c670c50b",
   "metadata": {
    "ExecuteTime": {
     "end_time": "2022-02-28T22:38:38.631437Z",
     "start_time": "2022-02-28T22:38:38.625454Z"
    }
   },
   "outputs": [],
   "source": [
    "def bag_of_words(input_):\n",
    "    return Counter(input_)"
   ]
  },
  {
   "cell_type": "markdown",
   "id": "9c5903d0",
   "metadata": {
    "ExecuteTime": {
     "end_time": "2022-02-22T19:52:30.411751Z",
     "start_time": "2022-02-22T19:52:30.390399Z"
    }
   },
   "source": [
    "### Question 7"
   ]
  },
  {
   "cell_type": "code",
   "execution_count": 15,
   "id": "471f2cec",
   "metadata": {
    "ExecuteTime": {
     "end_time": "2022-02-28T22:38:49.786533Z",
     "start_time": "2022-02-28T22:38:40.922652Z"
    }
   },
   "outputs": [],
   "source": [
    "review = load_and_shuffle_data()"
   ]
  },
  {
   "cell_type": "code",
   "execution_count": 16,
   "id": "f75bbac6",
   "metadata": {
    "ExecuteTime": {
     "end_time": "2022-02-28T22:38:50.099505Z",
     "start_time": "2022-02-28T22:38:49.974361Z"
    }
   },
   "outputs": [],
   "source": [
    "X_train, X_test, y_train, y_test = [], [], [], []\n",
    "\n",
    "for doc in review[0:1500]:\n",
    "    X_train.append(bag_of_words(doc[0:-1])) #Read all words except the label\n",
    "    y_train.append(doc[-1]) #Read the label\n",
    "    \n",
    "for doc in review[1500:2000]:\n",
    "    X_test.append(bag_of_words(doc[0:-1])) #Read all words except the label\n",
    "    y_test.append(doc[-1]) #Read the label"
   ]
  },
  {
   "cell_type": "markdown",
   "id": "fc57a0cd",
   "metadata": {
    "ExecuteTime": {
     "end_time": "2022-02-22T19:52:33.212266Z",
     "start_time": "2022-02-22T19:52:33.196436Z"
    }
   },
   "source": [
    "### Question 8"
   ]
  },
  {
   "cell_type": "code",
   "execution_count": 17,
   "id": "ab66c754",
   "metadata": {
    "ExecuteTime": {
     "end_time": "2022-02-28T22:38:50.653192Z",
     "start_time": "2022-02-28T22:38:50.640176Z"
    }
   },
   "outputs": [],
   "source": [
    "def pegasos(X_train, y_train, epochs = 3, lbd=0.01):\n",
    "    \n",
    "    t, w = 1, {}\n",
    "\n",
    "    for _ in range(epochs):\n",
    "        for idx in range(0, len(X_train)):\n",
    "            t += 1\n",
    "            step = 1/(t*lbd)\n",
    "\n",
    "            #Update w regardless of the training point\n",
    "            for key, value in w.items():\n",
    "                w[key] = value * (1-step*lbd)\n",
    "\n",
    "            if y_train[idx] * dotProduct(w, X_train[idx]) < 1:\n",
    "                increment(w, step * y_train[idx], X_train[idx])\n",
    "                \n",
    "    return w "
   ]
  },
  {
   "cell_type": "markdown",
   "id": "cfcf04e3",
   "metadata": {},
   "source": [
    "### Question 9"
   ]
  },
  {
   "cell_type": "code",
   "execution_count": 18,
   "id": "31ba3d5c",
   "metadata": {
    "ExecuteTime": {
     "end_time": "2022-02-28T22:38:51.236285Z",
     "start_time": "2022-02-28T22:38:51.221324Z"
    }
   },
   "outputs": [],
   "source": [
    "def optimized_pegasos(X_train, y_train, epochs = 3, lbd=0.01):\n",
    "         \n",
    "    s, t, w = 1, 1, {}\n",
    "    for _ in range(epochs):\n",
    "        for idx in range(0, len(X_train)):\n",
    "            t += 1\n",
    "            step = 1/(t*lbd)\n",
    "            s *= (1-step*lbd) #Update s regardless of the training point\n",
    "\n",
    "            if y_train[idx] * dotProduct(w, X_train[idx]) * s < 1:\n",
    "                increment(w, (1/s) * step * y_train[idx], X_train[idx])\n",
    "    for key, value in w.items():\n",
    "        w[key] = value * s\n",
    "            \n",
    "    return w"
   ]
  },
  {
   "cell_type": "markdown",
   "id": "81ee151a",
   "metadata": {},
   "source": [
    "### Question 10"
   ]
  },
  {
   "cell_type": "code",
   "execution_count": 19,
   "id": "3ec2488e",
   "metadata": {
    "ExecuteTime": {
     "end_time": "2022-02-28T22:39:05.575078Z",
     "start_time": "2022-02-28T22:38:51.790776Z"
    }
   },
   "outputs": [
    {
     "name": "stdout",
     "output_type": "stream",
     "text": [
      "[('will', 3.4436791824039124), ('hunting', 0.7776049766718484), ('matt', 0.31104199066874), ('damon', 0.5109975560986435), ('is', 1.1775161075316511)]\n",
      "Wall time: 13.8 s\n"
     ]
    }
   ],
   "source": [
    "%%time\n",
    "w = pegasos(X_train, y_train, epochs=3, lbd=0.01)\n",
    "print(list(w.items())[0:5])"
   ]
  },
  {
   "cell_type": "code",
   "execution_count": 14,
   "id": "819f49e1",
   "metadata": {
    "ExecuteTime": {
     "end_time": "2022-02-28T20:45:10.148948Z",
     "start_time": "2022-02-28T20:45:09.806651Z"
    }
   },
   "outputs": [
    {
     "name": "stdout",
     "output_type": "stream",
     "text": [
      "[('will', 3.4436791824039092), ('hunting', 0.7776049766718498), ('matt', 0.3110419906687397), ('damon', 0.5109975560986442), ('is', 1.1775161075316611)]\n",
      "Wall time: 333 ms\n"
     ]
    }
   ],
   "source": [
    "%%time\n",
    "w = optimized_pegasos(X_train, y_train, epochs=3, lbd=0.01)\n",
    "print(list(w.items())[0:5])"
   ]
  },
  {
   "cell_type": "markdown",
   "id": "e211d2b1",
   "metadata": {},
   "source": [
    "The first method takes around 15 seconds, whereas the second method takes 0.3 seconds."
   ]
  },
  {
   "cell_type": "markdown",
   "id": "a584cace",
   "metadata": {
    "heading_collapsed": true
   },
   "source": [
    "### Question 11"
   ]
  },
  {
   "cell_type": "code",
   "execution_count": 15,
   "id": "3eb0d6cb",
   "metadata": {
    "ExecuteTime": {
     "end_time": "2022-02-28T20:45:10.164135Z",
     "start_time": "2022-02-28T20:45:10.149718Z"
    },
    "hidden": true
   },
   "outputs": [],
   "source": [
    "def classification_error(X, y, w):\n",
    "\n",
    "    count = 0\n",
    "    for idx in range(len(X)):\n",
    "        pred = dotProduct(w, X[idx])\n",
    "    \n",
    "        if pred * y[idx] < 0:\n",
    "            count += 1\n",
    "    return round(count/len(X),3)"
   ]
  },
  {
   "cell_type": "markdown",
   "id": "d7c6b64c",
   "metadata": {},
   "source": [
    "### Question 12"
   ]
  },
  {
   "cell_type": "code",
   "execution_count": 13,
   "id": "2567db0d",
   "metadata": {
    "ExecuteTime": {
     "end_time": "2022-02-26T19:29:07.506896Z",
     "start_time": "2022-02-26T19:28:31.540949Z"
    }
   },
   "outputs": [],
   "source": [
    "lambda_list = [10**-3, 0.01, 0.05, 0.1, 0.12, 0.5, 1]\n",
    "error_list = []\n",
    "    \n",
    "for lbd in lambda_list:\n",
    "    w = optimized_pegasos(X_train, y_train, epochs=50, lbd=lbd)\n",
    "    error_list.append(classification_error(X_test, y_test, w))"
   ]
  },
  {
   "cell_type": "code",
   "execution_count": 14,
   "id": "5745b2a8",
   "metadata": {
    "ExecuteTime": {
     "end_time": "2022-02-26T19:29:08.329789Z",
     "start_time": "2022-02-26T19:29:07.795203Z"
    }
   },
   "outputs": [
    {
     "data": {
      "image/png": "[encoded data removed]",
      "text/plain": [
       "<Figure size 1080x504 with 1 Axes>"
      ]
     },
     "metadata": {
      "needs_background": "light"
     },
     "output_type": "display_data"
    }
   ],
   "source": [
    "plt.figure(figsize=(15, 7))\n",
    "plt.plot(lambda_list, error_list)\n",
    "plt.scatter(lambda_list[np.argmin(error_list)], np.min(error_list), color='red', s=50, alpha=0.6)\n",
    "plt.xscale('log')\n",
    "plt.show()"
   ]
  },
  {
   "cell_type": "code",
   "execution_count": 112,
   "id": "be49b90b",
   "metadata": {
    "ExecuteTime": {
     "end_time": "2022-02-24T18:14:29.021679Z",
     "start_time": "2022-02-24T18:14:29.006053Z"
    }
   },
   "outputs": [],
   "source": [
    "opt_lambda = 0.12"
   ]
  },
  {
   "cell_type": "code",
   "execution_count": 15,
   "id": "4c9f411e",
   "metadata": {
    "ExecuteTime": {
     "end_time": "2022-02-26T19:29:08.629579Z",
     "start_time": "2022-02-26T19:29:08.616596Z"
    }
   },
   "outputs": [
    {
     "data": {
      "text/plain": [
       "[0.001, 0.01, 0.05, 0.1, 0.12, 0.5, 1]"
      ]
     },
     "execution_count": 15,
     "metadata": {},
     "output_type": "execute_result"
    }
   ],
   "source": [
    "lambda_list"
   ]
  },
  {
   "cell_type": "code",
   "execution_count": 16,
   "id": "3f15c8ff",
   "metadata": {
    "ExecuteTime": {
     "end_time": "2022-02-26T19:29:08.929172Z",
     "start_time": "2022-02-26T19:29:08.915916Z"
    }
   },
   "outputs": [
    {
     "data": {
      "text/plain": [
       "[0.192, 0.198, 0.18, 0.176, 0.172, 0.184, 0.202]"
      ]
     },
     "execution_count": 16,
     "metadata": {},
     "output_type": "execute_result"
    }
   ],
   "source": [
    "error_list "
   ]
  },
  {
   "cell_type": "markdown",
   "id": "7eed14f6",
   "metadata": {},
   "source": [
    "### Question 13"
   ]
  },
  {
   "cell_type": "code",
   "execution_count": 297,
   "id": "0e3b3a29",
   "metadata": {
    "ExecuteTime": {
     "end_time": "2022-02-24T19:20:44.517195Z",
     "start_time": "2022-02-24T19:20:43.472709Z"
    }
   },
   "outputs": [],
   "source": [
    "w = optimized_pegasos(X_train, y_train, epochs=10, lbd=opt_lambda)\n",
    "\n",
    "score_list = []\n",
    "for idx in range(len(X_test)):\n",
    "        score_list.append(dotProduct(w, X_test[idx]))"
   ]
  },
  {
   "cell_type": "code",
   "execution_count": 300,
   "id": "d069e7bc",
   "metadata": {
    "ExecuteTime": {
     "end_time": "2022-02-24T19:20:52.407290Z",
     "start_time": "2022-02-24T19:20:52.402344Z"
    }
   },
   "outputs": [],
   "source": [
    "score_dict = {}\n",
    "score_dict[\"below -2\"] = [(score, label) for score, label in zip(score_list, y_test) if score <= -2]\n",
    "score_dict[\"-2 to 0\"] = [(score, label) for score, label in zip(score_list, y_test) if (score < 0) & (score > -2)]\n",
    "score_dict[\"0 to 2\"] = [(score, label) for score, label in zip(score_list, y_test) if (score > 0) & (score < 2)]\n",
    "score_dict[\"above 2\"] = [(score, label) for score, label in zip(score_list, y_test) if score >= 2]"
   ]
  },
  {
   "cell_type": "code",
   "execution_count": 310,
   "id": "bc078623",
   "metadata": {
    "ExecuteTime": {
     "end_time": "2022-02-24T19:22:30.894965Z",
     "start_time": "2022-02-24T19:22:30.877325Z"
    }
   },
   "outputs": [],
   "source": [
    "margin_dict = {}\n",
    "margin_dict[\"below -2\"] = [1 if score*label < 0 else 0 for score, label in score_dict[\"below -2\"]]\n",
    "margin_dict[\"-2 to 0\"] = [1 if score*label < 0 else 0 for score, label in score_dict[\"-2 to 0\"]]\n",
    "margin_dict[\"0 to 2\"] = [1 if score*label < 0 else 0 for score, label in score_dict[\"0 to 2\"]]\n",
    "margin_dict[\"above 2\"] = [1 if score*label < 0 else 0 for score, label in score_dict[\"above 2\"]]"
   ]
  },
  {
   "cell_type": "code",
   "execution_count": 321,
   "id": "6b24cad1",
   "metadata": {
    "ExecuteTime": {
     "end_time": "2022-02-24T19:25:05.080697Z",
     "start_time": "2022-02-24T19:25:05.064740Z"
    }
   },
   "outputs": [
    {
     "data": {
      "text/html": [
       "<div>\n",
       "<style scoped>\n",
       "    .dataframe tbody tr th:only-of-type {\n",
       "        vertical-align: middle;\n",
       "    }\n",
       "\n",
       "    .dataframe tbody tr th {\n",
       "        vertical-align: top;\n",
       "    }\n",
       "\n",
       "    .dataframe thead th {\n",
       "        text-align: right;\n",
       "    }\n",
       "</style>\n",
       "<table border=\"1\" class=\"dataframe\">\n",
       "  <thead>\n",
       "    <tr style=\"text-align: right;\">\n",
       "      <th></th>\n",
       "      <th>Total</th>\n",
       "      <th>Correct</th>\n",
       "      <th>Incorrect</th>\n",
       "      <th>Classification error</th>\n",
       "    </tr>\n",
       "    <tr>\n",
       "      <th>Range</th>\n",
       "      <th></th>\n",
       "      <th></th>\n",
       "      <th></th>\n",
       "      <th></th>\n",
       "    </tr>\n",
       "  </thead>\n",
       "  <tbody>\n",
       "    <tr>\n",
       "      <th>below -2</th>\n",
       "      <td>106</td>\n",
       "      <td>5</td>\n",
       "      <td>101</td>\n",
       "      <td>0.953</td>\n",
       "    </tr>\n",
       "    <tr>\n",
       "      <th>-2 to 0</th>\n",
       "      <td>167</td>\n",
       "      <td>53</td>\n",
       "      <td>114</td>\n",
       "      <td>0.683</td>\n",
       "    </tr>\n",
       "    <tr>\n",
       "      <th>0 to 2</th>\n",
       "      <td>147</td>\n",
       "      <td>33</td>\n",
       "      <td>114</td>\n",
       "      <td>0.776</td>\n",
       "    </tr>\n",
       "    <tr>\n",
       "      <th>above 2</th>\n",
       "      <td>80</td>\n",
       "      <td>2</td>\n",
       "      <td>78</td>\n",
       "      <td>0.975</td>\n",
       "    </tr>\n",
       "  </tbody>\n",
       "</table>\n",
       "</div>"
      ],
      "text/plain": [
       "          Total  Correct  Incorrect  Classification error\n",
       "Range                                                    \n",
       "below -2    106        5        101                 0.953\n",
       "-2 to 0     167       53        114                 0.683\n",
       "0 to 2      147       33        114                 0.776\n",
       "above 2      80        2         78                 0.975"
      ]
     },
     "execution_count": 321,
     "metadata": {},
     "output_type": "execute_result"
    }
   ],
   "source": [
    "rows = []\n",
    "for key, value in margin_dict.items():\n",
    "     rows.append([key, len(value), np.sum(value), len(value)-np.sum(value), round((len(value)-np.sum(value))/len(value), 3)])\n",
    "        \n",
    "df = pd.DataFrame(rows, columns=[\"Range\", \"Total\", \"Correct\", \"Incorrect\", \"Classification error\"])\n",
    "df.set_index(\"Range\")"
   ]
  },
  {
   "cell_type": "markdown",
   "id": "c78f4cff",
   "metadata": {},
   "source": [
    "It is clear that the algorithm has much more confidence in its prediction when the score is higher than 2 for positive predictions and lower than -2 for negative predictions."
   ]
  },
  {
   "cell_type": "markdown",
   "id": "bce15590",
   "metadata": {},
   "source": [
    "### Question 14"
   ]
  },
  {
   "cell_type": "code",
   "execution_count": null,
   "id": "3d5a306b",
   "metadata": {},
   "outputs": [],
   "source": [
    "w = optimized_pegasos(X_train, y_train, epochs=10, lbd=opt_lambda)\n",
    "\n",
    "score_list = []\n",
    "for idx in range(len(X_test)):\n",
    "        score_list.append(dotProduct(w, X_test[idx]))"
   ]
  },
  {
   "cell_type": "markdown",
   "id": "cd7a8d3f",
   "metadata": {
    "heading_collapsed": true
   },
   "source": [
    "### Question 15"
   ]
  },
  {
   "cell_type": "markdown",
   "id": "30a36775",
   "metadata": {
    "hidden": true
   },
   "source": [
    "To obtain the value for w that minimizes this expression we have to derive it with respect to w and equal it to 0.\n",
    "\n",
    "$$\n",
    "\\begin{equation*}\n",
    "    \\begin{split}\n",
    "J(w) = ||Xw-y||^2 + \\lambda||w||^2 = w^tX^TXw-2w^TX^Ty+\\lambda w^Tw\n",
    "    \\end{split}\n",
    "\\end{equation*}\n",
    "$$\n",
    "\n",
    "$$\n",
    "\\begin{equation*}\n",
    "    \\begin{split}\n",
    "\\frac{\\partial J(w)}{\\partial w} = 0\\\\\n",
    "&\\rightarrow 2X^TXw-2X^Ty+2\\lambda Iw = 0 \\\\\n",
    "&\\rightarrow X^Ty = X^TXw+\\lambda Iw\\\\\n",
    "&\\rightarrow w=(X^TX+\\lambda I)^{-1}X^Ty\n",
    "    \\end{split}\n",
    "\\end{equation*}\n",
    "$$"
   ]
  },
  {
   "cell_type": "markdown",
   "id": "18e06f5b",
   "metadata": {
    "ExecuteTime": {
     "end_time": "2022-02-26T20:21:49.862297Z",
     "start_time": "2022-02-26T20:21:49.844345Z"
    },
    "hidden": true
   },
   "source": [
    "Now, let's prove that $(X^TX+\\lambda I)^{-1}$ exists by proving that the matrix $X^TX+\\lambda I$ is Positive Definite and therefore invertible.\n",
    "\n",
    "$$\n",
    "\\begin{equation*}\n",
    "    \\begin{split}\n",
    "z^TMz\\geq 0 \\\\\n",
    "&\\rightarrow z^TX^TXz \\geq 0\\\\\n",
    "&\\rightarrow (Xz)^T(Xz) \\geq 0\\\\\n",
    "&\\rightarrow ||Xz||^2 \\geq 0\\\\\n",
    "    \\end{split}\n",
    "\\end{equation*}\n",
    "$$\n",
    "\n",
    "In this proof we can see that any symmetric matrix ($X^TX$) is Positive semi-Definite.\n",
    "\n",
    "As a consequence, the condition $λ > 0$ is sufficient to\n",
    "guarantee that $XT X + λI$ is Positive Definite.\n",
    "\n",
    "<font color='red'> Add proof lambda </font> "
   ]
  },
  {
   "cell_type": "markdown",
   "id": "294f4b89",
   "metadata": {},
   "source": [
    "### Question 16"
   ]
  },
  {
   "cell_type": "markdown",
   "id": "1aed314d",
   "metadata": {},
   "source": [
    "$$\n",
    "\\begin{equation*}\n",
    "    \\begin{split}\n",
    "        \\lambda X^TXw + \\lambda Iw = X^Ty \\rightarrow \\lambda Iw = X^Ty-X^TXw  \\rightarrow w = \\frac{1}{\\lambda}(X^Ty-X^TXw)\\\\\n",
    "    \\end{split}\n",
    "\\end{equation*}\n",
    "$$\n",
    "\n",
    "Which can then be rewritten as:\n",
    "\n",
    "$$\n",
    "\\begin{equation*}\n",
    "    \\begin{split}\n",
    "        w = \\frac{1}{\\lambda}(X^Ty-X^TXw) \\rightarrow w=X^T(\\frac{1}{\\lambda}y - \\frac{1}{\\lambda}Xw) \\rightarrow w = X^T \\alpha\n",
    "    \\end{split}\n",
    "\\end{equation*}\n",
    "$$"
   ]
  },
  {
   "cell_type": "markdown",
   "id": "d31b4256",
   "metadata": {},
   "source": [
    "### Question 17"
   ]
  },
  {
   "cell_type": "markdown",
   "id": "cf53aa3b",
   "metadata": {},
   "source": [
    "Because we can see that $w$ is a linear combination of our input data $X$ (where the coefficients are the resulting vector $\\alpha$)"
   ]
  },
  {
   "cell_type": "markdown",
   "id": "e9e6c554",
   "metadata": {},
   "source": [
    "### Question 18"
   ]
  },
  {
   "cell_type": "markdown",
   "id": "15ff17b4",
   "metadata": {},
   "source": [
    "$$\n",
    "\\begin{equation*}\n",
    "    \\begin{split}\n",
    "        \\alpha = \\frac{1}{\\lambda}(y-Xw) \\\\\n",
    "        &\\rightarrow \\alpha = \\frac{1}{\\lambda}(y-XX^T\\alpha)\\\\\n",
    "        &\\rightarrow \\lambda\\alpha + XX^T\\alpha = y\\\\\n",
    "        &\\rightarrow (\\lambda I + XX^T)\\alpha = y\\\\\n",
    "        &\\rightarrow \\alpha = (\\lambda I + XX^T)^{-1}y\\\\\n",
    "    \\end{split}\n",
    "\\end{equation*}\n",
    "$$"
   ]
  },
  {
   "cell_type": "markdown",
   "id": "06284fe6",
   "metadata": {},
   "source": [
    "### Question 19"
   ]
  },
  {
   "cell_type": "markdown",
   "id": "477e5e6a",
   "metadata": {},
   "source": [
    "$$\n",
    "\\begin{equation*}\n",
    "    \\begin{split}\n",
    "        Xw =\\\\\n",
    "        &= X(X^T\\alpha)\\\\\n",
    "        &= X(X^T(\\lambda I + XX^T)^{-1}y)\\\\\n",
    "        &= XX^T(\\lambda I + XX^T)^{-1}y\\\\\n",
    "    \\end{split}\n",
    "\\end{equation*}\n",
    "$$"
   ]
  },
  {
   "cell_type": "markdown",
   "id": "a326599c",
   "metadata": {},
   "source": [
    "### Question 20"
   ]
  },
  {
   "cell_type": "markdown",
   "id": "625f2dda",
   "metadata": {},
   "source": [
    "$$\n",
    "\\begin{equation*}\n",
    "    \\begin{split}\n",
    "        f(x) = x^Tw\\\\\n",
    "        &= x^T(X^T\\alpha)\\\\\n",
    "        &= \\sum_{i} \\alpha_i \\langle x^T, x_i \\rangle \\\\\n",
    "        &= \\sum_{i} \\alpha_i k_x\\\\\n",
    "    \\end{split}\n",
    "\\end{equation*}\n",
    "$$"
   ]
  },
  {
   "cell_type": "markdown",
   "id": "40acf699",
   "metadata": {},
   "source": [
    "### Question 21"
   ]
  },
  {
   "cell_type": "code",
   "execution_count": 20,
   "id": "3053c226",
   "metadata": {
    "ExecuteTime": {
     "end_time": "2022-02-28T22:39:06.157963Z",
     "start_time": "2022-02-28T22:39:06.144000Z"
    }
   },
   "outputs": [],
   "source": [
    "def linear_kernel(X1, X2):\n",
    "    \"\"\"\n",
    "    Computes the linear kernel between two sets of vectors.\n",
    "    Args:\n",
    "        X1 - an n1xd matrix with vectors x1_1,...,x1_n1 in the rows\n",
    "        X2 - an n2xd matrix with vectors x2_1,...,x2_n2 in the rows\n",
    "    Returns:\n",
    "        matrix of size n1xn2, with x1_i^T x2_j in position i,j\n",
    "    \"\"\"\n",
    "    return np.dot(X1,np.transpose(X2))"
   ]
  },
  {
   "cell_type": "code",
   "execution_count": 21,
   "id": "2b7f9eaa",
   "metadata": {
    "ExecuteTime": {
     "end_time": "2022-02-28T22:39:06.748323Z",
     "start_time": "2022-02-28T22:39:06.725583Z"
    }
   },
   "outputs": [],
   "source": [
    "def RBF_kernel(X1,X2,sigma):\n",
    "    \"\"\"\n",
    "    Computes the RBF kernel between two sets of vectors   \n",
    "    Args:\n",
    "        X1 - an n1xd matrix with vectors x1_1,...,x1_n1 in the rows\n",
    "        X2 - an n2xd matrix with vectors x2_1,...,x2_n2 in the rows\n",
    "        sigma - the bandwidth (i.e. standard deviation) for the RBF/Gaussian kernel\n",
    "    Returns:\n",
    "        matrix of size n1xn2, with exp(-||x1_i-x2_j||^2/(2 sigma^2)) in position i,j\n",
    "    \"\"\"\n",
    "    numerator = cdist(X1,X2,'sqeuclidean')\n",
    "    denominator = 2 * sigma**2\n",
    "    return np.exp(-numerator / denominator)"
   ]
  },
  {
   "cell_type": "code",
   "execution_count": 22,
   "id": "8e63e8de",
   "metadata": {
    "ExecuteTime": {
     "end_time": "2022-02-28T22:39:07.336758Z",
     "start_time": "2022-02-28T22:39:07.314076Z"
    }
   },
   "outputs": [],
   "source": [
    "def polynomial_kernel(X1, X2, offset, degree):\n",
    "    \"\"\"\n",
    "    Computes the inhomogeneous polynomial kernel between two sets of vectors\n",
    "    Args:\n",
    "        X1 - an n1xd matrix with vectors x1_1,...,x1_n1 in the rows\n",
    "        X2 - an n2xd matrix with vectors x2_1,...,x2_n2 in the rows\n",
    "        offset, degree - two parameters for the kernel\n",
    "    Returns:\n",
    "        matrix of size n1xn2, with (offset + <x1_i,x2_j>)^degree in position i,j\n",
    "    \"\"\"\n",
    "    return (offset + X1 @ X2.T)**degree"
   ]
  },
  {
   "cell_type": "markdown",
   "id": "2a0361ab",
   "metadata": {},
   "source": [
    "### Question 22"
   ]
  },
  {
   "cell_type": "code",
   "execution_count": 33,
   "id": "3dea4db6",
   "metadata": {
    "ExecuteTime": {
     "end_time": "2022-02-28T22:45:52.745027Z",
     "start_time": "2022-02-28T22:45:52.729066Z"
    }
   },
   "outputs": [
    {
     "data": {
      "text/plain": [
       "array([[16,  4,  0, -8],\n",
       "       [ 4,  1,  0, -2],\n",
       "       [ 0,  0,  0,  0],\n",
       "       [-8, -2,  0,  4]])"
      ]
     },
     "execution_count": 33,
     "metadata": {},
     "output_type": "execute_result"
    }
   ],
   "source": [
    "x_0 = np.array([[-4], [-1], [0], [2]])\n",
    "\n",
    "linear_kernel(x_0, x_0)"
   ]
  },
  {
   "cell_type": "markdown",
   "id": "17cf2a9a",
   "metadata": {
    "ExecuteTime": {
     "end_time": "2022-02-22T19:53:02.486582Z",
     "start_time": "2022-02-22T19:53:02.481191Z"
    }
   },
   "source": [
    "### Question 23"
   ]
  },
  {
   "cell_type": "code",
   "execution_count": 55,
   "id": "da777057",
   "metadata": {
    "ExecuteTime": {
     "end_time": "2022-02-28T23:14:42.334198Z",
     "start_time": "2022-02-28T23:14:42.169280Z"
    }
   },
   "outputs": [
    {
     "data": {
      "image/png": "[encoded data removed]",
      "text/plain": [
       "<Figure size 432x288 with 1 Axes>"
      ]
     },
     "metadata": {
      "needs_background": "light"
     },
     "output_type": "display_data"
    }
   ],
   "source": [
    "# PLot kernel machine functions\n",
    "\n",
    "plot_step = .01\n",
    "xpts = np.arange(-6, 6, plot_step).reshape(-1,1)\n",
    "prototypes = np.array([-4,-1,0,2]).reshape(-1,1)\n",
    "\n",
    "# Linear kernel\n",
    "y = linear_kernel(prototypes, xpts) \n",
    "for i in range(len(prototypes)):\n",
    "    label = \"Linear@\"+str(prototypes[i,:])\n",
    "    plt.plot(xpts, y[i,:], label=label)\n",
    "plt.legend(loc = 'best')\n",
    "plt.show() \n",
    " \n",
    " "
   ]
  },
  {
   "cell_type": "code",
   "execution_count": 49,
   "id": "d4a67058",
   "metadata": {
    "ExecuteTime": {
     "end_time": "2022-02-28T22:58:20.910736Z",
     "start_time": "2022-02-28T22:58:20.814939Z"
    }
   },
   "outputs": [
    {
     "data": {
      "image/png": "[encoded data removed]",
      "text/plain": [
       "<Figure size 432x288 with 1 Axes>"
      ]
     },
     "metadata": {
      "needs_background": "light"
     },
     "output_type": "display_data"
    }
   ],
   "source": [
    "# RBF kernel\n",
    "y = polynomial_kernel(prototypes, xpts, offset=1, degree=3) \n",
    "for i in range(len(prototypes)):\n",
    "    label = \"Polynomial @\"+str(prototypes[i,:])\n",
    "    plt.plot(xpts, y[i,:], label=label)\n",
    "plt.legend(loc = 'best')\n",
    "plt.show() "
   ]
  },
  {
   "cell_type": "code",
   "execution_count": 50,
   "id": "a7e20715",
   "metadata": {
    "ExecuteTime": {
     "end_time": "2022-02-28T22:58:21.567766Z",
     "start_time": "2022-02-28T22:58:21.474852Z"
    }
   },
   "outputs": [
    {
     "data": {
      "image/png": "[encoded data removed]",
      "text/plain": [
       "<Figure size 432x288 with 1 Axes>"
      ]
     },
     "metadata": {
      "needs_background": "light"
     },
     "output_type": "display_data"
    }
   ],
   "source": [
    "# RBF kernel\n",
    "y = RBF_kernel(prototypes, xpts, sigma=1) \n",
    "for i in range(len(prototypes)):\n",
    "    label = \"RBF @\"+str(prototypes[i,:])\n",
    "    plt.plot(xpts, y[i,:], label=label)\n",
    "plt.legend(loc = 'best')\n",
    "plt.show() "
   ]
  },
  {
   "cell_type": "markdown",
   "id": "ad6c37f7",
   "metadata": {
    "ExecuteTime": {
     "end_time": "2022-02-22T19:53:10.424976Z",
     "start_time": "2022-02-22T19:53:10.412344Z"
    }
   },
   "source": [
    "### Question 24"
   ]
  },
  {
   "cell_type": "code",
   "execution_count": 31,
   "id": "39629e43",
   "metadata": {
    "ExecuteTime": {
     "end_time": "2022-02-27T22:17:01.665800Z",
     "start_time": "2022-02-27T22:17:01.646906Z"
    }
   },
   "outputs": [],
   "source": [
    "class Kernel_Machine(object):\n",
    "    def __init__(self, kernel, training_points, weights):\n",
    "        \"\"\"\n",
    "        Args:\n",
    "            kernel(X1,X2) - a function return the cross-kernel matrix between rows of X1 and rows of X2 for kernel k\n",
    "            training_points - an nxd matrix with rows x_1,..., x_n\n",
    "            weights - a vector of length n with entries alpha_1,...,alpha_n\n",
    "        \"\"\"\n",
    "\n",
    "        self.kernel = kernel\n",
    "        self.training_points = training_points\n",
    "        self.weights = weights\n",
    "        \n",
    "    def predict(self, X):\n",
    "        \"\"\"\n",
    "        Evaluates the kernel machine on the points given by the rows of X\n",
    "        Args:\n",
    "            X - an nxd matrix with inputs x_1,...,x_n in the rows\n",
    "        Returns:\n",
    "            Vector of kernel machine evaluations on the n points in X.  Specifically, jth entry of return vector is\n",
    "                Sum_{i=1}^R alpha_i k(x_j, mu_i)\n",
    "        \"\"\"\n",
    "        # TODO"
   ]
  },
  {
   "cell_type": "markdown",
   "id": "eb26b128",
   "metadata": {},
   "source": [
    "### Question 25"
   ]
  },
  {
   "cell_type": "markdown",
   "id": "a33d2123",
   "metadata": {},
   "source": [
    "### Question 26"
   ]
  },
  {
   "cell_type": "markdown",
   "id": "b1277573",
   "metadata": {},
   "source": [
    "### Question 27"
   ]
  },
  {
   "cell_type": "markdown",
   "id": "dec9cf9f",
   "metadata": {},
   "source": [
    "### Question 28"
   ]
  },
  {
   "cell_type": "markdown",
   "id": "2c72e9d3",
   "metadata": {},
   "source": [
    "### Question 29"
   ]
  },
  {
   "cell_type": "markdown",
   "id": "0a7fa73d",
   "metadata": {},
   "source": [
    "### Question 30"
   ]
  },
  {
   "cell_type": "markdown",
   "id": "a8ec5a5a",
   "metadata": {},
   "source": [
    "### Question 31"
   ]
  },
  {
   "cell_type": "markdown",
   "id": "12d8f34e",
   "metadata": {},
   "source": [
    "### Question 32"
   ]
  },
  {
   "cell_type": "markdown",
   "id": "20c180bf",
   "metadata": {},
   "source": [
    "### Question 33"
   ]
  },
  {
   "cell_type": "markdown",
   "id": "a4384c8e",
   "metadata": {},
   "source": [
    "### Question 34"
   ]
  },
  {
   "cell_type": "markdown",
   "id": "2aaf4d90",
   "metadata": {},
   "source": [
    "### Question 35"
   ]
  },
  {
   "cell_type": "markdown",
   "id": "d300736a",
   "metadata": {
    "ExecuteTime": {
     "end_time": "2022-02-22T21:29:52.481817Z",
     "start_time": "2022-02-22T21:29:52.476742Z"
    }
   },
   "source": [
    "### QUESTIONS\n"
   ]
  },
  {
   "cell_type": "code",
   "execution_count": null,
   "id": "9b77a06f",
   "metadata": {},
   "outputs": [],
   "source": []
  }
 ],
 "metadata": {
  "kernelspec": {
   "display_name": "Python 3 (ipykernel)",
   "language": "python",
   "name": "python3"
  },
  "language_info": {
   "codemirror_mode": {
    "name": "ipython",
    "version": 3
   },
   "file_extension": ".py",
   "mimetype": "text/x-python",
   "name": "python",
   "nbconvert_exporter": "python",
   "pygments_lexer": "ipython3",
   "version": "3.9.7"
  },
  "toc": {
   "base_numbering": 1,
   "nav_menu": {},
   "number_sections": false,
   "sideBar": true,
   "skip_h1_title": false,
   "title_cell": "Table of Contents",
   "title_sidebar": "Contents",
   "toc_cell": false,
   "toc_position": {},
   "toc_section_display": true,
   "toc_window_display": false
  },
  "varInspector": {
   "cols": {
    "lenName": 16,
    "lenType": 16,
    "lenVar": 40
   },
   "kernels_config": {
    "python": {
     "delete_cmd_postfix": "",
     "delete_cmd_prefix": "del ",
     "library": "var_list.py",
     "varRefreshCmd": "print(var_dic_list())"
    },
    "r": {
     "delete_cmd_postfix": ") ",
     "delete_cmd_prefix": "rm(",
     "library": "var_list.r",
     "varRefreshCmd": "cat(var_dic_list()) "
    }
   },
   "types_to_exclude": [
    "module",
    "function",
    "builtin_function_or_method",
    "instance",
    "_Feature"
   ],
   "window_display": false
  }
 },
 "nbformat": 4,
 "nbformat_minor": 5
}
