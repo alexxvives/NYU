{
 "cells": [
  {
   "cell_type": "code",
   "execution_count": 2,
   "id": "22187d13",
   "metadata": {
    "ExecuteTime": {
     "end_time": "2022-02-09T20:34:43.157070Z",
     "start_time": "2022-02-09T20:34:41.039978Z"
    }
   },
   "outputs": [],
   "source": [
    "import sys\n",
    "import numpy as np\n",
    "import pandas as pd\n",
    "import matplotlib.pyplot as plt\n",
    "import seaborn as sns\n",
    "from sklearn.model_selection import train_test_split"
   ]
  },
  {
   "cell_type": "markdown",
   "id": "68cf2284",
   "metadata": {},
   "source": [
    "### Question 4"
   ]
  },
  {
   "cell_type": "code",
   "execution_count": 3,
   "id": "b985717a",
   "metadata": {
    "ExecuteTime": {
     "end_time": "2022-02-09T20:34:43.222091Z",
     "start_time": "2022-02-09T20:34:43.205511Z"
    }
   },
   "outputs": [],
   "source": [
    "def feature_normalization(train, test):\n",
    "    \"\"\"Rescale the data so that each feature in the training set is in\n",
    "    the interval [0,1], and apply the same transformations to the test\n",
    "    set, using the statistics computed on the training set.\n",
    "\n",
    "    Args:\n",
    "        train - training set, a 2D numpy array of size(num_instances, num_features)\n",
    "        test - test set, a 2D numpy array of size(num_instances, num_features)\n",
    "\n",
    "    Returns:\n",
    "        train_normalized - training set after normalization\n",
    "        test_normalized - test set after normalization\n",
    "    \"\"\"\n",
    "            \n",
    "    train = pd.DataFrame(train)    \n",
    "    test = pd.DataFrame(test)   \n",
    "    \n",
    "    for feature in train.columns:\n",
    "        if train[feature].nunique() == 1:\n",
    "            train.drop(feature, axis=1)\n",
    "            test.drop(feature, axis=1)\n",
    "            \n",
    "    min_val = np.min(train, axis=0)\n",
    "    max_val = np.max(train, axis=0)\n",
    "    \n",
    "    train = (train - min_val) / (max_val - min_val)\n",
    "    test = (test - min_val) / (max_val - min_val)\n",
    "    \n",
    "    return np.array(train), np.array(test)"
   ]
  },
  {
   "cell_type": "code",
   "execution_count": 4,
   "id": "a196a7ee",
   "metadata": {
    "ExecuteTime": {
     "end_time": "2022-02-09T20:34:43.320148Z",
     "start_time": "2022-02-09T20:34:43.272684Z"
    }
   },
   "outputs": [
    {
     "name": "stdout",
     "output_type": "stream",
     "text": [
      "loading the dataset\n"
     ]
    },
    {
     "ename": "FileNotFoundError",
     "evalue": "[Errno 2] No such file or directory: 'ridge_regression_dataset.csv'",
     "output_type": "error",
     "traceback": [
      "\u001b[1;31m---------------------------------------------------------------------------\u001b[0m",
      "\u001b[1;31mFileNotFoundError\u001b[0m                         Traceback (most recent call last)",
      "\u001b[1;32m~\\AppData\\Local\\Temp/ipykernel_3276/1741401214.py\u001b[0m in \u001b[0;36m<module>\u001b[1;34m\u001b[0m\n\u001b[0;32m     17\u001b[0m     \u001b[1;32mreturn\u001b[0m \u001b[0mX_train\u001b[0m\u001b[1;33m,\u001b[0m \u001b[0my_train\u001b[0m\u001b[1;33m,\u001b[0m \u001b[0mX_test\u001b[0m\u001b[1;33m,\u001b[0m \u001b[0my_test\u001b[0m\u001b[1;33m\u001b[0m\u001b[1;33m\u001b[0m\u001b[0m\n\u001b[0;32m     18\u001b[0m \u001b[1;33m\u001b[0m\u001b[0m\n\u001b[1;32m---> 19\u001b[1;33m \u001b[0mX_train\u001b[0m\u001b[1;33m,\u001b[0m \u001b[0my_train\u001b[0m\u001b[1;33m,\u001b[0m \u001b[0mX_test\u001b[0m\u001b[1;33m,\u001b[0m \u001b[0my_test\u001b[0m \u001b[1;33m=\u001b[0m \u001b[0mload_data\u001b[0m\u001b[1;33m(\u001b[0m\u001b[1;33m)\u001b[0m\u001b[1;33m\u001b[0m\u001b[1;33m\u001b[0m\u001b[0m\n\u001b[0m",
      "\u001b[1;32m~\\AppData\\Local\\Temp/ipykernel_3276/1741401214.py\u001b[0m in \u001b[0;36mload_data\u001b[1;34m()\u001b[0m\n\u001b[0;32m      3\u001b[0m     \u001b[0mprint\u001b[0m\u001b[1;33m(\u001b[0m\u001b[1;34m'loading the dataset'\u001b[0m\u001b[1;33m)\u001b[0m\u001b[1;33m\u001b[0m\u001b[1;33m\u001b[0m\u001b[0m\n\u001b[0;32m      4\u001b[0m \u001b[1;33m\u001b[0m\u001b[0m\n\u001b[1;32m----> 5\u001b[1;33m     \u001b[0mdf\u001b[0m \u001b[1;33m=\u001b[0m \u001b[0mpd\u001b[0m\u001b[1;33m.\u001b[0m\u001b[0mread_csv\u001b[0m\u001b[1;33m(\u001b[0m\u001b[1;34m'ridge_regression_dataset.csv'\u001b[0m\u001b[1;33m,\u001b[0m \u001b[0mdelimiter\u001b[0m\u001b[1;33m=\u001b[0m\u001b[1;34m','\u001b[0m\u001b[1;33m)\u001b[0m\u001b[1;33m\u001b[0m\u001b[1;33m\u001b[0m\u001b[0m\n\u001b[0m\u001b[0;32m      6\u001b[0m     \u001b[0mX\u001b[0m \u001b[1;33m=\u001b[0m \u001b[0mdf\u001b[0m\u001b[1;33m.\u001b[0m\u001b[0mvalues\u001b[0m\u001b[1;33m[\u001b[0m\u001b[1;33m:\u001b[0m\u001b[1;33m,\u001b[0m\u001b[1;33m:\u001b[0m\u001b[1;33m-\u001b[0m\u001b[1;36m1\u001b[0m\u001b[1;33m]\u001b[0m\u001b[1;33m\u001b[0m\u001b[1;33m\u001b[0m\u001b[0m\n\u001b[0;32m      7\u001b[0m     \u001b[0my\u001b[0m \u001b[1;33m=\u001b[0m \u001b[0mdf\u001b[0m\u001b[1;33m.\u001b[0m\u001b[0mvalues\u001b[0m\u001b[1;33m[\u001b[0m\u001b[1;33m:\u001b[0m\u001b[1;33m,\u001b[0m\u001b[1;33m-\u001b[0m\u001b[1;36m1\u001b[0m\u001b[1;33m]\u001b[0m\u001b[1;33m\u001b[0m\u001b[1;33m\u001b[0m\u001b[0m\n",
      "\u001b[1;32m~\\anaconda3\\lib\\site-packages\\pandas\\util\\_decorators.py\u001b[0m in \u001b[0;36mwrapper\u001b[1;34m(*args, **kwargs)\u001b[0m\n\u001b[0;32m    309\u001b[0m                     \u001b[0mstacklevel\u001b[0m\u001b[1;33m=\u001b[0m\u001b[0mstacklevel\u001b[0m\u001b[1;33m,\u001b[0m\u001b[1;33m\u001b[0m\u001b[1;33m\u001b[0m\u001b[0m\n\u001b[0;32m    310\u001b[0m                 )\n\u001b[1;32m--> 311\u001b[1;33m             \u001b[1;32mreturn\u001b[0m \u001b[0mfunc\u001b[0m\u001b[1;33m(\u001b[0m\u001b[1;33m*\u001b[0m\u001b[0margs\u001b[0m\u001b[1;33m,\u001b[0m \u001b[1;33m**\u001b[0m\u001b[0mkwargs\u001b[0m\u001b[1;33m)\u001b[0m\u001b[1;33m\u001b[0m\u001b[1;33m\u001b[0m\u001b[0m\n\u001b[0m\u001b[0;32m    312\u001b[0m \u001b[1;33m\u001b[0m\u001b[0m\n\u001b[0;32m    313\u001b[0m         \u001b[1;32mreturn\u001b[0m \u001b[0mwrapper\u001b[0m\u001b[1;33m\u001b[0m\u001b[1;33m\u001b[0m\u001b[0m\n",
      "\u001b[1;32m~\\anaconda3\\lib\\site-packages\\pandas\\io\\parsers\\readers.py\u001b[0m in \u001b[0;36mread_csv\u001b[1;34m(filepath_or_buffer, sep, delimiter, header, names, index_col, usecols, squeeze, prefix, mangle_dupe_cols, dtype, engine, converters, true_values, false_values, skipinitialspace, skiprows, skipfooter, nrows, na_values, keep_default_na, na_filter, verbose, skip_blank_lines, parse_dates, infer_datetime_format, keep_date_col, date_parser, dayfirst, cache_dates, iterator, chunksize, compression, thousands, decimal, lineterminator, quotechar, quoting, doublequote, escapechar, comment, encoding, encoding_errors, dialect, error_bad_lines, warn_bad_lines, on_bad_lines, delim_whitespace, low_memory, memory_map, float_precision, storage_options)\u001b[0m\n\u001b[0;32m    584\u001b[0m     \u001b[0mkwds\u001b[0m\u001b[1;33m.\u001b[0m\u001b[0mupdate\u001b[0m\u001b[1;33m(\u001b[0m\u001b[0mkwds_defaults\u001b[0m\u001b[1;33m)\u001b[0m\u001b[1;33m\u001b[0m\u001b[1;33m\u001b[0m\u001b[0m\n\u001b[0;32m    585\u001b[0m \u001b[1;33m\u001b[0m\u001b[0m\n\u001b[1;32m--> 586\u001b[1;33m     \u001b[1;32mreturn\u001b[0m \u001b[0m_read\u001b[0m\u001b[1;33m(\u001b[0m\u001b[0mfilepath_or_buffer\u001b[0m\u001b[1;33m,\u001b[0m \u001b[0mkwds\u001b[0m\u001b[1;33m)\u001b[0m\u001b[1;33m\u001b[0m\u001b[1;33m\u001b[0m\u001b[0m\n\u001b[0m\u001b[0;32m    587\u001b[0m \u001b[1;33m\u001b[0m\u001b[0m\n\u001b[0;32m    588\u001b[0m \u001b[1;33m\u001b[0m\u001b[0m\n",
      "\u001b[1;32m~\\anaconda3\\lib\\site-packages\\pandas\\io\\parsers\\readers.py\u001b[0m in \u001b[0;36m_read\u001b[1;34m(filepath_or_buffer, kwds)\u001b[0m\n\u001b[0;32m    480\u001b[0m \u001b[1;33m\u001b[0m\u001b[0m\n\u001b[0;32m    481\u001b[0m     \u001b[1;31m# Create the parser.\u001b[0m\u001b[1;33m\u001b[0m\u001b[1;33m\u001b[0m\u001b[0m\n\u001b[1;32m--> 482\u001b[1;33m     \u001b[0mparser\u001b[0m \u001b[1;33m=\u001b[0m \u001b[0mTextFileReader\u001b[0m\u001b[1;33m(\u001b[0m\u001b[0mfilepath_or_buffer\u001b[0m\u001b[1;33m,\u001b[0m \u001b[1;33m**\u001b[0m\u001b[0mkwds\u001b[0m\u001b[1;33m)\u001b[0m\u001b[1;33m\u001b[0m\u001b[1;33m\u001b[0m\u001b[0m\n\u001b[0m\u001b[0;32m    483\u001b[0m \u001b[1;33m\u001b[0m\u001b[0m\n\u001b[0;32m    484\u001b[0m     \u001b[1;32mif\u001b[0m \u001b[0mchunksize\u001b[0m \u001b[1;32mor\u001b[0m \u001b[0miterator\u001b[0m\u001b[1;33m:\u001b[0m\u001b[1;33m\u001b[0m\u001b[1;33m\u001b[0m\u001b[0m\n",
      "\u001b[1;32m~\\anaconda3\\lib\\site-packages\\pandas\\io\\parsers\\readers.py\u001b[0m in \u001b[0;36m__init__\u001b[1;34m(self, f, engine, **kwds)\u001b[0m\n\u001b[0;32m    809\u001b[0m             \u001b[0mself\u001b[0m\u001b[1;33m.\u001b[0m\u001b[0moptions\u001b[0m\u001b[1;33m[\u001b[0m\u001b[1;34m\"has_index_names\"\u001b[0m\u001b[1;33m]\u001b[0m \u001b[1;33m=\u001b[0m \u001b[0mkwds\u001b[0m\u001b[1;33m[\u001b[0m\u001b[1;34m\"has_index_names\"\u001b[0m\u001b[1;33m]\u001b[0m\u001b[1;33m\u001b[0m\u001b[1;33m\u001b[0m\u001b[0m\n\u001b[0;32m    810\u001b[0m \u001b[1;33m\u001b[0m\u001b[0m\n\u001b[1;32m--> 811\u001b[1;33m         \u001b[0mself\u001b[0m\u001b[1;33m.\u001b[0m\u001b[0m_engine\u001b[0m \u001b[1;33m=\u001b[0m \u001b[0mself\u001b[0m\u001b[1;33m.\u001b[0m\u001b[0m_make_engine\u001b[0m\u001b[1;33m(\u001b[0m\u001b[0mself\u001b[0m\u001b[1;33m.\u001b[0m\u001b[0mengine\u001b[0m\u001b[1;33m)\u001b[0m\u001b[1;33m\u001b[0m\u001b[1;33m\u001b[0m\u001b[0m\n\u001b[0m\u001b[0;32m    812\u001b[0m \u001b[1;33m\u001b[0m\u001b[0m\n\u001b[0;32m    813\u001b[0m     \u001b[1;32mdef\u001b[0m \u001b[0mclose\u001b[0m\u001b[1;33m(\u001b[0m\u001b[0mself\u001b[0m\u001b[1;33m)\u001b[0m\u001b[1;33m:\u001b[0m\u001b[1;33m\u001b[0m\u001b[1;33m\u001b[0m\u001b[0m\n",
      "\u001b[1;32m~\\anaconda3\\lib\\site-packages\\pandas\\io\\parsers\\readers.py\u001b[0m in \u001b[0;36m_make_engine\u001b[1;34m(self, engine)\u001b[0m\n\u001b[0;32m   1038\u001b[0m             )\n\u001b[0;32m   1039\u001b[0m         \u001b[1;31m# error: Too many arguments for \"ParserBase\"\u001b[0m\u001b[1;33m\u001b[0m\u001b[1;33m\u001b[0m\u001b[0m\n\u001b[1;32m-> 1040\u001b[1;33m         \u001b[1;32mreturn\u001b[0m \u001b[0mmapping\u001b[0m\u001b[1;33m[\u001b[0m\u001b[0mengine\u001b[0m\u001b[1;33m]\u001b[0m\u001b[1;33m(\u001b[0m\u001b[0mself\u001b[0m\u001b[1;33m.\u001b[0m\u001b[0mf\u001b[0m\u001b[1;33m,\u001b[0m \u001b[1;33m**\u001b[0m\u001b[0mself\u001b[0m\u001b[1;33m.\u001b[0m\u001b[0moptions\u001b[0m\u001b[1;33m)\u001b[0m  \u001b[1;31m# type: ignore[call-arg]\u001b[0m\u001b[1;33m\u001b[0m\u001b[1;33m\u001b[0m\u001b[0m\n\u001b[0m\u001b[0;32m   1041\u001b[0m \u001b[1;33m\u001b[0m\u001b[0m\n\u001b[0;32m   1042\u001b[0m     \u001b[1;32mdef\u001b[0m \u001b[0m_failover_to_python\u001b[0m\u001b[1;33m(\u001b[0m\u001b[0mself\u001b[0m\u001b[1;33m)\u001b[0m\u001b[1;33m:\u001b[0m\u001b[1;33m\u001b[0m\u001b[1;33m\u001b[0m\u001b[0m\n",
      "\u001b[1;32m~\\anaconda3\\lib\\site-packages\\pandas\\io\\parsers\\c_parser_wrapper.py\u001b[0m in \u001b[0;36m__init__\u001b[1;34m(self, src, **kwds)\u001b[0m\n\u001b[0;32m     49\u001b[0m \u001b[1;33m\u001b[0m\u001b[0m\n\u001b[0;32m     50\u001b[0m         \u001b[1;31m# open handles\u001b[0m\u001b[1;33m\u001b[0m\u001b[1;33m\u001b[0m\u001b[0m\n\u001b[1;32m---> 51\u001b[1;33m         \u001b[0mself\u001b[0m\u001b[1;33m.\u001b[0m\u001b[0m_open_handles\u001b[0m\u001b[1;33m(\u001b[0m\u001b[0msrc\u001b[0m\u001b[1;33m,\u001b[0m \u001b[0mkwds\u001b[0m\u001b[1;33m)\u001b[0m\u001b[1;33m\u001b[0m\u001b[1;33m\u001b[0m\u001b[0m\n\u001b[0m\u001b[0;32m     52\u001b[0m         \u001b[1;32massert\u001b[0m \u001b[0mself\u001b[0m\u001b[1;33m.\u001b[0m\u001b[0mhandles\u001b[0m \u001b[1;32mis\u001b[0m \u001b[1;32mnot\u001b[0m \u001b[1;32mNone\u001b[0m\u001b[1;33m\u001b[0m\u001b[1;33m\u001b[0m\u001b[0m\n\u001b[0;32m     53\u001b[0m \u001b[1;33m\u001b[0m\u001b[0m\n",
      "\u001b[1;32m~\\anaconda3\\lib\\site-packages\\pandas\\io\\parsers\\base_parser.py\u001b[0m in \u001b[0;36m_open_handles\u001b[1;34m(self, src, kwds)\u001b[0m\n\u001b[0;32m    220\u001b[0m         \u001b[0mLet\u001b[0m \u001b[0mthe\u001b[0m \u001b[0mreaders\u001b[0m \u001b[0mopen\u001b[0m \u001b[0mIOHandles\u001b[0m \u001b[0mafter\u001b[0m \u001b[0mthey\u001b[0m \u001b[0mare\u001b[0m \u001b[0mdone\u001b[0m \u001b[1;32mwith\u001b[0m \u001b[0mtheir\u001b[0m \u001b[0mpotential\u001b[0m \u001b[0mraises\u001b[0m\u001b[1;33m.\u001b[0m\u001b[1;33m\u001b[0m\u001b[1;33m\u001b[0m\u001b[0m\n\u001b[0;32m    221\u001b[0m         \"\"\"\n\u001b[1;32m--> 222\u001b[1;33m         self.handles = get_handle(\n\u001b[0m\u001b[0;32m    223\u001b[0m             \u001b[0msrc\u001b[0m\u001b[1;33m,\u001b[0m\u001b[1;33m\u001b[0m\u001b[1;33m\u001b[0m\u001b[0m\n\u001b[0;32m    224\u001b[0m             \u001b[1;34m\"r\"\u001b[0m\u001b[1;33m,\u001b[0m\u001b[1;33m\u001b[0m\u001b[1;33m\u001b[0m\u001b[0m\n",
      "\u001b[1;32m~\\anaconda3\\lib\\site-packages\\pandas\\io\\common.py\u001b[0m in \u001b[0;36mget_handle\u001b[1;34m(path_or_buf, mode, encoding, compression, memory_map, is_text, errors, storage_options)\u001b[0m\n\u001b[0;32m    700\u001b[0m         \u001b[1;32mif\u001b[0m \u001b[0mioargs\u001b[0m\u001b[1;33m.\u001b[0m\u001b[0mencoding\u001b[0m \u001b[1;32mand\u001b[0m \u001b[1;34m\"b\"\u001b[0m \u001b[1;32mnot\u001b[0m \u001b[1;32min\u001b[0m \u001b[0mioargs\u001b[0m\u001b[1;33m.\u001b[0m\u001b[0mmode\u001b[0m\u001b[1;33m:\u001b[0m\u001b[1;33m\u001b[0m\u001b[1;33m\u001b[0m\u001b[0m\n\u001b[0;32m    701\u001b[0m             \u001b[1;31m# Encoding\u001b[0m\u001b[1;33m\u001b[0m\u001b[1;33m\u001b[0m\u001b[0m\n\u001b[1;32m--> 702\u001b[1;33m             handle = open(\n\u001b[0m\u001b[0;32m    703\u001b[0m                 \u001b[0mhandle\u001b[0m\u001b[1;33m,\u001b[0m\u001b[1;33m\u001b[0m\u001b[1;33m\u001b[0m\u001b[0m\n\u001b[0;32m    704\u001b[0m                 \u001b[0mioargs\u001b[0m\u001b[1;33m.\u001b[0m\u001b[0mmode\u001b[0m\u001b[1;33m,\u001b[0m\u001b[1;33m\u001b[0m\u001b[1;33m\u001b[0m\u001b[0m\n",
      "\u001b[1;31mFileNotFoundError\u001b[0m: [Errno 2] No such file or directory: 'ridge_regression_dataset.csv'"
     ]
    }
   ],
   "source": [
    "def load_data():\n",
    "    #Loading the dataset\n",
    "    print('loading the dataset')\n",
    "\n",
    "    df = pd.read_csv('ridge_regression_dataset.csv', delimiter=',')\n",
    "    X = df.values[:,:-1]\n",
    "    y = df.values[:,-1]\n",
    "\n",
    "    print('Split into Train and Test')\n",
    "    X_train, X_test, y_train, y_test = train_test_split(X, y, test_size=100, random_state=10)\n",
    "\n",
    "    print(\"Scaling all to [0, 1]\")\n",
    "    X_train, X_test = feature_normalization(X_train, X_test)\n",
    "    X_train = np.hstack((X_train, np.ones((X_train.shape[0], 1))))  # Add bias term\n",
    "    X_test = np.hstack((X_test, np.ones((X_test.shape[0], 1))))\n",
    "    \n",
    "    return X_train, y_train, X_test, y_test\n",
    "\n",
    "X_train, y_train, X_test, y_test = load_data()"
   ]
  },
  {
   "cell_type": "markdown",
   "id": "80acea11",
   "metadata": {},
   "source": [
    "### Question 8"
   ]
  },
  {
   "cell_type": "code",
   "execution_count": null,
   "id": "00729233",
   "metadata": {
    "ExecuteTime": {
     "end_time": "2022-02-09T20:34:43.384144Z",
     "start_time": "2022-02-09T20:34:43.368495Z"
    }
   },
   "outputs": [],
   "source": [
    "def compute_square_loss(X, y, theta):\n",
    "    \"\"\"\n",
    "    Given a set of X, y, theta, compute the average square loss for predicting y with X*theta.\n",
    "\n",
    "    Args:\n",
    "        X - the feature vector, 2D numpy array of size(num_instances, num_features)\n",
    "        y - the label vector, 1D numpy array of size(num_instances)\n",
    "        theta - the parameter vector, 1D array of size(num_features)\n",
    "\n",
    "    Returns:\n",
    "        loss - the average square loss, scalar\n",
    "    \"\"\"\n",
    "    \n",
    "    loss = (1 / X.shape[0]) * np.sum((X @ theta - y)**2)\n",
    "    \n",
    "    return loss"
   ]
  },
  {
   "cell_type": "markdown",
   "id": "07b62494",
   "metadata": {},
   "source": [
    "### Question 9"
   ]
  },
  {
   "cell_type": "code",
   "execution_count": null,
   "id": "342f46d2",
   "metadata": {
    "ExecuteTime": {
     "end_time": "2022-02-09T20:34:43.448065Z",
     "start_time": "2022-02-09T20:34:43.432106Z"
    }
   },
   "outputs": [],
   "source": [
    "def compute_square_loss_gradient(X, y, theta):\n",
    "    \"\"\"\n",
    "    Compute the gradient of the average square loss(as defined in compute_square_loss), at the point theta.\n",
    "\n",
    "    Args:\n",
    "        X - the feature vector, 2D numpy array of size(num_instances, num_features)\n",
    "        y - the label vector, 1D numpy array of size(num_instances)\n",
    "        theta - the parameter vector, 1D numpy array of size(num_features)\n",
    "\n",
    "    Returns:\n",
    "        grad - gradient vector, 1D numpy array of size(num_features)\n",
    "    \"\"\"\n",
    "    \n",
    "    grad = (2 / X.shape[0]) * (X.T @ X @ theta - X.T @ y)\n",
    "    \n",
    "    return grad "
   ]
  },
  {
   "cell_type": "markdown",
   "id": "97729646",
   "metadata": {},
   "source": [
    "### Question 10"
   ]
  },
  {
   "cell_type": "code",
   "execution_count": null,
   "id": "fec00028",
   "metadata": {
    "ExecuteTime": {
     "end_time": "2022-02-09T20:34:43.512055Z",
     "start_time": "2022-02-09T20:34:43.496062Z"
    }
   },
   "outputs": [],
   "source": [
    "#Getting the gradient calculation correct is often the trickiest part of any gradient-based optimization algorithm. \n",
    "#Fortunately, it's very easy to check that the gradient calculation is correct using the definition of gradient.\n",
    "#See http://ufldl.stanford.edu/wiki/index.php/Gradient_checking_and_advanced_optimization\n",
    "def grad_checker(X, y, theta, epsilon=0.01, tolerance=1e-4):\n",
    "    \"\"\"Implement Gradient Checker\n",
    "    Check that the function compute_square_loss_gradient returns the\n",
    "    correct gradient for the given X, y, and theta.\n",
    "\n",
    "    Let d be the number of features. Here we numerically estimate the\n",
    "    gradient by approximating the directional derivative in each of\n",
    "    the d coordinate directions:\n",
    "(e_1 =(1,0,0,...,0), e_2 =(0,1,0,...,0), ..., e_d =(0,...,0,1))\n",
    "\n",
    "    The approximation for the directional derivative of J at the point\n",
    "    theta in the direction e_i is given by:\n",
    "(J(theta + epsilon * e_i) - J(theta - epsilon * e_i)) /(2*epsilon).\n",
    "\n",
    "    We then look at the Euclidean distance between the gradient\n",
    "    computed using this approximation and the gradient computed by\n",
    "    compute_square_loss_gradient(X, y, theta).  If the Euclidean\n",
    "    distance exceeds tolerance, we say the gradient is incorrect.\n",
    "\n",
    "    Args:\n",
    "        X - the feature vector, 2D numpy array of size(num_instances, num_features)\n",
    "        y - the label vector, 1D numpy array of size(num_instances)\n",
    "        theta - the parameter vector, 1D numpy array of size(num_features)\n",
    "        epsilon - the epsilon used in approximation\n",
    "        tolerance - the tolerance error\n",
    "\n",
    "    Return:\n",
    "        A boolean value indicating whether the gradient is correct or not\n",
    "    \"\"\"\n",
    "    \n",
    "    true_gradient = compute_square_loss_gradient(X, y, theta) #The true gradient\n",
    "    num_features = theta.shape[0]\n",
    "    approx_grad = np.zeros(num_features) #Initialize the gradient we approximate\n",
    "    \n",
    "    I = np.identity(theta.shape[0])\n",
    "    \n",
    "    for i in range(0, num_features):\n",
    "        approx_grad[i] = (compute_square_loss(X, y, theta + epsilon * I[:,i]) - compute_square_loss(X, y, theta - epsilon * I[:,i]))/(2*epsilon)\n",
    "    distance = np.sqrt(np.sum((true_gradient - approx_grad)**2))\n",
    "    \n",
    "    return distance\n",
    "    if distance < tolerance: \n",
    "        return True #There is no major difference between gradients\n",
    "    else:\n",
    "        return False #There is a major difference between gradients"
   ]
  },
  {
   "cell_type": "code",
   "execution_count": null,
   "id": "dd3129e0",
   "metadata": {
    "ExecuteTime": {
     "end_time": "2022-02-09T20:34:44.069758Z",
     "start_time": "2022-02-09T20:34:44.042590Z"
    }
   },
   "outputs": [],
   "source": [
    "def generic_gradient_checker(X, y, theta, objective_func, gradient_func, \n",
    "                             epsilon=0.01, tolerance=1e-4):\n",
    "    \"\"\"\n",
    "    The functions takes objective_func and gradient_func as parameters. \n",
    "    And check whether gradient_func(X, y, theta) returned the true \n",
    "    gradient for objective_func(X, y, theta).\n",
    "    Eg: In LSR, the objective_func = compute_square_loss, and gradient_func = compute_square_loss_gradient\n",
    "    \"\"\"\n",
    "    #TODO"
   ]
  },
  {
   "cell_type": "markdown",
   "id": "4640fd2c",
   "metadata": {},
   "source": [
    "### Question 11"
   ]
  },
  {
   "cell_type": "code",
   "execution_count": null,
   "id": "05f41c76",
   "metadata": {
    "ExecuteTime": {
     "end_time": "2022-02-09T20:34:44.853739Z",
     "start_time": "2022-02-09T20:34:44.825882Z"
    }
   },
   "outputs": [],
   "source": [
    "def batch_grad_descent(X, y, alpha=0.1, num_step=1000, grad_check=False):\n",
    "    \"\"\"\n",
    "    In this question you will implement batch gradient descent to\n",
    "    minimize the average square loss objective.\n",
    "\n",
    "    Args:\n",
    "        X - the feature vector, 2D numpy array of size(num_instances, num_features)\n",
    "        y - the label vector, 1D numpy array of size(num_instances)\n",
    "        alpha - step size in gradient descent\n",
    "        num_step - number of steps to run\n",
    "        grad_check - a boolean value indicating whether checking the gradient when updating\n",
    "\n",
    "    Returns:\n",
    "        theta_hist - the history of parameter vector, 2D numpy array of size(num_step+1, num_features)\n",
    "                     for instance, theta in step 0 should be theta_hist[0], theta in step(num_step) is theta_hist[-1]\n",
    "        loss_hist - the history of average square loss on the data, 1D numpy array,(num_step+1)\n",
    "    \"\"\"\n",
    "    \n",
    "    num_instances, num_features = X.shape[0], X.shape[1]\n",
    "    theta_hist = np.zeros((num_step + 1, num_features))  #Initialize theta_hist\n",
    "    loss_hist = np.zeros(num_step + 1)  #Initialize loss_hist\n",
    "    theta = np.zeros(num_features)  #Initialize theta\n",
    "    \n",
    "    loss_hist[0] = compute_square_loss(X, y, theta)\n",
    "    theta_hist[0] = theta\n",
    "    for i in range(1, num_step+1):\n",
    "    \n",
    "        theta = theta - alpha * compute_square_loss_gradient(X, y, theta)\n",
    "            \n",
    "        loss = compute_square_loss(X, y, theta)\n",
    "        loss_hist[i] = loss\n",
    "        theta_hist[i] = theta\n",
    "        \n",
    "    return theta_hist, loss_hist"
   ]
  },
  {
   "cell_type": "markdown",
   "id": "e69fced9",
   "metadata": {},
   "source": [
    "### Question 12"
   ]
  },
  {
   "cell_type": "code",
   "execution_count": null,
   "id": "97615d5d",
   "metadata": {
    "ExecuteTime": {
     "end_time": "2022-02-09T20:34:46.440712Z",
     "start_time": "2022-02-09T20:34:46.015760Z"
    }
   },
   "outputs": [],
   "source": [
    "x = np.linspace(0, 1001, 1001)\n",
    "\n",
    "plt.figure(figsize=(15,7))\n",
    "\n",
    "theta_hist, loss_hist = batch_grad_descent(X_train, y_train, alpha=0.01, num_step=1000, grad_check=False)\n",
    "sns.lineplot(x=x, y=loss_hist, label='alpha = 0.01')\n",
    "\n",
    "theta_hist, loss_hist = batch_grad_descent(X_train, y_train, alpha=0.05, num_step=1000, grad_check=False)\n",
    "sns.lineplot(x=x, y=loss_hist, label='alpha = 0.05')\n",
    "\n",
    "#theta_hist, loss_hist = batch_grad_descent(X_train, y_train, alpha=0.5, num_step=1000, grad_check=False)\n",
    "#sns.lineplot(x=x, y=theta_hist[:,0], label='alpha = 0.5')\n",
    "\n",
    "#theta_hist, loss_hist = batch_grad_descent(X_train, y_train, alpha=0.1, num_step=1000, grad_check=False)\n",
    "#sns.lineplot(x=x, y=theta_hist[:,0], label='alpha = 0.5')\n",
    "\n",
    "plt.xlabel('steps')\n",
    "plt.ylabel('training_loss')\n",
    "plt.show()"
   ]
  },
  {
   "cell_type": "markdown",
   "id": "6e0ca084",
   "metadata": {
    "ExecuteTime": {
     "end_time": "2022-02-07T22:14:26.236579Z",
     "start_time": "2022-02-07T22:14:26.220546Z"
    }
   },
   "source": [
    "The step sizes 0.01 and 0.05 converge but 0.1 and 0.5 diverge.\n",
    "Additionally, we can see that the minimum loss is around 2."
   ]
  },
  {
   "cell_type": "markdown",
   "id": "4a6b8353",
   "metadata": {
    "ExecuteTime": {
     "end_time": "2022-02-09T02:13:44.302459Z",
     "start_time": "2022-02-09T02:13:44.292513Z"
    }
   },
   "source": [
    "### Question 13"
   ]
  },
  {
   "cell_type": "code",
   "execution_count": null,
   "id": "961ce8d3",
   "metadata": {
    "ExecuteTime": {
     "end_time": "2022-02-09T20:34:48.361571Z",
     "start_time": "2022-02-09T20:34:47.664812Z"
    }
   },
   "outputs": [],
   "source": [
    "plt.figure(figsize=(15,8))\n",
    "\n",
    "theta_hist, loss_hist = batch_grad_descent(X_train, y_train, alpha=0.05, num_step=1000, grad_check=False)\n",
    "\n",
    "test_loss = []\n",
    "for i in range(len(theta_hist)):\n",
    "    test_loss.append(compute_square_loss(X_test, y_test, theta_hist[i]))\n",
    "\n",
    "plt.xscale('log')   \n",
    "plt.plot(x, loss_hist, label='TRAIN', color='black')\n",
    "plt.plot(x, test_loss, label='TEST', color='red')\n",
    "plt.legend()\n",
    "plt.show()"
   ]
  },
  {
   "cell_type": "markdown",
   "id": "4737da14",
   "metadata": {},
   "source": [
    "### Question 15"
   ]
  },
  {
   "cell_type": "code",
   "execution_count": null,
   "id": "06fd3bad",
   "metadata": {
    "ExecuteTime": {
     "end_time": "2022-02-09T20:34:49.925470Z",
     "start_time": "2022-02-09T20:34:49.915658Z"
    }
   },
   "outputs": [],
   "source": [
    "def compute_regularized_square_loss_gradient(X, y, theta, lambda_reg):\n",
    "    \"\"\"\n",
    "    Compute the gradient of L2-regularized average square loss function given X, y and theta\n",
    "\n",
    "    Args:\n",
    "        X - the feature vector, 2D numpy array of size(num_instances, num_features)\n",
    "        y - the label vector, 1D numpy array of size(num_instances)\n",
    "        theta - the parameter vector, 1D numpy array of size(num_features)\n",
    "        lambda_reg - the regularization coefficient\n",
    "\n",
    "    Returns:\n",
    "        grad - gradient vector, 1D numpy array of size(num_features)\n",
    "    \"\"\"\n",
    "    grad = (2 / X.shape[0]) * (X.T @ X @ theta - X.T @ y) + 2 * lambda_reg * theta\n",
    "    \n",
    "    return grad "
   ]
  },
  {
   "cell_type": "markdown",
   "id": "15e6cc72",
   "metadata": {},
   "source": [
    "### Question 16"
   ]
  },
  {
   "cell_type": "code",
   "execution_count": null,
   "id": "c693f4ca",
   "metadata": {
    "ExecuteTime": {
     "end_time": "2022-02-09T20:34:50.629736Z",
     "start_time": "2022-02-09T20:34:50.605752Z"
    }
   },
   "outputs": [],
   "source": [
    "def regularized_grad_descent(X, y, alpha=0.05, lambda_reg=10**-2, num_step=1000):\n",
    "    \"\"\"\n",
    "    Args:\n",
    "        X - the feature vector, 2D numpy array of size(num_instances, num_features)\n",
    "        y - the label vector, 1D numpy array of size(num_instances)\n",
    "        alpha - step size in gradient descent\n",
    "        lambda_reg - the regularization coefficient\n",
    "        num_step - number of steps to run\n",
    "    \n",
    "    Returns:\n",
    "        theta_hist - the history of parameter vector, 2D numpy array of size(num_step+1, num_features)\n",
    "                     for instance, theta in step 0 should be theta_hist[0], theta in step(num_step+1) is theta_hist[-1]\n",
    "        loss hist - the history of average square loss function without the regularization term, 1D numpy array.\n",
    "    \"\"\"\n",
    "    num_instances, num_features = X.shape[0], X.shape[1]\n",
    "    theta = np.zeros(num_features) #Initialize theta\n",
    "    theta_hist = np.zeros((num_step+1, num_features)) #Initialize theta_hist\n",
    "    loss_hist = np.zeros(num_step+1) #Initialize loss_hist\n",
    "\n",
    "    loss_hist[0] = compute_square_loss(X, y, theta)\n",
    "    theta_hist[0] = theta\n",
    "    for i in range(1, num_step+1):\n",
    "    \n",
    "        theta = theta - alpha * compute_regularized_square_loss_gradient(X, y, theta, lambda_reg)\n",
    "        loss = compute_square_loss(X, y, theta)\n",
    "        loss_hist[i] = loss\n",
    "        theta_hist[i] = theta\n",
    "        \n",
    "    return theta_hist, loss_hist"
   ]
  },
  {
   "cell_type": "markdown",
   "id": "4b061c06",
   "metadata": {
    "heading_collapsed": true
   },
   "source": [
    "### Question 17"
   ]
  },
  {
   "cell_type": "code",
   "execution_count": null,
   "id": "7dc43fcc",
   "metadata": {
    "ExecuteTime": {
     "end_time": "2022-02-09T20:45:25.879180Z",
     "start_time": "2022-02-09T20:45:25.852408Z"
    },
    "hidden": true
   },
   "outputs": [],
   "source": [
    "def plot_test_loss(X_train, y_train, X_test, y_test, lambda_reg):\n",
    "\n",
    "    theta_hist, loss_hist = regularized_grad_descent(X_train, y_train, lambda_reg=lambda_reg, num_step=1000)\n",
    "    test_loss = []\n",
    "    for i in range(len(theta_hist)):\n",
    "        test_loss.append(compute_square_loss(X_test, y_test, theta_hist[i]))\n",
    "\n",
    "    return test_loss"
   ]
  },
  {
   "cell_type": "code",
   "execution_count": null,
   "id": "43a2c7e4",
   "metadata": {
    "ExecuteTime": {
     "end_time": "2022-02-09T21:50:42.540033Z",
     "start_time": "2022-02-09T21:50:41.487126Z"
    },
    "hidden": true
   },
   "outputs": [],
   "source": [
    "plt.figure(figsize=(15,8))\n",
    "\n",
    "theta_hist, loss_hist_1 = regularized_grad_descent(X_train, y_train, alpha=0.05, lambda_reg=10**-7, num_step=1000)\n",
    "theta_hist, loss_hist_2 = regularized_grad_descent(X_train, y_train, alpha=0.05, lambda_reg=10**-5, num_step=1000)\n",
    "theta_hist, loss_hist_3 = regularized_grad_descent(X_train, y_train, alpha=0.05, lambda_reg=10**-3, num_step=1000)\n",
    "theta_hist, loss_hist_4 = regularized_grad_descent(X_train, y_train, alpha=0.05, lambda_reg=0.01, num_step=1000)\n",
    "theta_hist, loss_hist_5 = regularized_grad_descent(X_train, y_train, alpha=0.05, lambda_reg=0.1, num_step=1000)\n",
    "theta_hist, loss_hist_6 = regularized_grad_descent(X_train, y_train, alpha=0.05, lambda_reg=10, num_step=1000)\n",
    "theta_hist, loss_hist_7 = regularized_grad_descent(X_train, y_train, alpha=0.05, lambda_reg=100, num_step=1000)\n",
    "\n",
    "sns.lineplot(x=x, y=loss_hist_1, label='lambda 10^-7')\n",
    "sns.lineplot(x=x, y=loss_hist_2, label='lambda 10^-5')\n",
    "sns.lineplot(x=x, y=loss_hist_3, label='lambda 10^-3')\n",
    "sns.lineplot(x=x, y=loss_hist_4, label='lambda 0.01')\n",
    "sns.lineplot(x=x, y=loss_hist_5, label='lambda 0.1')\n",
    "sns.lineplot(x=x, y=loss_hist_6, label='lambda 10')\n",
    "sns.lineplot(x=x, y=loss_hist_6, label='lambda 100')\n",
    "\n",
    "plt.xscale('log')\n",
    "plt.yscale('log')\n",
    "plt.title('Training error')\n",
    "plt.show()"
   ]
  },
  {
   "cell_type": "code",
   "execution_count": null,
   "id": "53eff99d",
   "metadata": {
    "ExecuteTime": {
     "end_time": "2022-02-09T21:50:43.976672Z",
     "start_time": "2022-02-09T21:50:42.667538Z"
    },
    "hidden": true
   },
   "outputs": [],
   "source": [
    "plt.figure(figsize=(15,8))\n",
    "\n",
    "test_loss_1 = plot_test_loss(X_train, y_train, X_test, y_test, lambda_reg=10**-7)\n",
    "test_loss_2 = plot_test_loss(X_train, y_train, X_test, y_test, lambda_reg=10**-5)\n",
    "test_loss_3 = plot_test_loss(X_train, y_train, X_test, y_test, lambda_reg=10**-3)\n",
    "test_loss_4 = plot_test_loss(X_train, y_train, X_test, y_test, lambda_reg=0.01)\n",
    "test_loss_5 = plot_test_loss(X_train, y_train, X_test, y_test, lambda_reg=0.1)\n",
    "test_loss_6 = plot_test_loss(X_train, y_train, X_test, y_test, lambda_reg=10)\n",
    "test_loss_7 = plot_test_loss(X_train, y_train, X_test, y_test, lambda_reg=100)\n",
    "\n",
    "sns.lineplot(x=x, y=test_loss_1, label='lambda 10^-7')\n",
    "sns.lineplot(x=x, y=test_loss_2, label='lambda 10^-5')\n",
    "sns.lineplot(x=x, y=test_loss_3, label='lambda 10^-3')\n",
    "sns.lineplot(x=x, y=test_loss_4, label='lambda 0.01')\n",
    "sns.lineplot(x=x, y=test_loss_5, label='lambda 0.1')\n",
    "sns.lineplot(x=x, y=test_loss_6, label='lambda 10')\n",
    "sns.lineplot(x=x, y=test_loss_7, label='lambda 100')\n",
    "\n",
    "plt.xscale('log')\n",
    "plt.yscale('log'),\n",
    "plt.title('Testing error')\n",
    "plt.show()"
   ]
  },
  {
   "cell_type": "markdown",
   "id": "58d74d52",
   "metadata": {
    "hidden": true
   },
   "source": [
    "Overfitting consists on the training error being very low and the testing error being high, meaning that the training data was memorized and therefore the model fails to generalize. In this case, we can see that around step 400, the testing error starts increasing while the training error keeps going down, that when overfitting starts."
   ]
  },
  {
   "cell_type": "markdown",
   "id": "71696c8e",
   "metadata": {
    "heading_collapsed": true
   },
   "source": [
    "### Question 18"
   ]
  },
  {
   "cell_type": "code",
   "execution_count": null,
   "id": "e69b3117",
   "metadata": {
    "ExecuteTime": {
     "end_time": "2022-02-09T21:50:50.753793Z",
     "start_time": "2022-02-09T21:50:50.212934Z"
    },
    "hidden": true
   },
   "outputs": [],
   "source": [
    "plt.figure(figsize=(15,8))\n",
    "\n",
    "a = [loss_hist_1[-1], loss_hist_2[-1], loss_hist_3[-1], loss_hist_4[-1], loss_hist_5[-1]]\n",
    "b = [test_loss_1[-1], test_loss_2[-1], test_loss_3[-1], test_loss_4[-1], test_loss_5[-1]]\n",
    "lambdas = [10**-7, 10**-5, 10**-3, 0.01, 0.1]\n",
    "\n",
    "plt.plot(lambdas, a, label='Training loss', marker='s')\n",
    "plt.plot(lambdas, b, label='Testing loss', marker='s')\n",
    "plt.xscale('log')\n",
    "plt.legend()\n",
    "plt.show()"
   ]
  },
  {
   "cell_type": "markdown",
   "id": "8085c7ad",
   "metadata": {
    "hidden": true
   },
   "source": [
    "The best lambda would be where the training error intersects the testing error. Therefore, out of these lambdas I would choose lambda=0.01"
   ]
  },
  {
   "cell_type": "markdown",
   "id": "7454b47f",
   "metadata": {},
   "source": [
    "### Question 19"
   ]
  },
  {
   "cell_type": "code",
   "execution_count": null,
   "id": "4376cb52",
   "metadata": {
    "ExecuteTime": {
     "end_time": "2022-02-09T21:51:34.492820Z",
     "start_time": "2022-02-09T21:51:34.023320Z"
    }
   },
   "outputs": [],
   "source": [
    "plt.figure(figsize=(15,8))\n",
    "\n",
    "a = [loss_hist_1[-1], loss_hist_2[-1], loss_hist_3[-1], loss_hist_4[-1], loss_hist_5[-1]]\n",
    "b = [test_loss_1[-1], test_loss_2[-1], test_loss_3[-1], test_loss_4[-1], test_loss_5[-1]]\n",
    "min_a = [min(loss_hist_1), min(loss_hist_2), min(loss_hist_3), min(loss_hist_4), min(loss_hist_5)]\n",
    "min_b = [min(test_loss_1), min(test_loss_2), min(test_loss_3), min(test_loss_4), min(test_loss_5)]\n",
    "lambdas = [10**-7, 10**-5, 10**-3, 0.01, 0.1]\n",
    "\n",
    "plt.plot(lambdas, a, label='Training loss', marker='s')\n",
    "plt.plot(lambdas, b, label='Testing loss', marker='s')\n",
    "plt.plot(lambdas, min_a, label='min_train', marker='s')\n",
    "plt.plot(lambdas, min_b, label='min_test', marker='s')\n",
    "plt.xscale('log')\n",
    "plt.legend()\n",
    "plt.show()"
   ]
  },
  {
   "cell_type": "markdown",
   "id": "88e3cc07",
   "metadata": {},
   "source": [
    "Now, the diference between testing errors is much lower so it does not matter as much but it does seem like the best lambda is still 0.01\n",
    "\n",
    "Additionally, due to the fact that the training error always decreases, the minimum loss in training error is the same as the last training error (the green and blue line overlap)."
   ]
  },
  {
   "cell_type": "markdown",
   "id": "f2b352ac",
   "metadata": {},
   "source": [
    "### Question 20"
   ]
  },
  {
   "cell_type": "markdown",
   "id": "b27f88af",
   "metadata": {},
   "source": [
    "In practice, I would choose the theta that minimizes the test loss. In this case that is when alpha is 0.05, lambda is 0.01 and we use early stopping."
   ]
  },
  {
   "cell_type": "markdown",
   "id": "4fbb7b52",
   "metadata": {
    "heading_collapsed": true
   },
   "source": [
    "### Question 24"
   ]
  },
  {
   "cell_type": "code",
   "execution_count": null,
   "id": "b6a68913",
   "metadata": {
    "ExecuteTime": {
     "end_time": "2022-02-09T02:13:08.625247Z",
     "start_time": "2022-02-09T02:13:08.611278Z"
    },
    "hidden": true
   },
   "outputs": [],
   "source": [
    "def stochastic_grad_descent(X, y, alpha=0.01, lambda_reg=10**-2, num_epoch=1000, eta0=False):\n",
    "    \"\"\"\n",
    "    In this question you will implement stochastic gradient descent with regularization term\n",
    "\n",
    "    Args:\n",
    "        X - the feature vector, 2D numpy array of size(num_instances, num_features)\n",
    "        y - the label vector, 1D numpy array of size(num_instances)\n",
    "        alpha - string or float, step size in gradient descent\n",
    "                NOTE: In SGD, it's not a good idea to use a fixed step size. Usually it's set to 1/sqrt(t) or 1/t\n",
    "                if alpha is a float, then the step size in every step is the float.\n",
    "                if alpha == \"1/sqrt(t)\", alpha = 1/sqrt(t).\n",
    "                if alpha == \"1/t\", alpha = 1/t.\n",
    "        lambda_reg - the regularization coefficient\n",
    "        num_epoch - number of epochs to go through the whole training set\n",
    "\n",
    "    Returns:\n",
    "        theta_hist - the history of parameter vector, 3D numpy array of size(num_epoch, num_instances, num_features)\n",
    "                     for instance, theta in epoch 0 should be theta_hist[0], theta in epoch(num_epoch) is theta_hist[-1]\n",
    "        loss hist - the history of loss function vector, 2D numpy array of size(num_epoch, num_instances)\n",
    "    \"\"\"\n",
    "    num_instances, num_features = X.shape[0], X.shape[1]\n",
    "    theta = np.ones(num_features) #Initialize theta\n",
    "    theta_hist = np.zeros((num_epoch, num_instances, num_features)) #Initialize theta_hist\n",
    "    loss_hist = np.zeros((num_epoch, num_instances)) #Initialize loss_hist\n",
    "    np.random.seed(27)\n",
    "    \n",
    "    for epoch in range(0, num_epoch):\n",
    "        \n",
    "        #random_index = np.random.choice(list(range(0, len(X))), len(X), replace=False)\n",
    "        random_index = np.random.permutation(num_instances)\n",
    "        for i in range(0, len(random_index)): \n",
    "            \n",
    "            #Save the historical loss and thetas\n",
    "            loss_hist[epoch, i] = compute_square_loss(X, y, theta) + lambda_reg * theta.T @ theta\n",
    "            theta_hist[epoch, i] = theta\n",
    "            \n",
    "            X_temp = X[random_index[i]].reshape(1,49)\n",
    "            y_temp = y[random_index[i]].reshape(1,1)\n",
    "            theta = theta.reshape(49,1)\n",
    "            \n",
    "            grad = 2 * (X_temp.T @ X_temp @ theta - (X_temp.T @ y_temp)) + 2 * lambda_reg * theta\n",
    "            \n",
    "            grad = grad.reshape(49,)\n",
    "            theta = theta.reshape(49,)\n",
    "            \n",
    "            t = epoch * 100 + i+1\n",
    "            #Check alpha\n",
    "            if alpha == \"1/sqrt(t)\": \n",
    "                theta = theta - 0.1/np.sqrt(t) * grad\n",
    "            elif alpha == \"1/t\":\n",
    "                theta = theta - 0.1/t * grad\n",
    "            else: \n",
    "                theta = theta - alpha * grad        \n",
    "            \n",
    "    return theta_hist, loss_hist"
   ]
  },
  {
   "cell_type": "code",
   "execution_count": null,
   "id": "c3d35e4d",
   "metadata": {},
   "outputs": [],
   "source": [
    "plt.figure(figsize=(15,8))\n",
    "x = np.linspace(0, 1000, 1000)\n",
    "\n",
    "theta_hist1, loss_hist1 = stochastic_grad_descent(X_train, y_train, alpha=0.01, lambda_reg=10**-2, num_epoch=1000)\n",
    "theta_hist2, loss_hist2 = stochastic_grad_descent(X_train, y_train, alpha=0.005, lambda_reg=10**-2, num_epoch=1000)\n",
    "theta_hist3, loss_hist3 = stochastic_grad_descent(X_train, y_train, alpha=\"1/t\", lambda_reg=10**-2, num_epoch=1000)\n",
    "theta_hist4, loss_hist4 = stochastic_grad_descent(X_train, y_train, alpha=\"1/sqrt(t)\", lambda_reg=10**-2, num_epoch=1000)\n",
    "theta_hist5, loss_hist5 = stochastic_grad_descent(X_train, y_train, alpha=\"1/sqrt(t)\", lambda_reg=10**-2, num_epoch=1000)\n",
    "\n",
    "sns.lineplot(x=x, y=loss_hist1[:,-1], label='alpha = 0.01')\n",
    "sns.lineplot(x=x, y=loss_hist2[:,-1], label='alpha = 0.005')\n",
    "sns.lineplot(x=x, y=loss_hist3[:,-1], label='alpha = 0.1/t')\n",
    "sns.lineplot(x=x, y=loss_hist4[:,-1], label='alpha = 0.1/sqrt(t)')\n",
    "\n",
    "plt.xscale('log')\n",
    "plt.yscale('log')\n",
    "plt.title('Training error')\n",
    "plt.show()"
   ]
  },
  {
   "cell_type": "markdown",
   "id": "2112f5b3",
   "metadata": {},
   "source": [
    "### Question 25"
   ]
  },
  {
   "cell_type": "markdown",
   "id": "b1e34eee",
   "metadata": {},
   "source": [
    "It is clear that when the step size is constant there is much moire noise. Additionally, using a step size of C/sqrt(t) appears to be the best alpha."
   ]
  },
  {
   "cell_type": "markdown",
   "id": "cc969fdb",
   "metadata": {},
   "source": [
    "### Question 28"
   ]
  },
  {
   "cell_type": "code",
   "execution_count": null,
   "id": "731f40ff",
   "metadata": {},
   "outputs": [],
   "source": [
    "import numpy as np\n",
    "from sklearn.datasets import fetch_openml\n",
    "from sklearn.linear_model import SGDClassifier\n",
    "from sklearn.model_selection import train_test_split\n",
    "from sklearn.preprocessing import StandardScaler"
   ]
  },
  {
   "cell_type": "code",
   "execution_count": null,
   "id": "ae887dcd",
   "metadata": {},
   "outputs": [],
   "source": [
    "def pre_process_mnist_01():\n",
    "    \"\"\"\n",
    "    Load the mnist datasets, selects the classes 0 and 1 \n",
    "    and normalize the data.\n",
    "    Args: none\n",
    "    Outputs: \n",
    "        X_train: np.array of size (n_training_samples, n_features)\n",
    "        X_test: np.array of size (n_test_samples, n_features)\n",
    "        y_train: np.array of size (n_training_samples)\n",
    "        y_test: np.array of size (n_test_samples)\n",
    "    \"\"\"\n",
    "    X_mnist, y_mnist = fetch_openml('mnist_784', version=1, \n",
    "                                    return_X_y=True, as_frame=False)\n",
    "    indicator_01 = (y_mnist == '0') + (y_mnist == '1')\n",
    "    X_mnist_01 = X_mnist[indicator_01]\n",
    "    y_mnist_01 = y_mnist[indicator_01]\n",
    "    X_train, X_test, y_train, y_test = train_test_split(X_mnist_01, y_mnist_01,\n",
    "                                                        test_size=0.33,\n",
    "                                                        shuffle=False)\n",
    "\n",
    "    scaler = StandardScaler()\n",
    "    X_train = scaler.fit_transform(X_train) \n",
    "    X_test = scaler.transform(X_test)\n",
    "\n",
    "    y_test = 2 * np.array([int(y) for y in y_test]) - 1\n",
    "    y_train = 2 * np.array([int(y) for y in y_train]) - 1\n",
    "    return X_train, X_test, y_train, y_test"
   ]
  },
  {
   "cell_type": "code",
   "execution_count": null,
   "id": "2d138731",
   "metadata": {},
   "outputs": [],
   "source": [
    "def sub_sample(N_train, X_train, y_train):\n",
    "    \"\"\"\n",
    "    Subsample the training data to keep only N first elements\n",
    "    Args: none\n",
    "    Outputs: \n",
    "        X_train: np.array of size (n_training_samples, n_features)\n",
    "        X_test: np.array of size (n_test_samples, n_features)\n",
    "        y_train: np.array of size (n_training_samples)\n",
    "        y_test: np.array of size (n_test_samples)\n",
    "    \"\"\"\n",
    "    assert N_train <= X_train.shape[0]\n",
    "    return X_train[:N_train, :], y_train[:N_train]"
   ]
  },
  {
   "cell_type": "code",
   "execution_count": null,
   "id": "045a7688",
   "metadata": {},
   "outputs": [],
   "source": [
    "def classification_error(clf, X, y):\n",
    "    return (np.sum(abs(clf.predict(X) - y))) / (2*X.shape[0])"
   ]
  },
  {
   "cell_type": "code",
   "execution_count": null,
   "id": "a2d0aad1",
   "metadata": {},
   "outputs": [],
   "source": [
    "X_train, X_test, y_train, y_test = pre_process_mnist_01()\n",
    "\n",
    "clf = SGDClassifier(loss='log', max_iter=1000, \n",
    "                    tol=1e-3,\n",
    "                    penalty='l1', alpha=0.01, \n",
    "                    learning_rate='invscaling', \n",
    "                    power_t=0.5,                \n",
    "                    eta0=0.01,\n",
    "                    verbose=1)\n",
    "clf.fit(X_train, y_train)\n",
    "\n",
    "test = classification_error(clf, X_test, y_test)\n",
    "train = classification_error(clf, X_train, y_train)\n",
    "print('train: ', train, end='\\t')\n",
    "print('test: ', test)"
   ]
  },
  {
   "cell_type": "markdown",
   "id": "0a117df6",
   "metadata": {},
   "source": [
    "### Question 29"
   ]
  },
  {
   "cell_type": "code",
   "execution_count": 5,
   "id": "88cf8865",
   "metadata": {},
   "outputs": [
    {
     "ename": "NameError",
     "evalue": "name 'SGDClassifier' is not defined",
     "output_type": "error",
     "traceback": [
      "\u001b[1;31m---------------------------------------------------------------------------\u001b[0m",
      "\u001b[1;31mNameError\u001b[0m                                 Traceback (most recent call last)",
      "\u001b[1;32m~\\AppData\\Local\\Temp/ipykernel_3276/439563585.py\u001b[0m in \u001b[0;36m<module>\u001b[1;34m\u001b[0m\n\u001b[0;32m      5\u001b[0m \u001b[1;32mfor\u001b[0m \u001b[0malpha\u001b[0m \u001b[1;32min\u001b[0m \u001b[0malpha_list\u001b[0m\u001b[1;33m:\u001b[0m\u001b[1;33m\u001b[0m\u001b[1;33m\u001b[0m\u001b[0m\n\u001b[0;32m      6\u001b[0m \u001b[1;33m\u001b[0m\u001b[0m\n\u001b[1;32m----> 7\u001b[1;33m     clf = SGDClassifier(loss='log', max_iter=1000, tol=1e-3, penalty='l1', alpha=alpha, \n\u001b[0m\u001b[0;32m      8\u001b[0m                         learning_rate='invscaling', power_t=0.5, eta0=0.01)\n\u001b[0;32m      9\u001b[0m \u001b[1;33m\u001b[0m\u001b[0m\n",
      "\u001b[1;31mNameError\u001b[0m: name 'SGDClassifier' is not defined"
     ]
    }
   ],
   "source": [
    "mean_list, std_list = [], []\n",
    "alpha_list = np.logspace(-4,-1, 10)\n",
    "\n",
    "\n",
    "for alpha in alpha_list: \n",
    "\n",
    "    clf = SGDClassifier(loss='log', max_iter=1000, tol=1e-3, penalty='l1', alpha=alpha, \n",
    "                        learning_rate='invscaling', power_t=0.5, eta0=0.01)\n",
    "\n",
    "    error_list = []\n",
    "    for _ in range(0, 10): \n",
    "        X_train, y_train = sub_sample(100, X_train, y_train)\n",
    "        clf.fit(X_train, y_train)\n",
    "\n",
    "        error_list.append(classification_error(clf, X_test, y_test))\n",
    "\n",
    "    mean_list.append(np.mean(error_list))\n",
    "    std_list.append(np.std(error_list))"
   ]
  },
  {
   "cell_type": "code",
   "execution_count": 10,
   "id": "3caff84d",
   "metadata": {},
   "outputs": [
    {
     "data": {
      "image/png": "[encoded data removed]",
      "text/plain": [
       "<Figure size 1080x576 with 1 Axes>"
      ]
     },
     "metadata": {
      "needs_background": "light"
     },
     "output_type": "display_data"
    }
   ],
   "source": [
    "plt.figure(figsize = (15,8))\n",
    "\n",
    "plt.errorbar(alpha_list,mean_list,yerr = std_list, fmt = 'o')\n",
    "\n",
    "plt.yscale(\"log\")\n",
    "plt.xscale('log')\n",
    "plt.show()"
   ]
  },
  {
   "cell_type": "markdown",
   "id": "9b1ae1d4",
   "metadata": {},
   "source": [
    "### Question 30"
   ]
  },
  {
   "cell_type": "markdown",
   "id": "2124dafe",
   "metadata": {},
   "source": [
    "The sole source of randomness comes from the selection of the subset of data."
   ]
  },
  {
   "cell_type": "markdown",
   "id": "623589fb",
   "metadata": {},
   "source": [
    "### Question 31"
   ]
  },
  {
   "cell_type": "markdown",
   "id": "89052340",
   "metadata": {},
   "source": [
    "The optimal value of the parameter alpha is 0.1, it has the lowest test error mean as seen in the graph."
   ]
  },
  {
   "cell_type": "markdown",
   "id": "df3f11ba",
   "metadata": {},
   "source": [
    "### Question 32"
   ]
  },
  {
   "cell_type": "code",
   "execution_count": 27,
   "id": "0aaf6bf5",
   "metadata": {},
   "outputs": [],
   "source": [
    "clf = SGDClassifier(loss='log', max_iter=1000, tol=1e-3, alpha=0, \n",
    "                        learning_rate='invscaling', power_t=0.5, eta0=0.01)\n",
    "clf.fit(X_train, y_train)\n",
    "coeffs = clf.coef_.reshape(28,28)"
   ]
  },
  {
   "cell_type": "code",
   "execution_count": 34,
   "id": "cb4f9160",
   "metadata": {},
   "outputs": [],
   "source": [
    "clf_reg = SGDClassifier(loss='log', max_iter=1000, tol=1e-3, penalty='l1', alpha=0.05, \n",
    "                       learning_rate='invscaling', power_t=0.5, eta0=0.01)\n",
    "clf_reg.fit(X_train, y_train)\n",
    "coeffs_reg = clf_reg.coef_.reshape(28,28)"
   ]
  },
  {
   "cell_type": "code",
   "execution_count": 35,
   "id": "25e2c803",
   "metadata": {},
   "outputs": [
    {
     "data": {
      "image/png": "[encoded data removed]",
      "text/plain": [
       "<Figure size 432x288 with 2 Axes>"
      ]
     },
     "metadata": {
      "needs_background": "light"
     },
     "output_type": "display_data"
    }
   ],
   "source": [
    "scale = np.abs(clf.coef_).max()\n",
    "plt.imshow(coeffs, cmap=plt.cm.RdBu, vmax=scale, vmin=-scale)\n",
    "plt.colorbar()\n",
    "plt.show()"
   ]
  },
  {
   "cell_type": "code",
   "execution_count": 36,
   "id": "dce0489f",
   "metadata": {},
   "outputs": [
    {
     "data": {
      "image/png": "[encoded data removed]",
      "text/plain": [
       "<Figure size 432x288 with 2 Axes>"
      ]
     },
     "metadata": {
      "needs_background": "light"
     },
     "output_type": "display_data"
    }
   ],
   "source": [
    "scale = np.abs(clf_reg.coef_).max()\n",
    "plt.imshow(coeffs_reg, cmap=plt.cm.RdBu, vmax=scale, vmin=-scale)\n",
    "plt.colorbar()\n",
    "plt.show()"
   ]
  },
  {
   "cell_type": "markdown",
   "id": "4c643110",
   "metadata": {},
   "source": [
    "The pattern of coefficients reflect the pixels of the image, we can see that the value is lower (red) when the pixel is assigned to the target 0 and higher (blue) when it is assigned to the target 1.<br>\n",
    "\n",
    "Additionallty, the regularization turns the less informative coefficients to 0 and therefore they are not seen in the second graph.<br>"
   ]
  }
 ],
 "metadata": {
  "kernelspec": {
   "display_name": "Python 3 (ipykernel)",
   "language": "python",
   "name": "python3"
  },
  "language_info": {
   "codemirror_mode": {
    "name": "ipython",
    "version": 3
   },
   "file_extension": ".py",
   "mimetype": "text/x-python",
   "name": "python",
   "nbconvert_exporter": "python",
   "pygments_lexer": "ipython3",
   "version": "3.9.7"
  },
  "toc": {
   "base_numbering": 1,
   "nav_menu": {},
   "number_sections": true,
   "sideBar": true,
   "skip_h1_title": false,
   "title_cell": "Table of Contents",
   "title_sidebar": "Contents",
   "toc_cell": false,
   "toc_position": {},
   "toc_section_display": true,
   "toc_window_display": false
  },
  "varInspector": {
   "cols": {
    "lenName": 16,
    "lenType": 16,
    "lenVar": 40
   },
   "kernels_config": {
    "python": {
     "delete_cmd_postfix": "",
     "delete_cmd_prefix": "del ",
     "library": "var_list.py",
     "varRefreshCmd": "print(var_dic_list())"
    },
    "r": {
     "delete_cmd_postfix": ") ",
     "delete_cmd_prefix": "rm(",
     "library": "var_list.r",
     "varRefreshCmd": "cat(var_dic_list()) "
    }
   },
   "types_to_exclude": [
    "module",
    "function",
    "builtin_function_or_method",
    "instance",
    "_Feature"
   ],
   "window_display": false
  }
 },
 "nbformat": 4,
 "nbformat_minor": 5
}
