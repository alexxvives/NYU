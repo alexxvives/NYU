{
 "cells": [
  {
   "cell_type": "markdown",
   "id": "99b8e695",
   "metadata": {},
   "source": [
    "# Homework 3"
   ]
  },
  {
   "cell_type": "code",
   "execution_count": 161,
   "id": "0b95df3a",
   "metadata": {
    "ExecuteTime": {
     "end_time": "2022-03-03T22:08:27.621075Z",
     "start_time": "2022-03-03T22:08:27.605086Z"
    }
   },
   "outputs": [],
   "source": [
    "# Import Libraries\n",
    "import pandas as pd\n",
    "import numpy as np\n",
    "import matplotlib.pyplot as plt\n",
    "import seaborn as sns\n",
    "import random\n",
    "import os\n",
    "from collections import Counter\n",
    "import sklearn\n",
    "from scipy.spatial.distance import cdist\n",
    "import functools\n",
    "from sklearn.model_selection import GridSearchCV,PredefinedSplit\n",
    "from sklearn.model_selection import ParameterGrid\n",
    "from sklearn.metrics import mean_squared_error,make_scorer\n",
    "import itertools\n",
    "\n",
    "random.seed(27)"
   ]
  },
  {
   "cell_type": "markdown",
   "id": "b364de71",
   "metadata": {},
   "source": [
    "### Question 1"
   ]
  },
  {
   "cell_type": "markdown",
   "id": "528bcd6d",
   "metadata": {},
   "source": [
    "$$\n",
    "\\text{Given that } g \\in \\partial f_k(x) \\text{, we know } f_k(z) \\geq f_k(x+z) + g^T_{f_k(x)}(z-x)\n",
    "$$\n",
    "\n",
    "Now, since $f_k(x) = f(x)$, we can take k to be the index associated to the largest function, which allows us to express the initial expression:\n",
    "\n",
    "$$\n",
    "f(z) \\geq f(x+z) + g^T_{f(x)}(z-x) \\text{, which proves } g \\in \\partial f(x)\n",
    "$$"
   ]
  },
  {
   "cell_type": "markdown",
   "id": "1db0409e",
   "metadata": {},
   "source": [
    "### Question 2"
   ]
  },
  {
   "cell_type": "markdown",
   "id": "7684d7f7",
   "metadata": {
    "ExecuteTime": {
     "end_time": "2022-02-22T20:01:48.021553Z",
     "start_time": "2022-02-22T20:01:48.005684Z"
    }
   },
   "source": [
    "$$\n",
    "\\begin{equation*}\n",
    "    \\begin{split}\n",
    "        J(w) = max\\{0, 1-yw^Tx\\} = \\begin{cases} 0 \\textbf{ if } yw^Tx\\geq1\\\\1-yw^Tx \\textbf{ if } yw^Tx<1\\end{cases}= \\begin{cases} 0 \\textbf{ if } yw^Tx\\geq1\\\\-yx \\textbf{ if } yw^Tx<1\\end{cases}\\\\\n",
    "    \\end{split}\n",
    "\\end{equation*}\n",
    "$$"
   ]
  },
  {
   "cell_type": "markdown",
   "id": "5f1bb77e",
   "metadata": {},
   "source": [
    "### Question 3 <font color=red> TO DO</font>"
   ]
  },
  {
   "cell_type": "markdown",
   "id": "78f81a07",
   "metadata": {},
   "source": [
    "A function is convex if for all $x, y$ in the domain of $f$ for all $\\theta \\in (0,1)$:\n",
    "$$\n",
    "\\begin{equation*}\n",
    "    \\begin{split}\n",
    "        \\theta f(a) + (1-\\theta)f(b) \\geq f(\\theta a + (1-\\theta)(b))\n",
    "    \\end{split}\n",
    "\\end{equation*}\n",
    "$$\n",
    "\n",
    "Let's suppose that f is not convex. <br>\n",
    "Then, there is a point $x_0$ in some interval $x \\in (a,b)$, such that $f(x_0)$ lies above $\\theta f(a) + (1-\\theta)f(b)$. It is trivial that at that point $x_0$, "
   ]
  },
  {
   "cell_type": "markdown",
   "id": "b840d3e0",
   "metadata": {},
   "source": [
    "### Question 4"
   ]
  },
  {
   "cell_type": "markdown",
   "id": "b10b3f18",
   "metadata": {},
   "source": [
    "$\\partial J(w)$ is undefined when $1-y_iw^Tx_i = 0$ and defined everywhere else."
   ]
  },
  {
   "cell_type": "markdown",
   "id": "3b664cd6",
   "metadata": {},
   "source": [
    "### Question 5"
   ]
  },
  {
   "cell_type": "markdown",
   "id": "9832aa4b",
   "metadata": {},
   "source": [
    "$$\n",
    "\\begin{equation*}\n",
    "    \\begin{split}\n",
    "        J(w) = \\frac{\\lambda}{2}||w||^2 + max\\{0, 1-yw^Tx\\} = \\begin{cases} \\frac{\\lambda}{2}||w||^2 \\textbf{ if } yw^Tx\\geq1\\\\ \\frac{\\lambda}{2}||w||^2 + (1-yw^Tx) \\textbf{ if } yw^Tx<1\\end{cases}\n",
    "    \\end{split}\n",
    "\\end{equation*}\n",
    "$$\n",
    "\n",
    "Now, let's differentiate.\n",
    "\n",
    "$$\n",
    "\\begin{equation*}\n",
    "    \\begin{split}\n",
    "        \\begin{cases} \\frac{\\lambda}{2}||w||^2 \\\\ \\frac{\\lambda}{2}||w||^2 + (1-yw^Tx)\\end{cases}\\rightarrow \\begin{cases} \\lambda w \\textbf{ if } yw^Tx\\geq1\\\\ \\lambda w -yx \\textbf{ if } yw^Tx<1\\end{cases}\n",
    "    \\end{split}\n",
    "\\end{equation*}\n",
    "$$"
   ]
  },
  {
   "cell_type": "markdown",
   "id": "25b6e53f",
   "metadata": {},
   "source": [
    "### Given code (SVM with Pegasos algorithm)"
   ]
  },
  {
   "cell_type": "code",
   "execution_count": 26,
   "id": "f8bc91ec",
   "metadata": {
    "ExecuteTime": {
     "end_time": "2022-03-03T20:06:59.913208Z",
     "start_time": "2022-03-03T20:06:59.898248Z"
    }
   },
   "outputs": [],
   "source": [
    "def read_data(file):\n",
    "    '''\n",
    "    Read each file into a list of strings.\n",
    "    '''\n",
    "    f = open(file)\n",
    "    lines = f.read().split(' ')\n",
    "    symbols = '${}()[].,:;+-*/&|<>=~\" '\n",
    "    words = map(lambda Element: Element.translate(str.maketrans(\"\", \"\", symbols)).strip(), lines)\n",
    "    words = filter(None, words)\n",
    "    return list(words)"
   ]
  },
  {
   "cell_type": "code",
   "execution_count": 27,
   "id": "56e19018",
   "metadata": {
    "ExecuteTime": {
     "end_time": "2022-03-03T20:07:00.085037Z",
     "start_time": "2022-03-03T20:07:00.069017Z"
    }
   },
   "outputs": [],
   "source": [
    "def folder_list(path,label):\n",
    "    '''\n",
    "    PARAMETER PATH IS THE PATH OF YOUR LOCAL FOLDER\n",
    "    '''\n",
    "    filelist = os.listdir(path)\n",
    "    review = []\n",
    "    for infile in filelist:\n",
    "        file = os.path.join(path,infile)\n",
    "        r = read_data(file)\n",
    "        r.append(label)\n",
    "        review.append(r)\n",
    "    return review"
   ]
  },
  {
   "cell_type": "code",
   "execution_count": 28,
   "id": "5d084c25",
   "metadata": {
    "ExecuteTime": {
     "end_time": "2022-03-03T20:07:00.240388Z",
     "start_time": "2022-03-03T20:07:00.222378Z"
    }
   },
   "outputs": [],
   "source": [
    "def load_and_shuffle_data():\n",
    "    '''\n",
    "    pos_path is where you save positive review data.\n",
    "    neg_path is where you save negative review data.\n",
    "    '''\n",
    "    pos_path = \"data_reviews/data/pos\"\n",
    "    neg_path = \"data_reviews/data/neg\"\n",
    "    \n",
    "    #pos_path = \"C:\\\\Users\\\\alexx\\\\OneDrive\\\\Escritorio\\\\hw3\\\\data_reviews\\\\data\\\\pos\"\n",
    "    #neg_path = \"C:\\\\Users\\\\alexx\\\\OneDrive\\\\Escritorio\\\\hw3\\\\data_reviews\\\\data\\\\neg\"\n",
    "    \n",
    "    pos_review = folder_list(pos_path,1)\n",
    "    neg_review = folder_list(neg_path,-1)\n",
    "\n",
    "    review = pos_review + neg_review\n",
    "    random.shuffle(review)\n",
    "    return review"
   ]
  },
  {
   "cell_type": "code",
   "execution_count": 29,
   "id": "9679126b",
   "metadata": {
    "ExecuteTime": {
     "end_time": "2022-03-03T20:07:00.590320Z",
     "start_time": "2022-03-03T20:07:00.573305Z"
    }
   },
   "outputs": [],
   "source": [
    "# Taken from http://web.stanford.edu/class/cs221/ Assignment #2 Support Code\n",
    "def dotProduct(d1, d2):\n",
    "    \"\"\"\n",
    "    @param dict d1: a feature vector represented by a mapping from a feature (string) to a weight (float).\n",
    "    @param dict d2: same as d1\n",
    "    @return float: the dot product between d1 and d2\n",
    "    \"\"\"\n",
    "    if len(d1) < len(d2):\n",
    "        return dotProduct(d2, d1)\n",
    "    else:\n",
    "        return sum(d1.get(f, 0) * v for f, v in d2.items())"
   ]
  },
  {
   "cell_type": "code",
   "execution_count": 30,
   "id": "e942a485",
   "metadata": {
    "ExecuteTime": {
     "end_time": "2022-03-03T20:07:00.794185Z",
     "start_time": "2022-03-03T20:07:00.783254Z"
    }
   },
   "outputs": [],
   "source": [
    "def increment(d1, scale, d2):\n",
    "    \"\"\"\n",
    "    Implements d1 += scale * d2 for sparse vectors.\n",
    "    @param dict d1: the feature vector which is mutated.\n",
    "    @param float scale\n",
    "    @param dict d2: a feature vector.\n",
    "\n",
    "    NOTE: This function does not return anything, but rather\n",
    "    increments d1 in place. We do this because it is much faster to\n",
    "    change elements of d1 in place than to build a new dictionary and\n",
    "    return it.\n",
    "    \"\"\"\n",
    "    for f, v in d2.items():\n",
    "        d1[f] = d1.get(f, 0) + v * scale\n"
   ]
  },
  {
   "cell_type": "markdown",
   "id": "58415710",
   "metadata": {},
   "source": [
    "### Question 6"
   ]
  },
  {
   "cell_type": "code",
   "execution_count": 8,
   "id": "c670c50b",
   "metadata": {
    "ExecuteTime": {
     "end_time": "2022-03-03T17:14:22.817917Z",
     "start_time": "2022-03-03T17:14:22.801896Z"
    }
   },
   "outputs": [],
   "source": [
    "def bag_of_words(input_):\n",
    "    return Counter(input_)"
   ]
  },
  {
   "cell_type": "markdown",
   "id": "9c5903d0",
   "metadata": {
    "ExecuteTime": {
     "end_time": "2022-02-22T19:52:30.411751Z",
     "start_time": "2022-02-22T19:52:30.390399Z"
    }
   },
   "source": [
    "### Question 7"
   ]
  },
  {
   "cell_type": "code",
   "execution_count": 9,
   "id": "471f2cec",
   "metadata": {
    "ExecuteTime": {
     "end_time": "2022-03-03T17:14:26.802689Z",
     "start_time": "2022-03-03T17:14:23.677425Z"
    }
   },
   "outputs": [],
   "source": [
    "review = load_and_shuffle_data()"
   ]
  },
  {
   "cell_type": "code",
   "execution_count": 10,
   "id": "f75bbac6",
   "metadata": {
    "ExecuteTime": {
     "end_time": "2022-03-03T17:14:27.056605Z",
     "start_time": "2022-03-03T17:14:26.928659Z"
    }
   },
   "outputs": [],
   "source": [
    "X_train, X_test, y_train, y_test = [], [], [], []\n",
    "\n",
    "for doc in review[0:1500]:\n",
    "    X_train.append(bag_of_words(doc[0:-1])) #Read all words except the label\n",
    "    y_train.append(doc[-1]) #Read the label\n",
    "    \n",
    "for doc in review[1500:2000]:\n",
    "    X_test.append(bag_of_words(doc[0:-1])) #Read all words except the label\n",
    "    y_test.append(doc[-1]) #Read the label"
   ]
  },
  {
   "cell_type": "markdown",
   "id": "fc57a0cd",
   "metadata": {
    "ExecuteTime": {
     "end_time": "2022-02-22T19:52:33.212266Z",
     "start_time": "2022-02-22T19:52:33.196436Z"
    }
   },
   "source": [
    "### Question 8"
   ]
  },
  {
   "cell_type": "code",
   "execution_count": 11,
   "id": "ab66c754",
   "metadata": {
    "ExecuteTime": {
     "end_time": "2022-03-03T17:14:27.440289Z",
     "start_time": "2022-03-03T17:14:27.400361Z"
    }
   },
   "outputs": [],
   "source": [
    "def pegasos(X_train, y_train, epochs = 3, lbd=0.01):\n",
    "    \n",
    "    t, w = 1, {}\n",
    "\n",
    "    for _ in range(epochs):\n",
    "        for idx in range(0, len(X_train)):\n",
    "            t += 1\n",
    "            step = 1/(t*lbd)\n",
    "\n",
    "            #Update w regardless of the training point\n",
    "            for key, value in w.items():\n",
    "                w[key] = value * (1-step*lbd)\n",
    "\n",
    "            if y_train[idx] * dotProduct(w, X_train[idx]) < 1:\n",
    "                increment(w, step * y_train[idx], X_train[idx])\n",
    "                \n",
    "    return w "
   ]
  },
  {
   "cell_type": "markdown",
   "id": "cfcf04e3",
   "metadata": {},
   "source": [
    "### Question 9"
   ]
  },
  {
   "cell_type": "code",
   "execution_count": 15,
   "id": "31ba3d5c",
   "metadata": {
    "ExecuteTime": {
     "end_time": "2022-03-03T17:14:43.959931Z",
     "start_time": "2022-03-03T17:14:43.951936Z"
    }
   },
   "outputs": [],
   "source": [
    "def optimized_pegasos(X_train, y_train, epochs = 3, lbd=0.01):\n",
    "         \n",
    "    s, t, w = 1, 1, {}\n",
    "    for _ in range(epochs):\n",
    "        for idx in range(0, len(X_train)):\n",
    "            t += 1\n",
    "            step = 1/(t*lbd)\n",
    "            s *= (1-step*lbd) #Update s regardless of the training point\n",
    "\n",
    "            if y_train[idx] * dotProduct(w, X_train[idx]) * s < 1:\n",
    "                increment(w, (1/s) * step * y_train[idx], X_train[idx])\n",
    "    for key, value in w.items():\n",
    "        w[key] = value * s\n",
    "            \n",
    "    return w"
   ]
  },
  {
   "cell_type": "markdown",
   "id": "81ee151a",
   "metadata": {},
   "source": [
    "### Question 10"
   ]
  },
  {
   "cell_type": "code",
   "execution_count": 19,
   "id": "3ec2488e",
   "metadata": {
    "ExecuteTime": {
     "end_time": "2022-02-28T22:39:05.575078Z",
     "start_time": "2022-02-28T22:38:51.790776Z"
    }
   },
   "outputs": [
    {
     "name": "stdout",
     "output_type": "stream",
     "text": [
      "[('will', 3.4436791824039124), ('hunting', 0.7776049766718484), ('matt', 0.31104199066874), ('damon', 0.5109975560986435), ('is', 1.1775161075316511)]\n",
      "Wall time: 13.8 s\n"
     ]
    }
   ],
   "source": [
    "%%time\n",
    "w = pegasos(X_train, y_train, epochs=3, lbd=0.01)"
   ]
  },
  {
   "cell_type": "code",
   "execution_count": 14,
   "id": "819f49e1",
   "metadata": {
    "ExecuteTime": {
     "end_time": "2022-02-28T20:45:10.148948Z",
     "start_time": "2022-02-28T20:45:09.806651Z"
    }
   },
   "outputs": [
    {
     "name": "stdout",
     "output_type": "stream",
     "text": [
      "[('will', 3.4436791824039092), ('hunting', 0.7776049766718498), ('matt', 0.3110419906687397), ('damon', 0.5109975560986442), ('is', 1.1775161075316611)]\n",
      "Wall time: 333 ms\n"
     ]
    }
   ],
   "source": [
    "%%time\n",
    "w = optimized_pegasos(X_train, y_train, epochs=3, lbd=0.01)"
   ]
  },
  {
   "cell_type": "markdown",
   "id": "e211d2b1",
   "metadata": {},
   "source": [
    "The first method takes around 15 seconds, whereas the second method takes 0.3 seconds."
   ]
  },
  {
   "cell_type": "markdown",
   "id": "a584cace",
   "metadata": {},
   "source": [
    "### Question 11"
   ]
  },
  {
   "cell_type": "code",
   "execution_count": 12,
   "id": "3eb0d6cb",
   "metadata": {
    "ExecuteTime": {
     "end_time": "2022-03-03T17:14:31.532281Z",
     "start_time": "2022-03-03T17:14:31.516231Z"
    }
   },
   "outputs": [],
   "source": [
    "def classification_error(X, y, w):\n",
    "\n",
    "    count = 0\n",
    "    for idx in range(len(X)):\n",
    "        pred = dotProduct(w, X[idx])\n",
    "    \n",
    "        if pred * y[idx] < 0:\n",
    "            count += 1\n",
    "    return round(count/len(X),3)"
   ]
  },
  {
   "cell_type": "markdown",
   "id": "d7c6b64c",
   "metadata": {},
   "source": [
    "### Question 12"
   ]
  },
  {
   "cell_type": "code",
   "execution_count": 18,
   "id": "2567db0d",
   "metadata": {
    "ExecuteTime": {
     "end_time": "2022-03-03T17:02:59.924229Z",
     "start_time": "2022-03-03T17:01:42.832267Z"
    }
   },
   "outputs": [],
   "source": [
    "lambda_list = [10**-3, 0.01, 0.05, 0.1, 0.12, 0.5, 1]\n",
    "error_list = []\n",
    "    \n",
    "for lbd in lambda_list:\n",
    "    w = optimized_pegasos(X_train, y_train, epochs=50, lbd=lbd)\n",
    "    error_list.append(classification_error(X_test, y_test, w))"
   ]
  },
  {
   "cell_type": "code",
   "execution_count": 19,
   "id": "5745b2a8",
   "metadata": {
    "ExecuteTime": {
     "end_time": "2022-03-03T17:03:02.012116Z",
     "start_time": "2022-03-03T17:03:01.041153Z"
    }
   },
   "outputs": [
    {
     "data": {
      "image/png": "[encoded data removed]",
      "text/plain": [
       "<Figure size 1080x504 with 1 Axes>"
      ]
     },
     "metadata": {
      "needs_background": "light"
     },
     "output_type": "display_data"
    }
   ],
   "source": [
    "plt.figure(figsize=(15, 7))\n",
    "plt.plot(lambda_list, error_list)\n",
    "plt.scatter(lambda_list[np.argmin(error_list)], np.min(error_list), color='red', s=50, alpha=0.6)\n",
    "plt.xscale('log')\n",
    "plt.show()"
   ]
  },
  {
   "cell_type": "code",
   "execution_count": 13,
   "id": "be49b90b",
   "metadata": {
    "ExecuteTime": {
     "end_time": "2022-03-03T17:14:35.306472Z",
     "start_time": "2022-03-03T17:14:35.282599Z"
    }
   },
   "outputs": [],
   "source": [
    "opt_lambda = 0.12"
   ]
  },
  {
   "cell_type": "code",
   "execution_count": 25,
   "id": "2f3f97d0",
   "metadata": {
    "ExecuteTime": {
     "end_time": "2022-03-03T17:06:20.551213Z",
     "start_time": "2022-03-03T17:06:20.527500Z"
    }
   },
   "outputs": [
    {
     "data": {
      "text/html": [
       "<div>\n",
       "<style scoped>\n",
       "    .dataframe tbody tr th:only-of-type {\n",
       "        vertical-align: middle;\n",
       "    }\n",
       "\n",
       "    .dataframe tbody tr th {\n",
       "        vertical-align: top;\n",
       "    }\n",
       "\n",
       "    .dataframe thead th {\n",
       "        text-align: right;\n",
       "    }\n",
       "</style>\n",
       "<table border=\"1\" class=\"dataframe\">\n",
       "  <thead>\n",
       "    <tr style=\"text-align: right;\">\n",
       "      <th></th>\n",
       "      <th>lambda</th>\n",
       "      <th>error</th>\n",
       "    </tr>\n",
       "  </thead>\n",
       "  <tbody>\n",
       "    <tr>\n",
       "      <th>0</th>\n",
       "      <td>0.001</td>\n",
       "      <td>0.192</td>\n",
       "    </tr>\n",
       "    <tr>\n",
       "      <th>1</th>\n",
       "      <td>0.010</td>\n",
       "      <td>0.198</td>\n",
       "    </tr>\n",
       "    <tr>\n",
       "      <th>2</th>\n",
       "      <td>0.050</td>\n",
       "      <td>0.180</td>\n",
       "    </tr>\n",
       "    <tr>\n",
       "      <th>3</th>\n",
       "      <td>0.100</td>\n",
       "      <td>0.176</td>\n",
       "    </tr>\n",
       "    <tr>\n",
       "      <th>4</th>\n",
       "      <td>0.120</td>\n",
       "      <td>0.172</td>\n",
       "    </tr>\n",
       "    <tr>\n",
       "      <th>5</th>\n",
       "      <td>0.500</td>\n",
       "      <td>0.184</td>\n",
       "    </tr>\n",
       "    <tr>\n",
       "      <th>6</th>\n",
       "      <td>1.000</td>\n",
       "      <td>0.202</td>\n",
       "    </tr>\n",
       "  </tbody>\n",
       "</table>\n",
       "</div>"
      ],
      "text/plain": [
       "   lambda  error\n",
       "0   0.001  0.192\n",
       "1   0.010  0.198\n",
       "2   0.050  0.180\n",
       "3   0.100  0.176\n",
       "4   0.120  0.172\n",
       "5   0.500  0.184\n",
       "6   1.000  0.202"
      ]
     },
     "execution_count": 25,
     "metadata": {},
     "output_type": "execute_result"
    }
   ],
   "source": [
    "pd.DataFrame({'lambda': lambda_list, 'error': error_list})"
   ]
  },
  {
   "cell_type": "markdown",
   "id": "7eed14f6",
   "metadata": {},
   "source": [
    "### Question 13"
   ]
  },
  {
   "cell_type": "code",
   "execution_count": 297,
   "id": "0e3b3a29",
   "metadata": {
    "ExecuteTime": {
     "end_time": "2022-02-24T19:20:44.517195Z",
     "start_time": "2022-02-24T19:20:43.472709Z"
    }
   },
   "outputs": [],
   "source": [
    "w = optimized_pegasos(X_train, y_train, epochs=10, lbd=opt_lambda)\n",
    "\n",
    "score_list = []\n",
    "for idx in range(len(X_test)):\n",
    "        score_list.append(dotProduct(w, X_test[idx]))"
   ]
  },
  {
   "cell_type": "code",
   "execution_count": 300,
   "id": "d069e7bc",
   "metadata": {
    "ExecuteTime": {
     "end_time": "2022-02-24T19:20:52.407290Z",
     "start_time": "2022-02-24T19:20:52.402344Z"
    }
   },
   "outputs": [],
   "source": [
    "score_dict = {}\n",
    "score_dict[\"below -2\"] = [(score, label) for score, label in zip(score_list, y_test) if score <= -2]\n",
    "score_dict[\"-2 to 0\"] = [(score, label) for score, label in zip(score_list, y_test) if (score < 0) & (score > -2)]\n",
    "score_dict[\"0 to 2\"] = [(score, label) for score, label in zip(score_list, y_test) if (score > 0) & (score < 2)]\n",
    "score_dict[\"above 2\"] = [(score, label) for score, label in zip(score_list, y_test) if score >= 2]"
   ]
  },
  {
   "cell_type": "code",
   "execution_count": 310,
   "id": "bc078623",
   "metadata": {
    "ExecuteTime": {
     "end_time": "2022-02-24T19:22:30.894965Z",
     "start_time": "2022-02-24T19:22:30.877325Z"
    }
   },
   "outputs": [],
   "source": [
    "margin_dict = {}\n",
    "margin_dict[\"below -2\"] = [1 if score*label < 0 else 0 for score, label in score_dict[\"below -2\"]]\n",
    "margin_dict[\"-2 to 0\"] = [1 if score*label < 0 else 0 for score, label in score_dict[\"-2 to 0\"]]\n",
    "margin_dict[\"0 to 2\"] = [1 if score*label < 0 else 0 for score, label in score_dict[\"0 to 2\"]]\n",
    "margin_dict[\"above 2\"] = [1 if score*label < 0 else 0 for score, label in score_dict[\"above 2\"]]"
   ]
  },
  {
   "cell_type": "code",
   "execution_count": 321,
   "id": "6b24cad1",
   "metadata": {
    "ExecuteTime": {
     "end_time": "2022-02-24T19:25:05.080697Z",
     "start_time": "2022-02-24T19:25:05.064740Z"
    }
   },
   "outputs": [
    {
     "data": {
      "text/html": [
       "<div>\n",
       "<style scoped>\n",
       "    .dataframe tbody tr th:only-of-type {\n",
       "        vertical-align: middle;\n",
       "    }\n",
       "\n",
       "    .dataframe tbody tr th {\n",
       "        vertical-align: top;\n",
       "    }\n",
       "\n",
       "    .dataframe thead th {\n",
       "        text-align: right;\n",
       "    }\n",
       "</style>\n",
       "<table border=\"1\" class=\"dataframe\">\n",
       "  <thead>\n",
       "    <tr style=\"text-align: right;\">\n",
       "      <th></th>\n",
       "      <th>Total</th>\n",
       "      <th>Correct</th>\n",
       "      <th>Incorrect</th>\n",
       "      <th>Classification error</th>\n",
       "    </tr>\n",
       "    <tr>\n",
       "      <th>Range</th>\n",
       "      <th></th>\n",
       "      <th></th>\n",
       "      <th></th>\n",
       "      <th></th>\n",
       "    </tr>\n",
       "  </thead>\n",
       "  <tbody>\n",
       "    <tr>\n",
       "      <th>below -2</th>\n",
       "      <td>106</td>\n",
       "      <td>5</td>\n",
       "      <td>101</td>\n",
       "      <td>0.953</td>\n",
       "    </tr>\n",
       "    <tr>\n",
       "      <th>-2 to 0</th>\n",
       "      <td>167</td>\n",
       "      <td>53</td>\n",
       "      <td>114</td>\n",
       "      <td>0.683</td>\n",
       "    </tr>\n",
       "    <tr>\n",
       "      <th>0 to 2</th>\n",
       "      <td>147</td>\n",
       "      <td>33</td>\n",
       "      <td>114</td>\n",
       "      <td>0.776</td>\n",
       "    </tr>\n",
       "    <tr>\n",
       "      <th>above 2</th>\n",
       "      <td>80</td>\n",
       "      <td>2</td>\n",
       "      <td>78</td>\n",
       "      <td>0.975</td>\n",
       "    </tr>\n",
       "  </tbody>\n",
       "</table>\n",
       "</div>"
      ],
      "text/plain": [
       "          Total  Correct  Incorrect  Classification error\n",
       "Range                                                    \n",
       "below -2    106        5        101                 0.953\n",
       "-2 to 0     167       53        114                 0.683\n",
       "0 to 2      147       33        114                 0.776\n",
       "above 2      80        2         78                 0.975"
      ]
     },
     "execution_count": 321,
     "metadata": {},
     "output_type": "execute_result"
    }
   ],
   "source": [
    "rows = []\n",
    "for key, value in margin_dict.items():\n",
    "     rows.append([key, len(value), np.sum(value), len(value)-np.sum(value), round((len(value)-np.sum(value))/len(value), 3)])\n",
    "        \n",
    "df = pd.DataFrame(rows, columns=[\"Range\", \"Total\", \"Correct\", \"Incorrect\", \"Classification error\"])\n",
    "df.set_index(\"Range\")"
   ]
  },
  {
   "cell_type": "markdown",
   "id": "c78f4cff",
   "metadata": {},
   "source": [
    "It is clear that the algorithm has much more confidence in its prediction when the score is higher than 2 for positive predictions and lower than -2 for negative predictions."
   ]
  },
  {
   "cell_type": "markdown",
   "id": "bce15590",
   "metadata": {},
   "source": [
    "### Question 14"
   ]
  },
  {
   "cell_type": "markdown",
   "id": "b59a7144",
   "metadata": {},
   "source": [
    "Let's take a look at the first few document scores."
   ]
  },
  {
   "cell_type": "code",
   "execution_count": 78,
   "id": "3d5a306b",
   "metadata": {
    "ExecuteTime": {
     "end_time": "2022-03-03T17:47:33.479012Z",
     "start_time": "2022-03-03T17:47:32.147563Z"
    }
   },
   "outputs": [],
   "source": [
    "w = optimized_pegasos(X_train, y_train, epochs=10, lbd=opt_lambda)\n",
    "\n",
    "score_list = []\n",
    "for idx in range(len(X_test)):\n",
    "        score_list.append([\"Document \" + str(idx+1), round(y_test[idx] * dotProduct(w, X_test[idx]), 3)])"
   ]
  },
  {
   "cell_type": "code",
   "execution_count": 68,
   "id": "2da67b71",
   "metadata": {
    "ExecuteTime": {
     "end_time": "2022-03-03T17:41:33.556078Z",
     "start_time": "2022-03-03T17:41:33.540089Z"
    }
   },
   "outputs": [
    {
     "data": {
      "text/plain": [
       "[['Document 1', -0.451],\n",
       " ['Document 2', -0.78],\n",
       " ['Document 3', 2.325],\n",
       " ['Document 4', -0.008],\n",
       " ['Document 5', 1.544]]"
      ]
     },
     "execution_count": 68,
     "metadata": {},
     "output_type": "execute_result"
    }
   ],
   "source": [
    "score_list[:5]"
   ]
  },
  {
   "cell_type": "markdown",
   "id": "b4635848",
   "metadata": {},
   "source": [
    "Let's analyze the first one (which was incorrectly classified), the 480th document (which has the highest confidence among the incorrectly classified documents) and, as a contrast, the 465th document (which is correctly classified and has the highest confidence)."
   ]
  },
  {
   "cell_type": "code",
   "execution_count": 70,
   "id": "1126afab",
   "metadata": {
    "ExecuteTime": {
     "end_time": "2022-03-03T17:45:25.778129Z",
     "start_time": "2022-03-03T17:45:25.770133Z"
    }
   },
   "outputs": [],
   "source": [
    "def missclassification_analysis(idx):\n",
    "    dict_ = {}\n",
    "    \n",
    "    print(\"Confidence of the missclassification: \", round(y_test[idx] * dotProduct(w, X_test[idx]), 3))\n",
    "    \n",
    "    for word in X_test[idx].keys():\n",
    "        if word in w.keys():\n",
    "            dict_[word] = abs(w[word] * X_test[idx][word])\n",
    "    \n",
    "    return pd.DataFrame.from_dict({'contribution':dict_}).sort_values(by='contribution', ascending=False)"
   ]
  },
  {
   "cell_type": "code",
   "execution_count": 74,
   "id": "700020a6",
   "metadata": {
    "ExecuteTime": {
     "end_time": "2022-03-03T17:46:34.865415Z",
     "start_time": "2022-03-03T17:46:34.841558Z"
    }
   },
   "outputs": [
    {
     "name": "stdout",
     "output_type": "stream",
     "text": [
      "Confidence of the missclassification:  -0.451\n"
     ]
    },
    {
     "data": {
      "text/html": [
       "<div>\n",
       "<style scoped>\n",
       "    .dataframe tbody tr th:only-of-type {\n",
       "        vertical-align: middle;\n",
       "    }\n",
       "\n",
       "    .dataframe tbody tr th {\n",
       "        vertical-align: top;\n",
       "    }\n",
       "\n",
       "    .dataframe thead th {\n",
       "        text-align: right;\n",
       "    }\n",
       "</style>\n",
       "<table border=\"1\" class=\"dataframe\">\n",
       "  <thead>\n",
       "    <tr style=\"text-align: right;\">\n",
       "      <th></th>\n",
       "      <th>contribution</th>\n",
       "    </tr>\n",
       "  </thead>\n",
       "  <tbody>\n",
       "    <tr>\n",
       "      <th>and</th>\n",
       "      <td>1.155479</td>\n",
       "    </tr>\n",
       "    <tr>\n",
       "      <th>is</th>\n",
       "      <td>0.999933</td>\n",
       "    </tr>\n",
       "    <tr>\n",
       "      <th>the</th>\n",
       "      <td>0.992156</td>\n",
       "    </tr>\n",
       "    <tr>\n",
       "      <th>to</th>\n",
       "      <td>0.400529</td>\n",
       "    </tr>\n",
       "    <tr>\n",
       "      <th>movie</th>\n",
       "      <td>0.378864</td>\n",
       "    </tr>\n",
       "    <tr>\n",
       "      <th>on</th>\n",
       "      <td>0.375531</td>\n",
       "    </tr>\n",
       "    <tr>\n",
       "      <th>even</th>\n",
       "      <td>0.359976</td>\n",
       "    </tr>\n",
       "    <tr>\n",
       "      <th>only</th>\n",
       "      <td>0.328867</td>\n",
       "    </tr>\n",
       "    <tr>\n",
       "      <th>war</th>\n",
       "      <td>0.322201</td>\n",
       "    </tr>\n",
       "    <tr>\n",
       "      <th>he</th>\n",
       "      <td>0.319423</td>\n",
       "    </tr>\n",
       "  </tbody>\n",
       "</table>\n",
       "</div>"
      ],
      "text/plain": [
       "       contribution\n",
       "and        1.155479\n",
       "is         0.999933\n",
       "the        0.992156\n",
       "to         0.400529\n",
       "movie      0.378864\n",
       "on         0.375531\n",
       "even       0.359976\n",
       "only       0.328867\n",
       "war        0.322201\n",
       "he         0.319423"
      ]
     },
     "execution_count": 74,
     "metadata": {},
     "output_type": "execute_result"
    }
   ],
   "source": [
    "df_0 = missclassification_analysis(0)\n",
    "df_0.head(10)"
   ]
  },
  {
   "cell_type": "code",
   "execution_count": 75,
   "id": "8c599d36",
   "metadata": {
    "ExecuteTime": {
     "end_time": "2022-03-03T17:46:44.987381Z",
     "start_time": "2022-03-03T17:46:44.963556Z"
    }
   },
   "outputs": [
    {
     "name": "stdout",
     "output_type": "stream",
     "text": [
      "Confidence of the missclassification:  -3.834\n"
     ]
    },
    {
     "data": {
      "text/html": [
       "<div>\n",
       "<style scoped>\n",
       "    .dataframe tbody tr th:only-of-type {\n",
       "        vertical-align: middle;\n",
       "    }\n",
       "\n",
       "    .dataframe tbody tr th {\n",
       "        vertical-align: top;\n",
       "    }\n",
       "\n",
       "    .dataframe thead th {\n",
       "        text-align: right;\n",
       "    }\n",
       "</style>\n",
       "<table border=\"1\" class=\"dataframe\">\n",
       "  <thead>\n",
       "    <tr style=\"text-align: right;\">\n",
       "      <th></th>\n",
       "      <th>contribution</th>\n",
       "    </tr>\n",
       "  </thead>\n",
       "  <tbody>\n",
       "    <tr>\n",
       "      <th>to</th>\n",
       "      <td>1.029931</td>\n",
       "    </tr>\n",
       "    <tr>\n",
       "      <th>the</th>\n",
       "      <td>0.809390</td>\n",
       "    </tr>\n",
       "    <tr>\n",
       "      <th>he</th>\n",
       "      <td>0.702731</td>\n",
       "    </tr>\n",
       "    <tr>\n",
       "      <th>into</th>\n",
       "      <td>0.599960</td>\n",
       "    </tr>\n",
       "    <tr>\n",
       "      <th>and</th>\n",
       "      <td>0.577739</td>\n",
       "    </tr>\n",
       "    <tr>\n",
       "      <th>is</th>\n",
       "      <td>0.549963</td>\n",
       "    </tr>\n",
       "    <tr>\n",
       "      <th>have</th>\n",
       "      <td>0.466636</td>\n",
       "    </tr>\n",
       "    <tr>\n",
       "      <th>funny</th>\n",
       "      <td>0.380530</td>\n",
       "    </tr>\n",
       "    <tr>\n",
       "      <th>on</th>\n",
       "      <td>0.375531</td>\n",
       "    </tr>\n",
       "    <tr>\n",
       "      <th>any</th>\n",
       "      <td>0.333311</td>\n",
       "    </tr>\n",
       "  </tbody>\n",
       "</table>\n",
       "</div>"
      ],
      "text/plain": [
       "       contribution\n",
       "to         1.029931\n",
       "the        0.809390\n",
       "he         0.702731\n",
       "into       0.599960\n",
       "and        0.577739\n",
       "is         0.549963\n",
       "have       0.466636\n",
       "funny      0.380530\n",
       "on         0.375531\n",
       "any        0.333311"
      ]
     },
     "execution_count": 75,
     "metadata": {},
     "output_type": "execute_result"
    }
   ],
   "source": [
    "df_480 = missclassification_analysis(480)\n",
    "df_480.head(10)"
   ]
  },
  {
   "cell_type": "code",
   "execution_count": 92,
   "id": "331b0db0",
   "metadata": {
    "ExecuteTime": {
     "end_time": "2022-03-03T17:49:38.209383Z",
     "start_time": "2022-03-03T17:49:38.185595Z"
    }
   },
   "outputs": [
    {
     "name": "stdout",
     "output_type": "stream",
     "text": [
      "Confidence of the missclassification:  11.073\n"
     ]
    },
    {
     "data": {
      "text/html": [
       "<div>\n",
       "<style scoped>\n",
       "    .dataframe tbody tr th:only-of-type {\n",
       "        vertical-align: middle;\n",
       "    }\n",
       "\n",
       "    .dataframe tbody tr th {\n",
       "        vertical-align: top;\n",
       "    }\n",
       "\n",
       "    .dataframe thead th {\n",
       "        text-align: right;\n",
       "    }\n",
       "</style>\n",
       "<table border=\"1\" class=\"dataframe\">\n",
       "  <thead>\n",
       "    <tr style=\"text-align: right;\">\n",
       "      <th></th>\n",
       "      <th>contribution</th>\n",
       "    </tr>\n",
       "  </thead>\n",
       "  <tbody>\n",
       "    <tr>\n",
       "      <th>bad</th>\n",
       "      <td>1.971535</td>\n",
       "    </tr>\n",
       "    <tr>\n",
       "      <th>to</th>\n",
       "      <td>1.602115</td>\n",
       "    </tr>\n",
       "    <tr>\n",
       "      <th>why</th>\n",
       "      <td>1.199920</td>\n",
       "    </tr>\n",
       "    <tr>\n",
       "      <th>on</th>\n",
       "      <td>1.126592</td>\n",
       "    </tr>\n",
       "    <tr>\n",
       "      <th>is</th>\n",
       "      <td>1.049930</td>\n",
       "    </tr>\n",
       "    <tr>\n",
       "      <th>the</th>\n",
       "      <td>1.018265</td>\n",
       "    </tr>\n",
       "    <tr>\n",
       "      <th>and</th>\n",
       "      <td>0.933271</td>\n",
       "    </tr>\n",
       "    <tr>\n",
       "      <th>as</th>\n",
       "      <td>0.844388</td>\n",
       "    </tr>\n",
       "    <tr>\n",
       "      <th>nothing</th>\n",
       "      <td>0.759949</td>\n",
       "    </tr>\n",
       "    <tr>\n",
       "      <th>any</th>\n",
       "      <td>0.666622</td>\n",
       "    </tr>\n",
       "  </tbody>\n",
       "</table>\n",
       "</div>"
      ],
      "text/plain": [
       "         contribution\n",
       "bad          1.971535\n",
       "to           1.602115\n",
       "why          1.199920\n",
       "on           1.126592\n",
       "is           1.049930\n",
       "the          1.018265\n",
       "and          0.933271\n",
       "as           0.844388\n",
       "nothing      0.759949\n",
       "any          0.666622"
      ]
     },
     "execution_count": 92,
     "metadata": {},
     "output_type": "execute_result"
    }
   ],
   "source": [
    "df_465 = missclassification_analysis(465)\n",
    "df_465.head(10)"
   ]
  },
  {
   "cell_type": "markdown",
   "id": "6f0d49bb",
   "metadata": {},
   "source": [
    "After looking at the features that contributed the most to the classification of each document, it is clear that the wrongly classified documents have non-essential words (stopwords) as the highest contribution features, which do not reflect the true meaning of the document. On the other hand we can see that the correctly classified document has meaningful words such as bad or nothing as the top contributing features. \n",
    "\n",
    "To fix this we could could remove all stopwords, so that only the more unique words contribute towards the score of a document. Regarding the addition of a new feature, it would also be a good idea to create 2-gram or 3-gram words, which consist of combinations of words which would help clarify the meaning behind words such as \"not bad\", which really means good."
   ]
  },
  {
   "cell_type": "markdown",
   "id": "cd7a8d3f",
   "metadata": {},
   "source": [
    "### Question 15"
   ]
  },
  {
   "cell_type": "markdown",
   "id": "30a36775",
   "metadata": {},
   "source": [
    "To obtain the value for w that minimizes this expression we have to derive it with respect to w and equal it to 0.\n",
    "\n",
    "$$\n",
    "\\begin{equation*}\n",
    "    \\begin{split}\n",
    "J(w) = ||Xw-y||^2 + \\lambda||w||^2 = w^tX^TXw-2w^TX^Ty+\\lambda w^Tw\n",
    "    \\end{split}\n",
    "\\end{equation*}\n",
    "$$\n",
    "\n",
    "$$\n",
    "\\begin{equation*}\n",
    "    \\begin{split}\n",
    "\\frac{\\partial J(w)}{\\partial w} = 0\\\\\n",
    "&\\rightarrow 2X^TXw-2X^Ty+2\\lambda Iw = 0 \\\\\n",
    "&\\rightarrow X^Ty = X^TXw+\\lambda Iw\\\\\n",
    "&\\rightarrow w=(X^TX+\\lambda I)^{-1}X^Ty\n",
    "    \\end{split}\n",
    "\\end{equation*}\n",
    "$$"
   ]
  },
  {
   "cell_type": "markdown",
   "id": "18e06f5b",
   "metadata": {
    "ExecuteTime": {
     "end_time": "2022-02-26T20:21:49.862297Z",
     "start_time": "2022-02-26T20:21:49.844345Z"
    }
   },
   "source": [
    "Now, let's prove that $(X^TX+\\lambda I)^{-1}$ exists by proving that the matrix $X^TX+\\lambda I$ is Positive Definite and therefore invertible.\n",
    "\n",
    "$$\n",
    "\\begin{equation*}\n",
    "    \\begin{split}\n",
    "z^TMz\\geq 0 \\\\\n",
    "&\\rightarrow z^TX^TXz \\geq 0\\\\\n",
    "&\\rightarrow (Xz)^T(Xz) \\geq 0\\\\\n",
    "&\\rightarrow ||Xz||^2 \\geq 0\\\\\n",
    "    \\end{split}\n",
    "\\end{equation*}\n",
    "$$\n",
    "\n",
    "In this proof we can see that any symmetric matrix ($X^TX$) is Positive semi-Definite.\n",
    "Now, if we add a positive value lambda to the diagonal, this guarantees the Positive-Definitness.\n",
    "\n",
    "As a consequence, the condition $λ > 0$ is sufficient to\n",
    "guarantee that $XT X + λI$ is Positive Definite."
   ]
  },
  {
   "cell_type": "markdown",
   "id": "294f4b89",
   "metadata": {},
   "source": [
    "### Question 16"
   ]
  },
  {
   "cell_type": "markdown",
   "id": "1aed314d",
   "metadata": {},
   "source": [
    "$$\n",
    "\\begin{equation*}\n",
    "    \\begin{split}\n",
    "        \\lambda X^TXw + \\lambda Iw = X^Ty \\rightarrow \\lambda Iw = X^Ty-X^TXw  \\rightarrow w = \\frac{1}{\\lambda}(X^Ty-X^TXw)\\\\\n",
    "    \\end{split}\n",
    "\\end{equation*}\n",
    "$$\n",
    "\n",
    "Which can then be rewritten as:\n",
    "\n",
    "$$\n",
    "\\begin{equation*}\n",
    "    \\begin{split}\n",
    "        w = \\frac{1}{\\lambda}(X^Ty-X^TXw) \\rightarrow w=X^T(\\frac{1}{\\lambda}y - \\frac{1}{\\lambda}Xw) \\rightarrow w = X^T \\alpha\n",
    "    \\end{split}\n",
    "\\end{equation*}\n",
    "$$"
   ]
  },
  {
   "cell_type": "markdown",
   "id": "d31b4256",
   "metadata": {},
   "source": [
    "### Question 17"
   ]
  },
  {
   "cell_type": "markdown",
   "id": "cf53aa3b",
   "metadata": {},
   "source": [
    "Because we can see that $w$ is a linear combination of our input data $X$ (where the coefficients are the resulting vector $\\alpha$)"
   ]
  },
  {
   "cell_type": "markdown",
   "id": "e9e6c554",
   "metadata": {},
   "source": [
    "### Question 18"
   ]
  },
  {
   "cell_type": "markdown",
   "id": "15ff17b4",
   "metadata": {},
   "source": [
    "$$\n",
    "\\begin{equation*}\n",
    "    \\begin{split}\n",
    "        \\alpha = \\frac{1}{\\lambda}(y-Xw) \\\\\n",
    "        &\\rightarrow \\alpha = \\frac{1}{\\lambda}(y-XX^T\\alpha)\\\\\n",
    "        &\\rightarrow \\lambda\\alpha + XX^T\\alpha = y\\\\\n",
    "        &\\rightarrow (\\lambda I + XX^T)\\alpha = y\\\\\n",
    "        &\\rightarrow \\alpha = (\\lambda I + XX^T)^{-1}y\\\\\n",
    "    \\end{split}\n",
    "\\end{equation*}\n",
    "$$"
   ]
  },
  {
   "cell_type": "markdown",
   "id": "06284fe6",
   "metadata": {},
   "source": [
    "### Question 19"
   ]
  },
  {
   "cell_type": "markdown",
   "id": "477e5e6a",
   "metadata": {},
   "source": [
    "$$\n",
    "\\begin{equation*}\n",
    "    \\begin{split}\n",
    "        Xw =\\\\\n",
    "        &= X(X^T\\alpha)\\\\\n",
    "        &= X(X^T(\\lambda I + XX^T)^{-1}y)\\\\\n",
    "        &= XX^T(\\lambda I + XX^T)^{-1}y\\\\\n",
    "    \\end{split}\n",
    "\\end{equation*}\n",
    "$$"
   ]
  },
  {
   "cell_type": "markdown",
   "id": "a326599c",
   "metadata": {},
   "source": [
    "### Question 20"
   ]
  },
  {
   "cell_type": "markdown",
   "id": "625f2dda",
   "metadata": {},
   "source": [
    "$$\n",
    "\\begin{equation*}\n",
    "    \\begin{split}\n",
    "        f(x) = x^Tw\\\\\n",
    "        &= x^T(X^T\\alpha)\\\\\n",
    "        &= \\sum_{i} \\alpha_i \\langle x^T, x_i \\rangle \\\\\n",
    "        &= \\sum_{i} \\alpha_i k_x\\\\\n",
    "    \\end{split}\n",
    "\\end{equation*}\n",
    "$$"
   ]
  },
  {
   "cell_type": "markdown",
   "id": "40acf699",
   "metadata": {},
   "source": [
    "### Question 21"
   ]
  },
  {
   "cell_type": "code",
   "execution_count": 281,
   "id": "3053c226",
   "metadata": {
    "ExecuteTime": {
     "end_time": "2022-03-03T22:55:46.969827Z",
     "start_time": "2022-03-03T22:55:46.961784Z"
    }
   },
   "outputs": [],
   "source": [
    "def linear_kernel(X1, X2):\n",
    "    \"\"\"\n",
    "    Computes the linear kernel between two sets of vectors.\n",
    "    Args:\n",
    "        X1 - an n1xd matrix with vectors x1_1,...,x1_n1 in the rows\n",
    "        X2 - an n2xd matrix with vectors x2_1,...,x2_n2 in the rows\n",
    "    Returns:\n",
    "        matrix of size n1xn2, with x1_i^T x2_j in position i,j\n",
    "    \"\"\"\n",
    "    return np.dot(X1,np.transpose(X2))"
   ]
  },
  {
   "cell_type": "code",
   "execution_count": 15,
   "id": "2b7f9eaa",
   "metadata": {
    "ExecuteTime": {
     "end_time": "2022-03-03T21:03:51.723555Z",
     "start_time": "2022-03-03T21:03:51.707542Z"
    }
   },
   "outputs": [],
   "source": [
    "def RBF_kernel(X1,X2,sigma=1):\n",
    "    \"\"\"\n",
    "    Computes the RBF kernel between two sets of vectors   \n",
    "    Args:\n",
    "        X1 - an n1xd matrix with vectors x1_1,...,x1_n1 in the rows\n",
    "        X2 - an n2xd matrix with vectors x2_1,...,x2_n2 in the rows\n",
    "        sigma - the bandwidth (i.e. standard deviation) for the RBF/Gaussian kernel\n",
    "    Returns:\n",
    "        matrix of size n1xn2, with exp(-||x1_i-x2_j||^2/(2 sigma^2)) in position i,j\n",
    "    \"\"\"\n",
    "    numerator = cdist(X1,X2,'sqeuclidean')\n",
    "    denominator = 2 * sigma**2\n",
    "    return np.exp(-numerator / denominator)"
   ]
  },
  {
   "cell_type": "code",
   "execution_count": 117,
   "id": "8e63e8de",
   "metadata": {
    "ExecuteTime": {
     "end_time": "2022-03-03T21:42:58.850935Z",
     "start_time": "2022-03-03T21:42:58.834944Z"
    }
   },
   "outputs": [],
   "source": [
    "def polynomial_kernel(X1, X2, offset, degree):\n",
    "    \"\"\"\n",
    "    Computes the inhomogeneous polynomial kernel between two sets of vectors\n",
    "    Args:\n",
    "        X1 - an n1xd matrix with vectors x1_1,...,x1_n1 in the rows\n",
    "        X2 - an n2xd matrix with vectors x2_1,...,x2_n2 in the rows\n",
    "        offset, degree - two parameters for the kernel\n",
    "    Returns:\n",
    "        matrix of size n1xn2, with (offset + <x1_i,x2_j>)^degree in position i,j\n",
    "    \"\"\"\n",
    "    return (offset + X1 @ X2.T)**degree"
   ]
  },
  {
   "cell_type": "markdown",
   "id": "2a0361ab",
   "metadata": {},
   "source": [
    "### Question 22"
   ]
  },
  {
   "cell_type": "code",
   "execution_count": 130,
   "id": "3dea4db6",
   "metadata": {
    "ExecuteTime": {
     "end_time": "2022-03-01T23:24:29.226675Z",
     "start_time": "2022-03-01T23:24:29.219174Z"
    }
   },
   "outputs": [
    {
     "data": {
      "text/plain": [
       "array([[16,  4,  0, -8],\n",
       "       [ 4,  1,  0, -2],\n",
       "       [ 0,  0,  0,  0],\n",
       "       [-8, -2,  0,  4]])"
      ]
     },
     "execution_count": 130,
     "metadata": {},
     "output_type": "execute_result"
    }
   ],
   "source": [
    "x_0 = np.array([[-4], [-1], [0], [2]])\n",
    "\n",
    "linear_kernel(x_0, x_0)"
   ]
  },
  {
   "cell_type": "markdown",
   "id": "17cf2a9a",
   "metadata": {
    "ExecuteTime": {
     "end_time": "2022-02-22T19:53:02.486582Z",
     "start_time": "2022-02-22T19:53:02.481191Z"
    }
   },
   "source": [
    "### Question 23"
   ]
  },
  {
   "cell_type": "code",
   "execution_count": 282,
   "id": "da777057",
   "metadata": {
    "ExecuteTime": {
     "end_time": "2022-03-03T22:55:50.656751Z",
     "start_time": "2022-03-03T22:55:50.504745Z"
    }
   },
   "outputs": [
    {
     "data": {
      "image/png": "[encoded data removed]",
      "text/plain": [
       "<Figure size 432x288 with 1 Axes>"
      ]
     },
     "metadata": {
      "needs_background": "light"
     },
     "output_type": "display_data"
    }
   ],
   "source": [
    "# PLot kernel machine functions\n",
    "\n",
    "plot_step = .01\n",
    "xpts = np.arange(-6, 6, plot_step).reshape(-1,1)\n",
    "prototypes = np.array([-4,-1,0,2]).reshape(-1,1)\n",
    "\n",
    "# Linear kernel\n",
    "y = linear_kernel(prototypes, xpts) \n",
    "for i in range(len(prototypes)):\n",
    "    label = \"Linear@\"+str(prototypes[i,:])\n",
    "    plt.plot(xpts, y[i,:], label=label)\n",
    "plt.legend(loc = 'best')\n",
    "plt.show() "
   ]
  },
  {
   "cell_type": "code",
   "execution_count": 120,
   "id": "d4a67058",
   "metadata": {
    "ExecuteTime": {
     "end_time": "2022-03-03T21:43:04.994981Z",
     "start_time": "2022-03-03T21:43:04.859044Z"
    }
   },
   "outputs": [
    {
     "data": {
      "image/png": "[encoded data removed]",
      "text/plain": [
       "<Figure size 432x288 with 1 Axes>"
      ]
     },
     "metadata": {
      "needs_background": "light"
     },
     "output_type": "display_data"
    }
   ],
   "source": [
    "# Polynomial kernel\n",
    "y = polynomial_kernel(prototypes, xpts, offset=1, degree=3) \n",
    "for i in range(len(prototypes)):\n",
    "    label = \"Polynomial @\"+str(prototypes[i,:])\n",
    "    plt.plot(xpts, y[i,:], label=label)\n",
    "plt.legend(loc = 'best')\n",
    "plt.show() "
   ]
  },
  {
   "cell_type": "code",
   "execution_count": 199,
   "id": "a7e20715",
   "metadata": {
    "ExecuteTime": {
     "end_time": "2022-03-03T22:28:39.662722Z",
     "start_time": "2022-03-03T22:28:39.470684Z"
    }
   },
   "outputs": [
    {
     "data": {
      "image/png": "[encoded data removed]",
      "text/plain": [
       "<Figure size 432x288 with 1 Axes>"
      ]
     },
     "metadata": {
      "needs_background": "light"
     },
     "output_type": "display_data"
    }
   ],
   "source": [
    "# RBF kernel\n",
    "y = RBF_kernel(prototypes, xpts, sigma=1) \n",
    "for i in range(len(prototypes)):\n",
    "    label = \"RBF @\"+str(prototypes[i,:])\n",
    "    plt.plot(xpts, y[i,:], label=label)\n",
    "plt.legend(loc = 'best')\n",
    "plt.show() "
   ]
  },
  {
   "cell_type": "markdown",
   "id": "ad6c37f7",
   "metadata": {
    "ExecuteTime": {
     "end_time": "2022-02-22T19:53:10.424976Z",
     "start_time": "2022-02-22T19:53:10.412344Z"
    }
   },
   "source": [
    "### Question 24"
   ]
  },
  {
   "cell_type": "code",
   "execution_count": 99,
   "id": "2e9e2777",
   "metadata": {
    "ExecuteTime": {
     "end_time": "2022-03-03T21:34:31.376161Z",
     "start_time": "2022-03-03T21:34:31.368164Z"
    }
   },
   "outputs": [],
   "source": [
    "class Kernel_Machine(object):\n",
    "    def __init__(self, kernel, training_points, weights):\n",
    "        \"\"\"\n",
    "        Args:\n",
    "            kernel(X1,X2) - a function return the cross-kernel matrix between rows of X1 and rows of X2 for kernel k\n",
    "            training_points - an nxd matrix with rows x_1,..., x_n\n",
    "            weights - a vector of length n with entries alpha_1,...,alpha_n\n",
    "        \"\"\"\n",
    "\n",
    "        self.kernel = kernel\n",
    "        self.training_points = training_points\n",
    "        self.weights = weights\n",
    "\n",
    "    def predict(self, X):\n",
    "        \"\"\"\n",
    "        Evaluates the kernel machine on the points given by the rows of X\n",
    "        Args:\n",
    "            X - an nxd matrix with inputs x_1,...,x_n in the rows\n",
    "        Returns:\n",
    "            Vector of kernel machine evaluations on the n points in X.  Specifically, jth entry of return vector is\n",
    "                Sum_{i=1}^R alpha_i k(x_j, mu_i)\n",
    "        \"\"\"\n",
    "        return self.kernel(X, self.training_points) @ self.weights"
   ]
  },
  {
   "cell_type": "code",
   "execution_count": 96,
   "id": "8e51fdb1",
   "metadata": {
    "ExecuteTime": {
     "end_time": "2022-03-01T21:53:05.780639Z",
     "start_time": "2022-03-01T21:53:05.766670Z"
    }
   },
   "outputs": [],
   "source": [
    "prototype = np.array([-1, 0, 1]).reshape(-1, 1)\n",
    "weights = np.array([1, -1, 1])\n",
    "x = np.array([-4, -1, 0, 2]).reshape(-1,1)\n",
    "\n",
    "k = functools.partial(RBF_kernel, sigma=1)\n",
    "\n",
    "kernel_machine = Kernel_Machine(k, prototype, weights)"
   ]
  },
  {
   "cell_type": "code",
   "execution_count": 97,
   "id": "0a79c468",
   "metadata": {
    "ExecuteTime": {
     "end_time": "2022-03-01T21:53:05.907870Z",
     "start_time": "2022-03-01T21:53:05.887864Z"
    }
   },
   "outputs": [
    {
     "data": {
      "text/plain": [
       "array([0.01077726, 0.52880462, 0.21306132, 0.48230437])"
      ]
     },
     "execution_count": 97,
     "metadata": {},
     "output_type": "execute_result"
    }
   ],
   "source": [
    "kernel_machine.predict(x)"
   ]
  },
  {
   "cell_type": "code",
   "execution_count": 98,
   "id": "08514803",
   "metadata": {
    "ExecuteTime": {
     "end_time": "2022-03-01T21:53:06.078967Z",
     "start_time": "2022-03-01T21:53:06.004527Z"
    }
   },
   "outputs": [
    {
     "data": {
      "image/png": "[encoded data removed]",
      "text/plain": [
       "<Figure size 432x288 with 1 Axes>"
      ]
     },
     "metadata": {
      "needs_background": "light"
     },
     "output_type": "display_data"
    }
   ],
   "source": [
    "plot_step = .01\n",
    "xpts = np.arange(-6, 6, plot_step).reshape(-1,1)\n",
    "\n",
    "y = kernel_machine.predict(xpts)\n",
    "\n",
    "plt.plot(xpts, y)\n",
    "plt.show() "
   ]
  },
  {
   "cell_type": "markdown",
   "id": "eb26b128",
   "metadata": {},
   "source": [
    "### Question 25"
   ]
  },
  {
   "cell_type": "code",
   "execution_count": 94,
   "id": "a7ea8f15",
   "metadata": {
    "ExecuteTime": {
     "end_time": "2022-03-03T18:14:17.217937Z",
     "start_time": "2022-03-03T18:14:17.188023Z"
    }
   },
   "outputs": [],
   "source": [
    "data_train,data_test = np.loadtxt(\"krr-train.txt\"),np.loadtxt(\"krr-test.txt\")\n",
    "\n",
    "x_train, y_train = data_train[:,0].reshape(-1,1),data_train[:,1].reshape(-1,1)\n",
    "x_test, y_test = data_test[:,0].reshape(-1,1),data_test[:,1].reshape(-1,1)"
   ]
  },
  {
   "cell_type": "code",
   "execution_count": 102,
   "id": "28895872",
   "metadata": {
    "ExecuteTime": {
     "end_time": "2022-03-01T22:16:38.683228Z",
     "start_time": "2022-03-01T22:16:38.589929Z"
    }
   },
   "outputs": [
    {
     "data": {
      "text/plain": [
       "<matplotlib.collections.PathCollection at 0x173e3c60fa0>"
      ]
     },
     "execution_count": 102,
     "metadata": {},
     "output_type": "execute_result"
    },
    {
     "data": {
      "image/png": "[encoded data removed]",
      "text/plain": [
       "<Figure size 432x288 with 1 Axes>"
      ]
     },
     "metadata": {
      "needs_background": "light"
     },
     "output_type": "display_data"
    }
   ],
   "source": [
    "plt.scatter(x_train, y_train)"
   ]
  },
  {
   "cell_type": "markdown",
   "id": "a33d2123",
   "metadata": {},
   "source": [
    "### Question 26"
   ]
  },
  {
   "cell_type": "code",
   "execution_count": 121,
   "id": "c3418855",
   "metadata": {
    "ExecuteTime": {
     "end_time": "2022-03-01T23:20:32.364836Z",
     "start_time": "2022-03-01T23:20:32.338210Z"
    }
   },
   "outputs": [],
   "source": [
    "def train_kernel_ridge_regression(X, y, kernel, l2reg):\n",
    "    \n",
    "    alpha = np.linalg.inv(l2reg * np.identity(len(X)) + kernel(X, X)) @ y\n",
    "    \n",
    "    return Kernel_Machine(kernel, X, alpha)"
   ]
  },
  {
   "cell_type": "markdown",
   "id": "b1277573",
   "metadata": {},
   "source": [
    "### Question 27"
   ]
  },
  {
   "cell_type": "code",
   "execution_count": 143,
   "id": "17e5d8ae",
   "metadata": {
    "ExecuteTime": {
     "end_time": "2022-03-01T23:28:50.761948Z",
     "start_time": "2022-03-01T23:28:50.635617Z"
    }
   },
   "outputs": [
    {
     "data": {
      "image/png": "[encoded data removed]",
      "text/plain": [
       "<Figure size 1080x504 with 1 Axes>"
      ]
     },
     "metadata": {
      "needs_background": "light"
     },
     "output_type": "display_data"
    }
   ],
   "source": [
    "plt.figure(figsize=(15, 7))\n",
    "plot_step = .001\n",
    "xpts = np.arange(0, 1, plot_step).reshape(-1,1)\n",
    "plt.plot(x_train,y_train,'o')\n",
    "l2reg = 0.0001\n",
    "for sigma in [.01,.1,1]:\n",
    "    k = functools.partial(RBF_kernel, sigma=sigma)\n",
    "    f = train_kernel_ridge_regression(x_train, y_train, k, l2reg=l2reg)\n",
    "    label = \"Sigma=\"+str(sigma)+\",L2Reg=\"+str(l2reg)\n",
    "    plt.plot(xpts, f.predict(xpts), label=label)\n",
    "plt.legend(loc = 'best')\n",
    "plt.ylim(-1,1.5)\n",
    "plt.show()"
   ]
  },
  {
   "cell_type": "markdown",
   "id": "5885f77e",
   "metadata": {
    "ExecuteTime": {
     "end_time": "2022-03-01T23:37:43.020910Z",
     "start_time": "2022-03-01T23:37:43.004107Z"
    }
   },
   "source": [
    "The smaller $\\sigma$ is, the smaller the period is and therefore the higher the volatilidy, which causes the overfitting. On the other hand, the higher $\\sigma$ is, the larger the period and therefore it ends up underfitting."
   ]
  },
  {
   "cell_type": "markdown",
   "id": "dec9cf9f",
   "metadata": {},
   "source": [
    "### Question 28"
   ]
  },
  {
   "cell_type": "code",
   "execution_count": 153,
   "id": "73b553f5",
   "metadata": {
    "ExecuteTime": {
     "end_time": "2022-03-01T23:41:29.116206Z",
     "start_time": "2022-03-01T23:41:28.984918Z"
    }
   },
   "outputs": [
    {
     "data": {
      "image/png": "[encoded data removed]",
      "text/plain": [
       "<Figure size 1080x504 with 1 Axes>"
      ]
     },
     "metadata": {
      "needs_background": "light"
     },
     "output_type": "display_data"
    }
   ],
   "source": [
    "plt.figure(figsize=(15, 7))\n",
    "plot_step = .001\n",
    "xpts = np.arange(0 , 1, plot_step).reshape(-1,1)\n",
    "plt.plot(x_train,y_train,'o')\n",
    "sigma= .02\n",
    "for l2reg in [.0001,.01,.1,2]:\n",
    "    k = functools.partial(RBF_kernel, sigma=sigma)\n",
    "    f = train_kernel_ridge_regression(x_train, y_train, k, l2reg=l2reg)\n",
    "    label = \"Sigma=\"+str(sigma)+\",L2Reg=\"+str(l2reg)\n",
    "    plt.plot(xpts, f.predict(xpts), label=label)\n",
    "plt.legend(loc = 'best')\n",
    "plt.ylim(-1,1.5)\n",
    "plt.show()"
   ]
  },
  {
   "cell_type": "markdown",
   "id": "17f404ef",
   "metadata": {},
   "source": [
    "As $\\lambda$ grows, the more regularization is applied and it ends up setting all weights to 0 and predicting the line y=0 (under-fitting)"
   ]
  },
  {
   "cell_type": "markdown",
   "id": "2c72e9d3",
   "metadata": {},
   "source": [
    "### Question 29"
   ]
  },
  {
   "cell_type": "code",
   "execution_count": 155,
   "id": "08e0ecbb",
   "metadata": {
    "ExecuteTime": {
     "end_time": "2022-03-01T23:46:42.537699Z",
     "start_time": "2022-03-01T23:46:42.521056Z"
    }
   },
   "outputs": [],
   "source": [
    "from sklearn.base import BaseEstimator, RegressorMixin, ClassifierMixin\n",
    "\n",
    "class KernelRidgeRegression(BaseEstimator, RegressorMixin):  \n",
    "    \"\"\"sklearn wrapper for our kernel ridge regression\"\"\"\n",
    "     \n",
    "    def __init__(self, kernel=\"RBF\", sigma=1, degree=2, offset=1, l2reg=1):        \n",
    "        self.kernel = kernel\n",
    "        self.sigma = sigma\n",
    "        self.degree = degree\n",
    "        self.offset = offset\n",
    "        self.l2reg = l2reg \n",
    "\n",
    "    def fit(self, X, y=None):\n",
    "        \"\"\"\n",
    "        This should fit classifier. All the \"work\" should be done here.\n",
    "        \"\"\"\n",
    "        if (self.kernel == \"linear\"):\n",
    "            self.k = linear_kernel\n",
    "        elif (self.kernel == \"RBF\"):\n",
    "            self.k = functools.partial(RBF_kernel, sigma=self.sigma)\n",
    "        elif (self.kernel == \"polynomial\"):\n",
    "            self.k = functools.partial(polynomial_kernel, offset=self.offset, degree=self.degree)\n",
    "        else:\n",
    "            raise ValueError('Unrecognized kernel type requested.')\n",
    "        \n",
    "        self.kernel_machine_ = train_kernel_ridge_regression(X, y, self.k, self.l2reg)\n",
    "\n",
    "        return self\n",
    "\n",
    "    def predict(self, X, y=None):\n",
    "        try:\n",
    "            getattr(self, \"kernel_machine_\")\n",
    "        except AttributeError:\n",
    "            raise RuntimeError(\"You must train classifer before predicting data!\")\n",
    "\n",
    "        return(self.kernel_machine_.predict(X))\n",
    "\n",
    "    def score(self, X, y=None):\n",
    "        # get the average square error\n",
    "        return(((self.predict(X)-y)**2).mean()) "
   ]
  },
  {
   "cell_type": "code",
   "execution_count": 158,
   "id": "751582fb",
   "metadata": {
    "ExecuteTime": {
     "end_time": "2022-03-01T23:48:22.048609Z",
     "start_time": "2022-03-01T23:48:22.034580Z"
    }
   },
   "outputs": [],
   "source": [
    "test_fold = [-1]*len(x_train) + [0]*len(x_test)   #0 corresponds to test, -1 to train\n",
    "predefined_split = PredefinedSplit(test_fold=test_fold)"
   ]
  },
  {
   "cell_type": "code",
   "execution_count": 310,
   "id": "481fe4c5",
   "metadata": {
    "ExecuteTime": {
     "end_time": "2022-03-02T01:14:39.163526Z",
     "start_time": "2022-03-02T01:14:39.035491Z"
    }
   },
   "outputs": [
    {
     "data": {
      "text/plain": [
       "GridSearchCV(cv=PredefinedSplit(test_fold=array([-1, -1, ...,  0,  0])),\n",
       "             estimator=KernelRidgeRegression(),\n",
       "             param_grid=[{'kernel': ['RBF'], 'l2reg': [0.271, 0.27, 0.269],\n",
       "                          'sigma': [0.05, 0.055, 0.06]},\n",
       "                         {'degree': [5, 6, 7], 'kernel': ['polynomial'],\n",
       "                          'l2reg': [0.033, 0.034, 0.035],\n",
       "                          'offset': [1.75, 1.8, 1.85]},\n",
       "                         {'kernel': ['linear'], 'l2reg': [3.2, 4, 4.5]}],\n",
       "             return_train_score=True,\n",
       "             scoring=make_scorer(mean_squared_error, greater_is_better=False))"
      ]
     },
     "execution_count": 310,
     "metadata": {},
     "output_type": "execute_result"
    }
   ],
   "source": [
    "param_grid = [{'kernel': ['RBF'],'sigma':[0.05, 0.055, 0.06], 'l2reg': [0.271, 0.27, 0.269]},\n",
    "              {'kernel':['polynomial'],'offset':[1.75, 1.8, 1.85], 'degree':[5, 6, 7],'l2reg':[0.033, 0.034, 0.035]},\n",
    "              {'kernel':['linear'],'l2reg': [3.2, 4, 4.5]}]\n",
    "kernel_ridge_regression_estimator = KernelRidgeRegression()\n",
    "grid = GridSearchCV(kernel_ridge_regression_estimator, \n",
    "                    param_grid,\n",
    "                    cv = predefined_split,\n",
    "                    scoring = make_scorer(mean_squared_error,greater_is_better = False),\n",
    "                    return_train_score=True\n",
    "                   )\n",
    "grid.fit(np.vstack((x_train,x_test)),np.vstack((y_train,y_test))) "
   ]
  },
  {
   "cell_type": "code",
   "execution_count": 313,
   "id": "53365199",
   "metadata": {
    "ExecuteTime": {
     "end_time": "2022-03-02T01:16:00.417441Z",
     "start_time": "2022-03-02T01:16:00.385439Z"
    }
   },
   "outputs": [
    {
     "data": {
      "text/html": [
       "<div>\n",
       "<style scoped>\n",
       "    .dataframe tbody tr th:only-of-type {\n",
       "        vertical-align: middle;\n",
       "    }\n",
       "\n",
       "    .dataframe tbody tr th {\n",
       "        vertical-align: top;\n",
       "    }\n",
       "\n",
       "    .dataframe thead th {\n",
       "        text-align: right;\n",
       "    }\n",
       "</style>\n",
       "<table border=\"1\" class=\"dataframe\">\n",
       "  <thead>\n",
       "    <tr style=\"text-align: right;\">\n",
       "      <th></th>\n",
       "      <th>param_degree</th>\n",
       "      <th>param_kernel</th>\n",
       "      <th>param_l2reg</th>\n",
       "      <th>param_offset</th>\n",
       "      <th>param_sigma</th>\n",
       "      <th>mean_test_score</th>\n",
       "      <th>mean_train_score</th>\n",
       "    </tr>\n",
       "  </thead>\n",
       "  <tbody>\n",
       "    <tr>\n",
       "      <th>1</th>\n",
       "      <td>-</td>\n",
       "      <td>RBF</td>\n",
       "      <td>0.271</td>\n",
       "      <td>-</td>\n",
       "      <td>0.055</td>\n",
       "      <td>0.013821</td>\n",
       "      <td>0.014350</td>\n",
       "    </tr>\n",
       "    <tr>\n",
       "      <th>4</th>\n",
       "      <td>-</td>\n",
       "      <td>RBF</td>\n",
       "      <td>0.270</td>\n",
       "      <td>-</td>\n",
       "      <td>0.055</td>\n",
       "      <td>0.013821</td>\n",
       "      <td>0.014343</td>\n",
       "    </tr>\n",
       "    <tr>\n",
       "      <th>7</th>\n",
       "      <td>-</td>\n",
       "      <td>RBF</td>\n",
       "      <td>0.269</td>\n",
       "      <td>-</td>\n",
       "      <td>0.055</td>\n",
       "      <td>0.013821</td>\n",
       "      <td>0.014336</td>\n",
       "    </tr>\n",
       "    <tr>\n",
       "      <th>8</th>\n",
       "      <td>-</td>\n",
       "      <td>RBF</td>\n",
       "      <td>0.269</td>\n",
       "      <td>-</td>\n",
       "      <td>0.06</td>\n",
       "      <td>0.013979</td>\n",
       "      <td>0.015268</td>\n",
       "    </tr>\n",
       "    <tr>\n",
       "      <th>5</th>\n",
       "      <td>-</td>\n",
       "      <td>RBF</td>\n",
       "      <td>0.270</td>\n",
       "      <td>-</td>\n",
       "      <td>0.06</td>\n",
       "      <td>0.013982</td>\n",
       "      <td>0.015276</td>\n",
       "    </tr>\n",
       "    <tr>\n",
       "      <th>...</th>\n",
       "      <td>...</td>\n",
       "      <td>...</td>\n",
       "      <td>...</td>\n",
       "      <td>...</td>\n",
       "      <td>...</td>\n",
       "      <td>...</td>\n",
       "      <td>...</td>\n",
       "    </tr>\n",
       "    <tr>\n",
       "      <th>12</th>\n",
       "      <td>5</td>\n",
       "      <td>polynomial</td>\n",
       "      <td>0.034</td>\n",
       "      <td>1.75</td>\n",
       "      <td>-</td>\n",
       "      <td>0.046631</td>\n",
       "      <td>0.073522</td>\n",
       "    </tr>\n",
       "    <tr>\n",
       "      <th>15</th>\n",
       "      <td>5</td>\n",
       "      <td>polynomial</td>\n",
       "      <td>0.035</td>\n",
       "      <td>1.75</td>\n",
       "      <td>-</td>\n",
       "      <td>0.046974</td>\n",
       "      <td>0.073954</td>\n",
       "    </tr>\n",
       "    <tr>\n",
       "      <th>37</th>\n",
       "      <td>-</td>\n",
       "      <td>linear</td>\n",
       "      <td>4.000</td>\n",
       "      <td>-</td>\n",
       "      <td>-</td>\n",
       "      <td>0.164510</td>\n",
       "      <td>0.206563</td>\n",
       "    </tr>\n",
       "    <tr>\n",
       "      <th>38</th>\n",
       "      <td>-</td>\n",
       "      <td>linear</td>\n",
       "      <td>4.500</td>\n",
       "      <td>-</td>\n",
       "      <td>-</td>\n",
       "      <td>0.164511</td>\n",
       "      <td>0.206577</td>\n",
       "    </tr>\n",
       "    <tr>\n",
       "      <th>36</th>\n",
       "      <td>-</td>\n",
       "      <td>linear</td>\n",
       "      <td>3.200</td>\n",
       "      <td>-</td>\n",
       "      <td>-</td>\n",
       "      <td>0.164511</td>\n",
       "      <td>0.206543</td>\n",
       "    </tr>\n",
       "  </tbody>\n",
       "</table>\n",
       "<p>39 rows × 7 columns</p>\n",
       "</div>"
      ],
      "text/plain": [
       "   param_degree param_kernel  param_l2reg param_offset param_sigma  \\\n",
       "1             -          RBF        0.271            -       0.055   \n",
       "4             -          RBF        0.270            -       0.055   \n",
       "7             -          RBF        0.269            -       0.055   \n",
       "8             -          RBF        0.269            -        0.06   \n",
       "5             -          RBF        0.270            -        0.06   \n",
       "..          ...          ...          ...          ...         ...   \n",
       "12            5   polynomial        0.034         1.75           -   \n",
       "15            5   polynomial        0.035         1.75           -   \n",
       "37            -       linear        4.000            -           -   \n",
       "38            -       linear        4.500            -           -   \n",
       "36            -       linear        3.200            -           -   \n",
       "\n",
       "    mean_test_score  mean_train_score  \n",
       "1          0.013821          0.014350  \n",
       "4          0.013821          0.014343  \n",
       "7          0.013821          0.014336  \n",
       "8          0.013979          0.015268  \n",
       "5          0.013982          0.015276  \n",
       "..              ...               ...  \n",
       "12         0.046631          0.073522  \n",
       "15         0.046974          0.073954  \n",
       "37         0.164510          0.206563  \n",
       "38         0.164511          0.206577  \n",
       "36         0.164511          0.206543  \n",
       "\n",
       "[39 rows x 7 columns]"
      ]
     },
     "execution_count": 313,
     "metadata": {},
     "output_type": "execute_result"
    }
   ],
   "source": [
    "pd.set_option('display.max_rows', 20)\n",
    "df = pd.DataFrame(grid.cv_results_)\n",
    "# Flip sign of score back, because GridSearchCV likes to maximize,\n",
    "# so it flips the sign of the score if \"greater_is_better=FALSE\"\n",
    "df['mean_test_score'] = -df['mean_test_score']\n",
    "df['mean_train_score'] = -df['mean_train_score']\n",
    "cols_to_keep = [\"param_degree\", \"param_kernel\",\"param_l2reg\" ,\"param_offset\",\"param_sigma\",\n",
    "        \"mean_test_score\",\"mean_train_score\"]\n",
    "df_toshow = df[cols_to_keep].fillna('-')\n",
    "df_toshow.sort_values(by=[\"mean_test_score\"])"
   ]
  },
  {
   "cell_type": "markdown",
   "id": "80606692",
   "metadata": {
    "ExecuteTime": {
     "end_time": "2022-03-02T00:08:45.014489Z",
     "start_time": "2022-03-02T00:08:44.999529Z"
    }
   },
   "source": [
    "**Best Parameters**\n",
    "\n",
    "RBF (0.01321)\n",
    "* sigma=0.055\n",
    "* l2reg = 0.27\n",
    "\n",
    "POLY (0.032405)\n",
    "* degree=6 \n",
    "* l2reg=0.034\n",
    "* offset=1.8\n",
    "\n",
    "Lin (0.16451)\n",
    "* l2reg = 4"
   ]
  },
  {
   "cell_type": "markdown",
   "id": "0a7fa73d",
   "metadata": {},
   "source": [
    "### Question 30"
   ]
  },
  {
   "cell_type": "code",
   "execution_count": 322,
   "id": "eef072cd",
   "metadata": {
    "ExecuteTime": {
     "end_time": "2022-03-02T01:25:08.126973Z",
     "start_time": "2022-03-02T01:25:07.871295Z"
    }
   },
   "outputs": [
    {
     "data": {
      "image/png": "[encoded data removed]",
      "text/plain": [
       "<Figure size 1080x504 with 1 Axes>"
      ]
     },
     "metadata": {
      "needs_background": "light"
     },
     "output_type": "display_data"
    }
   ],
   "source": [
    "plt.figure(figsize=(15, 7))\n",
    "\n",
    "sigma, l2reg_rbf = 0.055, 0.27\n",
    "degree, l2reg_poly, offset = 6, 0.034, 1.8\n",
    "\n",
    "k_rgb = functools.partial(RBF_kernel, sigma=sigma)\n",
    "k_poly = functools.partial(polynomial_kernel, offset=offset, degree=degree)\n",
    "f_rbg = train_kernel_ridge_regression(x_train, y_train, k_rgb, l2reg=l2reg_rbf)\n",
    "f_poly = train_kernel_ridge_regression(x_train, y_train, k_poly, l2reg=l2reg_poly)\n",
    "\n",
    "xpts = np.arange(-0.5 , 1.5, .001).reshape(-1,1)\n",
    "plt.plot(x_train,y_train,'o')\n",
    "plt.plot(xpts, f_rbg.predict(xpts), label='RBF kernel')\n",
    "plt.plot(xpts, f_poly.predict(xpts), label='Polynomial kernel')\n",
    "plt.ylim(-1,1.5)\n",
    "plt.legend()\n",
    "plt.show()"
   ]
  },
  {
   "cell_type": "markdown",
   "id": "0505b68e",
   "metadata": {},
   "source": [
    "We can see that the RGB kernel model is more volatile than the polynomial kernel which helps it get a better test score.\n",
    "\n",
    "The polynomial kernel model seems to capture the pattern in a more general way which translates to a slightly worse test score."
   ]
  },
  {
   "cell_type": "markdown",
   "id": "a8ec5a5a",
   "metadata": {},
   "source": [
    "### Question 31"
   ]
  },
  {
   "cell_type": "code",
   "execution_count": 95,
   "id": "82d9e954",
   "metadata": {
    "ExecuteTime": {
     "end_time": "2022-03-03T18:14:20.566587Z",
     "start_time": "2022-03-03T18:14:20.438090Z"
    }
   },
   "outputs": [
    {
     "data": {
      "text/plain": [
       "<matplotlib.collections.PathCollection at 0x20903ace280>"
      ]
     },
     "execution_count": 95,
     "metadata": {},
     "output_type": "execute_result"
    },
    {
     "data": {
      "image/png": "[encoded data removed]",
      "text/plain": [
       "<Figure size 432x288 with 1 Axes>"
      ]
     },
     "metadata": {
      "needs_background": "light"
     },
     "output_type": "display_data"
    }
   ],
   "source": [
    "plt.scatter(x_train, y_train)"
   ]
  },
  {
   "cell_type": "markdown",
   "id": "d0bfdb6a",
   "metadata": {},
   "source": [
    "The Bayes decision function is $f(x) + E(\\epsilon)$, where $E(\\epsilon) = 0$, therefore it is just the true underlying function f(x).\n",
    "\n",
    "The Bayes risk on the other hand is:\n",
    "\n",
    "$$\n",
    "E[l(\\hat{y}-y)] = E[(\\hat{y}-y)^2] = E[(g(x)-(f(x)-\\epsilon))^2] = E[\\epsilon^2] = Var(\\epsilon) = 0.1^2\n",
    "$$"
   ]
  },
  {
   "cell_type": "markdown",
   "id": "c9aed0be",
   "metadata": {},
   "source": [
    "### Question 32"
   ]
  },
  {
   "cell_type": "code",
   "execution_count": 63,
   "id": "6a657b38",
   "metadata": {
    "ExecuteTime": {
     "end_time": "2022-03-03T21:18:22.580270Z",
     "start_time": "2022-03-03T21:18:22.214821Z"
    }
   },
   "outputs": [
    {
     "data": {
      "image/png": "[encoded data removed]",
      "text/plain": [
       "<Figure size 288x288 with 1 Axes>"
      ]
     },
     "metadata": {
      "needs_background": "light"
     },
     "output_type": "display_data"
    }
   ],
   "source": [
    "# Load and plot the SVM data\n",
    "#load the training and test sets\n",
    "data_train,data_test = np.loadtxt(\"svm-train.txt\"),np.loadtxt(\"svm-test.txt\")\n",
    "x_train, y_train = data_train[:,0:2], data_train[:,2].reshape(-1,1)\n",
    "x_test, y_test = data_test[:,0:2], data_test[:,2].reshape(-1,1)\n",
    "\n",
    "#determine predictions for the training set\n",
    "yplus = np.ma.masked_where(y_train[:,0]<=0, y_train[:,0])\n",
    "xplus = x_train[~np.array(yplus.mask)]\n",
    "yminus = np.ma.masked_where(y_train[:,0]>0, y_train[:,0])\n",
    "xminus = x_train[~np.array(yminus.mask)]\n",
    "\n",
    "#plot the predictions for the training set\n",
    "figsize = plt.figaspect(1)\n",
    "f, (ax) = plt.subplots(1, 1, figsize=figsize) \n",
    "\n",
    "pluses = ax.scatter (xplus[:,0], xplus[:,1], marker='+', c='r', label = '+1 labels for training set')\n",
    "minuses = ax.scatter (xminus[:,0], xminus[:,1], marker=r'$-$', c='b', label = '-1 labels for training set')\n",
    "\n",
    "ax.set_ylabel(r\"$x_2$\", fontsize=11)\n",
    "ax.set_xlabel(r\"$x_1$\", fontsize=11)\n",
    "ax.set_title('Training set size = %s'% len(data_train), fontsize=9)  \n",
    "ax.axis('tight')\n",
    "ax.legend(handles=[pluses, minuses], fontsize=9)\n",
    "plt.show()"
   ]
  },
  {
   "cell_type": "markdown",
   "id": "0385b448",
   "metadata": {},
   "source": [
    "The data is not linearly separable but it is quadratically separable. This is similar to the example in class, if a quadratic dimension is added, a plane can be found that separates the data (whose intersection with the data translates into a circle in 2 dimensions)\n",
    "\n",
    "<font color='red'> What about RBF kernel</font>"
   ]
  },
  {
   "cell_type": "markdown",
   "id": "d6a003ae",
   "metadata": {},
   "source": [
    "### Question 33"
   ]
  },
  {
   "cell_type": "code",
   "execution_count": 214,
   "id": "820536ef",
   "metadata": {
    "ExecuteTime": {
     "end_time": "2022-03-03T22:35:31.228777Z",
     "start_time": "2022-03-03T22:35:31.212757Z"
    }
   },
   "outputs": [],
   "source": [
    "def train_soft_svm(X_train, y_train, kernel, epochs = 3, lbd=0.01):\n",
    "    \n",
    "    t, a = 1, np.ones(len(X_train))\n",
    "\n",
    "    for _ in range(epochs):\n",
    "        for idx in range(len(X_train)):\n",
    "            t += 1\n",
    "            a *= (1-1/t)\n",
    "\n",
    "            if y_train[idx] * kernel(X_train[idx].reshape(1,2), X_train) @ a < 1:\n",
    "                a[idx] += 1 * y_train[idx] / (lbd*t)\n",
    "                \n",
    "    return a "
   ]
  },
  {
   "cell_type": "code",
   "execution_count": 215,
   "id": "249445c9",
   "metadata": {
    "ExecuteTime": {
     "end_time": "2022-03-03T22:35:40.427948Z",
     "start_time": "2022-03-03T22:35:40.404166Z"
    }
   },
   "outputs": [],
   "source": [
    "def check_score(y_test, pred):\n",
    "    count = 0\n",
    "    for i in range(len(y_test)):\n",
    "        if y_test[i] * pred[i] > 0:\n",
    "            count += 1\n",
    "\n",
    "    return 100 * count/len(y_test)"
   ]
  },
  {
   "cell_type": "code",
   "execution_count": 216,
   "id": "5dcbc531",
   "metadata": {
    "ExecuteTime": {
     "end_time": "2022-03-03T22:35:42.311344Z",
     "start_time": "2022-03-03T22:35:41.999171Z"
    }
   },
   "outputs": [
    {
     "data": {
      "image/png": "[encoded data removed]",
      "text/plain": [
       "<Figure size 720x720 with 1 Axes>"
      ]
     },
     "metadata": {
      "needs_background": "light"
     },
     "output_type": "display_data"
    }
   ],
   "source": [
    "# Code to help plot the decision regions\n",
    "# (Note: This code isn't necessarily entirely appropriate for the questions asked. So think about what you are doing.)\n",
    " \n",
    "sigma=1\n",
    "k = functools.partial(RBF_kernel, sigma=sigma)\n",
    "alpha = train_soft_svm(x_train, y_train, k)\n",
    "f = Kernel_Machine(k, x_train, alpha)\n",
    "\n",
    "#determine the decision regions for the predictions\n",
    "x1_min = min(x_test[:,0])\n",
    "x1_max= max(x_test[:,0])\n",
    "x2_min = min(x_test[:,1])\n",
    "x2_max= max(x_test[:,1])\n",
    "h=0.1\n",
    "xx, yy = np.meshgrid(np.arange(x1_min, x1_max, h), np.arange(x2_min, x2_max, h))\n",
    "\n",
    "Z = f.predict(np.c_[xx.ravel(), yy.ravel()])\n",
    "Z = Z.reshape(xx.shape)\n",
    "\n",
    "#determine the predictions for the test set\n",
    "y_bar = f.predict (x_test) \n",
    "yplus = np.ma.masked_where(y_bar<=0, y_bar)\n",
    "xplus = x_test[~np.array(yplus.mask)]\n",
    "yminus = np.ma.masked_where(y_bar>0, y_bar)\n",
    "xminus = x_test[~np.array(yminus.mask)]\n",
    "\n",
    "#plot the learned boundary and the predictions for the test set\n",
    "f, (ax) = plt.subplots(1, 1, figsize=(10,10)) \n",
    "decision =ax.contourf(xx, yy, Z, cmap=plt.cm.coolwarm, alpha=0.8)\n",
    "pluses = ax.scatter (xplus[:,0], xplus[:,1], marker='+', c='b', label = '+1 prediction for test set')\n",
    "minuses = ax.scatter (xminus[:,0], xminus[:,1], marker=r'$-$', c='b', label = '-1 prediction for test set')\n",
    "ax.set_ylabel(r\"$x_2$\", fontsize=11)\n",
    "ax.set_xlabel(r\"$x_1$\", fontsize=11)\n",
    "ax.set_title('SVM with RBF Kernel: training set size = %s'% len(data_train), fontsize=9)  \n",
    "ax.axis('tight')\n",
    "ax.legend(handles=[pluses, minuses], fontsize=9)\n",
    "plt.show()"
   ]
  },
  {
   "cell_type": "code",
   "execution_count": 207,
   "id": "828d33a9",
   "metadata": {
    "ExecuteTime": {
     "end_time": "2022-03-03T22:31:33.509673Z",
     "start_time": "2022-03-03T22:31:33.493676Z"
    }
   },
   "outputs": [
    {
     "data": {
      "text/plain": [
       "93.125"
      ]
     },
     "execution_count": 207,
     "metadata": {},
     "output_type": "execute_result"
    }
   ],
   "source": [
    "check_score(y_test, y_bar)"
   ]
  },
  {
   "cell_type": "code",
   "execution_count": 217,
   "id": "8ff590f3",
   "metadata": {
    "ExecuteTime": {
     "end_time": "2022-03-03T22:35:47.285660Z",
     "start_time": "2022-03-03T22:35:47.010151Z"
    }
   },
   "outputs": [
    {
     "data": {
      "image/png": "[encoded data removed]",
      "text/plain": [
       "<Figure size 720x720 with 1 Axes>"
      ]
     },
     "metadata": {
      "needs_background": "light"
     },
     "output_type": "display_data"
    }
   ],
   "source": [
    "# Code to help plot the decision regions\n",
    "# (Note: This code isn't necessarily entirely appropriate for the questions asked. So think about what you are doing.)\n",
    " \n",
    "degree, offset = 2, 1\n",
    "k = functools.partial(polynomial_kernel, degree=degree, offset=offset)\n",
    "alpha = train_soft_svm(x_train, y_train, k)\n",
    "f = Kernel_Machine(k, x_train, alpha)\n",
    "\n",
    "#determine the decision regions for the predictions\n",
    "x1_min = min(x_test[:,0])\n",
    "x1_max= max(x_test[:,0])\n",
    "x2_min = min(x_test[:,1])\n",
    "x2_max= max(x_test[:,1])\n",
    "h=0.1\n",
    "xx, yy = np.meshgrid(np.arange(x1_min, x1_max, h), np.arange(x2_min, x2_max, h))\n",
    "\n",
    "Z = f.predict(np.c_[xx.ravel(), yy.ravel()])\n",
    "Z = Z.reshape(xx.shape)\n",
    "\n",
    "#determine the predictions for the test set\n",
    "y_bar = f.predict (x_test) \n",
    "yplus = np.ma.masked_where(y_bar<=0, y_bar)\n",
    "xplus = x_test[~np.array(yplus.mask)]\n",
    "yminus = np.ma.masked_where(y_bar>0, y_bar)\n",
    "xminus = x_test[~np.array(yminus.mask)]\n",
    "\n",
    "#plot the learned boundary and the predictions for the test set\n",
    "f, (ax) = plt.subplots(1, 1, figsize=(10,10)) \n",
    "decision = ax.contourf(xx, yy, Z, cmap=plt.cm.coolwarm, alpha=0.8)\n",
    "pluses = ax.scatter (xplus[:,0], xplus[:,1], marker='+', c='b', label = '+1 prediction for test set')\n",
    "minuses = ax.scatter (xminus[:,0], xminus[:,1], marker=r'$-$', c='b', label = '-1 prediction for test set')\n",
    "ax.set_ylabel(r\"$x_2$\", fontsize=11)\n",
    "ax.set_xlabel(r\"$x_1$\", fontsize=11)\n",
    "ax.set_title('SVM with RBF Kernel: training set size = %s'% len(data_train), fontsize=9)  \n",
    "ax.axis('tight')\n",
    "ax.legend(handles=[pluses, minuses], fontsize=9)\n",
    "plt.show()"
   ]
  },
  {
   "cell_type": "code",
   "execution_count": 218,
   "id": "6be23031",
   "metadata": {
    "ExecuteTime": {
     "end_time": "2022-03-03T22:35:49.124637Z",
     "start_time": "2022-03-03T22:35:49.100821Z"
    }
   },
   "outputs": [
    {
     "data": {
      "text/plain": [
       "88.0"
      ]
     },
     "execution_count": 218,
     "metadata": {},
     "output_type": "execute_result"
    }
   ],
   "source": [
    "check_score(y_test, y_bar)"
   ]
  },
  {
   "cell_type": "code",
   "execution_count": null,
   "id": "0da27628",
   "metadata": {},
   "outputs": [],
   "source": [
    "param_grid = [{'kernel': ['RBF'],'sigma':[0.05, 0.055, 0.06], 'l2reg': [0.271, 0.27, 0.269]},\n",
    "              {'kernel':['polynomial'],'offset':[1.75, 1.8, 1.85], 'degree':[5, 6, 7],'l2reg':[0.033, 0.034, 0.035] },\n",
    "              {'kernel':['linear'],'l2reg': [3.2, 4, 4.5]}]\n",
    "\n",
    "#RBF\n",
    "for i in range():\n"
   ]
  },
  {
   "cell_type": "code",
   "execution_count": 253,
   "id": "ae46c69e",
   "metadata": {
    "ExecuteTime": {
     "end_time": "2022-03-03T22:42:53.972089Z",
     "start_time": "2022-03-03T22:42:53.656178Z"
    }
   },
   "outputs": [
    {
     "data": {
      "text/html": [
       "<div>\n",
       "<style scoped>\n",
       "    .dataframe tbody tr th:only-of-type {\n",
       "        vertical-align: middle;\n",
       "    }\n",
       "\n",
       "    .dataframe tbody tr th {\n",
       "        vertical-align: top;\n",
       "    }\n",
       "\n",
       "    .dataframe thead th {\n",
       "        text-align: right;\n",
       "    }\n",
       "</style>\n",
       "<table border=\"1\" class=\"dataframe\">\n",
       "  <thead>\n",
       "    <tr style=\"text-align: right;\">\n",
       "      <th></th>\n",
       "      <th>sigma</th>\n",
       "      <th>l2reg</th>\n",
       "      <th>score</th>\n",
       "    </tr>\n",
       "  </thead>\n",
       "  <tbody>\n",
       "    <tr>\n",
       "      <th>0</th>\n",
       "      <td>0.295</td>\n",
       "      <td>0.35</td>\n",
       "      <td>94.875</td>\n",
       "    </tr>\n",
       "    <tr>\n",
       "      <th>1</th>\n",
       "      <td>0.295</td>\n",
       "      <td>0.40</td>\n",
       "      <td>94.875</td>\n",
       "    </tr>\n",
       "    <tr>\n",
       "      <th>2</th>\n",
       "      <td>0.295</td>\n",
       "      <td>0.45</td>\n",
       "      <td>94.750</td>\n",
       "    </tr>\n",
       "    <tr>\n",
       "      <th>3</th>\n",
       "      <td>0.300</td>\n",
       "      <td>0.35</td>\n",
       "      <td>94.875</td>\n",
       "    </tr>\n",
       "    <tr>\n",
       "      <th>4</th>\n",
       "      <td>0.300</td>\n",
       "      <td>0.40</td>\n",
       "      <td>94.875</td>\n",
       "    </tr>\n",
       "    <tr>\n",
       "      <th>5</th>\n",
       "      <td>0.300</td>\n",
       "      <td>0.45</td>\n",
       "      <td>94.875</td>\n",
       "    </tr>\n",
       "    <tr>\n",
       "      <th>6</th>\n",
       "      <td>0.305</td>\n",
       "      <td>0.35</td>\n",
       "      <td>94.875</td>\n",
       "    </tr>\n",
       "    <tr>\n",
       "      <th>7</th>\n",
       "      <td>0.305</td>\n",
       "      <td>0.40</td>\n",
       "      <td>95.000</td>\n",
       "    </tr>\n",
       "    <tr>\n",
       "      <th>8</th>\n",
       "      <td>0.305</td>\n",
       "      <td>0.45</td>\n",
       "      <td>94.875</td>\n",
       "    </tr>\n",
       "  </tbody>\n",
       "</table>\n",
       "</div>"
      ],
      "text/plain": [
       "   sigma  l2reg   score\n",
       "0  0.295   0.35  94.875\n",
       "1  0.295   0.40  94.875\n",
       "2  0.295   0.45  94.750\n",
       "3  0.300   0.35  94.875\n",
       "4  0.300   0.40  94.875\n",
       "5  0.300   0.45  94.875\n",
       "6  0.305   0.35  94.875\n",
       "7  0.305   0.40  95.000\n",
       "8  0.305   0.45  94.875"
      ]
     },
     "execution_count": 253,
     "metadata": {},
     "output_type": "execute_result"
    }
   ],
   "source": [
    "param_grid = {'sigma':[0.295, 0.3, 0.305], 'l2reg': [0.35, 0.4, 0.45]} \n",
    "result = {'sigma':[], 'l2reg':[], 'score':[]}\n",
    "\n",
    "for sigma, l2reg in itertools.product(param_grid['sigma'], param_grid['l2reg']):\n",
    "    k = functools.partial(RBF_kernel, sigma=sigma)\n",
    "    alpha = train_soft_svm(x_train, y_train, k, lbd=l2reg)\n",
    "    f = Kernel_Machine(k, x_train, alpha)\n",
    "    y_bar = f.predict(x_test) \n",
    "    result['sigma'].append(sigma)\n",
    "    result['l2reg'].append(l2reg)\n",
    "    result['score'].append(check_score(y_test, y_bar))\n",
    "\n",
    "pd.DataFrame.from_dict(result)"
   ]
  },
  {
   "cell_type": "markdown",
   "id": "692fa0fd",
   "metadata": {},
   "source": [
    "The best score is 95%"
   ]
  },
  {
   "cell_type": "code",
   "execution_count": 279,
   "id": "485c7c9c",
   "metadata": {
    "ExecuteTime": {
     "end_time": "2022-03-03T22:54:49.074142Z",
     "start_time": "2022-03-03T22:54:48.899933Z"
    }
   },
   "outputs": [
    {
     "data": {
      "text/html": [
       "<div>\n",
       "<style scoped>\n",
       "    .dataframe tbody tr th:only-of-type {\n",
       "        vertical-align: middle;\n",
       "    }\n",
       "\n",
       "    .dataframe tbody tr th {\n",
       "        vertical-align: top;\n",
       "    }\n",
       "\n",
       "    .dataframe thead th {\n",
       "        text-align: right;\n",
       "    }\n",
       "</style>\n",
       "<table border=\"1\" class=\"dataframe\">\n",
       "  <thead>\n",
       "    <tr style=\"text-align: right;\">\n",
       "      <th></th>\n",
       "      <th>offset</th>\n",
       "      <th>degree</th>\n",
       "      <th>l2reg</th>\n",
       "      <th>score</th>\n",
       "    </tr>\n",
       "  </thead>\n",
       "  <tbody>\n",
       "    <tr>\n",
       "      <th>0</th>\n",
       "      <td>1.345</td>\n",
       "      <td>2</td>\n",
       "      <td>0.0275</td>\n",
       "      <td>89.250</td>\n",
       "    </tr>\n",
       "    <tr>\n",
       "      <th>1</th>\n",
       "      <td>1.345</td>\n",
       "      <td>2</td>\n",
       "      <td>0.0300</td>\n",
       "      <td>95.000</td>\n",
       "    </tr>\n",
       "    <tr>\n",
       "      <th>2</th>\n",
       "      <td>1.345</td>\n",
       "      <td>2</td>\n",
       "      <td>0.0325</td>\n",
       "      <td>90.125</td>\n",
       "    </tr>\n",
       "    <tr>\n",
       "      <th>3</th>\n",
       "      <td>1.350</td>\n",
       "      <td>2</td>\n",
       "      <td>0.0275</td>\n",
       "      <td>89.250</td>\n",
       "    </tr>\n",
       "    <tr>\n",
       "      <th>4</th>\n",
       "      <td>1.350</td>\n",
       "      <td>2</td>\n",
       "      <td>0.0300</td>\n",
       "      <td>95.125</td>\n",
       "    </tr>\n",
       "    <tr>\n",
       "      <th>5</th>\n",
       "      <td>1.350</td>\n",
       "      <td>2</td>\n",
       "      <td>0.0325</td>\n",
       "      <td>90.125</td>\n",
       "    </tr>\n",
       "    <tr>\n",
       "      <th>6</th>\n",
       "      <td>1.375</td>\n",
       "      <td>2</td>\n",
       "      <td>0.0275</td>\n",
       "      <td>92.625</td>\n",
       "    </tr>\n",
       "    <tr>\n",
       "      <th>7</th>\n",
       "      <td>1.375</td>\n",
       "      <td>2</td>\n",
       "      <td>0.0300</td>\n",
       "      <td>91.625</td>\n",
       "    </tr>\n",
       "    <tr>\n",
       "      <th>8</th>\n",
       "      <td>1.375</td>\n",
       "      <td>2</td>\n",
       "      <td>0.0325</td>\n",
       "      <td>90.875</td>\n",
       "    </tr>\n",
       "  </tbody>\n",
       "</table>\n",
       "</div>"
      ],
      "text/plain": [
       "   offset  degree   l2reg   score\n",
       "0   1.345       2  0.0275  89.250\n",
       "1   1.345       2  0.0300  95.000\n",
       "2   1.345       2  0.0325  90.125\n",
       "3   1.350       2  0.0275  89.250\n",
       "4   1.350       2  0.0300  95.125\n",
       "5   1.350       2  0.0325  90.125\n",
       "6   1.375       2  0.0275  92.625\n",
       "7   1.375       2  0.0300  91.625\n",
       "8   1.375       2  0.0325  90.875"
      ]
     },
     "execution_count": 279,
     "metadata": {},
     "output_type": "execute_result"
    }
   ],
   "source": [
    "param_grid = {'offset':[1.345, 1.35, 1.375], 'degree': [2], 'l2reg': [0.0275, 0.03, 0.0325]} \n",
    "result = {'offset':[], 'degree':[], 'l2reg':[], 'score':[]}\n",
    "\n",
    "for offset, degree, l2reg in itertools.product(param_grid['offset'], param_grid['degree'], param_grid['l2reg']):\n",
    "    k = functools.partial(polynomial_kernel, offset=offset, degree=degree)\n",
    "    alpha = train_soft_svm(x_train, y_train, k, lbd=l2reg)\n",
    "    f = Kernel_Machine(k, x_train, alpha)\n",
    "    y_bar = f.predict(x_test) \n",
    "    result['offset'].append(offset)\n",
    "    result['degree'].append(degree)\n",
    "    result['l2reg'].append(l2reg)\n",
    "    result['score'].append(check_score(y_test, y_bar))\n",
    "\n",
    "pd.DataFrame.from_dict(result)"
   ]
  },
  {
   "cell_type": "markdown",
   "id": "cc855efb",
   "metadata": {},
   "source": [
    "The best score is 95.125%"
   ]
  },
  {
   "cell_type": "code",
   "execution_count": 284,
   "id": "6ce38bd1",
   "metadata": {
    "ExecuteTime": {
     "end_time": "2022-03-03T22:56:05.440802Z",
     "start_time": "2022-03-03T22:56:05.312590Z"
    }
   },
   "outputs": [
    {
     "data": {
      "text/html": [
       "<div>\n",
       "<style scoped>\n",
       "    .dataframe tbody tr th:only-of-type {\n",
       "        vertical-align: middle;\n",
       "    }\n",
       "\n",
       "    .dataframe tbody tr th {\n",
       "        vertical-align: top;\n",
       "    }\n",
       "\n",
       "    .dataframe thead th {\n",
       "        text-align: right;\n",
       "    }\n",
       "</style>\n",
       "<table border=\"1\" class=\"dataframe\">\n",
       "  <thead>\n",
       "    <tr style=\"text-align: right;\">\n",
       "      <th></th>\n",
       "      <th>l2reg</th>\n",
       "      <th>score</th>\n",
       "    </tr>\n",
       "  </thead>\n",
       "  <tbody>\n",
       "    <tr>\n",
       "      <th>0</th>\n",
       "      <td>0.1</td>\n",
       "      <td>49.875</td>\n",
       "    </tr>\n",
       "    <tr>\n",
       "      <th>1</th>\n",
       "      <td>1.0</td>\n",
       "      <td>49.875</td>\n",
       "    </tr>\n",
       "    <tr>\n",
       "      <th>2</th>\n",
       "      <td>2.0</td>\n",
       "      <td>50.500</td>\n",
       "    </tr>\n",
       "    <tr>\n",
       "      <th>3</th>\n",
       "      <td>5.0</td>\n",
       "      <td>50.500</td>\n",
       "    </tr>\n",
       "    <tr>\n",
       "      <th>4</th>\n",
       "      <td>10.0</td>\n",
       "      <td>50.625</td>\n",
       "    </tr>\n",
       "  </tbody>\n",
       "</table>\n",
       "</div>"
      ],
      "text/plain": [
       "   l2reg   score\n",
       "0    0.1  49.875\n",
       "1    1.0  49.875\n",
       "2    2.0  50.500\n",
       "3    5.0  50.500\n",
       "4   10.0  50.625"
      ]
     },
     "execution_count": 284,
     "metadata": {},
     "output_type": "execute_result"
    }
   ],
   "source": [
    "param_grid = {'l2reg': [0, 0.1, 0.5, ]} \n",
    "result = {'l2reg':[], 'score':[]}\n",
    "\n",
    "for l2reg in param_grid['l2reg']:\n",
    "    k = functools.partial(linear_kernel)\n",
    "    alpha = train_soft_svm(x_train, y_train, k, lbd=l2reg)\n",
    "    f = Kernel_Machine(k, x_train, alpha)\n",
    "    y_bar = f.predict(x_test) \n",
    "    result['l2reg'].append(l2reg)\n",
    "    result['score'].append(check_score(y_test, y_bar))\n",
    "\n",
    "pd.DataFrame.from_dict(result)"
   ]
  },
  {
   "cell_type": "code",
   "execution_count": 285,
   "id": "c7522899",
   "metadata": {
    "ExecuteTime": {
     "end_time": "2022-03-03T22:56:05.536739Z",
     "start_time": "2022-03-03T22:56:05.520749Z"
    }
   },
   "outputs": [
    {
     "data": {
      "text/plain": [
       "95.125"
      ]
     },
     "execution_count": 285,
     "metadata": {},
     "output_type": "execute_result"
    }
   ],
   "source": [
    "a['score'].max()"
   ]
  },
  {
   "cell_type": "code",
   "execution_count": null,
   "id": "fcd8c83c",
   "metadata": {},
   "outputs": [],
   "source": []
  }
 ],
 "metadata": {
  "kernelspec": {
   "display_name": "Python 3 (ipykernel)",
   "language": "python",
   "name": "python3"
  },
  "language_info": {
   "codemirror_mode": {
    "name": "ipython",
    "version": 3
   },
   "file_extension": ".py",
   "mimetype": "text/x-python",
   "name": "python",
   "nbconvert_exporter": "python",
   "pygments_lexer": "ipython3",
   "version": "3.9.7"
  },
  "toc": {
   "base_numbering": 1,
   "nav_menu": {},
   "number_sections": false,
   "sideBar": true,
   "skip_h1_title": false,
   "title_cell": "Table of Contents",
   "title_sidebar": "Contents",
   "toc_cell": false,
   "toc_position": {},
   "toc_section_display": true,
   "toc_window_display": false
  },
  "varInspector": {
   "cols": {
    "lenName": 16,
    "lenType": 16,
    "lenVar": 40
   },
   "kernels_config": {
    "python": {
     "delete_cmd_postfix": "",
     "delete_cmd_prefix": "del ",
     "library": "var_list.py",
     "varRefreshCmd": "print(var_dic_list())"
    },
    "r": {
     "delete_cmd_postfix": ") ",
     "delete_cmd_prefix": "rm(",
     "library": "var_list.r",
     "varRefreshCmd": "cat(var_dic_list()) "
    }
   },
   "types_to_exclude": [
    "module",
    "function",
    "builtin_function_or_method",
    "instance",
    "_Feature"
   ],
   "window_display": false
  }
 },
 "nbformat": 4,
 "nbformat_minor": 5
}
